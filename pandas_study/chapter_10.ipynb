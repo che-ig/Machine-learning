{
 "cells": [
  {
   "cell_type": "code",
   "execution_count": 1,
   "id": "a017ed96-3022-443c-bfdd-f66c57e4c09a",
   "metadata": {},
   "outputs": [],
   "source": [
    "# импортируем библиотеки numpy и pandas\n",
    "import pandas as pd\n",
    "import numpy as np\n",
    "\n",
    "# импортируем библиотеку datetime для работы с датами\n",
    "from datetime import datetime, date\n",
    "\n",
    "# Задаем некоторые опции библиотеки pandas, которые настраивают вывод\n",
    "pd.set_option('display.notebook_repr_html', False)\n",
    "pd.set_option('display.max_columns', 10) \n",
    "pd.set_option('display.max_rows', 15)\n",
    "pd.set_option('display.width', 90)\n",
    "\n",
    "# импортируем библиотеку matplotlib для построения графиков\n",
    "import matplotlib.pyplot as plt\n",
    "%matplotlib inline"
   ]
  },
  {
   "cell_type": "code",
   "execution_count": 2,
   "id": "8b907521-881a-45d3-a851-1326b5165d5a",
   "metadata": {},
   "outputs": [
    {
     "data": {
      "text/plain": [
       "   c1  c2  c3\n",
       "a   0   1   2\n",
       "b   3   4   5\n",
       "c   6   7   8\n",
       "d   9  10  11\n",
       "e  12  13  14"
      ]
     },
     "execution_count": 2,
     "metadata": {},
     "output_type": "execute_result"
    }
   ],
   "source": [
    "# создаем датафрейм с 5 строками и 3 столбцами\n",
    "df = pd.DataFrame(np.arange(0, 15).reshape(5, 3),\n",
    "                    index=['a', 'b', 'c', 'd', 'e'],\n",
    "                    columns=['c1', 'c2', 'c3']\n",
    "                    )\n",
    "df"
   ]
  },
  {
   "cell_type": "code",
   "execution_count": 3,
   "id": "f6b65082-cdbf-46f8-abf7-6b9c54e74922",
   "metadata": {},
   "outputs": [
    {
     "data": {
      "text/plain": [
       "     c1    c2    c3    c4  c5\n",
       "a   0.0   1.0   2.0  20.0 NaN\n",
       "b   3.0   4.0   5.0   NaN NaN\n",
       "c   6.0   7.0   8.0   NaN NaN\n",
       "d   9.0  10.0  11.0   NaN NaN\n",
       "e  12.0  13.0  14.0   NaN NaN\n",
       "f  15.0  16.0  17.0  18.0 NaN\n",
       "g   NaN   NaN   NaN   NaN NaN"
      ]
     },
     "execution_count": 3,
     "metadata": {},
     "output_type": "execute_result"
    }
   ],
   "source": [
    "# добавляем несколько столбцов и строк в датафрейм\n",
    "# столбец c4 со значениями NaN\n",
    "df['c4'] = np.nan\n",
    "# строка 'f' со значениями от 15 до 18\n",
    "df.loc['f'] = np.arange(15, 19)\n",
    "\n",
    "# строка 'g', состоящая из значений NaN\n",
    "df.loc['g'] = np.nan\n",
    "\n",
    "# столбец 'C5', состоящий из значений NaNs\n",
    "df['c5'] = np.nan\n",
    "\n",
    "# меняем значение в столбце 'c4' строки 'a'\n",
    "df.loc['a', 'c4'] = 20\n",
    "\n",
    "df"
   ]
  },
  {
   "cell_type": "markdown",
   "id": "b0f6df60-5f7e-4f2b-a86d-7005dbd35ac7",
   "metadata": {},
   "source": [
    "#### Поиск значений NaN в объектах библиотеки pandas\n",
    "Значения NaN в объекте DataFrame можно найти с помощью метода <mark>.isnull()</mark> или <mark>.isna()</mark>\n"
   ]
  },
  {
   "cell_type": "code",
   "execution_count": 4,
   "id": "230c0669-5824-4082-bc5b-412189f14091",
   "metadata": {},
   "outputs": [
    {
     "data": {
      "text/plain": [
       "      c1     c2     c3     c4    c5\n",
       "a  False  False  False  False  True\n",
       "b  False  False  False   True  True\n",
       "c  False  False  False   True  True\n",
       "d  False  False  False   True  True\n",
       "e  False  False  False   True  True\n",
       "f  False  False  False  False  True\n",
       "g   True   True   True   True  True"
      ]
     },
     "execution_count": 4,
     "metadata": {},
     "output_type": "execute_result"
    }
   ],
   "source": [
    "df.isna()"
   ]
  },
  {
   "cell_type": "code",
   "execution_count": 5,
   "id": "57a5f18d-0fdd-4c70-a3c3-8a38b789df55",
   "metadata": {},
   "outputs": [
    {
     "data": {
      "text/plain": [
       "c1    1\n",
       "c2    1\n",
       "c3    1\n",
       "c4    5\n",
       "c5    7\n",
       "dtype: int64"
      ]
     },
     "execution_count": 5,
     "metadata": {},
     "output_type": "execute_result"
    }
   ],
   "source": [
    "# подсчитаем количество значений NaN в каждой строке\n",
    "df.isna().sum()"
   ]
  },
  {
   "cell_type": "code",
   "execution_count": 6,
   "id": "a1bcd179-4882-4112-b7ae-a580aaaf3925",
   "metadata": {},
   "outputs": [
    {
     "data": {
      "text/plain": [
       "15"
      ]
     },
     "execution_count": 6,
     "metadata": {},
     "output_type": "execute_result"
    }
   ],
   "source": [
    "# вычислим общее количество значений NaN\n",
    "df.isna().sum().sum()"
   ]
  },
  {
   "cell_type": "code",
   "execution_count": 7,
   "id": "9541015a-776a-49ad-b28f-01bb581deb54",
   "metadata": {},
   "outputs": [
    {
     "data": {
      "text/plain": [
       "c1    6\n",
       "c2    6\n",
       "c3    6\n",
       "c4    2\n",
       "c5    0\n",
       "dtype: int64"
      ]
     },
     "execution_count": 7,
     "metadata": {},
     "output_type": "execute_result"
    }
   ],
   "source": [
    "# вычисляем количество значений, отличных от NaN, по каждому столбцу\n",
    "df.count()"
   ]
  },
  {
   "cell_type": "code",
   "execution_count": 8,
   "id": "e179f44e-c45c-42b1-87ff-67bf5047f964",
   "metadata": {},
   "outputs": [
    {
     "data": {
      "text/plain": [
       "15"
      ]
     },
     "execution_count": 8,
     "metadata": {},
     "output_type": "execute_result"
    }
   ],
   "source": [
    "# этот программный код тоже подсчитывает общее количество значений NaN\n",
    "(len(df) - df.count()).sum()"
   ]
  },
  {
   "cell_type": "code",
   "execution_count": 9,
   "id": "f8ab90d2-967e-4dd5-bc65-0ec4416bc84d",
   "metadata": {},
   "outputs": [
    {
     "data": {
      "text/plain": [
       "(      c1     c2     c3     c4     c5\n",
       " a   True   True   True   True  False\n",
       " b   True   True   True  False  False\n",
       " c   True   True   True  False  False\n",
       " d   True   True   True  False  False\n",
       " e   True   True   True  False  False\n",
       " f   True   True   True   True  False\n",
       " g  False  False  False  False  False,\n",
       "       c1     c2     c3     c4     c5\n",
       " a   True   True   True   True  False\n",
       " b   True   True   True  False  False\n",
       " c   True   True   True  False  False\n",
       " d   True   True   True  False  False\n",
       " e   True   True   True  False  False\n",
       " f   True   True   True   True  False\n",
       " g  False  False  False  False  False)"
      ]
     },
     "execution_count": 9,
     "metadata": {},
     "output_type": "execute_result"
    }
   ],
   "source": [
    "# какие элементы являются непропущенными значениями?\n",
    "df.notna(), df.notnull()"
   ]
  },
  {
   "cell_type": "markdown",
   "id": "186576cb-d281-4321-8004-820b1bc3a18f",
   "metadata": {},
   "source": [
    "#### Удаление пропущенных данных"
   ]
  },
  {
   "cell_type": "code",
   "execution_count": 10,
   "id": "53bfbe13-e8ee-4dc7-94d4-c90cd7597a9a",
   "metadata": {},
   "outputs": [
    {
     "data": {
      "text/plain": [
       "a    20.0\n",
       "f    18.0\n",
       "Name: c4, dtype: float64"
      ]
     },
     "execution_count": 10,
     "metadata": {},
     "output_type": "execute_result"
    }
   ],
   "source": [
    "# отбираем непропущенные значения в столбце c4\n",
    "df.c4[df.c4.notna()]"
   ]
  },
  {
   "cell_type": "markdown",
   "id": "16a979de-457b-4f46-8a3f-8f2b6cf8b6d8",
   "metadata": {},
   "source": [
    "Кроме того, библиотека pandas предлагает удобный метод <mark>.dropna()</mark>, который\n",
    "удаляет пропущенные значения в серии. \n",
    "\n",
    "**Возвращается копия датафрейма, но без некоторых записей.**\n",
    "\n",
    "Когда метод .dropna() применяется к объекту DataFrame, он удаляет из объекта\n",
    "DataFrame все **строки**, в которых есть **хотя бы одно значение NaN**. \n",
    "Если передать опцию **axis=1**, то будет удаление стролбцов в которых есть значение NaN.\n",
    "\n",
    "Если вы хотите удалить только те строки, в которых **ВСЕ значения являются значениями NaN**, вы можете использовать параметр **how='all'**.\n",
    "\n",
    "Если вы хотите удалить строки, в которых **есть хотя бы ОДНО значение NaN**, вы можете использовать параметр **how='any'** (это дефолтное значение и его можно не указывать).\n",
    "\n",
    "Кроме того, метод .dropna() имеет параметр **thresh**. Параметр thresh с помощью\n",
    "целочисленного значения задает минимальное количество значений NaN, которое\n",
    "требуется, чтобы выполнить операцию удаления строк или столбцов.\n"
   ]
  },
  {
   "cell_type": "code",
   "execution_count": 11,
   "id": "53d4ffe7-00a0-44af-915b-fbb1454c1b34",
   "metadata": {
    "scrolled": true
   },
   "outputs": [
    {
     "name": "stdout",
     "output_type": "stream",
     "text": [
      "a    20.0\n",
      "f    18.0\n",
      "Name: c4, dtype: float64 \n",
      "\n",
      " Empty DataFrame\n",
      "Columns: [c1, c2, c3, c4, c5]\n",
      "Index: []\n",
      "\n",
      "     c1    c2    c3    c4\n",
      "a   0.0   1.0   2.0  20.0\n",
      "b   3.0   4.0   5.0   NaN\n",
      "c   6.0   7.0   8.0   NaN\n",
      "d   9.0  10.0  11.0   NaN\n",
      "e  12.0  13.0  14.0   NaN\n",
      "f  15.0  16.0  17.0  18.0\n",
      "g   NaN   NaN   NaN   NaN \n",
      "\n",
      "      c1    c2    c3    c4  c5\n",
      "a   0.0   1.0   2.0  20.0 NaN\n",
      "b   3.0   4.0   5.0   NaN NaN\n",
      "c   6.0   7.0   8.0   NaN NaN\n",
      "d   9.0  10.0  11.0   NaN NaN\n",
      "e  12.0  13.0  14.0   NaN NaN\n",
      "f  15.0  16.0  17.0  18.0 NaN\n",
      "\n",
      "     c1    c2    c3    c4  c5\n",
      "a   0.0   1.0   2.0  20.0 NaN\n",
      "b   3.0   4.0   5.0   NaN NaN\n",
      "c   6.0   7.0   8.0   NaN NaN\n",
      "d   9.0  10.0  11.0   NaN NaN\n",
      "e  12.0  13.0  14.0   NaN NaN\n",
      "f  15.0  16.0  17.0  18.0 NaN\n",
      "g   0.0   NaN   0.0   NaN NaN \n",
      "\n",
      "      c1    c3\n",
      "a   0.0   2.0\n",
      "b   3.0   5.0\n",
      "c   6.0   8.0\n",
      "d   9.0  11.0\n",
      "e  12.0  14.0\n",
      "f  15.0  17.0\n",
      "g   0.0   0.0\n",
      "\n",
      "     c1    c2    c3\n",
      "a   0.0   1.0   2.0\n",
      "b   3.0   4.0   5.0\n",
      "c   6.0   7.0   8.0\n",
      "d   9.0  10.0  11.0\n",
      "e  12.0  13.0  14.0\n",
      "f  15.0  16.0  17.0\n",
      "g   NaN   NaN   NaN\n"
     ]
    }
   ],
   "source": [
    "print(df.c4.dropna(), '\\n\\n', df.dropna(), end='\\n\\n')\n",
    "print(df.dropna(axis='columns', how='all'), '\\n\\n', df.dropna(how='all'), end='\\n\\n')\n",
    "\n",
    "df2 = df.copy()\n",
    "df2.loc['g', ['c1', 'c3']] = 0\n",
    "print(df2, '\\n\\n', df2.dropna(axis='columns', how='any'), end='\\n\\n')\n",
    "\n",
    "print(df.dropna(axis='columns', thresh=5))"
   ]
  },
  {
   "cell_type": "markdown",
   "id": "087100d2-585c-4bdd-8d91-130fa1a47f96",
   "metadata": {},
   "source": [
    "#### Обработка значений NaN в ходе арифметических операций\n",
    "Значения NaN в библиотеке pandas обрабатываются иначе, чем в библиотеке\n",
    "NumPy. Мы уже знаем это по предыдущим главам, но стоит еще раз напомнить\n",
    "здесь.\n",
    "\n",
    "Когда функция библиотеки NumPy встречает значение NaN, она возвращает NaN.\n",
    "\n",
    "Функции библиотеки **pandas обычно игнорируют значения NaN** и продолжают выполнять обработку данных, как если бы значения NaN не были частью объекта Series. (стр.201)"
   ]
  },
  {
   "cell_type": "code",
   "execution_count": 12,
   "id": "d540973d-53d3-46bc-9594-9d9f4b473a10",
   "metadata": {},
   "outputs": [
    {
     "data": {
      "text/plain": [
       "(nan, 2.0)"
      ]
     },
     "execution_count": 12,
     "metadata": {},
     "output_type": "execute_result"
    }
   ],
   "source": [
    "# создаем массив NumPy с одним значением NaN\n",
    "a = np.array([1, 2, np.nan, 3])\n",
    "\n",
    "# создаем объект Series из массива\n",
    "s = pd.Series(a)\n",
    "\n",
    "# средние значения массива и серии отличаются\n",
    "a.mean(), s.mean()"
   ]
  },
  {
   "cell_type": "code",
   "execution_count": 13,
   "id": "5352785c-db66-4e9c-aecf-c42281198d88",
   "metadata": {},
   "outputs": [
    {
     "name": "stdout",
     "output_type": "stream",
     "text": [
      "sum  38.0\n",
      "mean  19.0\n",
      "\n",
      "cumsum  a    20.0\n",
      "b     NaN\n",
      "c     NaN\n",
      "d     NaN\n",
      "e     NaN\n",
      "f    38.0\n",
      "g     NaN\n",
      "Name: c4, dtype: float64\n"
     ]
    }
   ],
   "source": [
    "# показываем, как методы .sum(), .mean() и .cumsum() обрабатывают значения NaN\n",
    "# на примере столбца c4 датафрейма df\n",
    "s = df.c4\n",
    "print('sum ', s.sum()) # значение NaN обрабатывается как 0\n",
    "print('mean ', s.mean(), end='\\n\\n') # NaN также обработаны как 0\n",
    "\n",
    "# в методе .cumsum() значения NaN тоже обрабатываются как 0,\n",
    "# но в итоговом объекте Series значения NaN сохраняются\n",
    "print('cumsum ', s.cumsum())"
   ]
  },
  {
   "cell_type": "code",
   "execution_count": 14,
   "id": "4b11099b-7f01-4061-aa3d-4fb711ed8c8b",
   "metadata": {},
   "outputs": [
    {
     "data": {
      "text/plain": [
       "a    21.0\n",
       "b     NaN\n",
       "c     NaN\n",
       "d     NaN\n",
       "e     NaN\n",
       "f    19.0\n",
       "g     NaN\n",
       "Name: c4, dtype: float64"
      ]
     },
     "execution_count": 14,
     "metadata": {},
     "output_type": "execute_result"
    }
   ],
   "source": [
    "# при выполнении арифметических операциий значение NaN\n",
    "# будет перенесено в результат (т.е NaN так и останется без изменений)\n",
    "df.c4 + 1"
   ]
  },
  {
   "cell_type": "markdown",
   "id": "318b798f-e0d1-4975-acf8-4a5e842b37be",
   "metadata": {},
   "source": [
    "#### Заполнение пропущенных данныхa\n",
    "Вместо того чтобы оставить пропуски как есть или удалить строки/столбцы, содержащие их, можно воспользоваться методом **.fillna()**, который заменяет значения NaN на определенное значение."
   ]
  },
  {
   "cell_type": "code",
   "execution_count": 15,
   "id": "fa90fac8-b7df-439a-ba74-6deeb014ef22",
   "metadata": {},
   "outputs": [
    {
     "data": {
      "text/plain": [
       "     c1    c2    c3    c4   c5\n",
       "a   0.0   1.0   2.0  20.0  0.0\n",
       "b   3.0   4.0   5.0   0.0  0.0\n",
       "c   6.0   7.0   8.0   0.0  0.0\n",
       "d   9.0  10.0  11.0   0.0  0.0\n",
       "e  12.0  13.0  14.0   0.0  0.0\n",
       "f  15.0  16.0  17.0  18.0  0.0\n",
       "g   0.0   0.0   0.0   0.0  0.0"
      ]
     },
     "execution_count": 15,
     "metadata": {},
     "output_type": "execute_result"
    }
   ],
   "source": [
    "# возвращаем новый датафрейм, в котором значения NaN заполнены нулями\n",
    "filled = df.fillna(0)\n",
    "filled"
   ]
  },
  {
   "cell_type": "code",
   "execution_count": 16,
   "id": "544c4ffe-c022-463d-96b9-c29782e10820",
   "metadata": {},
   "outputs": [
    {
     "data": {
      "text/plain": [
       "c1     7.5\n",
       "c2     8.5\n",
       "c3     9.5\n",
       "c4    19.0\n",
       "c5     NaN\n",
       "dtype: float64"
      ]
     },
     "execution_count": 16,
     "metadata": {},
     "output_type": "execute_result"
    }
   ],
   "source": [
    "# значения NaN не учитываются при вычислении средних значений\n",
    "df.mean()"
   ]
  },
  {
   "cell_type": "code",
   "execution_count": 17,
   "id": "00e5d53f-6f79-4e62-bfe1-8d2b7affd3f3",
   "metadata": {},
   "outputs": [
    {
     "data": {
      "text/plain": [
       "c1    6.428571\n",
       "c2    7.285714\n",
       "c3    8.142857\n",
       "c4    5.428571\n",
       "c5    0.000000\n",
       "dtype: float64"
      ]
     },
     "execution_count": 17,
     "metadata": {},
     "output_type": "execute_result"
    }
   ],
   "source": [
    "# после замены значений NaN на 0 получим другие средние значения\n",
    "filled.mean()"
   ]
  },
  {
   "cell_type": "markdown",
   "id": "3fc88a4d-ba41-42a4-a751-a6e19e816527",
   "metadata": {},
   "source": [
    "#### Прямое и обратное заполнение пропущенных значений\n",
    "Пропуски в данных можно заполнить с помощью последнего непропущенного\n",
    "значения в прямом и обратном порядке."
   ]
  },
  {
   "cell_type": "code",
   "execution_count": 18,
   "id": "35014421-d096-44e5-8069-d034957efabc",
   "metadata": {},
   "outputs": [
    {
     "name": "stdout",
     "output_type": "stream",
     "text": [
      "a    20.0\n",
      "b     NaN\n",
      "c     NaN\n",
      "d     NaN\n",
      "e     NaN\n",
      "f    18.0\n",
      "g     NaN\n",
      "Name: c4, dtype: float64 \n",
      "\n",
      " a    20.0\n",
      "b    20.0\n",
      "c    20.0\n",
      "d    20.0\n",
      "e    20.0\n",
      "f    18.0\n",
      "g    18.0\n",
      "Name: c4, dtype: float64\n"
     ]
    }
   ],
   "source": [
    "# заполняем пропуски в столбце c4 датафрейма df в прямом порядке\n",
    "print(df.c4, '\\n\\n', df.c4.ffill())"
   ]
  },
  {
   "cell_type": "code",
   "execution_count": 19,
   "id": "7e50206b-eef6-4b1d-83e2-a4eca88ab9a9",
   "metadata": {},
   "outputs": [
    {
     "name": "stdout",
     "output_type": "stream",
     "text": [
      "a    20.0\n",
      "b     NaN\n",
      "c     NaN\n",
      "d     NaN\n",
      "e     NaN\n",
      "f    18.0\n",
      "g     NaN\n",
      "Name: c4, dtype: float64 \n",
      "\n",
      " a    20.0\n",
      "b    18.0\n",
      "c    18.0\n",
      "d    18.0\n",
      "e    18.0\n",
      "f    18.0\n",
      "g     NaN\n",
      "Name: c4, dtype: float64\n"
     ]
    }
   ],
   "source": [
    "# выполняем обратное заполнение\n",
    "print(df.c4, '\\n\\n', df.c4.bfill())"
   ]
  },
  {
   "cell_type": "markdown",
   "id": "999d9dc1-074d-421f-94f7-f74497aaf323",
   "metadata": {},
   "source": [
    "#### Заполнение с помощью меток индекса\n",
    "Данные можно заполнить с помощью меток объекта Series или ключей питоновского словаря. Это позволяет задавать для заполнения разные значения для различных элементов, используя индексные метки"
   ]
  },
  {
   "cell_type": "code",
   "execution_count": 20,
   "id": "cff6948b-8042-4e73-91d6-26ca1fd33958",
   "metadata": {},
   "outputs": [
    {
     "data": {
      "text/plain": [
       "a    100\n",
       "e    101\n",
       "g    102\n",
       "dtype: int64"
      ]
     },
     "execution_count": 20,
     "metadata": {},
     "output_type": "execute_result"
    }
   ],
   "source": [
    "# создаем новую серию значений, которую используем\n",
    "# для заполнения значений NaN там, где метки индекса будут совпадать\n",
    "fill_values = pd.Series([100, 101, 102], index=['a', 'e', 'g'])\n",
    "fill_values"
   ]
  },
  {
   "cell_type": "code",
   "execution_count": 21,
   "id": "670112ba-d3ee-493c-a348-3d51be2b9f77",
   "metadata": {},
   "outputs": [
    {
     "data": {
      "text/plain": [
       "a     20.0\n",
       "b      NaN\n",
       "c      NaN\n",
       "d      NaN\n",
       "e    101.0\n",
       "f     18.0\n",
       "g    102.0\n",
       "Name: c4, dtype: float64"
      ]
     },
     "execution_count": 21,
     "metadata": {},
     "output_type": "execute_result"
    }
   ],
   "source": [
    "# заполняем пропуски в столбце c4 с помощью fill_values\n",
    "# a, e и g будут заполнены, поскольку метки совпали, однако значение a == 20\n",
    "# не изменится, потому что онои не является пропуском\n",
    "df.c4.fillna(fill_values)"
   ]
  },
  {
   "cell_type": "markdown",
   "id": "d75ad8aa-2d0a-4399-aa7b-cb02afd3f6fa",
   "metadata": {},
   "source": [
    "**Еще один распространенный сценарий – заполнение всех значений NaN в столбце средним значением столбца.**\n",
    "\n",
    "Это удобно, поскольку пропуски, замененные таким способом, искажают статистическое среднее в меньшей степени, чем заполнение пропусков нулями.\n",
    "В некоторых видах статистического анализа подобный способ может быть приемлемым, когда большая вариабельность данных в силу использования нулевых значений стала причиной неверных прогнозов."
   ]
  },
  {
   "cell_type": "code",
   "execution_count": 22,
   "id": "0ba53034-b604-41fd-befa-03a1278df0a2",
   "metadata": {},
   "outputs": [
    {
     "name": "stdout",
     "output_type": "stream",
     "text": [
      "     c1    c2    c3    c4  c5\n",
      "a   0.0   1.0   2.0  20.0 NaN\n",
      "b   3.0   4.0   5.0   NaN NaN\n",
      "c   6.0   7.0   8.0   NaN NaN\n",
      "d   9.0  10.0  11.0   NaN NaN\n",
      "e  12.0  13.0  14.0   NaN NaN\n",
      "f  15.0  16.0  17.0  18.0 NaN\n",
      "g   NaN   NaN   NaN   NaN NaN \n",
      "\n",
      " c1     7.5\n",
      "c2     8.5\n",
      "c3     9.5\n",
      "c4    19.0\n",
      "c5     NaN\n",
      "dtype: float64 \n",
      "\n",
      "      c1    c2    c3    c4  c5\n",
      "a   0.0   1.0   2.0  20.0 NaN\n",
      "b   3.0   4.0   5.0  19.0 NaN\n",
      "c   6.0   7.0   8.0  19.0 NaN\n",
      "d   9.0  10.0  11.0  19.0 NaN\n",
      "e  12.0  13.0  14.0  19.0 NaN\n",
      "f  15.0  16.0  17.0  18.0 NaN\n",
      "g   7.5   8.5   9.5  19.0 NaN\n"
     ]
    }
   ],
   "source": [
    "# заполняем значения NaN в каждом столбце средним значением этого столбца\n",
    "print(df, '\\n\\n', df.mean(), '\\n\\n', df.fillna(df.mean()))"
   ]
  },
  {
   "cell_type": "markdown",
   "id": "efd25ea6-62b8-4911-a763-f4c34eb53891",
   "metadata": {},
   "source": [
    "#### Выполнение интерполяции пропущенных значений\n",
    "Метод **.interpolate()** объекта Series и объекта DataFrame выполняет по умолчанию\n",
    "линейную интерполяцию пропущенных значений.\n",
    "\n",
    "Значение, используемое для интерполяции, вычисляется следующим образом. Сначала на основе первого значения, предшествующего ряду значений NaN, и последнего значения, следующего после ряда значений NaN, вычисляем инкремент (величину приращения). Затем пошагово увеличиваем стартовое значение на величину этого инкремента и заполняем им значения NaN. В нашем случае 2.0 и 1.0 представляют собой значения, окружающие пропуски, в результате получаем (2.0 – 1.0)/(5 – 1) = 0.25. Берем стартовое значение 1, увеличиваем на 0.25, получаем значение 1.25 и заполняем им первое значение NaN. Затем значение 1.25 увеличиваем снова на 0.25, получаем 1.50, заменяем им второе значение NaN и т. д.\n",
    "\n",
    "Это важно."
   ]
  },
  {
   "cell_type": "code",
   "execution_count": 23,
   "id": "ada6ccec-57b1-43c2-beae-1857a6c95822",
   "metadata": {},
   "outputs": [
    {
     "data": {
      "text/plain": [
       "0    1.00\n",
       "1    1.25\n",
       "2    1.50\n",
       "3    1.75\n",
       "4    2.00\n",
       "dtype: float64"
      ]
     },
     "execution_count": 23,
     "metadata": {},
     "output_type": "execute_result"
    }
   ],
   "source": [
    "# выполняем линейную интерполяцию значений NaN с 1 по 2\n",
    "s = pd.Series([1, np.nan, np.nan, np.nan, 2])\n",
    "s.interpolate()"
   ]
  },
  {
   "cell_type": "code",
   "execution_count": 24,
   "id": "ac561a0c-a9a5-45bb-b922-f4f015ac76b8",
   "metadata": {},
   "outputs": [
    {
     "data": {
      "text/plain": [
       "2014-01-01    1.0\n",
       "2014-02-01    NaN\n",
       "2014-04-01    2.0\n",
       "dtype: float64"
      ]
     },
     "execution_count": 24,
     "metadata": {},
     "output_type": "execute_result"
    }
   ],
   "source": [
    "# создаем временной ряд, но при этом значение по одной дате будет пропущено\n",
    "ts = pd.Series([1, np.nan, 2],\n",
    "              index=[datetime(2014, 1, 1), datetime(2014, 2, 1), datetime(2014, 4, 1)]\n",
    "              )\n",
    "ts"
   ]
  },
  {
   "cell_type": "code",
   "execution_count": 25,
   "id": "f33244c8-905e-445f-9978-67d9b3ec52c6",
   "metadata": {},
   "outputs": [
    {
     "data": {
      "text/plain": [
       "2014-01-01    1.0\n",
       "2014-02-01    1.5\n",
       "2014-04-01    2.0\n",
       "dtype: float64"
      ]
     },
     "execution_count": 25,
     "metadata": {},
     "output_type": "execute_result"
    }
   ],
   "source": [
    "# выполняем линейную интерполяцию на основе количества элементов в данной серии\n",
    "ts.interpolate()"
   ]
  },
  {
   "cell_type": "markdown",
   "id": "52f34df6-5074-4fd1-a636-5d5af25a715e",
   "metadata": {},
   "source": [
    "Значение для 2014-02-01 рассчитывается как 1.0 + (2.0 – 1.0)/2 = 1.5, потому что\n",
    "только одно значение NaN находится между значениями 2.0 и 1.0.\n",
    "Важно отметить, что в серии отсутствует наблюдение для 2014-03-01. Если нам\n",
    "нужно интерполировать суточные значения, следует вычислить два значения:\n",
    "одно для 2014-02-01, а другое для 2014-03-01, что приведет к другой величине инкремента и соответственно другим результатам"
   ]
  },
  {
   "cell_type": "markdown",
   "id": "a3ee20db-4ffe-41c7-97d9-9f85d2676425",
   "metadata": {},
   "source": [
    "Давайте выполним интерполяцию суточных значений, указав метод интерполяции time"
   ]
  },
  {
   "cell_type": "code",
   "execution_count": 26,
   "id": "2bad4889-31b8-42c5-a359-80002946c271",
   "metadata": {},
   "outputs": [
    {
     "data": {
      "text/plain": [
       "2014-01-01    1.000000\n",
       "2014-02-01    1.344444\n",
       "2014-04-01    2.000000\n",
       "dtype: float64"
      ]
     },
     "execution_count": 26,
     "metadata": {},
     "output_type": "execute_result"
    }
   ],
   "source": [
    "# этот программный код учитывает тот факт, что у нас отсутствует запись для 2014-03-01\n",
    "ts.interpolate(method='time')"
   ]
  },
  {
   "cell_type": "markdown",
   "id": "f7b91ef6-347b-4515-a691-3432810dfa3d",
   "metadata": {},
   "source": [
    "Мы выполнили корректную интерполяцию для 2014-02-01 на основе дат. \n",
    "Кроме того, обратите внимание, что метка индекса и значение для 2014-03-01 не были\n",
    "добавлены в объект Series, это значение просто учитывается при выполнении интерполяции."
   ]
  },
  {
   "cell_type": "markdown",
   "id": "cf223ba8-e3ac-435b-9b87-bab28d17bde7",
   "metadata": {},
   "source": [
    "Помимо этого, интерполяцию можно задать для вычисления значений относительно меток индекса, когда используются числовые индексные метки."
   ]
  },
  {
   "cell_type": "code",
   "execution_count": 27,
   "id": "779c5920-e253-443b-9e17-e2a6fe7b3805",
   "metadata": {},
   "outputs": [
    {
     "name": "stdout",
     "output_type": "stream",
     "text": [
      "0       0.0\n",
      "1       NaN\n",
      "10    100.0\n",
      "dtype: float64 \n",
      "\n",
      " 0       0.0\n",
      "1      10.0\n",
      "10    100.0\n",
      "dtype: float64\n"
     ]
    }
   ],
   "source": [
    "# создаем объект Series, чтобы продемонстрировать интерполяцию, основанную на индексных метках\n",
    "s = pd.Series([0, np.nan, 100], index=[0, 1, 10])\n",
    "\n",
    "# выполняем интерполяцию на основе значений индекса. \n",
    "# Значение NaN имеет метку 1, что составляет одну десятую расстояния между 0 и 10,\n",
    "# поэтому интерпо лированное значение будет равно 0.0 + (100.0 – 0.0)/10, или 10.\n",
    "\n",
    "print(s, '\\n\\n', s.interpolate(method='index'))"
   ]
  },
  {
   "cell_type": "markdown",
   "id": "1802ec41-41ed-42ea-87f7-5a2dfa311c5b",
   "metadata": {},
   "source": [
    "#### Обработка дублирующихся данных\n",
    "Библиотека pandas предлагает метод **.duplicated()** для упрощения поиска дублирующихся данных. Этот метод возвращает серию логических значений, в которой каждая запись показывает, является строка дубликатом или нет.\n",
    "\n",
    "Значение True означает, что данная строка уже появлялась ранее в объекте DataFrame, значения в столбцах совпадают."
   ]
  },
  {
   "cell_type": "code",
   "execution_count": 28,
   "id": "e284f3b7-906d-41d3-9432-a53f6e863cf2",
   "metadata": {},
   "outputs": [
    {
     "data": {
      "text/plain": [
       "   a  b\n",
       "0  x  1\n",
       "1  x  1\n",
       "2  x  2\n",
       "3  y  3\n",
       "4  y  3\n",
       "5  y  4\n",
       "6  y  4"
      ]
     },
     "execution_count": 28,
     "metadata": {},
     "output_type": "execute_result"
    }
   ],
   "source": [
    "# создаем датафрейм с дублирующимися строками\n",
    "data = pd.DataFrame({\n",
    "    'a': ['x'] * 3 + ['y'] * 4,\n",
    "    'b': [1, 1, 2, 3, 3, 4, 4]\n",
    "})\n",
    "data"
   ]
  },
  {
   "cell_type": "code",
   "execution_count": 29,
   "id": "1b2f43cb-a85c-434b-ba91-5c8df65cb1a4",
   "metadata": {},
   "outputs": [
    {
     "data": {
      "text/plain": [
       "0    False\n",
       "1     True\n",
       "2    False\n",
       "3    False\n",
       "4     True\n",
       "5    False\n",
       "6     True\n",
       "dtype: bool"
      ]
     },
     "execution_count": 29,
     "metadata": {},
     "output_type": "execute_result"
    }
   ],
   "source": [
    "# определяем, какие строки являются дублирующимися,\n",
    "# то есть какие строки уже ранее встречались в датафрейме\n",
    "data.duplicated()"
   ]
  },
  {
   "cell_type": "markdown",
   "id": "55f72298-703f-468a-9c8e-99bcd780a866",
   "metadata": {},
   "source": [
    "Дублирующиеся строки можно удалить из датафрейма с помощью метода **.drop_duplicates().**\n",
    "\n",
    "Этот метод возвращает копию датафрейма с удаленными дублирующимися строками (но есть параметр inplace=True, чтобы удалить строки на месте и не создавать копию датафрейма)"
   ]
  },
  {
   "cell_type": "code",
   "execution_count": 30,
   "id": "7b031812-e920-41d2-ac15-e0cd85d1d4fd",
   "metadata": {},
   "outputs": [
    {
     "data": {
      "text/plain": [
       "   a  b\n",
       "0  x  1\n",
       "2  x  2\n",
       "3  y  3\n",
       "5  y  4"
      ]
     },
     "execution_count": 30,
     "metadata": {},
     "output_type": "execute_result"
    }
   ],
   "source": [
    "# удаляем дублирующиеся строки, каждый раз оставляя первое из дублирующихся наблюдений\n",
    "data.drop_duplicates()"
   ]
  },
  {
   "cell_type": "markdown",
   "id": "77e8a9fe-f35c-4f85-82f1-6f5a869f7dca",
   "metadata": {},
   "source": [
    "Обратите внимание, что существует нюанс, связанный с метками индексов,\n",
    "остающимися при удалении дубликатов. Дублирующиеся записи могут иметь разные метки индексов (метки не учитываются при поиске дубликатов). Таким образом, строка, которая будет оставлена при удалении дубликатов, может повлиять на набор меток в итоговом объекте DataFrame."
   ]
  },
  {
   "cell_type": "code",
   "execution_count": 31,
   "id": "cbc47ef4-db1e-40c1-9113-86ec93d29b40",
   "metadata": {},
   "outputs": [
    {
     "data": {
      "text/plain": [
       "   a  b\n",
       "1  x  1\n",
       "2  x  2\n",
       "4  y  3\n",
       "6  y  4"
      ]
     },
     "execution_count": 31,
     "metadata": {},
     "output_type": "execute_result"
    }
   ],
   "source": [
    "# удаляем дублирующиеся строки, каждый раз оставляя последнее из дублирующихся наблюдений\n",
    "data.drop_duplicates(keep='last')"
   ]
  },
  {
   "cell_type": "code",
   "execution_count": 32,
   "id": "b70f129b-2726-44e8-bdb8-2b03049997bd",
   "metadata": {},
   "outputs": [],
   "source": [
    "# если мы укажем, что нужно удалить дублирующиеся строки\n",
    "# с учетом значений в столбцах a и b"
   ]
  },
  {
   "cell_type": "code",
   "execution_count": 33,
   "id": "268ecc43-1451-497d-b9fc-cd0ba4787a3b",
   "metadata": {},
   "outputs": [
    {
     "data": {
      "text/plain": [
       "   a  b\n",
       "0  x  1\n",
       "2  x  2\n",
       "3  y  3\n",
       "5  y  4"
      ]
     },
     "execution_count": 33,
     "metadata": {},
     "output_type": "execute_result"
    }
   ],
   "source": [
    "data.drop_duplicates(['a', 'b'])"
   ]
  },
  {
   "cell_type": "markdown",
   "id": "198a2e1b-228c-430e-a085-df5ef016f1b8",
   "metadata": {},
   "source": [
    "### Преобразование данных"
   ]
  },
  {
   "cell_type": "markdown",
   "id": "566b8d3d-5cbf-4782-a46e-c58ed66ee3d1",
   "metadata": {},
   "source": [
    "#### Сопоставление значений другим значениям\n",
    "Одной из основных задач преобразования данных является сопоставление набора значений другому набору значений. Библиотека pandas позволяет сопоставлять значения с помощью таблицы поиска (по питоновскому словарю или серии библиотеки pandas). Для этого используется метод **.map()**.\n",
    "\n",
    "Этот метод выполняет сопоставление, сперва сличая значения внешней серии с метками индекса внутренней серии. Затем он возвращает новую серию с метками индекса внешней серии, но со значениями внутренней серии."
   ]
  },
  {
   "cell_type": "code",
   "execution_count": 34,
   "id": "988b6a28-1d1c-4773-b185-c4b766dd8b98",
   "metadata": {},
   "outputs": [
    {
     "data": {
      "text/plain": [
       "(one      1\n",
       " two      2\n",
       " three    3\n",
       " dtype: int64,\n",
       " 1    a\n",
       " 2    b\n",
       " 3    c\n",
       " dtype: object)"
      ]
     },
     "execution_count": 34,
     "metadata": {},
     "output_type": "execute_result"
    }
   ],
   "source": [
    "# создаем два объекта Series для иллюстрации\n",
    "# процесса сопоставления значений\n",
    "x = pd.Series({\"one\": 1, \"two\": 2, \"three\": 3})\n",
    "y = pd.Series({1: \"a\", 2: \"b\", 3: \"c\"})\n",
    "x, y"
   ]
  },
  {
   "cell_type": "code",
   "execution_count": 35,
   "id": "a728b12a-0278-42e1-9e19-512207bdb928",
   "metadata": {},
   "outputs": [
    {
     "data": {
      "text/plain": [
       "one      a\n",
       "two      b\n",
       "three    c\n",
       "dtype: object"
      ]
     },
     "execution_count": 35,
     "metadata": {},
     "output_type": "execute_result"
    }
   ],
   "source": [
    "# сопоставляем значения серии x значениям серии y\n",
    "x.map(y)"
   ]
  },
  {
   "cell_type": "code",
   "execution_count": 36,
   "id": "fdd0e730-3baf-45eb-94ee-a2bf733e31b3",
   "metadata": {},
   "outputs": [
    {
     "data": {
      "text/plain": [
       "one        a\n",
       "two        b\n",
       "three    NaN\n",
       "dtype: object"
      ]
     },
     "execution_count": 36,
     "metadata": {},
     "output_type": "execute_result"
    }
   ],
   "source": [
    "# если между значением серии y и индексной меткой серии x\n",
    "# не будет найдено соответствие, будет выдано значение NaN\n",
    "x = pd.Series({\"one\": 1, \"two\": 2, \"three\": 3})\n",
    "y = pd.Series({1: \"a\", 2: \"b\"})\n",
    "x.map(y)"
   ]
  },
  {
   "cell_type": "markdown",
   "id": "3e5b434f-a683-4958-a0fe-2ffab6f2f97d",
   "metadata": {},
   "source": [
    "#### Замена значений\n",
    "Фактически метод .fillna() можно рассматривать как реализацию метода .map(), который сопоставляет значение NaN с определенным значением.\n",
    "\n",
    "Если говорить более широко, метод .fillna() можно рассматривать как специальный случай более универсальной операции замены значений, которая реализована в рамках метода .replace(). Этот метод более гибок благодаря возможности заменить любое значение (не только значение NaN) другим значением.\n",
    "\n",
    "Основное использование метода **.replace()** заключается в замене конкретного\n",
    "значения на другое"
   ]
  },
  {
   "cell_type": "code",
   "execution_count": 37,
   "id": "ff590898-c762-449a-b4a6-69f58f997e14",
   "metadata": {},
   "outputs": [
    {
     "data": {
      "text/plain": [
       "0    0.0\n",
       "1    1.0\n",
       "2    2.0\n",
       "3    3.0\n",
       "4    4.0\n",
       "dtype: float64"
      ]
     },
     "execution_count": 37,
     "metadata": {},
     "output_type": "execute_result"
    }
   ],
   "source": [
    "# создаем объект Series, чтобы проиллюстрировать метод .replace()\n",
    "s = pd.Series([0, 1, 2, 3, 4], dtype='float')\n",
    "s"
   ]
  },
  {
   "cell_type": "code",
   "execution_count": 38,
   "id": "a2ada015-0480-4bd6-bb4d-d617e4d57156",
   "metadata": {},
   "outputs": [
    {
     "data": {
      "text/plain": [
       "0    0.0\n",
       "1    1.0\n",
       "2    5.0\n",
       "3    3.0\n",
       "4    4.0\n",
       "dtype: float64"
      ]
     },
     "execution_count": 38,
     "metadata": {},
     "output_type": "execute_result"
    }
   ],
   "source": [
    "# заменяем значение, соответствующее индексной метке 2, на значение 5\n",
    "s.replace(2, 5)"
   ]
  },
  {
   "cell_type": "code",
   "execution_count": 39,
   "id": "6dd1ecb4-8fb4-441d-aade-1249064b4467",
   "metadata": {},
   "outputs": [
    {
     "data": {
      "text/plain": [
       "0    4.0\n",
       "1    3.0\n",
       "2    2.0\n",
       "3    1.0\n",
       "4    0.0\n",
       "dtype: float64"
      ]
     },
     "execution_count": 39,
     "metadata": {},
     "output_type": "execute_result"
    }
   ],
   "source": [
    "# заменяем все элементы новыми значениями\n",
    "# первый – список заменяемых значений, а второй – список заменяющих значений\n",
    "s.replace([0, 1, 2, 3, 4], [4, 3, 2, 1, 0])"
   ]
  },
  {
   "cell_type": "code",
   "execution_count": 40,
   "id": "171aa5b5-9b34-41b2-9191-a8eb231dbede",
   "metadata": {},
   "outputs": [
    {
     "data": {
      "text/plain": [
       "0     10.0\n",
       "1    100.0\n",
       "2      2.0\n",
       "3      3.0\n",
       "4      4.0\n",
       "dtype: float64"
      ]
     },
     "execution_count": 40,
     "metadata": {},
     "output_type": "execute_result"
    }
   ],
   "source": [
    "# заменяем элементы, используя словарь\n",
    "s.replace({0: 10, 1: 100})"
   ]
  },
  {
   "cell_type": "markdown",
   "id": "5de43563-1d72-4c4c-a5e1-41dcfb232639",
   "metadata": {},
   "source": [
    "Если вы используете метод .replace() объекта DataFrame, можно указать разные\n",
    "заменяемые значения для каждого столбца. Эта операция выполняется путем\n",
    "передачи питоновского словаря в метод .replace(). \n",
    "\n",
    "В этом словаре ключи представляют собой имена столбцов, в которых нужно заменить значения, а значения словаря указывают заменяемые значения в столбцах. Второй параметр метода –\n",
    "это значение, которое используется для замены."
   ]
  },
  {
   "cell_type": "code",
   "execution_count": 41,
   "id": "ccf6e48f-df3a-49e7-a772-97a0cd623bb1",
   "metadata": {},
   "outputs": [
    {
     "data": {
      "text/plain": [
       "   a  b\n",
       "0  0  5\n",
       "1  1  6\n",
       "2  2  7\n",
       "3  3  8\n",
       "4  4  9"
      ]
     },
     "execution_count": 41,
     "metadata": {},
     "output_type": "execute_result"
    }
   ],
   "source": [
    "# создаем датафрейм с двумя столбцами\n",
    "df = pd.DataFrame({'a': [0, 1, 2, 3, 4], 'b': [5, 6, 7, 8, 9]})\n",
    "df"
   ]
  },
  {
   "cell_type": "code",
   "execution_count": 42,
   "id": "73f78bf5-4324-444b-a282-5de531748026",
   "metadata": {},
   "outputs": [
    {
     "data": {
      "text/plain": [
       "     a    b\n",
       "0    0    5\n",
       "1  100    6\n",
       "2    2    7\n",
       "3    3  100\n",
       "4    4    9"
      ]
     },
     "execution_count": 42,
     "metadata": {},
     "output_type": "execute_result"
    }
   ],
   "source": [
    "# задаем разные заменяемые значения для каждого столбца\n",
    "df.replace({'a': 1, 'b': 8}, 100)"
   ]
  },
  {
   "cell_type": "markdown",
   "id": "0ba408c4-9e9c-4951-a95f-a141fffa8062",
   "metadata": {},
   "source": [
    "#### Применение функций для преобразования данных\n",
    "При работе с данными мы можем применить различные функции, воспользовавшись методом с говорящим названием **.apply()**. Когда задана функция Python, метод .apply() итеративно вызывает ее, передавая каждое значение из объекта Series. Метод .apply() объекта DataFrame передает в функцию каждый столбец, представленный в виде объекта Series, или, если задан параметр axis=1, передает объект Series, представляющий каждую строку."
   ]
  },
  {
   "cell_type": "code",
   "execution_count": 43,
   "id": "f277d1e8-372b-4202-b2fd-8e84201d91c7",
   "metadata": {},
   "outputs": [
    {
     "data": {
      "text/plain": [
       "0    0\n",
       "1    2\n",
       "2    4\n",
       "3    6\n",
       "4    8\n",
       "dtype: int64"
      ]
     },
     "execution_count": 43,
     "metadata": {},
     "output_type": "execute_result"
    }
   ],
   "source": [
    "# иллюстрируем применение функции к каждому элементу объекта Series\n",
    "s = pd.Series(np.arange(0, 5))\n",
    "s.apply(lambda v: v * 2)"
   ]
  },
  {
   "cell_type": "code",
   "execution_count": 84,
   "id": "72b357f3-25d0-4897-b147-10ec123a996f",
   "metadata": {},
   "outputs": [
    {
     "data": {
      "text/plain": [
       "   a   b   c\n",
       "0  0   1   2\n",
       "1  3   4   5\n",
       "2  6   7   8\n",
       "3  9  10  11"
      ]
     },
     "execution_count": 84,
     "metadata": {},
     "output_type": "execute_result"
    }
   ],
   "source": [
    "# создаем датафрейм, чтобы проиллюстрировать применение\n",
    "# операции суммирования к каждому столбцу\n",
    "df = pd.DataFrame(np.arange(12).reshape(4, 3), columns=['a', 'b', 'c'])\n",
    "df"
   ]
  },
  {
   "cell_type": "code",
   "execution_count": 85,
   "id": "0cf3a564-5818-4aea-9660-149a3758db69",
   "metadata": {},
   "outputs": [
    {
     "data": {
      "text/plain": [
       "a    18\n",
       "b    22\n",
       "c    26\n",
       "dtype: int64"
      ]
     },
     "execution_count": 85,
     "metadata": {},
     "output_type": "execute_result"
    }
   ],
   "source": [
    "# вычисляем сумму элементов в каждом столбце\n",
    "df.apply(lambda col: col.sum())"
   ]
  },
  {
   "cell_type": "code",
   "execution_count": 86,
   "id": "f56cea57-56de-4313-9244-5ee9890bf13c",
   "metadata": {},
   "outputs": [
    {
     "data": {
      "text/plain": [
       "0     3\n",
       "1    12\n",
       "2    21\n",
       "3    30\n",
       "dtype: int64"
      ]
     },
     "execution_count": 86,
     "metadata": {},
     "output_type": "execute_result"
    }
   ],
   "source": [
    "# вычисляем сумму элементов в каждой строке\n",
    "df.apply(lambda row: row.sum(), axis='columns')"
   ]
  },
  {
   "cell_type": "markdown",
   "id": "b3de3bee-725b-4fa7-91d4-b244127dd2a4",
   "metadata": {},
   "source": [
    "Общераспространенная практика заключается в том, чтобы взять результат\n",
    "операции и добавить его в качестве нового столбца объекта DataFrame. Это удобно,\n",
    "поскольку вы можете добавить в объект DataFrame результат одной или нескольких\n",
    "операций последовательного вычисления, выводя итоги вычислений на каждом этапе обработки."
   ]
  },
  {
   "cell_type": "code",
   "execution_count": 87,
   "id": "21a549da-6a88-4b8b-88f6-ef5ebfaf232d",
   "metadata": {},
   "outputs": [
    {
     "data": {
      "text/plain": [
       "   a   b   c  interim\n",
       "0  0   1   2        0\n",
       "1  3   4   5       12\n",
       "2  6   7   8       42\n",
       "3  9  10  11       90"
      ]
     },
     "execution_count": 87,
     "metadata": {},
     "output_type": "execute_result"
    }
   ],
   "source": [
    "# создаем столбец 'interim' путем умножения столбцов a и b\n",
    "df['interim'] = df.apply(lambda r: r.a * r.b, axis='columns')\n",
    "# %timeit df['dd'] = df['a'] * df['b'] этот спобоб гораздо быстрее чем выше\n",
    "df"
   ]
  },
  {
   "cell_type": "code",
   "execution_count": 88,
   "id": "fb91bd59-e3e1-4e95-ba8c-949f2d661511",
   "metadata": {},
   "outputs": [
    {
     "data": {
      "text/plain": [
       "   a   b   c  interim  result\n",
       "0  0   1   2        0       2\n",
       "1  3   4   5       12      17\n",
       "2  6   7   8       42      50\n",
       "3  9  10  11       90     101"
      ]
     },
     "execution_count": 88,
     "metadata": {},
     "output_type": "execute_result"
    }
   ],
   "source": [
    "# а теперь получаем столбец 'result' путем сложения столбцов 'interim' и 'c'\n",
    "df['result'] = df.apply(lambda r: r.interim + r.c, axis='columns')\n",
    "df"
   ]
  },
  {
   "cell_type": "markdown",
   "id": "25201382-5d28-4e07-bca9-1d81afd5d57d",
   "metadata": {},
   "source": [
    "Можно изменить значения в существующем столбце, просто присвоив этому\n",
    "столбцу результат выполнения той или иной операции.\n",
    "\n",
    "**Как правило, замена значений столбца совершенно новыми значениями – не лучшее решение** и часто приводит к проблемам, обусловленным неудачным преобразованием данных. Поэтому в библиотеке pandas лучше просто добавлять новые строки или столбцы (или полностью новые объекты), а если впоследствии\n",
    "проблема памяти или производительности становится ощутимой, выполнять оптимизацию по мере необходимости.\n"
   ]
  },
  {
   "cell_type": "code",
   "execution_count": 49,
   "id": "b8de40e0-52b2-4d8d-af30-92481ba2269f",
   "metadata": {},
   "outputs": [
    {
     "data": {
      "text/plain": [
       "    a   b   c  interim  result\n",
       "0   3   1   2        0       2\n",
       "1  12   4   5       12      17\n",
       "2  21   7   8       42      50\n",
       "3  30  10  11       90     101"
      ]
     },
     "execution_count": 49,
     "metadata": {},
     "output_type": "execute_result"
    }
   ],
   "source": [
    "# заменяем значения столбца a на сумму значений по строке\n",
    "df.a = df.a + df.b + df.c\n",
    "df"
   ]
  },
  {
   "cell_type": "markdown",
   "id": "870b6341-2bb8-486f-9538-f7bd1c45384a",
   "metadata": {},
   "source": [
    "Метод **.apply() всегда применяет заданную функцию ко всем элементам объекта Series, столбца или строки** объекта DataFrame. Если вы хотите применить эту функцию к подмножеству данных, сначала выполните логический отбор, чтобы отфильтровать ненужные элементы."
   ]
  },
  {
   "cell_type": "code",
   "execution_count": 50,
   "id": "901fa77f-f79f-48b5-83a1-12d563482335",
   "metadata": {},
   "outputs": [],
   "source": [
    "# создаем объект DataFrame из 3 строк и 5 столбцов\n",
    "# только вторая строка содержит значение NaN"
   ]
  },
  {
   "cell_type": "code",
   "execution_count": 94,
   "id": "53568365-9f19-4174-9872-f9ea63da1260",
   "metadata": {},
   "outputs": [
    {
     "data": {
      "text/plain": [
       "    0   1     2   3   4\n",
       "0   0   1   2.0   3   4\n",
       "1   5   6   NaN   8   9\n",
       "2  10  11  12.0  13  14"
      ]
     },
     "execution_count": 94,
     "metadata": {},
     "output_type": "execute_result"
    }
   ],
   "source": [
    "df = pd.DataFrame(np.arange(0, 15).reshape(3, 5))\n",
    "df.loc[1, 2] = np.nan\n",
    "df"
   ]
  },
  {
   "cell_type": "code",
   "execution_count": 52,
   "id": "d11d7dae-3f8b-4dda-a255-59333d9fc4a2",
   "metadata": {},
   "outputs": [
    {
     "data": {
      "text/plain": [
       "0    10.0\n",
       "2    60.0\n",
       "dtype: float64"
      ]
     },
     "execution_count": 52,
     "metadata": {},
     "output_type": "execute_result"
    }
   ],
   "source": [
    "# демонстрируем применение функции только к тем строкам, в которых нет значений NaN\n",
    "df.dropna().apply(lambda x: x.sum(), axis='columns')"
   ]
  },
  {
   "cell_type": "code",
   "execution_count": 53,
   "id": "40bebfc1-04be-49ed-8a89-4c6cd83d2eab",
   "metadata": {},
   "outputs": [
    {
     "data": {
      "text/plain": [
       "       0      1      2      3      4\n",
       "0   0.00   1.00   2.00   3.00   4.00\n",
       "1   5.00   6.00    nan   8.00   9.00\n",
       "2  10.00  11.00  12.00  13.00  14.00"
      ]
     },
     "execution_count": 53,
     "metadata": {},
     "output_type": "execute_result"
    }
   ],
   "source": [
    "# используем метод .map(), чтобы изменить формат всех элементов объекта DataFrame\n",
    "# map() применяет функцию к каждому отдельному значению.\n",
    "df.map(lambda x: '%.2f' % x)"
   ]
  }
 ],
 "metadata": {
  "kernelspec": {
   "display_name": "Python 3 (ipykernel)",
   "language": "python",
   "name": "python3"
  },
  "language_info": {
   "codemirror_mode": {
    "name": "ipython",
    "version": 3
   },
   "file_extension": ".py",
   "mimetype": "text/x-python",
   "name": "python",
   "nbconvert_exporter": "python",
   "pygments_lexer": "ipython3",
   "version": "3.10.14"
  }
 },
 "nbformat": 4,
 "nbformat_minor": 5
}
