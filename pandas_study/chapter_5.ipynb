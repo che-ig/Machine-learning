{
 "cells": [
  {
   "cell_type": "code",
   "execution_count": 1,
   "metadata": {},
   "outputs": [],
   "source": [
    "import numpy as np\n",
    "import pandas as pd\n",
    "import matplotlib.pyplot as plt\n",
    "from datetime import datetime, time\n",
    "\n",
    "pd.set_option('display.notebook_repr_html', False)\n",
    "pd.set_option('display.max_column', 8)\n",
    "pd.set_option('display.max_rows', 10)\n",
    "pd.set_option('display.width', 80)\n",
    "%matplotlib inline\n"
   ]
  },
  {
   "cell_type": "code",
   "execution_count": 2,
   "metadata": {},
   "outputs": [],
   "source": [
    "sp500 = pd.read_csv('./Notebooks/Data/sp500.csv', index_col='Symbol', usecols=[0, 2, 3, 7])"
   ]
  },
  {
   "cell_type": "markdown",
   "metadata": {},
   "source": [
    "#### Переименуем столбец "
   ]
  },
  {
   "cell_type": "code",
   "execution_count": 3,
   "metadata": {},
   "outputs": [
    {
     "data": {
      "text/plain": [
       "             Sector   Price  BookValue \n",
       "Symbol                                 \n",
       "MMM     Industrials  141.14      26.668\n",
       "ABT     Health Care   39.60      15.573"
      ]
     },
     "execution_count": 3,
     "metadata": {},
     "output_type": "execute_result"
    }
   ],
   "source": [
    "# Переименуем столбец Book Value так, чтобы удалить пробел в названии\n",
    "# Возвращатеся НОВЫЙ датафрейм\n",
    "newSP500 = sp500.rename(columns={'Book Value': 'BookValue '})\n",
    "\n",
    "# Выведем 2 строки\n",
    "newSP500[:2]"
   ]
  },
  {
   "cell_type": "code",
   "execution_count": 4,
   "metadata": {},
   "outputs": [
    {
     "data": {
      "text/plain": [
       "Index(['Sector', 'Price', 'BookValue'], dtype='object')"
      ]
     },
     "execution_count": 4,
     "metadata": {},
     "output_type": "execute_result"
    }
   ],
   "source": [
    "# Чтобы не создавать новый датафрейм, а изменить текущий нужно дабавить inplace=True\n",
    "sp500.rename(columns={'Book Value': 'BookValue'}, inplace=True )\n",
    "sp500.columns"
   ]
  },
  {
   "cell_type": "markdown",
   "metadata": {},
   "source": [
    "#### Создаем копию  датафрейм"
   ]
  },
  {
   "cell_type": "code",
   "execution_count": 5,
   "metadata": {},
   "outputs": [
    {
     "data": {
      "text/plain": [
       "                        Sector   Price  BookValue  RoundedPrice  zeroColumn\n",
       "Symbol                                                                     \n",
       "MMM                Industrials  141.14     26.668         141.0           0\n",
       "ABT                Health Care   39.60     15.573          40.0           0\n",
       "ABBV               Health Care   53.95      2.954          54.0           0\n",
       "ACN     Information Technology   79.79      8.326          80.0           0\n",
       "ACE                 Financials  102.91     86.897         103.0           0"
      ]
     },
     "execution_count": 5,
     "metadata": {},
     "output_type": "execute_result"
    }
   ],
   "source": [
    "# Создаем копию sp500 чтрбы не портить исходный датафрейм\n",
    "sp500_copy = sp500.copy()\n",
    "\n",
    "# Добавляем столбец - В КОНЕЦ датафрейма\n",
    "sp500_copy['RoundedPrice'] = sp500.Price.round()\n",
    "sp500_copy['zeroColumn'] = 0\n",
    "sp500_copy[:5]"
   ]
  },
  {
   "cell_type": "markdown",
   "metadata": {},
   "source": [
    "#### Вставляем новый столбец в нужную позицию"
   ]
  },
  {
   "cell_type": "code",
   "execution_count": 6,
   "metadata": {},
   "outputs": [
    {
     "data": {
      "text/plain": [
       "                        Sector  RoundedPrice  new_che   Price  BookValue\n",
       "Symbol                                                                  \n",
       "MMM                Industrials         141.0       22  141.14     26.668\n",
       "ABT                Health Care          40.0       22   39.60     15.573\n",
       "ABBV               Health Care          54.0       22   53.95      2.954\n",
       "ACN     Information Technology          80.0       22   79.79      8.326\n",
       "ACE                 Financials         103.0       22  102.91     86.897"
      ]
     },
     "execution_count": 6,
     "metadata": {},
     "output_type": "execute_result"
    }
   ],
   "source": [
    "copy = sp500.copy()\n",
    "copy.insert(1, 'RoundedPrice', sp500.Price.round())\n",
    "copy.insert(2, 'new_che', 22)\n",
    "copy[:5]"
   ]
  },
  {
   "cell_type": "markdown",
   "metadata": {},
   "source": [
    "#### Добавление столбцов за счет расширения датафрейма"
   ]
  },
  {
   "cell_type": "code",
   "execution_count": 7,
   "metadata": {},
   "outputs": [
    {
     "data": {
      "text/plain": [
       "             Sector   Price  BookValue  PER  n\n",
       "Symbol                                        \n",
       "MMM     Industrials  141.14     26.668    0  1\n",
       "ABT     Health Care   39.60     15.573    0  2\n",
       "ABBV    Health Care   53.95      2.954    0  3"
      ]
     },
     "execution_count": 7,
     "metadata": {},
     "output_type": "execute_result"
    }
   ],
   "source": [
    "# Создаем копию части датафрейма\n",
    "ss = sp500.iloc[:3].copy()\n",
    "\n",
    "# Добавим столбец с нулевыми значениями\n",
    "ss.loc[:, 'PER'] = 0\n",
    "# обязательно необходимо добавить интекс, иначе будут NaN\n",
    "ss.loc[:, 'n'] = pd.Series(np.arange(1, 4), index=ss.index)\n",
    "ss"
   ]
  },
  {
   "cell_type": "markdown",
   "metadata": {},
   "source": [
    "#### Создаем новый датафрейм конкатинацией двух датафреймов"
   ]
  },
  {
   "cell_type": "code",
   "execution_count": 8,
   "metadata": {},
   "outputs": [
    {
     "data": {
      "text/plain": [
       "                        Sector   Price  BookValue  RoundedPrice\n",
       "Symbol                                                         \n",
       "MMM                Industrials  141.14     26.668         141.0\n",
       "ABT                Health Care   39.60     15.573          40.0\n",
       "ABBV               Health Care   53.95      2.954          54.0\n",
       "ACN     Information Technology   79.79      8.326          80.0\n",
       "ACE                 Financials  102.91     86.897         103.0"
      ]
     },
     "execution_count": 8,
     "metadata": {},
     "output_type": "execute_result"
    }
   ],
   "source": [
    "# Создадим датайрейм с единственным столбцом RoundedPrice\n",
    "rounded_price = pd.DataFrame({\n",
    "    'RoundedPrice': sp500.Price.round()\n",
    "})\n",
    "\n",
    "# Параметр axis=1 указывает, что датафрейм должен конкатенироваться по оси столбцов.\n",
    "# Если необходима конткатенация по строкам, нужно использовать axis = 0\n",
    "concatenated = pd.concat([sp500, rounded_price], axis=1)\n",
    "concatenated[:5]"
   ]
  },
  {
   "cell_type": "markdown",
   "metadata": {},
   "source": [
    " #### Переупорядочивание столбцов"
   ]
  },
  {
   "cell_type": "code",
   "execution_count": 9,
   "metadata": {},
   "outputs": [
    {
     "data": {
      "text/plain": [
       "(        BookValue   Price                  Sector\n",
       " Symbol                                           \n",
       " MMM        26.668  141.14             Industrials\n",
       " ABT        15.573   39.60             Health Care\n",
       " ABBV        2.954   53.95             Health Care\n",
       " ACN         8.326   79.79  Information Technology\n",
       " ACE        86.897  102.91              Financials,\n",
       " '---',\n",
       "              Sector   Price  BookValue\n",
       " Symbol                                \n",
       " MMM     Industrials  141.14     26.668\n",
       " ABT     Health Care   39.60     15.573\n",
       " ABBV    Health Care   53.95      2.954)"
      ]
     },
     "execution_count": 9,
     "metadata": {},
     "output_type": "execute_result"
    }
   ],
   "source": [
    "reverse_column_name = sp500.columns[::-1]\n",
    "\n",
    "# Возращается новый объект DataFrame со столбцамив обратном порядке\n",
    "# Не существует способа изменить порядок столбцов на месте\n",
    "sp500[reverse_column_name][:5], '---', sp500[:3]"
   ]
  },
  {
   "cell_type": "markdown",
   "metadata": {},
   "source": [
    "#### Замена содержимого столбца"
   ]
  },
  {
   "cell_type": "code",
   "execution_count": 10,
   "metadata": {},
   "outputs": [
    {
     "data": {
      "text/plain": [
       "(                        Sector  Price  BookValue\n",
       " Symbol                                          \n",
       " MMM                Industrials  141.0     26.668\n",
       " ABT                Health Care   40.0     15.573\n",
       " ABBV               Health Care   54.0      2.954\n",
       " ACN     Information Technology   80.0      8.326\n",
       " ACE                 Financials  103.0     86.897,\n",
       " Symbol\n",
       " MMM     141.0\n",
       " ABT      40.0\n",
       " ABBV     54.0\n",
       " ACN      80.0\n",
       " Name: Price, dtype: float64)"
      ]
     },
     "execution_count": 10,
     "metadata": {},
     "output_type": "execute_result"
    }
   ],
   "source": [
    "copy = sp500.copy()\n",
    "copy.Price = rounded_price.RoundedPrice\n",
    "copy[:5], copy.loc[:'ACN', 'Price']"
   ]
  },
  {
   "cell_type": "code",
   "execution_count": 11,
   "metadata": {},
   "outputs": [
    {
     "data": {
      "text/plain": [
       "(                        Sector  Price  BookValue\n",
       " Symbol                                          \n",
       " MMM                Industrials  141.0     26.668\n",
       " ABT                Health Care   40.0     15.573\n",
       " ABBV               Health Care   54.0      2.954\n",
       " ACN     Information Technology   80.0      8.326\n",
       " ACE                 Financials  103.0     86.897,\n",
       "                         Sector   Price  BookValue\n",
       " Symbol                                           \n",
       " MMM                Industrials    0.00     26.668\n",
       " ABT                Health Care    0.00     15.573\n",
       " ABBV               Health Care    0.00      2.954\n",
       " ACN     Information Technology    0.00      8.326\n",
       " ACE                 Financials  102.91     86.897,\n",
       "                         Sector  Price  BookValue\n",
       " Symbol                                          \n",
       " MMM                Industrials  141.0     26.668\n",
       " ABT                Health Care   40.0     15.573\n",
       " ABBV               Health Care   54.0      2.954\n",
       " ACN     Information Technology   80.0      8.326\n",
       " ACE                 Financials  103.0     86.897)"
      ]
     },
     "execution_count": 11,
     "metadata": {},
     "output_type": "execute_result"
    }
   ],
   "source": [
    "# Значение столбца можно заменить (на месте) с помощью среза\n",
    "copy = sp500.copy()\n",
    "copy_2 = sp500.copy()\n",
    "\n",
    "copy.loc[:, 'Price'] = rounded_price.RoundedPrice\n",
    "copy_2.loc[:'ACN', 'Price'] = 0\n",
    "\n",
    "copy[:5], copy_2[:5], copy.iloc[:5]"
   ]
  },
  {
   "cell_type": "markdown",
   "metadata": {},
   "source": [
    "### Удаление столбцов\n",
    "\n",
    "- del просто удаляет серию из объекта DataFrame (на месте);\n",
    "- pop() удаляет и возвращает в результате серию (также на месте);\n",
    "- drop(labels, axis=1) возвращает новый датафрейм с удаленным столбцом (исходный объект DataFrame не будет изменен).\n"
   ]
  },
  {
   "cell_type": "code",
   "execution_count": 12,
   "metadata": {},
   "outputs": [
    {
     "data": {
      "text/plain": [
       "             Sector   Price\n",
       "Symbol                     \n",
       "MMM     Industrials  141.14\n",
       "ABT     Health Care   39.60"
      ]
     },
     "execution_count": 12,
     "metadata": {},
     "output_type": "execute_result"
    }
   ],
   "source": [
    "# Пример использования del\n",
    "copy = sp500.copy()\n",
    "\n",
    "del copy['BookValue']\n",
    "copy[:2]\n"
   ]
  },
  {
   "cell_type": "code",
   "execution_count": 13,
   "metadata": {},
   "outputs": [
    {
     "data": {
      "text/plain": [
       "(         Price  BookValue\n",
       " Symbol                   \n",
       " MMM     141.14     26.668\n",
       " ABT      39.60     15.573\n",
       " ABBV     53.95      2.954,\n",
       " '---',\n",
       " Symbol\n",
       " MMM     Industrials\n",
       " ABT     Health Care\n",
       " ABBV    Health Care\n",
       " Name: Sector, dtype: object)"
      ]
     },
     "execution_count": 13,
     "metadata": {},
     "output_type": "execute_result"
    }
   ],
   "source": [
    "# Удаление через pop\n",
    "copy = sp500.copy()\n",
    "\n",
    "# Столбец будет удален и возвращен\n",
    "popped = copy.pop('Sector')\n",
    "copy[:3], '---', popped.iloc[:3]"
   ]
  },
  {
   "cell_type": "code",
   "execution_count": 14,
   "metadata": {
    "scrolled": true
   },
   "outputs": [
    {
     "data": {
      "text/plain": [
       "         Price  BookValue\n",
       "Symbol                   \n",
       "MMM     141.14     26.668\n",
       "ABT      39.60     15.573\n",
       "ABBV     53.95      2.954\n",
       "ACN      79.79      8.326\n",
       "ACE     102.91     86.897"
      ]
     },
     "execution_count": 14,
     "metadata": {},
     "output_type": "execute_result"
    }
   ],
   "source": [
    "# Метод drop можно использовать как для удаления строк так и столбцов.\n",
    "copy = sp500.copy()\n",
    "after_drop = copy.drop(['Sector'], axis = 1)\n",
    "after_drop[:5]"
   ]
  },
  {
   "cell_type": "markdown",
   "metadata": {},
   "source": [
    "#### Присоединение новых строк"
   ]
  },
  {
   "cell_type": "code",
   "execution_count": 15,
   "metadata": {},
   "outputs": [
    {
     "data": {
      "text/plain": [
       "             Sector   Price  BookValue\n",
       "Symbol                                \n",
       "MMM     Industrials  141.14     26.668\n",
       "ABT     Health Care   39.60     15.573\n",
       "ABBV    Health Care   53.95      2.954\n",
       "A       Health Care   56.18     16.928\n",
       "GAS       Utilities   52.98     32.462\n",
       "ABBV    Health Care   53.95      2.954"
      ]
     },
     "execution_count": 15,
     "metadata": {},
     "output_type": "execute_result"
    }
   ],
   "source": [
    "# Присоединение новых строк (append - deprecated)\n",
    "# Возвращается НОВЫЙ датафрейм, объединяющий два других. + возможно дублирование строк.\n",
    "\n",
    "# Копируем первые 3 сроки sp500\n",
    "df1 = sp500.iloc[0:3].copy()\n",
    "\n",
    "# Копируем 10, 11 , 2 сроки sp500\n",
    "df2 = sp500.iloc[[10, 11, 2]]\n",
    "\n",
    "# Присоединяем к df1 датафрейм df2\n",
    "appended = pd.concat([df1, df2])\n",
    "appended"
   ]
  },
  {
   "cell_type": "code",
   "execution_count": 16,
   "metadata": {},
   "outputs": [
    {
     "data": {
      "text/plain": [
       "(             Sector   Price  BookValue\n",
       " Symbol                                \n",
       " MMM     Industrials  141.14     26.668\n",
       " ABT     Health Care   39.60     15.573\n",
       " ABBV    Health Care   53.95      2.954,\n",
       "         PER\n",
       " Symbol     \n",
       " MMM       0\n",
       " ABT       0\n",
       " ABBV      0,\n",
       "         BookValue  PER   Price       Sector\n",
       " Symbol                                     \n",
       " MMM        26.668  NaN  141.14  Industrials\n",
       " ABT        15.573  NaN   39.60  Health Care\n",
       " ABBV        2.954  NaN   53.95  Health Care\n",
       " MMM           NaN  0.0     NaN          NaN\n",
       " ABT           NaN  0.0     NaN          NaN\n",
       " ABBV          NaN  0.0     NaN          NaN)"
      ]
     },
     "execution_count": 16,
     "metadata": {},
     "output_type": "execute_result"
    }
   ],
   "source": [
    "df3 = pd.DataFrame(0, index=df1.index, columns=['PER'])\n",
    "\n",
    "# флаг sort для сортировки СТОЛБЦОВ в алфавитном порядке.\n",
    "df4 = pd.concat([df1, df3], sort=True)\n",
    "df1, df3, df4"
   ]
  },
  {
   "cell_type": "markdown",
   "metadata": {},
   "source": [
    " #### Игнорируем метки индекса, создаем индекс по умолчанию"
   ]
  },
  {
   "cell_type": "code",
   "execution_count": 17,
   "metadata": {},
   "outputs": [
    {
     "data": {
      "text/plain": [
       "(   BookValue  PER   Price       Sector\n",
       " 0     26.668  NaN  141.14  Industrials\n",
       " 1     15.573  NaN   39.60  Health Care\n",
       " 2      2.954  NaN   53.95  Health Care\n",
       " 3        NaN  0.0     NaN          NaN\n",
       " 4        NaN  0.0     NaN          NaN\n",
       " 5        NaN  0.0     NaN          NaN,\n",
       " RangeIndex(start=0, stop=6, step=1))"
      ]
     },
     "execution_count": 17,
     "metadata": {},
     "output_type": "execute_result"
    }
   ],
   "source": [
    "# Когда `нам не нужен индекс (в случае если он неинформативен)\n",
    "# Когда мы посто хотим один кусок данных склеить с др.\n",
    "\n",
    "df5 = pd.concat([df1, df3], sort=True, ignore_index=True)\n",
    "df5, df5.index"
   ]
  },
  {
   "cell_type": "markdown",
   "metadata": {},
   "source": [
    "### Конкатенация строк"
   ]
  },
  {
   "cell_type": "code",
   "execution_count": 18,
   "metadata": {},
   "outputs": [
    {
     "data": {
      "text/plain": [
       "            BookValue   Price       Sector\n",
       "    Symbol                                \n",
       "df1 MMM        26.668  141.14  Industrials\n",
       "    ABT        15.573   39.60  Health Care\n",
       "    ABBV        2.954   53.95  Health Care\n",
       "df2 A          16.928   56.18  Health Care\n",
       "    GAS        32.462   52.98    Utilities\n",
       "    ABBV        2.954   53.95  Health Care"
      ]
     },
     "execution_count": 18,
     "metadata": {},
     "output_type": "execute_result"
    }
   ],
   "source": [
    "# Параметр keys позволяет определить к какому датафрейму относится набор строк.\n",
    "r = pd.concat([df1, df2], keys=['df1', 'df2'], sort=True)\n",
    "r"
   ]
  },
  {
   "cell_type": "markdown",
   "metadata": {},
   "source": [
    "### Добавление и замена строк за счет расширения датафрейма."
   ]
  },
  {
   "cell_type": "code",
   "execution_count": 19,
   "metadata": {},
   "outputs": [
    {
     "data": {
      "text/plain": [
       "             Sector   Price  BookValue\n",
       "Symbol                                \n",
       "MMM     Industrials  141.14     26.668\n",
       "ABT     Health Care   39.60     15.573\n",
       "ABBV    Health Care   53.95      2.954\n",
       "FOO      the sector  100.00    110.000\n",
       "XXX               0    0.00      0.000"
      ]
     },
     "execution_count": 19,
     "metadata": {},
     "output_type": "execute_result"
    }
   ],
   "source": [
    "# Создадим срез датафрейма sp500 и скопируем его.\n",
    "ss = sp500[:3].copy()\n",
    "\n",
    "# Создадим новую меткву с именем FOO и присвоим столбцам некоторые значения.\n",
    "# Если такая метка существовала бы, то значения в этой строке были бы заменены.\n",
    "# Данная операция выполняется на месте.\n",
    "ss.loc['FOO'] = ['the sector', 100, 110]\n",
    "\n",
    "# Если нужно установить всем столбцам одно и тоже значение.\n",
    "ss.loc['XXX'] = 0\n",
    "ss"
   ]
  },
  {
   "cell_type": "markdown",
   "metadata": {},
   "source": [
    "### Удаление строк с помощью метода drop"
   ]
  },
  {
   "cell_type": "code",
   "execution_count": 20,
   "metadata": {},
   "outputs": [
    {
     "data": {
      "text/plain": [
       "             Sector   Price  BookValue\n",
       "Symbol                                \n",
       "MMM     Industrials  141.14     26.668\n",
       "ABBV    Health Care   53.95      2.954\n",
       "ACE      Financials  102.91     86.897"
      ]
     },
     "execution_count": 20,
     "metadata": {},
     "output_type": "execute_result"
    }
   ],
   "source": [
    "# Копируем первые 5 строк\n",
    "ss = sp500.iloc[:5]\n",
    "\n",
    "# Создасться новый датафрейм. Старый ss не будет тронут.\n",
    "after_drop = ss.drop(['ABT', 'ACN'])\n",
    "after_drop.iloc[:5]"
   ]
  },
  {
   "cell_type": "markdown",
   "metadata": {},
   "source": [
    "### Удаление строк при помощи логического отбора"
   ]
  },
  {
   "cell_type": "code",
   "execution_count": 21,
   "metadata": {},
   "outputs": [
    {
     "data": {
      "text/plain": [
       "(500, 10)"
      ]
     },
     "execution_count": 21,
     "metadata": {},
     "output_type": "execute_result"
    }
   ],
   "source": [
    "selection = sp500.Price > 300\n",
    "(len(selection), selection.sum())"
   ]
  },
  {
   "cell_type": "code",
   "execution_count": 22,
   "metadata": {},
   "outputs": [
    {
     "data": {
      "text/plain": [
       "                        Sector   Price  BookValue\n",
       "Symbol                                           \n",
       "MMM                Industrials  141.14     26.668\n",
       "ABT                Health Care   39.60     15.573\n",
       "ABBV               Health Care   53.95      2.954\n",
       "ACN     Information Technology   79.79      8.326\n",
       "ACE                 Financials  102.91     86.897\n",
       "...                        ...     ...        ...\n",
       "YHOO    Information Technology   35.02     12.768\n",
       "YUM     Consumer Discretionary   74.77      5.147\n",
       "ZMH                Health Care  101.84     37.181\n",
       "ZION                Financials   28.43     30.191\n",
       "ZTS                Health Care   30.53      2.150\n",
       "\n",
       "[490 rows x 3 columns]"
      ]
     },
     "execution_count": 22,
     "metadata": {},
     "output_type": "execute_result"
    }
   ],
   "source": [
    "# Для отбора записий с ценой меньше 300 применим побитовое отрицание\n",
    "price_less_tnan_300 = sp500[-selection]\n",
    "price_less_tnan_300"
   ]
  },
  {
   "cell_type": "markdown",
   "metadata": {},
   "source": [
    "### Удаление строк с помощью среза"
   ]
  },
  {
   "cell_type": "code",
   "execution_count": 23,
   "metadata": {},
   "outputs": [
    {
     "data": {
      "text/plain": [
       "             Sector   Price  BookValue\n",
       "Symbol                                \n",
       "MMM     Industrials  141.14     26.668\n",
       "ABT     Health Care   39.60     15.573\n",
       "ABBV    Health Care   53.95      2.954"
      ]
     },
     "execution_count": 23,
     "metadata": {},
     "output_type": "execute_result"
    }
   ],
   "source": [
    "only_first_three = sp500[:3]\n",
    "only_first_three"
   ]
  },
  {
   "cell_type": "code",
   "execution_count": 24,
   "metadata": {},
   "outputs": [
    {
     "data": {
      "text/plain": [
       "(                        Sector   Price  BookValue\n",
       " Symbol                                           \n",
       " MMM                Industrials   55.00     26.668\n",
       " ABT                Health Care   39.60     15.573\n",
       " ABBV               Health Care   53.95      2.954\n",
       " ACN     Information Technology   79.79      8.326\n",
       " ACE                 Financials  102.91     86.897\n",
       " ...                        ...     ...        ...\n",
       " YHOO    Information Technology   35.02     12.768\n",
       " YUM     Consumer Discretionary   74.77      5.147\n",
       " ZMH                Health Care  101.84     37.181\n",
       " ZION                Financials   28.43     30.191\n",
       " ZTS                Health Care   30.53      2.150\n",
       " \n",
       " [500 rows x 3 columns],\n",
       "              Sector  Price  BookValue\n",
       " Symbol                               \n",
       " MMM     Industrials  55.00     26.668\n",
       " ABT     Health Care  39.60     15.573\n",
       " ABBV    Health Care  53.95      2.954)"
      ]
     },
     "execution_count": 24,
     "metadata": {},
     "output_type": "execute_result"
    }
   ],
   "source": [
    "# Проверка того что срез связан с исходным датафреймом.\n",
    "only_first_three.at['MMM', 'Price'] = 55\n",
    "sp500, only_first_three"
   ]
  }
 ],
 "metadata": {
  "kernelspec": {
   "display_name": ".venv",
   "language": "python",
   "name": ".venv"
  },
  "language_info": {
   "codemirror_mode": {
    "name": "ipython",
    "version": 3
   },
   "file_extension": ".py",
   "mimetype": "text/x-python",
   "name": "python",
   "nbconvert_exporter": "python",
   "pygments_lexer": "ipython3",
   "version": "3.8.5"
  }
 },
 "nbformat": 4,
 "nbformat_minor": 4
}
