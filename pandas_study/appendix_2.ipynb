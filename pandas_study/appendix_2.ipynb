{
 "cells": [
  {
   "cell_type": "code",
   "execution_count": 1,
   "id": "a2f859d2-4605-4895-98c9-a13f4b9ac9e7",
   "metadata": {},
   "outputs": [],
   "source": [
    "# импортируем numpy и pandas\n",
    "import numpy as np\n",
    "import pandas as pd"
   ]
  },
  {
   "cell_type": "code",
   "execution_count": null,
   "id": "9813c6f0-4cbb-4dcc-aff6-cb3cf53323b3",
   "metadata": {},
   "outputs": [],
   "source": [
    "np.random.seed(12345)\n",
    "df = pd.DataFrame({'a': np.random.randn(1000),\n",
    "                   'b': np.random.randn(1000),\n",
    "                   'N': np.random.randint(100, 1000, (1000)),\n",
    "                   'x': 'x'\n",
    "                  })\n",
    "df.head(5)"
   ]
  },
  {
   "cell_type": "markdown",
   "id": "c4fe1512-1a3c-4807-8485-4d29db5b19c7",
   "metadata": {},
   "source": [
    "Функции, написанные на «чистом» Python"
   ]
  },
  {
   "cell_type": "code",
   "execution_count": 6,
   "id": "e7333352-42f7-4535-a9bd-3952e2b6cf9b",
   "metadata": {},
   "outputs": [],
   "source": [
    "def f(x):\n",
    "    return  x * (x - 1)\n",
    "\n",
    "def integrate_f(a, b, N):\n",
    "    s = 0\n",
    "    dx = (b - a) / N\n",
    "    for i in range(N):\n",
    "        s += f(a + i * dx)\n",
    "    return s * dx"
   ]
  },
  {
   "cell_type": "code",
   "execution_count": 8,
   "id": "6b30808b-50ff-40e9-aa3f-7bb739293227",
   "metadata": {},
   "outputs": [
    {
     "name": "stdout",
     "output_type": "stream",
     "text": [
      "216 ms ± 599 μs per loop (mean ± std. dev. of 7 runs, 1 loop each)\n"
     ]
    }
   ],
   "source": [
    "%timeit df.apply(lambda x: integrate_f(x['a'], x['b'], x['N']), axis=1)"
   ]
  },
  {
   "cell_type": "markdown",
   "id": "002f6e83-5f5d-4a3f-8ea2-287f3e8e55d1",
   "metadata": {},
   "source": [
    "Но этого явно недостаточно для нас. Давайте посмотрим, на что было потрачено\n",
    "время в продолжение выполнения этой операции (ограничиваясь четырьмя\n",
    "наиболее затратными вызовами), используя magic-функцию IPython **%prun**"
   ]
  },
  {
   "cell_type": "code",
   "execution_count": 9,
   "id": "918fcca3-0f6d-4d7e-96ed-28530c86e284",
   "metadata": {},
   "outputs": [
    {
     "name": "stdout",
     "output_type": "stream",
     "text": [
      " "
     ]
    },
    {
     "data": {
      "text/plain": [
       "         606075 function calls (606057 primitive calls) in 0.351 seconds\n",
       "\n",
       "   Ordered by: internal time\n",
       "   List reduced from 163 to 4 due to restriction <4>\n",
       "\n",
       "   ncalls  tottime  percall  cumtime  percall filename:lineno(function)\n",
       "     1000    0.220    0.000    0.319    0.000 296862810.py:4(integrate_f)\n",
       "   552542    0.099    0.000    0.099    0.000 296862810.py:1(f)\n",
       "     3000    0.006    0.000    0.021    0.000 series.py:1095(__getitem__)\n",
       "     3000    0.004    0.000    0.009    0.000 series.py:1220(_get_value)"
      ]
     },
     "metadata": {},
     "output_type": "display_data"
    }
   ],
   "source": [
    "%prun -l 4 df.apply(lambda x: integrate_f(x['a'], x['b'], x['N']), axis=1)"
   ]
  }
 ],
 "metadata": {
  "kernelspec": {
   "display_name": "Python 3 (ipykernel)",
   "language": "python",
   "name": "python3"
  },
  "language_info": {
   "codemirror_mode": {
    "name": "ipython",
    "version": 3
   },
   "file_extension": ".py",
   "mimetype": "text/x-python",
   "name": "python",
   "nbconvert_exporter": "python",
   "pygments_lexer": "ipython3",
   "version": "3.10.14"
  }
 },
 "nbformat": 4,
 "nbformat_minor": 5
}
