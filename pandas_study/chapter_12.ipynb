{
 "cells": [
  {
   "cell_type": "code",
   "execution_count": 1,
   "id": "6255314f-f989-4f29-8fdf-8bce86c4c83d",
   "metadata": {},
   "outputs": [],
   "source": [
    "# импортируем библиотеки numpy и pandas\n",
    "import pandas as pd\n",
    "import numpy as np\n",
    "\n",
    "# импортируем библиотеку datetime для работы с датами\n",
    "from datetime import datetime, date\n",
    "\n",
    "# Задаем некоторые опции библиотеки pandas, которые настраивают вывод\n",
    "pd.set_option('display.notebook_repr_html', False)\n",
    "pd.set_option('display.max_columns', 10) \n",
    "pd.set_option('display.max_rows', 15)\n",
    "pd.set_option('display.width', 90)\n",
    "\n",
    "# импортируем библиотеку matplotlib для построения графиков\n",
    "import matplotlib.pyplot as plt\n",
    "%matplotlib inline"
   ]
  },
  {
   "cell_type": "code",
   "execution_count": 2,
   "id": "8d78536e-16ee-430f-b7c3-ef78c3423141",
   "metadata": {},
   "outputs": [
    {
     "data": {
      "text/plain": [
       "   interval sensor axis  reading\n",
       "0         0  accel    Z      0.0\n",
       "1         0  accel    Y      0.5\n",
       "2         0  accel    X      1.0\n",
       "3         1  accel    Z      0.1\n",
       "4         1  accel    Y      0.4"
      ]
     },
     "execution_count": 2,
     "metadata": {},
     "output_type": "execute_result"
    }
   ],
   "source": [
    "# загружаем данные датчиков\n",
    "sensor_data = pd.read_csv('Notebooks/Data/sensors.csv')\n",
    "sensor_data.head()"
   ]
  },
  {
   "cell_type": "markdown",
   "id": "b034d665-5264-449a-9245-8f7945322403",
   "metadata": {},
   "source": [
    "#### Группировка по значениям отдельного столбца"
   ]
  },
  {
   "cell_type": "code",
   "execution_count": 3,
   "id": "91addf87-6534-4e51-9741-3a1c3bd70e4a",
   "metadata": {},
   "outputs": [
    {
     "data": {
      "text/plain": [
       "<pandas.core.groupby.generic.DataFrameGroupBy object at 0x7fd2e794a4d0>"
      ]
     },
     "execution_count": 3,
     "metadata": {},
     "output_type": "execute_result"
    }
   ],
   "source": [
    "# группировка этих данных по столбцу/переменной sensor возвращает объект DataFrameGroupBy\n",
    "grouped_by_sensor = sensor_data.groupby(['sensor'])\n",
    "grouped_by_sensor"
   ]
  },
  {
   "cell_type": "code",
   "execution_count": 4,
   "id": "b2ba6153-9624-44be-b1ef-1013597df0bd",
   "metadata": {},
   "outputs": [
    {
     "data": {
      "text/plain": [
       "2"
      ]
     },
     "execution_count": 4,
     "metadata": {},
     "output_type": "execute_result"
    }
   ],
   "source": [
    "# получаем информацию о количестве групп, которые будут созданы\n",
    "grouped_by_sensor.ngroups"
   ]
  },
  {
   "cell_type": "markdown",
   "id": "5d9d65b4-a78f-4498-a400-d5e5d1ae31d1",
   "metadata": {},
   "source": [
    "Свойство **.groups** вернет питоновский словарь, ключи которого будут представлять имена каждой группы (если указано несколько столбцов, это будет кортеж).\n",
    "Значения в словаре – это массив **индексных меток**, принадлежащих каждой соответствующей группе"
   ]
  },
  {
   "cell_type": "code",
   "execution_count": 5,
   "id": "c73dd0fc-088d-4b1e-8ecc-c857c0202a2a",
   "metadata": {},
   "outputs": [
    {
     "data": {
      "text/plain": [
       "{'accel': [0, 1, 2, 3, 4, 5, 6, 7, 8, 9, 10, 11], 'orientation': [12, 13, 14, 15, 16, 17, 18, 19, 20, 21, 22, 23]}"
      ]
     },
     "execution_count": 5,
     "metadata": {},
     "output_type": "execute_result"
    }
   ],
   "source": [
    "# что представляют из себя найденные группы?\n",
    "grouped_by_sensor.groups"
   ]
  },
  {
   "cell_type": "markdown",
   "id": "56f7b187-bd26-4c54-a6a4-01e89640b8a2",
   "metadata": {},
   "source": [
    "#### Просмотр результатов группировки\n",
    "Сгруппированную переменную можно рассматривать как набор поименованных\n",
    "групп, и ее можно использовать для просмотра содержимого групп."
   ]
  },
  {
   "cell_type": "code",
   "execution_count": 6,
   "id": "c9e436bb-4f32-42d8-bd05-c453c993c962",
   "metadata": {},
   "outputs": [
    {
     "name": "stdout",
     "output_type": "stream",
     "text": [
      "('accel',)\n",
      "   interval sensor axis  reading\n",
      "0         0  accel    Z      0.0\n",
      "1         0  accel    Y      0.5\n",
      "2         0  accel    X      1.0\n",
      "3         1  accel    Z      0.1\n",
      "4         1  accel    Y      0.4\n",
      "('orientation',)\n",
      "    interval       sensor axis  reading\n",
      "12         0  orientation    Z      0.0\n",
      "13         0  orientation    Y      0.1\n",
      "14         0  orientation    X      0.0\n",
      "15         1  orientation    Z      0.0\n",
      "16         1  orientation    Y      0.2\n"
     ]
    }
   ],
   "source": [
    "# вспомогательная функция, печатающая содержимое групп\n",
    "def print_groups(group_object):\n",
    "    # итерируем по всем группам, печатая название группы и первые пять наблюдений в группе\n",
    "    for name, group in group_object:\n",
    "        print(name)\n",
    "        print(group[:5])\n",
    "        \n",
    "# смотрим содержимое созданных групп\n",
    "print_groups(grouped_by_sensor)"
   ]
  },
  {
   "cell_type": "code",
   "execution_count": 7,
   "id": "6443d890-e56b-4cf0-a10b-fb88996b44ac",
   "metadata": {},
   "outputs": [
    {
     "data": {
      "text/plain": [
       "sensor\n",
       "accel          12\n",
       "orientation    12\n",
       "dtype: int64"
      ]
     },
     "execution_count": 7,
     "metadata": {},
     "output_type": "execute_result"
    }
   ],
   "source": [
    "# получаем информацию о количестве элементов в каждой группе\n",
    "grouped_by_sensor.size()"
   ]
  },
  {
   "cell_type": "code",
   "execution_count": 8,
   "id": "903dfc92-00e4-4f41-9f92-4d393fd8104c",
   "metadata": {},
   "outputs": [
    {
     "data": {
      "text/plain": [
       "             interval  axis  reading\n",
       "sensor                              \n",
       "accel              12    12       12\n",
       "orientation        12    12       12"
      ]
     },
     "execution_count": 8,
     "metadata": {},
     "output_type": "execute_result"
    }
   ],
   "source": [
    "# получаем информацию о количестве элементов в каждом столбце каждой группы\n",
    "grouped_by_sensor.count()"
   ]
  },
  {
   "cell_type": "code",
   "execution_count": 9,
   "id": "294eb114-1a14-4072-9ee4-945a35b02de3",
   "metadata": {},
   "outputs": [
    {
     "data": {
      "text/plain": [
       "   interval sensor axis  reading\n",
       "0         0  accel    Z      0.0\n",
       "1         0  accel    Y      0.5\n",
       "2         0  accel    X      1.0\n",
       "3         1  accel    Z      0.1\n",
       "4         1  accel    Y      0.4"
      ]
     },
     "execution_count": 9,
     "metadata": {},
     "output_type": "execute_result"
    }
   ],
   "source": [
    "# получаем данные конкретной группы\n",
    "grouped_by_sensor.get_group(('accel',))[:5]"
   ]
  },
  {
   "cell_type": "code",
   "execution_count": 10,
   "id": "1631d674-5f4a-42d2-8b70-ec1d82987ce6",
   "metadata": {},
   "outputs": [
    {
     "data": {
      "text/plain": [
       "    interval       sensor axis  reading\n",
       "0          0        accel    Z      0.0\n",
       "1          0        accel    Y      0.5\n",
       "2          0        accel    X      1.0\n",
       "12         0  orientation    Z      0.0\n",
       "13         0  orientation    Y      0.1\n",
       "14         0  orientation    X      0.0"
      ]
     },
     "execution_count": 10,
     "metadata": {},
     "output_type": "execute_result"
    }
   ],
   "source": [
    "# извлекаем первые три строки в КАЖДОЙ группе\n",
    "grouped_by_sensor.head(3)"
   ]
  },
  {
   "cell_type": "code",
   "execution_count": 11,
   "id": "de7dff64-7ded-4e27-87b8-d68665703e6e",
   "metadata": {},
   "outputs": [
    {
     "data": {
      "text/plain": [
       "    interval       sensor axis  reading\n",
       "1          0        accel    Y      0.5\n",
       "13         0  orientation    Y      0.1"
      ]
     },
     "execution_count": 11,
     "metadata": {},
     "output_type": "execute_result"
    }
   ],
   "source": [
    "# извлекаем вторую строку КАЖДОЙ группы\n",
    "grouped_by_sensor.nth(1)"
   ]
  },
  {
   "cell_type": "code",
   "execution_count": 12,
   "id": "46957bc4-2be1-4903-b163-df6df269f410",
   "metadata": {},
   "outputs": [
    {
     "data": {
      "text/plain": [
       "            interval                            ... reading                       \n",
       "               count mean       std  min   25%  ...     min  25%   50%    75%  max\n",
       "sensor                                          ...                               \n",
       "accel           12.0  1.5  1.167748  0.0  0.75  ...     0.0  0.2  0.35  0.725  1.0\n",
       "orientation     12.0  1.5  1.167748  0.0  0.75  ...     0.0  0.0  0.10  0.225  0.4\n",
       "\n",
       "[2 rows x 16 columns]"
      ]
     },
     "execution_count": 12,
     "metadata": {},
     "output_type": "execute_result"
    }
   ],
   "source": [
    "# получаем описательные статистики по каждой группе\n",
    "grouped_by_sensor.describe()"
   ]
  },
  {
   "cell_type": "markdown",
   "id": "4fb106de-94f7-46b5-b63f-8d48c52db8ba",
   "metadata": {},
   "source": [
    "#### Группировка по нескольким столбцам"
   ]
  },
  {
   "cell_type": "code",
   "execution_count": 13,
   "id": "91abf380-1d1e-4e62-b3e7-c89dc30782ae",
   "metadata": {},
   "outputs": [
    {
     "name": "stdout",
     "output_type": "stream",
     "text": [
      "('accel', 'X')\n",
      "    interval sensor axis  reading\n",
      "2          0  accel    X      1.0\n",
      "5          1  accel    X      0.9\n",
      "8          2  accel    X      0.8\n",
      "11         3  accel    X      0.7\n",
      "('accel', 'Y')\n",
      "    interval sensor axis  reading\n",
      "1          0  accel    Y      0.5\n",
      "4          1  accel    Y      0.4\n",
      "7          2  accel    Y      0.3\n",
      "10         3  accel    Y      0.2\n",
      "('accel', 'Z')\n",
      "   interval sensor axis  reading\n",
      "0         0  accel    Z      0.0\n",
      "3         1  accel    Z      0.1\n",
      "6         2  accel    Z      0.2\n",
      "9         3  accel    Z      0.3\n",
      "('orientation', 'X')\n",
      "    interval       sensor axis  reading\n",
      "14         0  orientation    X      0.0\n",
      "17         1  orientation    X      0.1\n",
      "20         2  orientation    X      0.2\n",
      "23         3  orientation    X      0.3\n",
      "('orientation', 'Y')\n",
      "    interval       sensor axis  reading\n",
      "13         0  orientation    Y      0.1\n",
      "16         1  orientation    Y      0.2\n",
      "19         2  orientation    Y      0.3\n",
      "22         3  orientation    Y      0.4\n",
      "('orientation', 'Z')\n",
      "    interval       sensor axis  reading\n",
      "12         0  orientation    Z      0.0\n",
      "15         1  orientation    Z      0.0\n",
      "18         2  orientation    Z      0.0\n",
      "21         3  orientation    Z      0.0\n"
     ]
    }
   ],
   "source": [
    "# группируем по значениям столбцов sensor и axis\n",
    "mcg = sensor_data.groupby(['sensor', 'axis'])\n",
    "print_groups(mcg)"
   ]
  },
  {
   "cell_type": "markdown",
   "id": "e7316112-fd01-4dc0-b8fa-bacdb5593361",
   "metadata": {},
   "source": [
    "#### Группировка по уровням индекса\n",
    "Группировку можно выполнить, используя вместо столбцов значения индекса."
   ]
  },
  {
   "cell_type": "code",
   "execution_count": 14,
   "id": "2dbba069-7f57-41fd-99dd-e21c07c0595d",
   "metadata": {},
   "outputs": [
    {
     "data": {
      "text/plain": [
       "                  interval  reading\n",
       "sensor      axis                   \n",
       "accel       Z            0      0.0\n",
       "            Y            0      0.5\n",
       "            X            0      1.0\n",
       "            Z            1      0.1\n",
       "            Y            1      0.4\n",
       "...                    ...      ...\n",
       "orientation Y            2      0.3\n",
       "            X            2      0.2\n",
       "            Z            3      0.0\n",
       "            Y            3      0.4\n",
       "            X            3      0.3\n",
       "\n",
       "[24 rows x 2 columns]"
      ]
     },
     "execution_count": 14,
     "metadata": {},
     "output_type": "execute_result"
    }
   ],
   "source": [
    "# создаем копию данных и заново ПЕРЕСОЗДАДИМ ИНДЕКС\n",
    "mi = sensor_data.copy()\n",
    "mi = mi.set_index(['sensor', 'axis'])\n",
    "mi"
   ]
  },
  {
   "cell_type": "markdown",
   "id": "0747702a-80c3-4f44-a98d-8be0e365e885",
   "metadata": {},
   "source": [
    "Теперь можно выполнить группировку по различным уровням иерархического\n",
    "индекса. "
   ]
  },
  {
   "cell_type": "code",
   "execution_count": 15,
   "id": "ad6f5ded-d022-4baf-b985-5a89dadaad1c",
   "metadata": {},
   "outputs": [
    {
     "name": "stdout",
     "output_type": "stream",
     "text": [
      "accel\n",
      "             interval  reading\n",
      "sensor axis                   \n",
      "accel  Z            0      0.0\n",
      "       Y            0      0.5\n",
      "       X            0      1.0\n",
      "       Z            1      0.1\n",
      "       Y            1      0.4\n",
      "orientation\n",
      "                  interval  reading\n",
      "sensor      axis                   \n",
      "orientation Z            0      0.0\n",
      "            Y            0      0.1\n",
      "            X            0      0.0\n",
      "            Z            1      0.0\n",
      "            Y            1      0.2\n"
     ]
    }
   ],
   "source": [
    "# группируем по первому уровню индекса\n",
    "grb_l0 = mi.groupby(level=0)\n",
    "print_groups(grb_l0)"
   ]
  },
  {
   "cell_type": "markdown",
   "id": "0d026bf9-c49a-4cd6-befb-aa4dc89af1dc",
   "metadata": {},
   "source": [
    "Группировку по нескольким уровням можно выполнить, передав список уровней. Если у каждого уровня MultiIndex есть имена, то их можно использовать вместо целочисленных значений. "
   ]
  },
  {
   "cell_type": "code",
   "execution_count": 16,
   "id": "4f8baf89-3be7-46bc-9d26-83cb8455e03e",
   "metadata": {},
   "outputs": [
    {
     "name": "stdout",
     "output_type": "stream",
     "text": [
      "('accel', 'X')\n",
      "             interval  reading\n",
      "sensor axis                   \n",
      "accel  X            0      1.0\n",
      "       X            1      0.9\n",
      "       X            2      0.8\n",
      "       X            3      0.7\n",
      "('accel', 'Y')\n",
      "             interval  reading\n",
      "sensor axis                   \n",
      "accel  Y            0      0.5\n",
      "       Y            1      0.4\n",
      "       Y            2      0.3\n",
      "       Y            3      0.2\n",
      "('accel', 'Z')\n",
      "             interval  reading\n",
      "sensor axis                   \n",
      "accel  Z            0      0.0\n",
      "       Z            1      0.1\n",
      "       Z            2      0.2\n",
      "       Z            3      0.3\n",
      "('orientation', 'X')\n",
      "                  interval  reading\n",
      "sensor      axis                   \n",
      "orientation X            0      0.0\n",
      "            X            1      0.1\n",
      "            X            2      0.2\n",
      "            X            3      0.3\n",
      "('orientation', 'Y')\n",
      "                  interval  reading\n",
      "sensor      axis                   \n",
      "orientation Y            0      0.1\n",
      "            Y            1      0.2\n",
      "            Y            2      0.3\n",
      "            Y            3      0.4\n",
      "('orientation', 'Z')\n",
      "                  interval  reading\n",
      "sensor      axis                   \n",
      "orientation Z            0      0.0\n",
      "            Z            1      0.0\n",
      "            Z            2      0.0\n",
      "            Z            3      0.0\n"
     ]
    }
   ],
   "source": [
    "# группируем по нескольким уровням индекса\n",
    "print_groups(mi.groupby(level=['sensor', 'axis']))"
   ]
  },
  {
   "cell_type": "markdown",
   "id": "25025790-fe5d-48c6-9054-070cc8db4b81",
   "metadata": {},
   "source": [
    "#### Применение агрегирующих функций к группам\n",
    "Агрегирующие функции можно применить к каждой группе с помощью метода\n",
    "**.aggregate()** (или более короткого **.agg()**) объекта GroupBy. Параметр **.agg()** – это\n",
    "ссылка на функцию, которая будет применяться к каждой группе. В случае с объектом DataFrame эта функция будет применяться к каждому столбцу данных внутри\n",
    "группы."
   ]
  },
  {
   "cell_type": "code",
   "execution_count": 17,
   "id": "f390f261-4ba5-41c8-86d7-7038de7b6379",
   "metadata": {},
   "outputs": [
    {
     "data": {
      "text/plain": [
       "(                  interval  reading\n",
       " sensor      axis                   \n",
       " accel       X          1.5     0.85\n",
       "             Y          1.5     0.35\n",
       "             Z          1.5     0.15\n",
       " orientation X          1.5     0.15\n",
       "             Y          1.5     0.25\n",
       "             Z          1.5     0.00,\n",
       "                   interval  reading\n",
       " sensor      axis                   \n",
       " accel       X          1.5     0.85\n",
       "             Y          1.5     0.35\n",
       "             Z          1.5     0.15\n",
       " orientation X          1.5     0.15\n",
       "             Y          1.5     0.25\n",
       "             Z          1.5     0.00)"
      ]
     },
     "execution_count": 17,
     "metadata": {},
     "output_type": "execute_result"
    }
   ],
   "source": [
    "# вычисляем среднее для каждого сенсора/оси\n",
    "sensor_axis_grouping = mi.groupby(level=['sensor', 'axis'])\n",
    "sensor_axis_grouping.agg('mean'), sensor_axis_grouping.mean()"
   ]
  },
  {
   "cell_type": "markdown",
   "id": "e1ee20ad-2d96-4b85-95ba-1257b8b90ccd",
   "metadata": {},
   "source": [
    "**Результат агрегации получит идентично структурированный индекс**, что и исходные данные.\n",
    "Для создания числового индекса и переноса уровней исходного\n",
    "индекса в столбцы можно воспользоваться параметром **as_index=False**"
   ]
  },
  {
   "cell_type": "code",
   "execution_count": 18,
   "id": "a61ebd02-2cdf-40d8-bf5f-2ebd273ef5a5",
   "metadata": {},
   "outputs": [
    {
     "data": {
      "text/plain": [
       "        sensor axis  interval  reading\n",
       "0        accel    X       1.5     0.85\n",
       "1        accel    Y       1.5     0.35\n",
       "2        accel    Z       1.5     0.15\n",
       "3  orientation    X       1.5     0.15\n",
       "4  orientation    Y       1.5     0.25\n",
       "5  orientation    Z       1.5     0.00"
      ]
     },
     "execution_count": 18,
     "metadata": {},
     "output_type": "execute_result"
    }
   ],
   "source": [
    "# вместо индекса, совпадающего с индексом исходного объекта,\n",
    "# создаем числовой индекс и переносим уровни исходного индекса в столбцы\n",
    "sensor_data.groupby(['sensor', 'axis'], as_index=False).agg('mean')"
   ]
  },
  {
   "cell_type": "code",
   "execution_count": 19,
   "id": "577b7d1c-8205-4a74-8bde-32f9fdccc3c4",
   "metadata": {},
   "outputs": [
    {
     "data": {
      "text/plain": [
       "                 interval           reading          \n",
       "                      sum       std     sum       std\n",
       "sensor      axis                                     \n",
       "accel       X           6  1.290994     3.4  0.129099\n",
       "            Y           6  1.290994     1.4  0.129099\n",
       "            Z           6  1.290994     0.6  0.129099\n",
       "orientation X           6  1.290994     0.6  0.129099\n",
       "            Y           6  1.290994     1.0  0.129099\n",
       "            Z           6  1.290994     0.0  0.000000"
      ]
     },
     "execution_count": 19,
     "metadata": {},
     "output_type": "execute_result"
    }
   ],
   "source": [
    "# применяем сразу несколько агрегирующих функций\n",
    "sensor_axis_grouping.agg(['sum', 'std'])"
   ]
  },
  {
   "cell_type": "code",
   "execution_count": 20,
   "id": "52c85f50-8235-4d77-9292-fe9576895669",
   "metadata": {},
   "outputs": [
    {
     "data": {
      "text/plain": [
       "                  interval  reading\n",
       "sensor      axis                   \n",
       "accel       X            4     0.85\n",
       "            Y            4     0.35\n",
       "            Z            4     0.15\n",
       "orientation X            4     0.15\n",
       "            Y            4     0.25\n",
       "            Z            4     0.00"
      ]
     },
     "execution_count": 20,
     "metadata": {},
     "output_type": "execute_result"
    }
   ],
   "source": [
    "# применяем к каждому столбцу свою функцию\n",
    "sensor_axis_grouping.agg({\n",
    "    'interval': len,\n",
    "    'reading': 'mean'\n",
    "    }\n",
    ")"
   ]
  },
  {
   "cell_type": "markdown",
   "id": "322aa8b5-d799-424e-af42-b310bfb9c264",
   "metadata": {},
   "source": [
    "Еще агрегирование можно применить к определенным столбцам с помощью\n",
    "оператора [] объекта GroupBy"
   ]
  },
  {
   "cell_type": "code",
   "execution_count": 21,
   "id": "86615d24-fd56-4050-8abc-61f254a7c7f5",
   "metadata": {},
   "outputs": [
    {
     "data": {
      "text/plain": [
       "sensor       axis\n",
       "accel        X       0.85\n",
       "             Y       0.35\n",
       "             Z       0.15\n",
       "orientation  X       0.15\n",
       "             Y       0.25\n",
       "             Z       0.00\n",
       "Name: reading, dtype: float64"
      ]
     },
     "execution_count": 21,
     "metadata": {},
     "output_type": "execute_result"
    }
   ],
   "source": [
    "# вычисляем среднее только для столбца reading\n",
    "sensor_axis_grouping['reading'].mean()"
   ]
  },
  {
   "cell_type": "markdown",
   "id": "9d0593ef-666b-4253-b65e-5f5b3fd5b7e1",
   "metadata": {},
   "source": [
    "#### Преобразование групп данных\n",
    "Объект GroupBy предлагает метод **.transform()**, который применяет ту или иную\n",
    "функцию ко всем значениям объекта DataFrame в каждой группе."
   ]
  },
  {
   "cell_type": "markdown",
   "id": "f328a110-fa94-4bfc-a8e9-70e7d3ba07e7",
   "metadata": {},
   "source": [
    "#### Общий процесс преобразования\n",
    "Метод **.transform()** <u>объекта GroupBy</u> применяет функцию к каждому значению объекта DataFrame и возвращает другой объект DataFrame, который имеет следующие характеристики:\n",
    "- он идентично проиндексирован, чтобы выполнить конкатенацию индексов во всех группах;\n",
    "- количество строк равно количеству строк, просуммированному по всем группам;\n",
    "- он состоит из несгруппированных столбцов, к которым библиотека pandas успешно применила заданную функцию (некоторые столбцы могут быть исключены)."
   ]
  },
  {
   "cell_type": "code",
   "execution_count": 22,
   "id": "2864d587-a72e-4d2a-b4dc-a61ede47ede0",
   "metadata": {},
   "outputs": [
    {
     "data": {
      "text/plain": [
       "  Label  Values  Values2 Other\n",
       "V     A       0        5   foo\n",
       "W     C       1        6   bar\n",
       "X     B       2        7   baz\n",
       "Y     A       3        8   fiz\n",
       "Z     C       4        9   buz"
      ]
     },
     "execution_count": 22,
     "metadata": {},
     "output_type": "execute_result"
    }
   ],
   "source": [
    "# создаем объект DataFrame, который будем использовать в примерах\n",
    "transform_data = pd.DataFrame({\n",
    "    'Label': ['A', 'C', 'B', 'A', 'C'],\n",
    "    'Values': [0, 1, 2, 3, 4],\n",
    "    'Values2': [5, 6, 7, 8, 9],\n",
    "    'Other': ['foo', 'bar', 'baz', 'fiz', 'buz']},\n",
    "    index = list('VWXYZ')\n",
    ")\n",
    "transform_data"
   ]
  },
  {
   "cell_type": "code",
   "execution_count": 23,
   "id": "df16a0c2-02da-4e35-9789-9caef22a9095",
   "metadata": {},
   "outputs": [
    {
     "name": "stdout",
     "output_type": "stream",
     "text": [
      "A\n",
      "  Label  Values  Values2 Other\n",
      "V     A       0        5   foo\n",
      "Y     A       3        8   fiz\n",
      "B\n",
      "  Label  Values  Values2 Other\n",
      "X     B       2        7   baz\n",
      "C\n",
      "  Label  Values  Values2 Other\n",
      "W     C       1        6   bar\n",
      "Z     C       4        9   buz\n"
     ]
    },
    {
     "data": {
      "text/plain": [
       "(None, {'A': ['V', 'Y'], 'B': ['X'], 'C': ['W', 'Z']})"
      ]
     },
     "execution_count": 23,
     "metadata": {},
     "output_type": "execute_result"
    }
   ],
   "source": [
    "# сгруппируем по столбцу Label\n",
    "grouped_by_label = transform_data.groupby('Label')\n",
    "print_groups(grouped_by_label), grouped_by_label.groups"
   ]
  },
  {
   "cell_type": "code",
   "execution_count": 24,
   "id": "6f1949d5-0de6-4b5c-8a57-fc3942b9e8cd",
   "metadata": {},
   "outputs": [
    {
     "data": {
      "text/plain": [
       "   Values  Values2\n",
       "V      10       15\n",
       "W      11       16\n",
       "X      12       17\n",
       "Y      13       18\n",
       "Z      14       19"
      ]
     },
     "execution_count": 24,
     "metadata": {},
     "output_type": "execute_result"
    }
   ],
   "source": [
    "# добавляем 10 ко всем значениям во всех столбцах\n",
    "grouped_by_label[['Values', 'Values2']].transform(lambda x: x + 10)"
   ]
  },
  {
   "cell_type": "markdown",
   "id": "e40e63c6-109c-4b0a-9833-5a3c32b15604",
   "metadata": {},
   "source": [
    "#### Заполнение пропущенных значений групповым средним\n",
    "В статистическом анализе довольно распространенный вид преобразования, использующий сгруппированные данные, – это замена пропущенных данных в каждой группе групповым средним (рассчитывается на основе непропущенных значений)."
   ]
  },
  {
   "cell_type": "code",
   "execution_count": 25,
   "id": "0ccdd7df-9e00-4f6f-9506-a520cdc88606",
   "metadata": {},
   "outputs": [
    {
     "name": "stdout",
     "output_type": "stream",
     "text": [
      "A\n",
      "  Label  Values\n",
      "0     A    10.0\n",
      "2     A    11.0\n",
      "4     A    12.0\n",
      "B\n",
      "  Label  Values\n",
      "1     B    20.0\n",
      "3     B     NaN\n",
      "5     B    22.0\n"
     ]
    }
   ],
   "source": [
    "# создаем данные, чтобы продемонстрировать способ замены пропусков\n",
    "df = pd.DataFrame({\n",
    "    'Label': list('ABABAB'),\n",
    "    'Values': [10, 20, 11, np.nan, 12, 22]\n",
    "})\n",
    "grouped = df.groupby('Label')\n",
    "print_groups(grouped)"
   ]
  },
  {
   "cell_type": "code",
   "execution_count": 26,
   "id": "044a7843-8e32-4aa9-a3ee-0a9f3bb1cc6d",
   "metadata": {},
   "outputs": [
    {
     "data": {
      "text/plain": [
       "       Values\n",
       "Label        \n",
       "A        11.0\n",
       "B        21.0"
      ]
     },
     "execution_count": 26,
     "metadata": {},
     "output_type": "execute_result"
    }
   ],
   "source": [
    "# вычисляем среднее для каждой группы\n",
    "grouped.mean()"
   ]
  },
  {
   "cell_type": "markdown",
   "id": "d5b8e7f6-52d9-499b-8a0b-f4fafa533d22",
   "metadata": {},
   "source": [
    "Теперь предположим, что вам нужно заполнить все значения NaN в группе B, потому что затем в ходе выполнения других операций могут возникнуть трудности при обработке значений NaN."
   ]
  },
  {
   "cell_type": "code",
   "execution_count": 27,
   "id": "4999f99b-25bb-4c29-adfe-175bd469c32f",
   "metadata": {},
   "outputs": [
    {
     "data": {
      "text/plain": [
       "(   Values\n",
       " 0    10.0\n",
       " 1    20.0\n",
       " 2    11.0\n",
       " 3    21.0\n",
       " 4    12.0\n",
       " 5    22.0,\n",
       "    Values\n",
       " 0    10.0\n",
       " 1    20.0\n",
       " 2    11.0\n",
       " 3    21.0\n",
       " 4    12.0\n",
       " 5    22.0)"
      ]
     },
     "execution_count": 27,
     "metadata": {},
     "output_type": "execute_result"
    }
   ],
   "source": [
    "# используем метод .transform(), чтобы заполнить значения NaN групповым средним\n",
    "def fillna_x(x):\n",
    "    return x.fillna(x.mean())\n",
    "\n",
    "filled_NaNs = grouped.transform(lambda x: x.fillna(x.mean()))\n",
    "filled_NaNs_x = grouped.transform(fillna_x)\n",
    "filled_NaNs, filled_NaNs_x"
   ]
  },
  {
   "cell_type": "markdown",
   "id": "1421de63-363f-4c0d-af82-e262601ddc10",
   "metadata": {},
   "source": [
    "#### Вычисление нормализованных z-значений с помощью преобразования\n",
    "\n",
    "Еще один распространенный вид преобразования – вычисление нормализованных z-значений по группам данных. Для иллюстрации мы возьмем сгенерированный случайным образом ряд значений, используя нормальное распределение со средним значением 0,5 и стандартным отклонением 2.\n",
    "Данные индексируются по дням, и на основе 100-дневного окна вычисляется скользящее среднее для\n",
    "каждого значения"
   ]
  },
  {
   "cell_type": "code",
   "execution_count": 28,
   "id": "ff97db33-f7e6-4b25-8342-562d9ebaa164",
   "metadata": {},
   "outputs": [
    {
     "data": {
      "text/plain": [
       "2013-04-10    0.073603\n",
       "2013-04-11    0.057313\n",
       "2013-04-12    0.089255\n",
       "2013-04-13    0.133248\n",
       "2013-04-14    0.175876\n",
       "Freq: D, dtype: float64"
      ]
     },
     "execution_count": 28,
     "metadata": {},
     "output_type": "execute_result"
    }
   ],
   "source": [
    "# генерируем временной ряд со скользящими средними\n",
    "np.random.seed(123456)\n",
    "data = pd.Series(np.random.normal(0.5, 2, 365 * 3),\n",
    "                pd.date_range('2013-01-01', periods=365 * 3))\n",
    "periods = 100\n",
    "\n",
    "rolling = data.rolling(\n",
    "    window = periods,\n",
    "    min_periods = periods,\n",
    "    center = False\n",
    ").mean().dropna()\n",
    "\n",
    "rolling[:5]"
   ]
  },
  {
   "cell_type": "code",
   "execution_count": 29,
   "id": "cfc62789-f8b0-4b38-be4a-d51b677e51c9",
   "metadata": {},
   "outputs": [
    {
     "data": {
      "text/plain": [
       "<Axes: >"
      ]
     },
     "execution_count": 29,
     "metadata": {},
     "output_type": "execute_result"
    },
    {
     "data": {
      "image/png": "[encoded data removed]",
      "text/plain": [
       "<Figure size 640x480 with 1 Axes>"
      ]
     },
     "metadata": {},
     "output_type": "display_data"
    }
   ],
   "source": [
    "# визуализируем ряд\n",
    "rolling.plot()"
   ]
  },
  {
   "cell_type": "code",
   "execution_count": 34,
   "id": "d1d0df38-f486-4e24-a7c3-8a0f80efb883",
   "metadata": {
    "scrolled": true
   },
   "outputs": [
    {
     "data": {
      "text/plain": [
       "          mean       std\n",
       "2013  0.454233  0.171988\n",
       "2014  0.286502  0.182040\n",
       "2015  0.599447  0.275786"
      ]
     },
     "execution_count": 34,
     "metadata": {},
     "output_type": "execute_result"
    }
   ],
   "source": [
    "# вычисляем среднее и стандартное отклонение по каждому году\n",
    "\n",
    "# мы берем свойство x.year так как это свойство элемена индекса нашей серии.\n",
    "# в документации написано, что если мы используем groupby для Series и первый параметр (by)\n",
    "# является функция, то она применяется для каждого элемента индекса. (это можно проверив\n",
    "# через вызов dir(rolling.index[0]))\n",
    "group_key = lambda x: x.year\n",
    "def group_key_debug(x):\n",
    "    return x.year\n",
    "\n",
    "# groups = rolling.groupby(group_key)\n",
    "groups = rolling.groupby(group_key_debug)\n",
    "groups.agg(['mean', 'std'])"
   ]
  },
  {
   "cell_type": "markdown",
   "id": "f3a2ce4b-ba20-4d3b-96fd-d8c3a576db1d",
   "metadata": {},
   "source": [
    "Для выполнения стандартизации следующий программный код задает функцию, вычисляющую z-значения, применяет ее в качестве преобразования к каждой группе и сообщает о новом среднем значении и новом стандартном отклонении"
   ]
  },
  {
   "cell_type": "code",
   "execution_count": 35,
   "id": "282413af-d93d-4eff-acc3-9d8b1430bd77",
   "metadata": {},
   "outputs": [
    {
     "data": {
      "text/plain": [
       "              mean  std\n",
       "2013  2.237141e-16  1.0\n",
       "2014 -2.223488e-16  1.0\n",
       "2015  3.205959e-16  1.0"
      ]
     },
     "execution_count": 35,
     "metadata": {},
     "output_type": "execute_result"
    }
   ],
   "source": [
    "# выполняем z-преобразование\n",
    "z_score = lambda x: (x - x.mean()) / x.std()\n",
    "normed = rolling.groupby(group_key).transform(z_score)\n",
    "normed.groupby(group_key).agg(['mean', 'std'])"
   ]
  },
  {
   "cell_type": "code",
   "execution_count": 36,
   "id": "ec6d5cc3-8ad6-4896-b81f-452a3f890845",
   "metadata": {},
   "outputs": [
    {
     "data": {
      "text/plain": [
       "<Axes: >"
      ]
     },
     "execution_count": 36,
     "metadata": {},
     "output_type": "execute_result"
    },
    {
     "data": {
      "image/png": "[encoded data removed]",
      "text/plain": [
       "<Figure size 640x480 with 1 Axes>"
      ]
     },
     "metadata": {},
     "output_type": "display_data"
    }
   ],
   "source": [
    "# визуализируем исходные и стандартизированные данные\n",
    "compared = pd.DataFrame({'original': rolling, 'normed': normed})\n",
    "compared.plot()"
   ]
  },
  {
   "cell_type": "markdown",
   "id": "4e525395-dda5-41a7-a083-cf38de4ecf65",
   "metadata": {},
   "source": [
    "#### Исключение групп из процедуры агрегирования\n",
    "С помощью метода **.filter()** можно выборочно удалить группы данных из обработки. В этот метод передают функцию, с помощью которой по каждой группе можно принять решение о включении данной группы в итоговый результат. Если функция возвращает значение True, группа включается в результат; если функция возвращает значение False, группа исключается."
   ]
  },
  {
   "cell_type": "code",
   "execution_count": 37,
   "id": "93b0649d-a2a0-4bf3-81ff-2abb8996638a",
   "metadata": {},
   "outputs": [
    {
     "data": {
      "text/plain": [
       "  labels  values\n",
       "0      A     1.0\n",
       "1      A     2.0\n",
       "2      B     3.0\n",
       "3      C     4.0\n",
       "4      C     NaN\n",
       "5      C     8.0"
      ]
     },
     "execution_count": 37,
     "metadata": {},
     "output_type": "execute_result"
    }
   ],
   "source": [
    "# создаем данные для наших примеров\n",
    "df = pd.DataFrame({\n",
    "    'labels': list('AABCCC'),\n",
    "    'values': [1, 2, 3, 4, np.nan, 8]\n",
    "})\n",
    "df"
   ]
  },
  {
   "cell_type": "markdown",
   "id": "72176c05-a1fc-4f11-baa4-e59854918a88",
   "metadata": {},
   "source": [
    "#### Исключение групп из процедуры агрегирования\n",
    "С помощью метода **.filter()** можно выборочно удалить группы данных из обработки. \n",
    "В этот метод передают функцию, с помощью которой по каждой группе\n",
    "можно принять решение о включении данной группы в итоговый результат.\n",
    "Если функция возвращает значение True, группа включается в результат; если функция\n",
    "возвращает значение False, группа исключается."
   ]
  },
  {
   "cell_type": "code",
   "execution_count": 38,
   "id": "b4850ea4-09ca-46ec-8917-ce691e5ffc14",
   "metadata": {},
   "outputs": [
    {
     "data": {
      "text/plain": [
       "  label  value\n",
       "0     A    1.0\n",
       "1     A    2.0\n",
       "2     B    3.0\n",
       "3     C    4.0\n",
       "4     C    NaN\n",
       "5     C    8.0"
      ]
     },
     "execution_count": 38,
     "metadata": {},
     "output_type": "execute_result"
    }
   ],
   "source": [
    "# создаем данные для наших примеров\n",
    "df = pd.DataFrame({\n",
    "    'label': list('AABCCC'),\n",
    "    'value': [1, 2, 3, 4, np.nan, 8]\n",
    "})\n",
    "df"
   ]
  },
  {
   "cell_type": "markdown",
   "id": "015b75e9-5cd7-4e59-8bd6-3d0cdfb28bd1",
   "metadata": {},
   "source": [
    "Сначала удалим группы, которые не соответствуют установленному минимуму элементов.\n",
    "В частности, удалим группы с одним непропущенным значением и меньше"
   ]
  },
  {
   "cell_type": "code",
   "execution_count": 39,
   "id": "e9fe827a-3242-427f-819f-a2ba25fefd6e",
   "metadata": {},
   "outputs": [
    {
     "data": {
      "text/plain": [
       "  label  value\n",
       "0     A    1.0\n",
       "1     A    2.0\n",
       "3     C    4.0\n",
       "4     C    NaN\n",
       "5     C    8.0"
      ]
     },
     "execution_count": 39,
     "metadata": {},
     "output_type": "execute_result"
    }
   ],
   "source": [
    "# берем группы с более чем одним элементом\n",
    "f = lambda x: x.value.count() > 1\n",
    "df.groupby('label').filter(f)"
   ]
  },
  {
   "cell_type": "code",
   "execution_count": 40,
   "id": "cfbe0e5f-c6d6-4e48-8cc9-1d4622a9c38b",
   "metadata": {},
   "outputs": [
    {
     "data": {
      "text/plain": [
       "  label  value\n",
       "0     A    1.0\n",
       "1     A    2.0\n",
       "2     B    3.0"
      ]
     },
     "execution_count": 40,
     "metadata": {},
     "output_type": "execute_result"
    }
   ],
   "source": [
    "# оставляем группы у которых нет ни одного пропущенного значения\n",
    "f = lambda x: x.value.isna().sum() == 0\n",
    "def f_debug (x):\n",
    "    # print(x.name)\n",
    "    return x.value.isna().sum() == 0\n",
    "\n",
    "grouped_l = df.groupby('label')\n",
    "grouped_l.filter(f_debug)"
   ]
  },
  {
   "cell_type": "code",
   "execution_count": 56,
   "id": "58eeebf2-e43a-4cbf-846d-c3400f563dec",
   "metadata": {},
   "outputs": [
    {
     "data": {
      "text/plain": [
       "  label  value\n",
       "3     C    4.0\n",
       "4     C    NaN\n",
       "5     C    8.0"
      ]
     },
     "execution_count": 56,
     "metadata": {},
     "output_type": "execute_result"
    }
   ],
   "source": [
    "# отбираем группы со средним 2.0 и выше\n",
    "grouped = df.groupby('label')\n",
    "group_mean = grouped.mean().mean() # среднее по всем группам\n",
    "f = lambda x: abs(x.value.mean() - group_mean) > 2.0\n",
    "df.groupby('label').filter(f)"
   ]
  }
 ],
 "metadata": {
  "kernelspec": {
   "display_name": "Python 3 (ipykernel)",
   "language": "python",
   "name": "python3"
  },
  "language_info": {
   "codemirror_mode": {
    "name": "ipython",
    "version": 3
   },
   "file_extension": ".py",
   "mimetype": "text/x-python",
   "name": "python",
   "nbconvert_exporter": "python",
   "pygments_lexer": "ipython3",
   "version": "3.10.14"
  }
 },
 "nbformat": 4,
 "nbformat_minor": 5
}
