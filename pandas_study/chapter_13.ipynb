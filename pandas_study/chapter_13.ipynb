{
 "cells": [
  {
   "cell_type": "code",
   "execution_count": 1,
   "id": "93d301e0-a5a4-49a4-9bb9-795717e0077d",
   "metadata": {},
   "outputs": [],
   "source": [
    "# импортируем библиотеки numpy и pandas\n",
    "import pandas as pd\n",
    "import numpy as np\n",
    "\n",
    "# импортируем библиотеку datetime для работы с датами\n",
    "from datetime import datetime, date\n",
    "\n",
    "# Задаем некоторые опции библиотеки pandas, которые настраивают вывод\n",
    "pd.set_option('display.notebook_repr_html', False)\n",
    "pd.set_option('display.max_columns', 10) \n",
    "pd.set_option('display.max_rows', 15)\n",
    "pd.set_option('display.width', 90)\n",
    "\n",
    "# импортируем библиотеку matplotlib для построения графиков\n",
    "import matplotlib.pyplot as plt\n",
    "%matplotlib inline"
   ]
  },
  {
   "cell_type": "markdown",
   "id": "9ae75af1-4b2c-438f-b28d-fe8e93468527",
   "metadata": {},
   "source": [
    "#### Объекты datetime, day и time"
   ]
  },
  {
   "cell_type": "code",
   "execution_count": 2,
   "id": "7df4e102-040a-4947-b09f-e93d30a44cbc",
   "metadata": {},
   "outputs": [
    {
     "data": {
      "text/plain": [
       "datetime.datetime(2014, 12, 15, 0, 0)"
      ]
     },
     "execution_count": 2,
     "metadata": {},
     "output_type": "execute_result"
    }
   ],
   "source": [
    "# объект datetime для 15 декабря 2014 года\n",
    "datetime(2014, 12, 15)"
   ]
  },
  {
   "cell_type": "code",
   "execution_count": 3,
   "id": "a216b0d2-a4e2-4e40-91b6-a106e112c20a",
   "metadata": {},
   "outputs": [
    {
     "data": {
      "text/plain": [
       "datetime.datetime(2014, 12, 15, 17, 30)"
      ]
     },
     "execution_count": 3,
     "metadata": {},
     "output_type": "execute_result"
    }
   ],
   "source": [
    "# задаем конкретную дату, а также время 17:30\n",
    "datetime(2014, 12, 15, 17, 30)"
   ]
  },
  {
   "cell_type": "code",
   "execution_count": 4,
   "id": "3491e7d8-b1d7-465e-8da1-11f23823d957",
   "metadata": {},
   "outputs": [
    {
     "data": {
      "text/plain": [
       "datetime.datetime(2025, 2, 13, 17, 19, 16, 376000)"
      ]
     },
     "execution_count": 4,
     "metadata": {},
     "output_type": "execute_result"
    }
   ],
   "source": [
    "# получаем текущие дату и время для местного часового пояса\n",
    "datetime.now()"
   ]
  },
  {
   "cell_type": "markdown",
   "id": "b8fad42b-2b56-4aae-a557-12e60ff8daa6",
   "metadata": {},
   "source": [
    "Объект **datetime.date** представляет определенный день без компонента времени.\n",
    "Его можно создать, **передав объект datetime** конструктору класса date"
   ]
  },
  {
   "cell_type": "code",
   "execution_count": 5,
   "id": "b05ce4d9-9395-4d6f-a80e-9bba36d2e565",
   "metadata": {},
   "outputs": [
    {
     "data": {
      "text/plain": [
       "datetime.date(2024, 11, 25)"
      ]
     },
     "execution_count": 5,
     "metadata": {},
     "output_type": "execute_result"
    }
   ],
   "source": [
    "# можно записать дату без компонента времени, создав дату с помощью объекта datetime\n",
    "datetime.date(datetime(2024, 11, 25))"
   ]
  },
  {
   "cell_type": "code",
   "execution_count": 6,
   "id": "e400d73c-f417-447a-abd8-135ab15df582",
   "metadata": {},
   "outputs": [
    {
     "data": {
      "text/plain": [
       "datetime.date(2025, 2, 13)"
      ]
     },
     "execution_count": 6,
     "metadata": {},
     "output_type": "execute_result"
    }
   ],
   "source": [
    "# просто извлекаем текущую дату\n",
    "datetime.now().date()"
   ]
  },
  {
   "cell_type": "markdown",
   "id": "48aaf186-b4cb-41dd-8c21-ad94de176acf",
   "metadata": {},
   "source": [
    "#### Создание временной метки с помощью объекта Timestamp\n",
    "\n",
    "В библиотеке pandas дату и время можно представить с помощью класса pandas.\n",
    "**tslib.Timestamp**. \n",
    "\n",
    "Объект библиотеки pandas Timestamp основан на типе NumPy date-time64 и имеет более высокую точность, чем питоновский объект datetime. **В библиотеке pandas объекты Timestamp и объекты datetime обычно взаимозаменяемы**, поэтому вы можете использовать объекты Timestamp везде, где можно применять объекты datetime.\n"
   ]
  },
  {
   "cell_type": "markdown",
   "id": "50466c7b-22ce-4b4b-9041-ef5945fb9b49",
   "metadata": {},
   "source": [
    "Вы можете создать объект Timestamp с помощью <mark>pd.Timestamp</mark> (ярлык для pandas.\n",
    "tslib.Timestamp), передав строку, представляющую дату, время или дату и время"
   ]
  },
  {
   "cell_type": "code",
   "execution_count": 7,
   "id": "4d247b4e-d300-47ca-84fa-e83f5b5c126f",
   "metadata": {},
   "outputs": [
    {
     "data": {
      "text/plain": [
       "Timestamp('2014-12-15 00:00:00')"
      ]
     },
     "execution_count": 7,
     "metadata": {},
     "output_type": "execute_result"
    }
   ],
   "source": [
    "# временная метка, представляющая конкретную дату\n",
    "pd.Timestamp('2014-12-15')"
   ]
  },
  {
   "cell_type": "code",
   "execution_count": 8,
   "id": "9931a46f-dec0-49bc-8cee-8c3b405801a4",
   "metadata": {},
   "outputs": [
    {
     "data": {
      "text/plain": [
       "Timestamp('2014-12-15 17:30:00')"
      ]
     },
     "execution_count": 8,
     "metadata": {},
     "output_type": "execute_result"
    }
   ],
   "source": [
    "# временная метка, содержащая дату и время\n",
    "pd.Timestamp('2014-12-15 17:30')"
   ]
  },
  {
   "cell_type": "code",
   "execution_count": 9,
   "id": "d6e72ad2-0a23-43a2-87e4-6de109d65f94",
   "metadata": {},
   "outputs": [
    {
     "data": {
      "text/plain": [
       "Timestamp('2025-02-13 17:30:00')"
      ]
     },
     "execution_count": 9,
     "metadata": {},
     "output_type": "execute_result"
    }
   ],
   "source": [
    "# задаем временную метку, указав только время по умолчанию, ко времени будет добавлена\n",
    "# местная текущая дата\n",
    "pd.Timestamp('17:30')"
   ]
  },
  {
   "cell_type": "code",
   "execution_count": 10,
   "id": "86b300fa-6678-4110-b2c1-b97eaeaadf77",
   "metadata": {},
   "outputs": [
    {
     "data": {
      "text/plain": [
       "Timestamp('2025-02-13 17:19:16.451412')"
      ]
     },
     "execution_count": 10,
     "metadata": {},
     "output_type": "execute_result"
    }
   ],
   "source": [
    "# получаем текущие дату и время\n",
    "pd.Timestamp('now')"
   ]
  },
  {
   "cell_type": "markdown",
   "id": "d450c60e-9986-4f06-9d28-ed3d7a2ec377",
   "metadata": {},
   "source": [
    "#### Использование объекта Timedelta для представления временного интервала\n",
    "\n",
    "Для представления разности между двумя моментами времени используется объект библиотеки pandas <mark>Timedelta</mark>. Он применяется для вычисления временного интервала между двумя датами или для вычисления даты, отстоящей от другой даты и/или времени на определенный промежуток времени. "
   ]
  },
  {
   "cell_type": "code",
   "execution_count": 11,
   "id": "fcc132ef-c48f-43a3-93af-858c776f5cf8",
   "metadata": {},
   "outputs": [
    {
     "data": {
      "text/plain": [
       "datetime.datetime(2014, 12, 1, 0, 0)"
      ]
     },
     "execution_count": 11,
     "metadata": {},
     "output_type": "execute_result"
    }
   ],
   "source": [
    "# вычисляем дату, которая будет отстоять от даты 2014-11-30 на один день вперед\n",
    "today = datetime(2014, 11, 30)\n",
    "tomorrow = today + pd.Timedelta(days=1)\n",
    "tomorrow"
   ]
  },
  {
   "cell_type": "code",
   "execution_count": 12,
   "id": "6958b748-4e57-43a5-a049-c1250b8c03bb",
   "metadata": {},
   "outputs": [
    {
     "data": {
      "text/plain": [
       "datetime.timedelta(days=4)"
      ]
     },
     "execution_count": 12,
     "metadata": {},
     "output_type": "execute_result"
    }
   ],
   "source": [
    "# вычисляем количество дней между двумя датами\n",
    "date1 = datetime(2014, 12, 2)\n",
    "date2 = datetime(2014, 11, 28)\n",
    "date1 - date2"
   ]
  },
  {
   "cell_type": "markdown",
   "id": "e3fb28a8-f4f4-45fe-b841-7a16cf83433e",
   "metadata": {},
   "source": [
    "### Введение во временные ряды"
   ]
  },
  {
   "cell_type": "markdown",
   "id": "a1b9f920-36d6-426d-8253-f3de0b9c95ba",
   "metadata": {},
   "source": [
    "#### Индексация с помощью объекта DatetimeIndex\n",
    "В основе работы с временными рядами лежит использование специализированных индексов.\n",
    "Эти индексы представляют собой измерения данных, зафиксированные по одной или нескольким временным меткам. В библиотеке pandas они являются объектами DatetimeIndex. \n"
   ]
  },
  {
   "cell_type": "code",
   "execution_count": 13,
   "id": "81c4ad77-a51a-4bbb-b4d7-2b2252a307b6",
   "metadata": {},
   "outputs": [
    {
     "data": {
      "text/plain": [
       "2014-08-01    0.597599\n",
       "2014-08-02    0.435191\n",
       "dtype: float64"
      ]
     },
     "execution_count": 13,
     "metadata": {},
     "output_type": "execute_result"
    }
   ],
   "source": [
    "# создаем очень простой временной ряд с двумя индексными метками и случайными значениями\n",
    "dates = [datetime(2014, 8, 1), datetime(2014, 8, 2)]\n",
    "ts = pd.Series(np.random.rand(2), dates)\n",
    "ts"
   ]
  },
  {
   "cell_type": "markdown",
   "id": "1a4b4375-757f-4e54-ae5f-3707483a6017",
   "metadata": {},
   "source": [
    "Мы взяли объекты datetime и создали на основе дат объект DatetimeIndex.\n",
    "Каждое значение этого индекса является объектом Timestamp."
   ]
  },
  {
   "cell_type": "code",
   "execution_count": 14,
   "id": "e1818794-6e2a-45b7-b2b6-5f314cd195f3",
   "metadata": {},
   "outputs": [
    {
     "data": {
      "text/plain": [
       "pandas.core.indexes.datetimes.DatetimeIndex"
      ]
     },
     "execution_count": 14,
     "metadata": {},
     "output_type": "execute_result"
    }
   ],
   "source": [
    "# смотрим тип индекса\n",
    "type(ts.index)"
   ]
  },
  {
   "cell_type": "code",
   "execution_count": 15,
   "id": "be723b77-816a-480d-a05a-823ae431e55b",
   "metadata": {},
   "outputs": [
    {
     "data": {
      "text/plain": [
       "pandas._libs.tslibs.timestamps.Timestamp"
      ]
     },
     "execution_count": 15,
     "metadata": {},
     "output_type": "execute_result"
    }
   ],
   "source": [
    "# можно увидеть, что это коллекция временных меток (Timestamp)\n",
    "type(ts.index[0])"
   ]
  },
  {
   "cell_type": "markdown",
   "id": "3afa4f91-19b1-40e9-8c34-03ecb52df01f",
   "metadata": {},
   "source": [
    "**Чтобы создать временной ряд, необязательно передавать список объектов datetime**.\n",
    "Объект Series достаточно умен, чтобы распознать строку как объект datetime\n",
    "и выполнить преобразование за вас."
   ]
  },
  {
   "cell_type": "code",
   "execution_count": 16,
   "id": "076e6d96-8e02-47d5-8d6f-963f750fe43e",
   "metadata": {},
   "outputs": [
    {
     "data": {
      "text/plain": [
       "2014-08-01    0.126970\n",
       "2014-08-02    0.966718\n",
       "dtype: float64"
      ]
     },
     "execution_count": 16,
     "metadata": {},
     "output_type": "execute_result"
    }
   ],
   "source": [
    "# создаем временной ряд из списка дат, записанных в виде строк!\n",
    "np.random.seed(123456)\n",
    "dates = ['2014-08-01', '2014-08-02']\n",
    "ts = pd.Series(np.random.rand(2), dates)\n",
    "ts"
   ]
  },
  {
   "cell_type": "markdown",
   "id": "4e9de29d-3e2f-4429-8ba8-0aa8167362e7",
   "metadata": {},
   "source": [
    "Библиотека pandas предлагает удобную функцию <mark>pd.to_datetime()</mark>. Она принимает\n",
    "в качестве аргумента последовательность объектов одного и того же или\n",
    "смешанного типа, преобразует их в объекты Timestamp, а те, в свою очередь,\n",
    "сформируют объект DatetimeIndex. Если объект, записанный в последовательности, не\n",
    "удается преобразовать, библиотека pandas создает значение NaT, то есть значение\n",
    "не является временем (Not-a-Time)"
   ]
  },
  {
   "cell_type": "code",
   "execution_count": 17,
   "id": "87dfa16d-66e5-4d9b-a438-92b69f7619d3",
   "metadata": {},
   "outputs": [
    {
     "name": "stdout",
     "output_type": "stream",
     "text": [
      "2014-08-01 00:00:00\n",
      "2014-08-02 00:00:00\n",
      "2014-08-03 00:00:00\n",
      "NaT\n"
     ]
    }
   ],
   "source": [
    "# преобразовываем последовательность объектов в объект DatetimeIndex\n",
    "dti = pd.to_datetime(['Aug 1, 2014', '2014-08-02', '2014.8.3', None], format='mixed')\n",
    "for l in dti:\n",
    "    print(l)\n"
   ]
  },
  {
   "cell_type": "code",
   "execution_count": 18,
   "id": "02c3d7e6-faa2-4feb-8321-18cc93412c2d",
   "metadata": {},
   "outputs": [
    {
     "data": {
      "text/plain": [
       "DatetimeIndex(['2014-08-01', 'NaT'], dtype='datetime64[ns]', freq=None)"
      ]
     },
     "execution_count": 18,
     "metadata": {},
     "output_type": "execute_result"
    }
   ],
   "source": [
    "# принудительно выполняем преобразование, значения, которые\n",
    "# не удалось преобразовать, получат значения NaT\n",
    "pd.to_datetime(['Aug 1, 2014', 'foo'], errors='coerce')"
   ]
  },
  {
   "cell_type": "markdown",
   "id": "e1ca3155-35b7-4870-a22d-a24e40cd2691",
   "metadata": {},
   "source": [
    "C помощью функции <mark>pd.date_range()</mark> можно легко создать **диапазон временных\n",
    "меток с определенной частотой**."
   ]
  },
  {
   "cell_type": "code",
   "execution_count": 19,
   "id": "ba41667a-a08e-4e8f-8b59-4593afdf0de1",
   "metadata": {
    "scrolled": true
   },
   "outputs": [
    {
     "data": {
      "text/plain": [
       "2024-08-01    0.469112\n",
       "2024-08-02   -0.282863\n",
       "2024-08-03   -1.509059\n",
       "2024-08-04   -1.135632\n",
       "2024-08-05    1.212112\n",
       "2024-08-06   -0.173215\n",
       "2024-08-07    0.119209\n",
       "2024-08-08   -1.044236\n",
       "2024-08-09   -0.861849\n",
       "2024-08-10   -2.104569\n",
       "Freq: D, dtype: float64"
      ]
     },
     "execution_count": 19,
     "metadata": {},
     "output_type": "execute_result"
    }
   ],
   "source": [
    "# создаем диапазон дат, начинающийся с определенной даты и включающий определенное\n",
    "# количество дней, на его основе создаем объект Series\n",
    "np.random.seed(123456)\n",
    "periods = pd.date_range('8/1/2024', periods=10)\n",
    "date_series = pd.Series(np.random.randn(10), index=periods)\n",
    "date_series"
   ]
  },
  {
   "cell_type": "code",
   "execution_count": 20,
   "id": "5871a813-30dc-43d0-9835-339d3ba07a85",
   "metadata": {},
   "outputs": [
    {
     "data": {
      "text/plain": [
       "2024-08-04   -1.135632\n",
       "2024-08-05    1.212112\n",
       "2024-08-06   -0.173215\n",
       "2024-08-07    0.119209\n",
       "Freq: D, dtype: float64"
      ]
     },
     "execution_count": 20,
     "metadata": {},
     "output_type": "execute_result"
    }
   ],
   "source": [
    "# создаем срез, используя позиции индекса\n",
    "subset = date_series[3:7]\n",
    "subset"
   ]
  },
  {
   "cell_type": "code",
   "execution_count": 21,
   "id": "b0bde519-4fdb-4823-906b-852cd7a9a859",
   "metadata": {},
   "outputs": [
    {
     "data": {
      "text/plain": [
       "2024-08-04       10\n",
       "2024-08-05      100\n",
       "2024-08-06     1000\n",
       "2024-08-07    10000\n",
       "Freq: D, dtype: int64"
      ]
     },
     "execution_count": 21,
     "metadata": {},
     "output_type": "execute_result"
    }
   ],
   "source": [
    "# создаем объект Series для иллюстрации выравнивания\n",
    "s2 = pd.Series([10, 100, 1000, 10000], index=subset.index)\n",
    "s2"
   ]
  },
  {
   "cell_type": "markdown",
   "id": "7e26265f-20b4-4b1c-a422-cdbdd3221b52",
   "metadata": {},
   "source": [
    "Когда мы складываем date_series и s2 вместе, **выполняется выравнивание**, возвращающее\n",
    "значения NaN там, где элементы невозможно выровнять.\n",
    "\n",
    "Значение напротив определенной метки индекса – это сумма значений, найденных\n",
    "в соответствующих индексных метках объектов date_series и s2"
   ]
  },
  {
   "cell_type": "code",
   "execution_count": 22,
   "id": "3f5d47c8-b1cf-419c-8319-58362800b8f0",
   "metadata": {},
   "outputs": [
    {
     "data": {
      "text/plain": [
       "2024-08-01             NaN\n",
       "2024-08-02             NaN\n",
       "2024-08-03             NaN\n",
       "2024-08-04        8.864368\n",
       "2024-08-05      101.212112\n",
       "2024-08-06      999.826785\n",
       "2024-08-07    10000.119209\n",
       "2024-08-08             NaN\n",
       "2024-08-09             NaN\n",
       "2024-08-10             NaN\n",
       "Freq: D, dtype: float64"
      ]
     },
     "execution_count": 22,
     "metadata": {},
     "output_type": "execute_result"
    }
   ],
   "source": [
    "# демонстрируем выравнивание по дате, сложив вместе date_series и s2\n",
    "date_series + s2"
   ]
  },
  {
   "cell_type": "markdown",
   "id": "1e803389-b130-4dc1-a381-31557a340025",
   "metadata": {},
   "source": [
    "**Элементы серии с типом DatetimeIndex можно извлечь с помощью строкового\n",
    "представления даты**, не указывая объекта datetime"
   ]
  },
  {
   "cell_type": "code",
   "execution_count": 23,
   "id": "44685417-f91d-45b0-a754-5a0a395a7a96",
   "metadata": {},
   "outputs": [
    {
     "data": {
      "text/plain": [
       "1.2121120250208506"
      ]
     },
     "execution_count": 23,
     "metadata": {},
     "output_type": "execute_result"
    }
   ],
   "source": [
    "# находим элемент с помощью строкового представления даты\n",
    "date_series['2024-08-05']"
   ]
  },
  {
   "cell_type": "code",
   "execution_count": 24,
   "id": "94d3381f-918c-4aea-8754-3c0a50ddad90",
   "metadata": {},
   "outputs": [
    {
     "data": {
      "text/plain": [
       "2024-08-05    1.212112\n",
       "2024-08-06   -0.173215\n",
       "2024-08-07    0.119209\n",
       "Freq: D, dtype: float64"
      ]
     },
     "execution_count": 24,
     "metadata": {},
     "output_type": "execute_result"
    }
   ],
   "source": [
    "# создаем срез объекта DatetimeIndex, задав диапазон из строковых представлений дат\n",
    "date_series['2024-08-05':'2024-08-07']"
   ]
  },
  {
   "cell_type": "code",
   "execution_count": 25,
   "id": "02016165-4ad2-4133-b22e-b41a81dcb94e",
   "metadata": {},
   "outputs": [
    {
     "data": {
      "text/plain": [
       "2013-01-01    0\n",
       "2013-01-02    0\n",
       "2013-01-03    0\n",
       "2013-01-04    0\n",
       "2013-01-05    0\n",
       "             ..\n",
       "2013-12-27    0\n",
       "2013-12-28    0\n",
       "2013-12-29    0\n",
       "2013-12-30    0\n",
       "2013-12-31    0\n",
       "Freq: D, Length: 365, dtype: int64"
      ]
     },
     "execution_count": 25,
     "metadata": {},
     "output_type": "execute_result"
    }
   ],
   "source": [
    "# создаем диапазон дат, охватывающий 2-летний период с ежедневным интервалом\n",
    "# отбираем лишь те даты, которые относятся к 2013 году\n",
    "s3 = pd.Series(0, pd.date_range('2013-01-01', '2014-12-31'))\n",
    "s3['2013']"
   ]
  },
  {
   "cell_type": "code",
   "execution_count": 26,
   "id": "34702938-68ab-4d56-bfce-a614574d15f7",
   "metadata": {},
   "outputs": [
    {
     "data": {
      "text/plain": [
       "2013-05-01    0\n",
       "2013-05-02    0\n",
       "2013-05-03    0\n",
       "2013-05-04    0\n",
       "2013-05-05    0\n",
       "             ..\n",
       "2013-05-27    0\n",
       "2013-05-28    0\n",
       "2013-05-29    0\n",
       "2013-05-30    0\n",
       "2013-05-31    0\n",
       "Freq: D, Length: 31, dtype: int64"
      ]
     },
     "execution_count": 26,
     "metadata": {},
     "output_type": "execute_result"
    }
   ],
   "source": [
    "# отбираем данные за май 2014 года\n",
    "s3['2013-05']"
   ]
  },
  {
   "cell_type": "code",
   "execution_count": 27,
   "id": "3190335b-32d0-49ad-8820-f26bd413b9bc",
   "metadata": {},
   "outputs": [
    {
     "data": {
      "text/plain": [
       "2014-08-01    0\n",
       "2014-08-02    0\n",
       "2014-08-03    0\n",
       "2014-08-04    0\n",
       "2014-08-05    0\n",
       "             ..\n",
       "2014-09-26    0\n",
       "2014-09-27    0\n",
       "2014-09-28    0\n",
       "2014-09-29    0\n",
       "2014-09-30    0\n",
       "Freq: D, Length: 61, dtype: int64"
      ]
     },
     "execution_count": 27,
     "metadata": {},
     "output_type": "execute_result"
    }
   ],
   "source": [
    "# извлекаем даты с августа по сентябрь 2014 года\n",
    "s3['2014-08':'2014-09']"
   ]
  },
  {
   "cell_type": "markdown",
   "id": "d9d55943-1029-4dfd-b748-ed87cd9fa251",
   "metadata": {},
   "source": [
    "#### Создание временного ряда с определенной частотой\n",
    "C помощью функции pd.date_range() и параметра **freq** можно\n",
    "сгенерировать различные частоты."
   ]
  },
  {
   "cell_type": "code",
   "execution_count": 28,
   "id": "c92e624b-4e14-4cda-8a78-30d41dc67063",
   "metadata": {},
   "outputs": [
    {
     "data": {
      "text/plain": [
       "2014-08-01 00:00:00    0.469112\n",
       "2014-08-01 00:01:00   -0.282863\n",
       "2014-08-01 00:02:00   -1.509059\n",
       "2014-08-01 00:03:00   -1.135632\n",
       "2014-08-01 00:04:00    1.212112\n",
       "                         ...   \n",
       "2014-10-29 23:55:00   -0.563029\n",
       "2014-10-29 23:56:00    1.180497\n",
       "2014-10-29 23:57:00    1.850604\n",
       "2014-10-29 23:58:00   -1.589660\n",
       "2014-10-29 23:59:00    0.266429\n",
       "Freq: min, Length: 129600, dtype: float64"
      ]
     },
     "execution_count": 28,
     "metadata": {},
     "output_type": "execute_result"
    }
   ],
   "source": [
    "# создаем объект Series, состоящий из 1-минутных интервалов\n",
    "np.random.seed(123456)\n",
    "bymin = pd.Series(np.random.randn(24*60*90),\n",
    "                 pd.date_range('2014-08-01', '2014-10-29 23:59', freq='min'))\n",
    "bymin"
   ]
  },
  {
   "cell_type": "code",
   "execution_count": 29,
   "id": "2c22ca8b-e262-4026-8414-39cc51d9d70a",
   "metadata": {},
   "outputs": [
    {
     "data": {
      "text/plain": [
       "2014-08-01 00:02:00   -1.509059\n",
       "2014-08-01 00:03:00   -1.135632\n",
       "2014-08-01 00:04:00    1.212112\n",
       "2014-08-01 00:05:00   -0.173215\n",
       "2014-08-01 00:06:00    0.119209\n",
       "2014-08-01 00:07:00   -1.044236\n",
       "Freq: min, dtype: float64"
      ]
     },
     "execution_count": 29,
     "metadata": {},
     "output_type": "execute_result"
    }
   ],
   "source": [
    "# создаем срез с поминутными интервалами\n",
    "bymin['2014-08-01 00:02':'2014-08-01 00:07']"
   ]
  },
  {
   "cell_type": "code",
   "execution_count": 30,
   "id": "e7e4f7a7-eff4-4d4e-93c4-afb0e762af5d",
   "metadata": {},
   "outputs": [
    {
     "data": {
      "text/plain": [
       "DatetimeIndex(['2014-08-29', '2014-09-01', '2014-09-02', '2014-09-03', '2014-09-04',\n",
       "               '2014-09-05'],\n",
       "              dtype='datetime64[ns]', freq='B')"
      ]
     },
     "execution_count": 30,
     "metadata": {},
     "output_type": "execute_result"
    }
   ],
   "source": [
    "# создаем серию, состоящую из рабочих дней\n",
    "days = pd.date_range('2014-08-29', '2014-09-05', freq='B')\n",
    "days"
   ]
  },
  {
   "cell_type": "markdown",
   "id": "f28246d3-66ae-4e7a-b17b-81c35caac542",
   "metadata": {},
   "source": [
    "С помощью параметра **periods** можно создать диапазон, начинающийся с определенной\n",
    "даты и времени, с определенной частотой и с **определенным количеством периодов**."
   ]
  },
  {
   "cell_type": "code",
   "execution_count": 31,
   "id": "8771a887-ebb6-4b3d-8020-f7153e4efa0c",
   "metadata": {},
   "outputs": [
    {
     "data": {
      "text/plain": [
       "DatetimeIndex(['2014-08-01 12:10:01', '2014-08-01 12:10:02', '2014-08-01 12:10:03',\n",
       "               '2014-08-01 12:10:04', '2014-08-01 12:10:05'],\n",
       "              dtype='datetime64[ns]', freq='s')"
      ]
     },
     "execution_count": 31,
     "metadata": {},
     "output_type": "execute_result"
    }
   ],
   "source": [
    "# задаем периоды (интервал в 1 сек.)\n",
    "pd.date_range('2014-08-01 12:10:01', freq='s', periods=5)"
   ]
  },
  {
   "cell_type": "markdown",
   "id": "0c77c041-c20d-4900-9939-54a609427818",
   "metadata": {},
   "source": [
    "### Вычисление новых дат с помощью смещений\n",
    "В библиотеке pandas для каждой базовой частоты определен объект, называемый\n",
    "смещением даты (data offset).\n",
    "\n",
    "Библиотека pandas расширяет эти возможности с помощью объекта DateOffset.\n",
    "Объекты **DataOffset** содержат информацию о смещении времени и частоте,\n",
    "которую можно использовать для изменения объектов DatetimeIndex."
   ]
  },
  {
   "cell_type": "markdown",
   "id": "bf7d114d-a802-427e-8997-1af69f605176",
   "metadata": {},
   "source": [
    "#### Представление временных интервалов с помощью смещений дат (стр. 272)\n",
    "Практическим примером является вычисление следующего рабочего дня. Его\n",
    "нельзя определить, просто добавив один день к объекту datetime. Если дата представляет собой пятницу, следующий рабочий день на финансовом рынке США –\n",
    "это не суббота, а понедельник. А в некоторых случаях следующим рабочим днем\n",
    "после пятницы может быть вторник, если понедельник – это праздничный день.\n",
    "Библиотека pandas предлагает нам все инструменты, необходимые для работы\n",
    "с такими сложными сценариями."
   ]
  },
  {
   "cell_type": "code",
   "execution_count": 32,
   "id": "e11dd71b-fdb5-4b5f-93df-8ead55256366",
   "metadata": {},
   "outputs": [
    {
     "data": {
      "text/plain": [
       "(DatetimeIndex(['2014-08-29', '2014-09-01', '2014-09-02', '2014-09-03', '2014-09-04',\n",
       "                '2014-09-05'],\n",
       "               dtype='datetime64[ns]', freq='B'),\n",
       " array(['2014-08-29T00:00:00.000000000', '2014-09-01T00:00:00.000000000',\n",
       "        '2014-09-02T00:00:00.000000000', '2014-09-03T00:00:00.000000000',\n",
       "        '2014-09-04T00:00:00.000000000', '2014-09-05T00:00:00.000000000'],\n",
       "       dtype='datetime64[ns]'))"
      ]
     },
     "execution_count": 32,
     "metadata": {},
     "output_type": "execute_result"
    }
   ],
   "source": [
    "# извлекаем все рабочие дни в промежутке между двумя датами, включая эти даты\n",
    "dti = pd.date_range('2014-08-29', '2014-09-05', freq='B')\n",
    "dti, dti.values"
   ]
  },
  {
   "cell_type": "markdown",
   "id": "f7f5485c-ae13-4fd8-917b-3bd8736ad2c5",
   "metadata": {},
   "source": [
    "**Объект DatetimeIndex имеет свойство .freq**, которое позволяет узнать частоту\n",
    "временных меток в индексе"
   ]
  },
  {
   "cell_type": "code",
   "execution_count": 33,
   "id": "a2a06eec-8c63-4840-9540-437adc643936",
   "metadata": {},
   "outputs": [
    {
     "data": {
      "text/plain": [
       "<BusinessDay>"
      ]
     },
     "execution_count": 33,
     "metadata": {},
     "output_type": "execute_result"
    }
   ],
   "source": [
    "# убеждаемся, что частотой является рабочий день\n",
    "dti.freq"
   ]
  },
  {
   "cell_type": "code",
   "execution_count": 34,
   "id": "84ca4181-7141-479e-a8c5-e670aa60003b",
   "metadata": {},
   "outputs": [
    {
     "data": {
      "text/plain": [
       "Timestamp('2014-08-30 00:00:00')"
      ]
     },
     "execution_count": 34,
     "metadata": {},
     "output_type": "execute_result"
    }
   ],
   "source": [
    "# вычисляем однодневное смещение для 2014-8-29\n",
    "d = datetime(2014, 8, 29)\n",
    "do = pd.DateOffset(days = 1)\n",
    "d + do"
   ]
  },
  {
   "cell_type": "code",
   "execution_count": 35,
   "id": "61c2c202-c582-4736-9019-2ea43cb92a6f",
   "metadata": {},
   "outputs": [
    {
     "data": {
      "text/plain": [
       "Timestamp('2014-09-01 00:00:00')"
      ]
     },
     "execution_count": 35,
     "metadata": {},
     "output_type": "execute_result"
    }
   ],
   "source": [
    "# импортируем типы смещений дат\n",
    "from pandas.tseries.offsets import *\n",
    "# dir(pd.tseries.offsets)\n",
    "\n",
    "# вычисляем дату, отстоящую от 2014-8-31 на один рабочий день вперед\n",
    "d + BusinessDay()"
   ]
  },
  {
   "cell_type": "code",
   "execution_count": 36,
   "id": "67fe28cb-b25f-459e-a1df-c52dc4bf1ab9",
   "metadata": {},
   "outputs": [
    {
     "data": {
      "text/plain": [
       "Timestamp('2014-09-02 00:00:00')"
      ]
     },
     "execution_count": 36,
     "metadata": {},
     "output_type": "execute_result"
    }
   ],
   "source": [
    "# вычисляем дату, отстоящую от 2014-8-31 на два рабочих  \n",
    "d + 2 * BusinessDay()"
   ]
  },
  {
   "cell_type": "code",
   "execution_count": 37,
   "id": "defcb1f7-15fe-4238-bdf8-3d3121dfa42e",
   "metadata": {},
   "outputs": [
    {
     "data": {
      "text/plain": [
       "Timestamp('2014-09-30 00:00:00')"
      ]
     },
     "execution_count": 37,
     "metadata": {},
     "output_type": "execute_result"
    }
   ],
   "source": [
    "# вычисляем последний рабочий день месяца, следующий после 2014-09-02\n",
    "d + BMonthEnd()"
   ]
  },
  {
   "cell_type": "code",
   "execution_count": 38,
   "id": "a46714f9-029c-4015-b9ca-341de4404cef",
   "metadata": {},
   "outputs": [
    {
     "data": {
      "text/plain": [
       "Timestamp('2014-09-30 00:00:00')"
      ]
     },
     "execution_count": 38,
     "metadata": {},
     "output_type": "execute_result"
    }
   ],
   "source": [
    "# вычисляем последний рабочий день месяца, следующий после 2014-09-15\n",
    "BMonthEnd().rollforward(datetime(2014, 9, 15))"
   ]
  },
  {
   "cell_type": "markdown",
   "id": "f0e27777-ea1c-4f21-8617-f48225027c8a",
   "metadata": {},
   "source": [
    "Некоторые классы, задающие смещения, можно использовать в качестве параметров,\n",
    "чтобы точнее настроить сдвиг даты. В качестве примера следующий программный\n",
    "код вычисляет дату вторника (weekday=1), предшествующую дате 2014-08-31"
   ]
  },
  {
   "cell_type": "code",
   "execution_count": 39,
   "id": "8291927c-1fec-47ea-a5e9-f7d3e23ac1b2",
   "metadata": {},
   "outputs": [
    {
     "data": {
      "text/plain": [
       "Timestamp('2014-08-26 00:00:00')"
      ]
     },
     "execution_count": 39,
     "metadata": {},
     "output_type": "execute_result"
    }
   ],
   "source": [
    "# вычисляем дату вторника, предшествующую заданной дате\n",
    "d - Week(weekday = 1)"
   ]
  },
  {
   "cell_type": "markdown",
   "id": "0841af9f-87c5-4f7f-a47a-97d9b0327167",
   "metadata": {},
   "source": [
    "#### Привязанные смещения\n",
    "**Привязанные смещения** – это определенные частоты, которые начинаются с\n",
    "определенного момента времени, например с определенного дня недели, месяца или\n",
    "года. Для привязанных смещений используются заранее определенные сокращения."
   ]
  },
  {
   "cell_type": "code",
   "execution_count": 40,
   "id": "4f626da3-db21-41c8-a8f5-da49b161fcfa",
   "metadata": {},
   "outputs": [
    {
     "data": {
      "text/plain": [
       "array(['2014-06-04T00:00:00.000000000', '2014-06-11T00:00:00.000000000',\n",
       "       '2014-06-18T00:00:00.000000000', '2014-06-25T00:00:00.000000000',\n",
       "       '2014-07-02T00:00:00.000000000', '2014-07-09T00:00:00.000000000',\n",
       "       '2014-07-16T00:00:00.000000000', '2014-07-23T00:00:00.000000000',\n",
       "       '2014-07-30T00:00:00.000000000'], dtype='datetime64[ns]')"
      ]
     },
     "execution_count": 40,
     "metadata": {},
     "output_type": "execute_result"
    }
   ],
   "source": [
    "# вычисляем все среды в промежутке между 2014-06-01 и 2014-08-31\n",
    "wednesdays = pd.date_range('2014-06-01', '2014-07-31', freq='W-WED')\n",
    "wednesdays.values"
   ]
  },
  {
   "cell_type": "markdown",
   "id": "52d0e51d-faac-473a-a72a-f29cd13bef21",
   "metadata": {},
   "source": [
    "Привязанные смещения еще можно создать с помощью ежегодных и ежеквартальных частот.\n",
    "Эти привязанные частоты имеют общий вид [B][A|Q][S]-[MON], где \n",
    "B (рабочие дни) и S (начало периода вместо конца) задаются по желанию, \n",
    "A – частота ежегодно или Q – частота ежеквартально, а MON – трехзначная аббревиатура\n",
    "для месяца (JAN, FEB, ...)."
   ]
  },
  {
   "cell_type": "code",
   "execution_count": 41,
   "id": "77e8bfc1-dced-4733-855e-ec11b9aa27a7",
   "metadata": {},
   "outputs": [
    {
     "data": {
      "text/plain": [
       "DatetimeIndex(['2014-03-03', '2014-06-02', '2014-09-01', '2014-12-01'], dtype='datetime64[ns]', freq='BQS-JUN')"
      ]
     },
     "execution_count": 41,
     "metadata": {},
     "output_type": "execute_result"
    }
   ],
   "source": [
    "# вычисляем первый рабочий день последнего месяца в каждом квартале\n",
    "qends = pd.date_range('2014-01-01', '2014-12-31', freq='BQS-JUN')\n",
    "qends"
   ]
  },
  {
   "cell_type": "markdown",
   "id": "33f43a9d-4126-4a74-8090-9e1f9feff2ea",
   "metadata": {},
   "source": [
    "#### Представление промежутков времени с помощью объектов Period\n",
    "Многие операции над временными рядами требуют анализа событий за определенный\n",
    "промежуток времени. **Простой пример – определение количества финансовых транзакций\n",
    "за определенный период.**\n",
    "\n",
    "Данный вид анализа можно выполнить с помощью объектов Timestamp и DateOffset,\n",
    "когда сначала задаются границы временного интервала, а затем определяется\n",
    "частота. Однако этот способ становится громоздким, когда вам нужно\n",
    "сгруппировать события в несколько периодов времени, поскольку в таком случае\n",
    "вам придется работать с наборами объектов Timestamp и DateOffset.\n",
    "\n",
    "**Чтобы упростить организацию и анализ таких данных, библиотека pandas\n",
    "позволяет создавать интервалы времени как формальную конструкцию с помощью\n",
    "класса Period.** Кроме того, библиотека pandas формализует работу с рядом объектов\n",
    "Period с помощью класса PeriodIndex, который позволяет выравнивать элементы\n",
    "данных на основе индексов соответствующих объектов Period."
   ]
  },
  {
   "cell_type": "markdown",
   "id": "c136e764-c225-4576-942a-b513c2add95f",
   "metadata": {},
   "source": [
    "#### Создание временного интервала с помощью объекта Period\n",
    "Библиотека pandas формализует понятие временного интервала с помощью объекта Period.\n",
    "Объект Period позволяет вам задать промежутки времени, исходя из различных\n",
    "частот (ежедневной, еженедельной, ежемесячной, ежеквартальной, ежегодной и т. д.). \n",
    "При этом он будет включать в себя начальную и конечную временные метки,\n",
    "задающие определенный интервал времени.\n",
    "\n",
    "**Объект Period можно создать с помощью временной метки и частоты, при этом временная\n",
    "метка представляет собой «якорь», используемый в качестве точки отсчета,\n",
    "а частота – это продолжительность времени.**"
   ]
  },
  {
   "cell_type": "code",
   "execution_count": 42,
   "id": "b7216186-8117-4713-931b-144e5b6bf0ae",
   "metadata": {},
   "outputs": [
    {
     "data": {
      "text/plain": [
       "Period('2014-08', 'M')"
      ]
     },
     "execution_count": 42,
     "metadata": {},
     "output_type": "execute_result"
    }
   ],
   "source": [
    "# создаем период – один месяц, начинающийся в августе 2014 года\n",
    "aug2014 = pd.Period('2014-08', freq='M')\n",
    "aug2014"
   ]
  },
  {
   "cell_type": "markdown",
   "id": "59167fdb-208c-4fa4-81ae-979d2ca4f301",
   "metadata": {},
   "source": [
    "Cвойства **start_time** и **end_time** объекта Period сообщают нам о начальной \n",
    "и конечной временных метках"
   ]
  },
  {
   "cell_type": "code",
   "execution_count": 43,
   "id": "312f0770-cd75-438a-9914-11930755706b",
   "metadata": {},
   "outputs": [
    {
     "data": {
      "text/plain": [
       "(Timestamp('2014-08-01 00:00:00'), Timestamp('2014-08-31 23:59:59.999999999'))"
      ]
     },
     "execution_count": 43,
     "metadata": {},
     "output_type": "execute_result"
    }
   ],
   "source": [
    "# смотрим начальную и конечную даты этого периода\n",
    "aug2014.start_time, aug2014.end_time"
   ]
  },
  {
   "cell_type": "code",
   "execution_count": 44,
   "id": "99b72336-117a-4165-b961-3e4421368084",
   "metadata": {},
   "outputs": [
    {
     "data": {
      "text/plain": [
       "Period('2014-09', 'M')"
      ]
     },
     "execution_count": 44,
     "metadata": {},
     "output_type": "execute_result"
    }
   ],
   "source": [
    "# вычисляем период, прибавив к периоду aug2014 единицу частоты (один месяц),\n",
    "# теперь периодом будет сентябрь 2014 года\n",
    "sep2014 = aug2014 + 1\n",
    "sep2014"
   ]
  },
  {
   "cell_type": "markdown",
   "id": "0a362ee9-47ec-4239-a5c0-95f81549b51a",
   "metadata": {},
   "source": [
    "**Понятие сдвига является очень важным.** Прибавление 1 к объекту Period\n",
    "информирует последний о том, что нужно осуществить сдвиг на одну\n",
    "положительную единицу частоты периода. В данном случае мы сдвигаем период\n",
    "на один месяц вперед, чтобы получить новый период – сентябрь 2014 года."
   ]
  },
  {
   "cell_type": "code",
   "execution_count": 45,
   "id": "b3869879-3fc3-48f6-be9b-4cc69ef85940",
   "metadata": {},
   "outputs": [
    {
     "data": {
      "text/plain": [
       "(Timestamp('2014-09-01 00:00:00'), Timestamp('2014-09-30 23:59:59.999999999'))"
      ]
     },
     "execution_count": 45,
     "metadata": {},
     "output_type": "execute_result"
    }
   ],
   "source": [
    "# объект Period учитывает, что сентябрь состоит из\n",
    "# 30 дней, а не из 31. «Интеллектуальные возможности» объекта Period позволяют\n",
    "# сэкономить время, затрачиваемое на ввод дополнительного программного кода\n",
    "sep2014.start_time, sep2014.end_time"
   ]
  },
  {
   "cell_type": "markdown",
   "id": "6f87ef3b-951c-4635-ac80-924c5507ea33",
   "metadata": {},
   "source": [
    "#### Индексация с помощью объекта PeriodIndex\n",
    "Серию объектов Period можно объединить в специальный тип индекса, известный\n",
    "как PeriodIndex.\n",
    "\n",
    "**Индекс PeriodIndex применяется в том случае, когда данные нужно\n",
    "связать с определенными временными интервалами, создать срезы\n",
    "и проанализировать события в каждом интервале.**"
   ]
  },
  {
   "cell_type": "code",
   "execution_count": 46,
   "id": "38e3f35d-4641-441f-8fc5-a836620e2011",
   "metadata": {},
   "outputs": [
    {
     "data": {
      "text/plain": [
       "PeriodIndex(['2013-01', '2013-02', '2013-03', '2013-04', '2013-05', '2013-06', '2013-07',\n",
       "             '2013-08', '2013-09', '2013-10', '2013-11', '2013-12'],\n",
       "            dtype='period[M]')"
      ]
     },
     "execution_count": 46,
     "metadata": {},
     "output_type": "execute_result"
    }
   ],
   "source": [
    "# создаем объект PeriodIndex, состоящий из 1-месячных интервалов 2013 года\n",
    "mp2013 = pd.period_range('1/1/2013', '12/31/2013', freq='M')\n",
    "mp2013"
   ]
  },
  {
   "cell_type": "markdown",
   "id": "d8816197-77dd-4fed-bcea-a8db32d4a726",
   "metadata": {},
   "source": [
    "**PeriodIndex отличается от DatetimeIndex тем, что индексные метки являются объектами Period.**"
   ]
  },
  {
   "cell_type": "code",
   "execution_count": 47,
   "id": "97fd8879-99e2-43e1-b6b7-2e77d3d0525a",
   "metadata": {},
   "outputs": [
    {
     "name": "stdout",
     "output_type": "stream",
     "text": [
      "(Timestamp('2013-01-01 00:00:00'), Timestamp('2013-01-31 23:59:59.999999999'))\n",
      "(Timestamp('2013-02-01 00:00:00'), Timestamp('2013-02-28 23:59:59.999999999'))\n",
      "(Timestamp('2013-03-01 00:00:00'), Timestamp('2013-03-31 23:59:59.999999999'))\n",
      "(Timestamp('2013-04-01 00:00:00'), Timestamp('2013-04-30 23:59:59.999999999'))\n",
      "(Timestamp('2013-05-01 00:00:00'), Timestamp('2013-05-31 23:59:59.999999999'))\n",
      "(Timestamp('2013-06-01 00:00:00'), Timestamp('2013-06-30 23:59:59.999999999'))\n",
      "(Timestamp('2013-07-01 00:00:00'), Timestamp('2013-07-31 23:59:59.999999999'))\n",
      "(Timestamp('2013-08-01 00:00:00'), Timestamp('2013-08-31 23:59:59.999999999'))\n",
      "(Timestamp('2013-09-01 00:00:00'), Timestamp('2013-09-30 23:59:59.999999999'))\n",
      "(Timestamp('2013-10-01 00:00:00'), Timestamp('2013-10-31 23:59:59.999999999'))\n",
      "(Timestamp('2013-11-01 00:00:00'), Timestamp('2013-11-30 23:59:59.999999999'))\n",
      "(Timestamp('2013-12-01 00:00:00'), Timestamp('2013-12-31 23:59:59.999999999'))\n"
     ]
    }
   ],
   "source": [
    "# пробегаем по всем объектам Period в индексе, печатая\n",
    "# начальную и конечную даты для каждого объекта\n",
    "for p in mp2013:\n",
    "    print(f'{p.start_time, p.end_time}')"
   ]
  },
  {
   "cell_type": "code",
   "execution_count": 48,
   "id": "589b32b4-e9fb-4eba-bafc-b243d4ab0bd6",
   "metadata": {},
   "outputs": [
    {
     "data": {
      "text/plain": [
       "2013-01    0.469112\n",
       "2013-02   -0.282863\n",
       "2013-03   -1.509059\n",
       "2013-04   -1.135632\n",
       "2013-05    1.212112\n",
       "Freq: M, dtype: float64"
      ]
     },
     "execution_count": 48,
     "metadata": {},
     "output_type": "execute_result"
    }
   ],
   "source": [
    "# создаем объект Series, у которого индексом будет PeriodIndex\n",
    "np.random.seed(123456)\n",
    "ps = pd.Series(np.random.randn(12), mp2013)\n",
    "ps[:5]"
   ]
  },
  {
   "cell_type": "code",
   "execution_count": 49,
   "id": "552ad3a4-d3ec-4dcf-bafe-0eb6d56f73b1",
   "metadata": {},
   "outputs": [
    {
     "data": {
      "text/plain": [
       "2013-01    0.469112\n",
       "2013-02   -0.282863\n",
       "2013-03   -1.509059\n",
       "2013-04   -1.135632\n",
       "2013-05    1.212112\n",
       "             ...   \n",
       "2014-08   -1.087401\n",
       "2014-09   -0.673690\n",
       "2014-10    0.113648\n",
       "2014-11   -1.478427\n",
       "2014-12    0.524988\n",
       "Freq: M, Length: 24, dtype: float64"
      ]
     },
     "execution_count": 49,
     "metadata": {},
     "output_type": "execute_result"
    }
   ],
   "source": [
    "# создаем объект Series с индексом PeriodIndex, который представляет собой все календарные\n",
    "# месяцы-периоды 2013 и 2014 годов\n",
    "np.random.seed(123456)\n",
    "ps = pd.Series(np.random.randn(24),\n",
    "               pd.period_range('1/1/2013','12/31/2014', freq='M'))\n",
    "ps"
   ]
  },
  {
   "cell_type": "code",
   "execution_count": 50,
   "id": "8f9dcd65-4499-43d5-9132-0936014d652e",
   "metadata": {},
   "outputs": [
    {
     "data": {
      "text/plain": [
       "0.567020349793672"
      ]
     },
     "execution_count": 50,
     "metadata": {},
     "output_type": "execute_result"
    }
   ],
   "source": [
    "# извлекаем значение, соответствующее периоду 2014-06\n",
    "ps['2014-06']"
   ]
  },
  {
   "cell_type": "code",
   "execution_count": 51,
   "id": "d90e12bb-5476-41b8-9b8a-3ec2351507d8",
   "metadata": {},
   "outputs": [
    {
     "data": {
      "text/plain": [
       "2014-01    0.721555\n",
       "2014-02   -0.706771\n",
       "2014-03   -1.039575\n",
       "2014-04    0.271860\n",
       "2014-05   -0.424972\n",
       "2014-06    0.567020\n",
       "2014-07    0.276232\n",
       "2014-08   -1.087401\n",
       "2014-09   -0.673690\n",
       "2014-10    0.113648\n",
       "2014-11   -1.478427\n",
       "2014-12    0.524988\n",
       "Freq: M, dtype: float64"
      ]
     },
     "execution_count": 51,
     "metadata": {},
     "output_type": "execute_result"
    }
   ],
   "source": [
    "# извлекаем значения для всех периодов в 2014 году\n",
    "ps['2014']"
   ]
  },
  {
   "cell_type": "code",
   "execution_count": 52,
   "id": "3e30a466-3dca-42c6-a8ab-30ad2719def2",
   "metadata": {},
   "outputs": [
    {
     "data": {
      "text/plain": [
       "2014-03   -1.039575\n",
       "2014-04    0.271860\n",
       "2014-05   -0.424972\n",
       "2014-06    0.567020\n",
       "Freq: M, dtype: float64"
      ]
     },
     "execution_count": 52,
     "metadata": {},
     "output_type": "execute_result"
    }
   ],
   "source": [
    "# извлекаем все значения, соответствующие периодам с марта по июнь 2014 года включительно\n",
    "ps['2014-03':'2014-06']"
   ]
  },
  {
   "cell_type": "markdown",
   "id": "39f7a6c4-c39b-428f-be5b-00b0e93bb083",
   "metadata": {},
   "source": [
    "#### Обработка праздников с помощью календарей (стр. 280)"
   ]
  },
  {
   "cell_type": "code",
   "execution_count": 53,
   "id": "40aac7d6-d688-4229-a64f-c95b6f499510",
   "metadata": {},
   "outputs": [
    {
     "name": "stdout",
     "output_type": "stream",
     "text": [
      "2014-01-01 00:00:00 <class 'pandas._libs.tslibs.timestamps.Timestamp'>\n",
      "2014-01-20 00:00:00 <class 'pandas._libs.tslibs.timestamps.Timestamp'>\n",
      "2014-02-17 00:00:00 <class 'pandas._libs.tslibs.timestamps.Timestamp'>\n",
      "2014-05-26 00:00:00 <class 'pandas._libs.tslibs.timestamps.Timestamp'>\n",
      "2014-07-04 00:00:00 <class 'pandas._libs.tslibs.timestamps.Timestamp'>\n",
      "2014-09-01 00:00:00 <class 'pandas._libs.tslibs.timestamps.Timestamp'>\n",
      "2014-10-13 00:00:00 <class 'pandas._libs.tslibs.timestamps.Timestamp'>\n",
      "2014-11-11 00:00:00 <class 'pandas._libs.tslibs.timestamps.Timestamp'>\n",
      "2014-11-27 00:00:00 <class 'pandas._libs.tslibs.timestamps.Timestamp'>\n",
      "2014-12-25 00:00:00 <class 'pandas._libs.tslibs.timestamps.Timestamp'>\n"
     ]
    }
   ],
   "source": [
    "# демонстрируем использование календаря федеральных праздников США\n",
    "# сначала нужно импортировать его\n",
    "from pandas.tseries.holiday import USFederalHolidayCalendar\n",
    "\n",
    "# создаем его и демонстрируем, что он учитывает праздники\n",
    "cal = USFederalHolidayCalendar()\n",
    "for d in cal.holidays(start='2014-01-01', end='2014-12-31'):\n",
    "    print(d, type(d))"
   ]
  },
  {
   "cell_type": "code",
   "execution_count": 54,
   "id": "5d2cf0ca-5f8d-417b-ac08-0838bac0033f",
   "metadata": {},
   "outputs": [],
   "source": [
    "# создаем объект CustomBusinessDay на основе календаря федеральных праздников США\n",
    "cbd = CustomBusinessDay(holidays=cal.holidays())"
   ]
  },
  {
   "cell_type": "code",
   "execution_count": 55,
   "id": "bec4b6d3-7dbd-4db2-8853-27067c03d6c2",
   "metadata": {},
   "outputs": [
    {
     "data": {
      "text/plain": [
       "Timestamp('2014-09-02 00:00:00')"
      ]
     },
     "execution_count": 55,
     "metadata": {},
     "output_type": "execute_result"
    }
   ],
   "source": [
    "# теперь вычисляем рабочий день, следующий после 2014-8-29\n",
    "datetime(2014, 8, 29) + cbd"
   ]
  },
  {
   "cell_type": "markdown",
   "id": "ee1cce06-f22e-4f22-ae1e-31cf8ed2e32f",
   "metadata": {},
   "source": [
    "#### Нормализация временных меток с помощью часовых поясов\n",
    "Объекты, которые учитывают часовые пояса, поддерживают свойство **.tz**.\n",
    "По умолчанию объекты pandas, учитывающие часовые пояса, не используют объект\n",
    "timezone в целях повышения скорости вычислений. "
   ]
  },
  {
   "cell_type": "code",
   "execution_count": 56,
   "id": "f3ac6045-ec08-4e78-891a-4bc247d4fffa",
   "metadata": {},
   "outputs": [
    {
     "data": {
      "text/plain": [
       "(Timestamp('2025-02-13 17:19:17.276022'), True)"
      ]
     },
     "execution_count": 56,
     "metadata": {},
     "output_type": "execute_result"
    }
   ],
   "source": [
    "# извлекаем текущее местное время и демонстрируем, что\n",
    "# по умолчанию информация о часовом поясе отсутствует\n",
    "now = pd.Timestamp('now')\n",
    "now, now.tz is None"
   ]
  },
  {
   "cell_type": "code",
   "execution_count": 57,
   "id": "c62efeee-4a9f-4be5-b1a8-3c302829010d",
   "metadata": {},
   "outputs": [
    {
     "data": {
      "text/plain": [
       "(True, True)"
      ]
     },
     "execution_count": 57,
     "metadata": {},
     "output_type": "execute_result"
    }
   ],
   "source": [
    "# по умолчанию DatetimeIndex и его объекты Timestamps не содержат информацию о часовом поясе\n",
    "rng = pd.date_range('3/6/2012 00:00', periods=15, freq='D')\n",
    "rng.tz is None, rng[0].tz is None"
   ]
  },
  {
   "cell_type": "markdown",
   "id": "206aec6b-bbef-420b-be2d-7c8524dcbfa9",
   "metadata": {},
   "source": [
    "Список названий стандартных часовых поясов можно получить с помощью\n",
    "программного кода, приведенного ниже."
   ]
  },
  {
   "cell_type": "code",
   "execution_count": 58,
   "id": "3218565f-023e-45e0-a178-41fa40bf6cc9",
   "metadata": {},
   "outputs": [
    {
     "data": {
      "text/plain": [
       "(['Africa/Abidjan',\n",
       "  'Africa/Accra',\n",
       "  'Africa/Addis_Ababa',\n",
       "  'Africa/Algiers',\n",
       "  'Africa/Asmara'],\n",
       " 349    Europe/Moscow\n",
       " dtype: object)"
      ]
     },
     "execution_count": 58,
     "metadata": {},
     "output_type": "execute_result"
    }
   ],
   "source": [
    "# импортируем стандартные часовые пояса из библиотеки pytz\n",
    "from pytz import common_timezones\n",
    "cc = pd.Series(common_timezones)\n",
    "\n",
    "# выводим первые 5 часовых поясов\n",
    "common_timezones[:5], cc[cc.str.contains('Moscow', regex=True)] "
   ]
  },
  {
   "cell_type": "markdown",
   "id": "67289a0f-58ab-47f8-82df-99f072118f75",
   "metadata": {},
   "source": [
    "Местное UTC-время можно вычислить, воспользовавшись методом <mark>.tz_localize()</mark> объекта Timestamp и передав ему значение UTC"
   ]
  },
  {
   "cell_type": "code",
   "execution_count": 59,
   "id": "0577cc8c-629c-46b3-8e43-059c0d583b67",
   "metadata": {},
   "outputs": [
    {
     "data": {
      "text/plain": [
       "(Timestamp('2025-02-13 17:19:17.328708'),\n",
       " Timestamp('2025-02-13 17:19:17.328708+0000', tz='UTC'),\n",
       " Timestamp('2025-02-13 17:19:17.328708+0300', tz='Europe/Moscow'))"
      ]
     },
     "execution_count": 59,
     "metadata": {},
     "output_type": "execute_result"
    }
   ],
   "source": [
    "# получаем текущее время и преобразуем в UTC\n",
    "now = pd.Timestamp('now')\n",
    "local_now = now.tz_localize('UTC')\n",
    "local_now_mos = now.tz_localize('Europe/Moscow')\n",
    "now, local_now, local_now_mos"
   ]
  },
  {
   "cell_type": "code",
   "execution_count": 60,
   "id": "0675f95d-9238-47f6-8f05-a4fcdd0d13e7",
   "metadata": {},
   "outputs": [
    {
     "data": {
      "text/plain": [
       "(Timestamp('2014-08-01 12:00:00-0600', tz='US/Mountain'),\n",
       " Timestamp('2014-11-01 12:00:00+0300', tz='Europe/Moscow'))"
      ]
     },
     "execution_count": 60,
     "metadata": {},
     "output_type": "execute_result"
    }
   ],
   "source": [
    "# преобразуем временную метку в часовой пояс US/Mountain\n",
    "tstamp = pd.Timestamp('2014-08-01 12:00:00', tz='US/Mountain')\n",
    "tstamp_mos = pd.Timestamp('2014-11-01 12:00:00', tz='Europe/Moscow')\n",
    "\n",
    "tstamp, tstamp_mos"
   ]
  },
  {
   "cell_type": "code",
   "execution_count": 61,
   "id": "293dfcd8-1b01-49ce-b313-1b91e8ceac15",
   "metadata": {},
   "outputs": [
    {
     "data": {
      "text/plain": [
       "(<DstTzInfo 'US/Mountain' LMT-1 day, 17:00:00 STD>,\n",
       " <DstTzInfo 'US/Mountain' MST-1 day, 17:00:00 STD>)"
      ]
     },
     "execution_count": 61,
     "metadata": {},
     "output_type": "execute_result"
    }
   ],
   "source": [
    "# создаем индекс DatetimeIndex с помощью часового пояса\n",
    "rng = pd.date_range('3/6/2012 00:00:00', periods=10, freq='D', tz='US/Mountain')\n",
    "rng.tz, rng[0].tz"
   ]
  },
  {
   "cell_type": "markdown",
   "id": "04e23a39-a94b-44fd-870c-d22b8376ba50",
   "metadata": {},
   "source": [
    "Кроме того, можно явно задать несколько часовых поясов. Следующий\n",
    "программный код создает два часовых пояса (два разных объекта timezone)\n",
    "и преобразует временную метку в каждый из них"
   ]
  },
  {
   "cell_type": "code",
   "execution_count": 62,
   "id": "37ad7cea-425c-46d3-b7b1-d2e11b3304c9",
   "metadata": {},
   "outputs": [
    {
     "data": {
      "text/plain": [
       "(Timestamp('2025-02-13 17:19:17.328708-0700', tz='US/Mountain'),\n",
       " Timestamp('2025-02-13 17:19:17.328708-0500', tz='US/Eastern'),\n",
       " Timestamp('2025-02-13 17:19:17.328708+0300', tz='Europe/Moscow'))"
      ]
     },
     "execution_count": 62,
     "metadata": {},
     "output_type": "execute_result"
    }
   ],
   "source": [
    "# демонстрируем использование объектов timezone\n",
    "# необходимо импортировать библиотеку pytz\n",
    "import pytz\n",
    "\n",
    "# создаем два часовых пояса\n",
    "mountain_tz = pytz.timezone('US/Mountain')\n",
    "eastern_tz = pytz.timezone('US/Eastern')\n",
    "moscow_tz = pytz.timezone('Europe/Moscow')\n",
    "\n",
    "# применяем оба к временной метке 'now'\n",
    "mountain_tz.localize(now), eastern_tz.localize(now), moscow_tz.localize(now)"
   ]
  },
  {
   "cell_type": "markdown",
   "id": "df0bb66d-01e8-4452-9044-6c6f165aefc2",
   "metadata": {},
   "source": [
    "**Операции с несколькими временными рядами осуществляют выравнивание по объектам\n",
    "Timestamp в индексе, учитывая информацию о часовом поясе.**\n",
    "\n",
    "Чтобы продемонстрировать это, мы воспользуемся следующим программным кодом,\n",
    "которое создает два объекта Series с индексами DatetimeIndex, каждый с одинаковой\n",
    "начальной датой, одинаковым количеством периодов и одинаковой частотой, но\n",
    "с разными часовыми поясами"
   ]
  },
  {
   "cell_type": "code",
   "execution_count": 63,
   "id": "73d26aa0-801c-4dca-9e9b-98433d0cb401",
   "metadata": {},
   "outputs": [
    {
     "data": {
      "text/plain": [
       "(2014-08-01 00:00:00-06:00    0\n",
       " 2014-08-01 01:00:00-06:00    1\n",
       " 2014-08-01 02:00:00-06:00    2\n",
       " 2014-08-01 03:00:00-06:00    3\n",
       " 2014-08-01 04:00:00-06:00    4\n",
       " Freq: h, dtype: int64,\n",
       " 2014-08-01 00:00:00-04:00    0\n",
       " 2014-08-01 01:00:00-04:00    1\n",
       " 2014-08-01 02:00:00-04:00    2\n",
       " 2014-08-01 03:00:00-04:00    3\n",
       " 2014-08-01 04:00:00-04:00    4\n",
       " Freq: h, dtype: int64)"
      ]
     },
     "execution_count": 63,
     "metadata": {},
     "output_type": "execute_result"
    }
   ],
   "source": [
    "# создаем два объекта Series с одинаковой начальной датой, одинаковым количеством периодов,\n",
    "# одинаковой частотой, но с разными часовыми поясами\n",
    "s_mountain = pd.Series(np.arange(0, 5),\n",
    "                       index=pd.date_range('2014-08-01', periods=5, freq='h', tz='US/Mountain'))\n",
    "s_eastern = pd.Series(np.arange(0, 5),\n",
    "                        index=pd.date_range('2014-08-01', periods=5, freq=\"h\", tz='US/Eastern'))\n",
    "s_mountain, s_eastern"
   ]
  },
  {
   "cell_type": "code",
   "execution_count": 64,
   "id": "c62e8277-e322-4505-8c42-f654df205a40",
   "metadata": {},
   "outputs": [
    {
     "data": {
      "text/plain": [
       "2014-08-01 04:00:00+00:00    NaN\n",
       "2014-08-01 05:00:00+00:00    NaN\n",
       "2014-08-01 06:00:00+00:00    2.0\n",
       "2014-08-01 07:00:00+00:00    4.0\n",
       "2014-08-01 08:00:00+00:00    6.0\n",
       "2014-08-01 09:00:00+00:00    NaN\n",
       "2014-08-01 10:00:00+00:00    NaN\n",
       "Freq: h, dtype: float64"
      ]
     },
     "execution_count": 64,
     "metadata": {},
     "output_type": "execute_result"
    }
   ],
   "source": [
    "# складываем два объекта Series. В итоге происходит выравнивание только трех элементов\n",
    "s_eastern + s_mountain"
   ]
  },
  {
   "cell_type": "markdown",
   "id": "c22a9f9e-07fc-4f56-bcdc-808c7bdcea66",
   "metadata": {},
   "source": [
    "Преобразовать часовой пояс в другой можно с помощью метода <mark>tz_convert()</mark>"
   ]
  },
  {
   "cell_type": "code",
   "execution_count": 65,
   "id": "9aec63ff-0733-45bf-9a41-43b956e6df00",
   "metadata": {},
   "outputs": [
    {
     "data": {
      "text/plain": [
       "2014-07-31 21:00:00-07:00    0\n",
       "2014-07-31 22:00:00-07:00    1\n",
       "2014-07-31 23:00:00-07:00    2\n",
       "2014-08-01 00:00:00-07:00    3\n",
       "2014-08-01 01:00:00-07:00    4\n",
       "Freq: h, dtype: int64"
      ]
     },
     "execution_count": 65,
     "metadata": {},
     "output_type": "execute_result"
    }
   ],
   "source": [
    "# меняем часовой пояс с US/Eastern на US/Pacific\n",
    "s_pacific = s_eastern.tz_convert('US/Pacific')\n",
    "s_pacific"
   ]
  },
  {
   "cell_type": "code",
   "execution_count": 66,
   "id": "82681797-a694-4414-9c6b-50d1b55b8c43",
   "metadata": {},
   "outputs": [
    {
     "data": {
      "text/plain": [
       "2014-08-01 04:00:00+00:00    NaN\n",
       "2014-08-01 05:00:00+00:00    NaN\n",
       "2014-08-01 06:00:00+00:00    2.0\n",
       "2014-08-01 07:00:00+00:00    4.0\n",
       "2014-08-01 08:00:00+00:00    6.0\n",
       "2014-08-01 09:00:00+00:00    NaN\n",
       "2014-08-01 10:00:00+00:00    NaN\n",
       "Freq: h, dtype: float64"
      ]
     },
     "execution_count": 66,
     "metadata": {},
     "output_type": "execute_result"
    }
   ],
   "source": [
    "# получим тот же результат, что и при сложении s_eastern и s_mountain, поскольку часовые\n",
    "# пояса будут выровнены так же\n",
    "s_mountain + s_pacific"
   ]
  },
  {
   "cell_type": "markdown",
   "id": "9aed911f-0d54-459b-ad9d-688edce66d2d",
   "metadata": {},
   "source": [
    "### Операции с временными рядами"
   ]
  },
  {
   "cell_type": "markdown",
   "id": "04a3f8ea-0835-4a06-8e6a-3748d7a80728",
   "metadata": {},
   "source": [
    "#### Опережение и запаздывание\n",
    "Одна из распространенных операций, использующихся в работе с временными\n",
    "рядами, заключается в перемещении данных назад и вперед по временной оси.\n",
    "\n",
    "В библиотеке pandas для этого используется метод <mark>.shift()</mark>,\n",
    "который сдвигает значения серии или датафрейма на указанное количество\n",
    "единиц частоты в индексе.\n"
   ]
  },
  {
   "cell_type": "code",
   "execution_count": 67,
   "id": "61739630-8635-4ca1-a72a-0a86525a73a7",
   "metadata": {},
   "outputs": [
    {
     "data": {
      "text/plain": [
       "2014-08-01    1.0\n",
       "2014-08-02    2.0\n",
       "2014-08-03    2.5\n",
       "2014-08-04    1.5\n",
       "2014-08-05    0.5\n",
       "Freq: D, dtype: float64"
      ]
     },
     "execution_count": 67,
     "metadata": {},
     "output_type": "execute_result"
    }
   ],
   "source": [
    "# создаем объект Series, с которым будем работать\n",
    "np.random.seed(123456)\n",
    "ts = pd.Series([1, 2, 2.5, 1.5, 0.5], pd.date_range('2014-08-01', periods=5))\n",
    "ts"
   ]
  },
  {
   "cell_type": "code",
   "execution_count": 68,
   "id": "f2e252fc-88a7-4700-aaea-f9a6f7c57a10",
   "metadata": {},
   "outputs": [
    {
     "data": {
      "text/plain": [
       "2014-08-01    NaN\n",
       "2014-08-02    1.0\n",
       "2014-08-03    2.0\n",
       "2014-08-04    2.5\n",
       "2014-08-05    1.5\n",
       "Freq: D, dtype: float64"
      ]
     },
     "execution_count": 68,
     "metadata": {},
     "output_type": "execute_result"
    }
   ],
   "source": [
    "# сдвигаем значения на 1 день вперед (индекс остается неизменным)\n",
    "ts.shift(1)"
   ]
  },
  {
   "cell_type": "code",
   "execution_count": 69,
   "id": "db53e96f-6fcd-4d84-83f1-95d4205c4b2e",
   "metadata": {},
   "outputs": [
    {
     "data": {
      "text/plain": [
       "2014-08-01    2.5\n",
       "2014-08-02    1.5\n",
       "2014-08-03    0.5\n",
       "2014-08-04    NaN\n",
       "2014-08-05    NaN\n",
       "Freq: D, dtype: float64"
      ]
     },
     "execution_count": 69,
     "metadata": {},
     "output_type": "execute_result"
    }
   ],
   "source": [
    "# сдвигаем значения на 2 дня назад\n",
    "ts.shift(-2)"
   ]
  },
  {
   "cell_type": "markdown",
   "id": "6648e8fa-b466-44ff-8740-9987a0b4a5b8",
   "metadata": {},
   "source": [
    "**Распространенная операция, выполняемая с помощью сдвига**, заключается в вычислении\n",
    "ежедневного процентного изменения какого-то финансового показателя.\n",
    "\n",
    "Эту операцию можно выполнить, поделив значения объекта Series на\n",
    "эти же значения, только сдвинутые на 1"
   ]
  },
  {
   "cell_type": "code",
   "execution_count": 70,
   "id": "85d36794-9078-4dd7-b722-a00ebeea0925",
   "metadata": {},
   "outputs": [
    {
     "data": {
      "text/plain": [
       "2014-08-01         NaN\n",
       "2014-08-02    2.000000\n",
       "2014-08-03    1.250000\n",
       "2014-08-04    0.600000\n",
       "2014-08-05    0.333333\n",
       "Freq: D, dtype: float64"
      ]
     },
     "execution_count": 70,
     "metadata": {},
     "output_type": "execute_result"
    }
   ],
   "source": [
    "# вычисляем ежедневное процентное изменение\n",
    "ts / ts.shift(1)"
   ]
  },
  {
   "cell_type": "markdown",
   "id": "fad66651-fede-451f-9e2a-549f9a5216a1",
   "metadata": {},
   "source": [
    "**Можно сдвинуть НЕ значения, а сами временные метки.** При этом индекс будет\n",
    "изменен, а значения останутся неизменными."
   ]
  },
  {
   "cell_type": "code",
   "execution_count": 71,
   "id": "a8999343-dc77-4bf1-a59c-7b0459ec8b6e",
   "metadata": {},
   "outputs": [
    {
     "data": {
      "text/plain": [
       "2014-08-04    1.0\n",
       "2014-08-04    2.0\n",
       "2014-08-04    2.5\n",
       "2014-08-05    1.5\n",
       "2014-08-06    0.5\n",
       "dtype: float64"
      ]
     },
     "execution_count": 71,
     "metadata": {},
     "output_type": "execute_result"
    }
   ],
   "source": [
    "# сдвигаем вперед на один рабочий день\n",
    "ts.shift(1, freq='b')"
   ]
  },
  {
   "cell_type": "code",
   "execution_count": 72,
   "id": "ca53c042-c37c-482b-bd28-14d130e4cd60",
   "metadata": {},
   "outputs": [
    {
     "data": {
      "text/plain": [
       "2014-08-01 05:00:00    1.0\n",
       "2014-08-02 05:00:00    2.0\n",
       "2014-08-03 05:00:00    2.5\n",
       "2014-08-04 05:00:00    1.5\n",
       "2014-08-05 05:00:00    0.5\n",
       "Freq: D, dtype: float64"
      ]
     },
     "execution_count": 72,
     "metadata": {},
     "output_type": "execute_result"
    }
   ],
   "source": [
    "# сдвигаем на 5 часов вперед\n",
    "ts.shift(5, freq='h')"
   ]
  },
  {
   "cell_type": "markdown",
   "id": "23b8f32a-eabb-4d81-abd8-04b02e2dbce1",
   "metadata": {},
   "source": [
    "Кроме того, временной ряд можно сдвинуть с помощью объекта **DateOffset**. "
   ]
  },
  {
   "cell_type": "code",
   "execution_count": 73,
   "id": "197055c4-73f7-4cf4-a7ec-c6b4f3f111a4",
   "metadata": {},
   "outputs": [
    {
     "data": {
      "text/plain": [
       "2014-08-01 00:00:30    1.0\n",
       "2014-08-02 00:00:30    2.0\n",
       "2014-08-03 00:00:30    2.5\n",
       "2014-08-04 00:00:30    1.5\n",
       "2014-08-05 00:00:30    0.5\n",
       "dtype: float64"
      ]
     },
     "execution_count": 73,
     "metadata": {},
     "output_type": "execute_result"
    }
   ],
   "source": [
    "# сдвигаем с помощью объекта DateOffset\n",
    "ts.shift(1, DateOffset(minutes=0.5))"
   ]
  },
  {
   "cell_type": "markdown",
   "id": "20bc1d07-9e46-41c1-a248-53a98ce8cfad",
   "metadata": {},
   "source": [
    "#### Преобразование частоты временного ряда\n",
    "Частоту временного ряда можно преобразовать с помощью метода <mark>.asfreq()</mark>\n",
    "объекта, в котором записан временной ряд.\n",
    "\n",
    "В результате преобразования частоты будет создан новый объект Series с индексом\n",
    "DatatimeIndex. \n",
    "\n",
    "Индекс DatetimeIndex нового объекта начинается с первой временной\n",
    "метки исходной серии и последовательно изменяется с определенной частотой вплоть\n",
    "до последней временной метки исходной серии. Затем происходит выравнивание значений."
   ]
  },
  {
   "cell_type": "code",
   "execution_count": 74,
   "id": "58986827-c755-4f1b-b360-cca196057365",
   "metadata": {},
   "outputs": [
    {
     "data": {
      "text/plain": [
       "2014-08-01 00:00:00    0\n",
       "2014-08-01 01:00:00    1\n",
       "2014-08-01 02:00:00    2\n",
       "2014-08-01 03:00:00    3\n",
       "2014-08-01 04:00:00    4\n",
       "Freq: h, dtype: int64"
      ]
     },
     "execution_count": 74,
     "metadata": {},
     "output_type": "execute_result"
    }
   ],
   "source": [
    "# создаем серию последовательно возрастающих значений,\n",
    "# представляющих собой часовые интервалы всех дней августа 2014 года\n",
    "periods = 31 * 24\n",
    "hourly = pd.Series(np.arange(0, periods),\n",
    "                  pd.date_range('08-01-2014', freq='h', periods=periods))\n",
    "hourly[:5]"
   ]
  },
  {
   "cell_type": "code",
   "execution_count": 75,
   "id": "661dc353-e1ff-47d3-8e22-1cc682b7d765",
   "metadata": {},
   "outputs": [
    {
     "data": {
      "text/plain": [
       "(2014-08-01     0\n",
       " 2014-08-02    24\n",
       " 2014-08-03    48\n",
       " 2014-08-04    72\n",
       " 2014-08-05    96\n",
       " Freq: D, dtype: int64,\n",
       " 31)"
      ]
     },
     "execution_count": 75,
     "metadata": {},
     "output_type": "execute_result"
    }
   ],
   "source": [
    "# преобразуем ежечасовую частоту временного ряда в ежесуточную\n",
    "# многие элементы будут удалены из-за выравнивания\n",
    "daily = hourly.asfreq('D')\n",
    "daily[:5], len(daily)"
   ]
  },
  {
   "cell_type": "code",
   "execution_count": 76,
   "id": "6282f834-795e-4f6b-ab06-430f2cb31544",
   "metadata": {},
   "outputs": [
    {
     "data": {
      "text/plain": [
       "2014-08-01 00:00:00      0.0\n",
       "2014-08-01 01:00:00      NaN\n",
       "2014-08-01 02:00:00      NaN\n",
       "2014-08-01 03:00:00      NaN\n",
       "2014-08-01 04:00:00      NaN\n",
       "                       ...  \n",
       "2014-08-30 20:00:00      NaN\n",
       "2014-08-30 21:00:00      NaN\n",
       "2014-08-30 22:00:00      NaN\n",
       "2014-08-30 23:00:00      NaN\n",
       "2014-08-31 00:00:00    720.0\n",
       "Freq: h, Length: 721, dtype: float64"
      ]
     },
     "execution_count": 76,
     "metadata": {},
     "output_type": "execute_result"
    }
   ],
   "source": [
    "# преобразуем обратно В ежечасовую частоту, в результате получим множество значений NaN,\n",
    "# поскольку новый индекс содержит много меток, не соответствующих меткам\n",
    "# исходного временного ряда\n",
    "daily.asfreq('h')"
   ]
  },
  {
   "cell_type": "code",
   "execution_count": 77,
   "id": "68df8aea-053f-4bb8-a051-cfd653a575a3",
   "metadata": {},
   "outputs": [
    {
     "data": {
      "text/plain": [
       "2014-08-01 00:00:00      0\n",
       "2014-08-01 01:00:00      0\n",
       "2014-08-01 02:00:00      0\n",
       "2014-08-01 03:00:00      0\n",
       "2014-08-01 04:00:00      0\n",
       "                      ... \n",
       "2014-08-30 20:00:00    696\n",
       "2014-08-30 21:00:00    696\n",
       "2014-08-30 22:00:00    696\n",
       "2014-08-30 23:00:00    696\n",
       "2014-08-31 00:00:00    720\n",
       "Freq: h, Length: 721, dtype: int64"
      ]
     },
     "execution_count": 77,
     "metadata": {},
     "output_type": "execute_result"
    }
   ],
   "source": [
    "# выполняем прямое заполнение значений\n",
    "daily.asfreq('h', method='ffill')"
   ]
  },
  {
   "cell_type": "markdown",
   "id": "b930b498-a183-4417-a7f5-06b15157bd96",
   "metadata": {},
   "source": [
    "#### Увеличение или уменьшение шага дискретизации временного ряда (стр. 290)\n",
    "**Изменение шага дискретизации временного ряда отличается тем, что оно не выполняет\n",
    "выравнивание в чистом виде.** Значения новой серии могут использовать те же самые  параметры прямого и обратного заполнения, но их можно указать и с помощью других\n",
    "способов, предлагаемых библиотекой pandas, или с помощью собственных функций. "
   ]
  },
  {
   "cell_type": "code",
   "execution_count": 78,
   "id": "a1f60c1b-8e2a-4f01-ab88-7b6bfe47b3ab",
   "metadata": {},
   "outputs": [
    {
     "data": {
      "text/plain": [
       "2014-08-01 00:00:00      0.469112\n",
       "2014-08-01 00:00:01      0.186249\n",
       "2014-08-01 00:00:02     -1.322810\n",
       "2014-08-01 00:00:03     -2.458442\n",
       "2014-08-01 00:00:04     -1.246330\n",
       "                          ...    \n",
       "2014-08-05 23:59:55    456.529763\n",
       "2014-08-05 23:59:56    456.052131\n",
       "2014-08-05 23:59:57    455.202981\n",
       "2014-08-05 23:59:58    454.947362\n",
       "2014-08-05 23:59:59    456.191430\n",
       "Freq: s, Length: 432000, dtype: float64"
      ]
     },
     "execution_count": 78,
     "metadata": {},
     "output_type": "execute_result"
    }
   ],
   "source": [
    "# сгенерируем случайное блуждание за 5 дней по 1-секундным интервалам\n",
    "# получим большое количество значений\n",
    "count = 24 * 60 * 60 * 5\n",
    "\n",
    "# создаем серию значений\n",
    "np.random.seed(123456)\n",
    "values = np.random.randn(count)\n",
    "ws = pd.Series(values)\n",
    "\n",
    "# вычисляем накопленную сумму\n",
    "walk = ws.cumsum()\n",
    "\n",
    "# создаем индекс\n",
    "walk.index = pd.date_range('2014-08-01', periods=count, freq='s')\n",
    "walk"
   ]
  },
  {
   "cell_type": "markdown",
   "id": "dc1b7d76-7401-4523-b940-7cb4d8ae718b",
   "metadata": {},
   "source": [
    "Изменение шага дискретизации (передискретизация) в библиотеке pandas выполняется\n",
    "с помощью метода <mark>.resample() и передачи в него новой частоты."
   ]
  },
  {
   "cell_type": "code",
   "execution_count": 79,
   "id": "13ca1c5e-aa2c-40ad-84b3-18414314a013",
   "metadata": {},
   "outputs": [
    {
     "data": {
      "text/plain": [
       "2014-08-01 00:00:00     -8.718220\n",
       "2014-08-01 00:01:00    -15.239213\n",
       "2014-08-01 00:02:00     -9.179315\n",
       "2014-08-01 00:03:00     -8.338307\n",
       "2014-08-01 00:04:00     -8.129554\n",
       "                          ...    \n",
       "2014-08-05 23:55:00    453.773467\n",
       "2014-08-05 23:56:00    450.857039\n",
       "2014-08-05 23:57:00    450.078149\n",
       "2014-08-05 23:58:00    444.637806\n",
       "2014-08-05 23:59:00    453.837417\n",
       "Freq: min, Length: 7200, dtype: float64"
      ]
     },
     "execution_count": 79,
     "metadata": {},
     "output_type": "execute_result"
    }
   ],
   "source": [
    "# уменьшаем шаг дискретизации, преобразуем односекундные интервалы в одноминутные\n",
    "walk.resample('min').mean()"
   ]
  },
  {
   "cell_type": "markdown",
   "id": "9d7eadae-8fa6-424c-9b57-8fcb7dea3689",
   "metadata": {},
   "source": [
    "**Передискретизация фактически делит данные на интервалы на основе новых периодов,\n",
    "а затем применяет конкретную операцию к данным каждого интервала,**\n",
    "в нашем случае вычисляет среднее значение интервала."
   ]
  },
  {
   "cell_type": "code",
   "execution_count": 80,
   "id": "abd01309-e77c-4e6f-af55-5696cc73cc36",
   "metadata": {},
   "outputs": [
    {
     "data": {
      "text/plain": [
       "-8.718220052832644"
      ]
     },
     "execution_count": 80,
     "metadata": {},
     "output_type": "execute_result"
    }
   ],
   "source": [
    "# вычисляем среднее значение первой минуты блуждания (как проверка кода выше - проверка 1-го зн.)\n",
    "walk['2014-08-01 00:00'].mean()"
   ]
  },
  {
   "cell_type": "markdown",
   "id": "231baff1-8630-4a3e-8381-b86bbe102fa5",
   "metadata": {},
   "source": [
    "Поскольку при понижающей передискретизации существующие данные помещаются в интервалы\n",
    "на основе новых периодов, часто возникает вопрос о том, какие значения должны\n",
    "находиться на границах интервалов. Например, должен ли первый интервал предыдущего \n",
    "временного ряда начинаться с 2014-08-01 00:00:00 и заканчиваться в 2014-08-01 23:59:59,\n",
    "или он должен начинаться в 2014-08-03 23:59:59, а заканчиваться в 2014-08-04 00:00:00?\n",
    "\n",
    "**По умолчанию используется первый вариант**, и такой интервал называют закрытым слева. "
   ]
  },
  {
   "cell_type": "code",
   "execution_count": 81,
   "id": "f3dbede4-8ad8-4358-9098-fb205356987a",
   "metadata": {},
   "outputs": [
    {
     "data": {
      "text/plain": [
       "2014-07-31 23:59:00      0.469112\n",
       "2014-08-01 00:00:00     -8.907477\n",
       "2014-08-01 00:01:00    -15.280685\n",
       "2014-08-01 00:02:00     -9.083865\n",
       "2014-08-01 00:03:00     -8.285550\n",
       "                          ...    \n",
       "2014-08-05 23:55:00    453.726168\n",
       "2014-08-05 23:56:00    450.849039\n",
       "2014-08-05 23:57:00    450.039159\n",
       "2014-08-05 23:58:00    444.631719\n",
       "2014-08-05 23:59:00    453.955377\n",
       "Freq: min, Length: 7201, dtype: float64"
      ]
     },
     "execution_count": 81,
     "metadata": {},
     "output_type": "execute_result"
    }
   ],
   "source": [
    "# используем интервалы, закрытые справа\n",
    "walk.resample('min', closed='right').mean()"
   ]
  },
  {
   "cell_type": "code",
   "execution_count": 82,
   "id": "6d8a8a4c-0946-492a-ae52-82ba7879512c",
   "metadata": {},
   "outputs": [
    {
     "data": {
      "text/plain": [
       "2014-08-01 00:00:00      0.469112\n",
       "2014-08-01 00:01:00    -10.886314\n",
       "2014-08-01 00:02:00    -13.374656\n",
       "2014-08-01 00:03:00     -7.647693\n",
       "2014-08-01 00:04:00     -4.482292\n",
       "                          ...    \n",
       "2014-08-05 23:55:00    452.900335\n",
       "2014-08-05 23:56:00    450.062374\n",
       "2014-08-05 23:57:00    449.582419\n",
       "2014-08-05 23:58:00    447.243014\n",
       "2014-08-05 23:59:00    446.877810\n",
       "Freq: min, Length: 7200, dtype: float64"
      ]
     },
     "execution_count": 82,
     "metadata": {},
     "output_type": "execute_result"
    }
   ],
   "source": [
    "# преобразовываем в 1-минутные интервалы\n",
    "walk.resample('min').first()"
   ]
  },
  {
   "cell_type": "code",
   "execution_count": 83,
   "id": "fb5f09ce-6f90-4582-a2cb-c2766bd645aa",
   "metadata": {},
   "outputs": [
    {
     "data": {
      "text/plain": [
       "2014-08-01 00:00:00     -8.718220\n",
       "2014-08-01 00:00:01           NaN\n",
       "2014-08-01 00:00:02           NaN\n",
       "2014-08-01 00:00:03           NaN\n",
       "2014-08-01 00:00:04           NaN\n",
       "                          ...    \n",
       "2014-08-05 23:58:56           NaN\n",
       "2014-08-05 23:58:57           NaN\n",
       "2014-08-05 23:58:58           NaN\n",
       "2014-08-05 23:58:59           NaN\n",
       "2014-08-05 23:59:00    453.837417\n",
       "Freq: s, Length: 431941, dtype: float64"
      ]
     },
     "execution_count": 83,
     "metadata": {},
     "output_type": "execute_result"
    }
   ],
   "source": [
    "# преобразовываем в 1-минутные интервалы, а затем в 1-секундные\n",
    "bymin = walk.resample('min').mean()\n",
    "bymin.resample('s').mean()"
   ]
  },
  {
   "cell_type": "code",
   "execution_count": 84,
   "id": "dfed511e-ef49-4294-a898-21a9bbfc1c88",
   "metadata": {},
   "outputs": [
    {
     "data": {
      "text/plain": [
       "2014-08-01 00:00:00     -8.718220\n",
       "2014-08-01 00:00:01    -15.239213\n",
       "2014-08-01 00:00:02    -15.239213\n",
       "2014-08-01 00:00:03    -15.239213\n",
       "2014-08-01 00:00:04    -15.239213\n",
       "                          ...    \n",
       "2014-08-05 23:58:56    453.837417\n",
       "2014-08-05 23:58:57    453.837417\n",
       "2014-08-05 23:58:58    453.837417\n",
       "2014-08-05 23:58:59    453.837417\n",
       "2014-08-05 23:59:00    453.837417\n",
       "Freq: s, Length: 431941, dtype: float64"
      ]
     },
     "execution_count": 84,
     "metadata": {},
     "output_type": "execute_result"
    }
   ],
   "source": [
    "#  преобразуем в 1-секундные интервалы, используя обратное заполнение\n",
    "bymin.resample('s').bfill()"
   ]
  },
  {
   "cell_type": "code",
   "execution_count": 85,
   "id": "3d3c343b-b143-4656-b919-00c469b21880",
   "metadata": {},
   "outputs": [
    {
     "data": {
      "text/plain": [
       "2014-08-01 00:00:00     -8.718220\n",
       "2014-08-01 00:00:01     -8.826903\n",
       "2014-08-01 00:00:02     -8.935586\n",
       "2014-08-01 00:00:03     -9.044270\n",
       "2014-08-01 00:00:04     -9.152953\n",
       "                          ...    \n",
       "2014-08-05 23:58:56    453.224110\n",
       "2014-08-05 23:58:57    453.377437\n",
       "2014-08-05 23:58:58    453.530764\n",
       "2014-08-05 23:58:59    453.684090\n",
       "2014-08-05 23:59:00    453.837417\n",
       "Freq: s, Length: 431941, dtype: float64"
      ]
     },
     "execution_count": 85,
     "metadata": {},
     "output_type": "execute_result"
    }
   ],
   "source": [
    "# демонстрируем интерполяцию значений NaN\n",
    "interpolated = bymin.resample('s').interpolate()\n",
    "interpolated"
   ]
  },
  {
   "cell_type": "markdown",
   "id": "0f7cb3e6-2c87-4bcb-8e2a-cca7b9121b93",
   "metadata": {},
   "source": [
    "Библиотека pandas предлагает еще один удобный способ передискретизации\n",
    "временного ряда под названием open high low close. Данный способ реализован с помощью ме-\n",
    "тода <mark>.ohlc()</mark>."
   ]
  },
  {
   "cell_type": "code",
   "execution_count": 86,
   "id": "4bd46037-ba2d-499e-baea-804b812548d6",
   "metadata": {},
   "outputs": [
    {
     "data": {
      "text/plain": [
       "                           open        high         low       close\n",
       "2014-08-01 00:00:00    0.469112    0.469112  -67.873166   -2.922520\n",
       "2014-08-01 01:00:00   -3.374321   23.793007  -56.585154  -55.101543\n",
       "2014-08-01 02:00:00  -54.276885    5.232441  -87.809456    1.913276\n",
       "2014-08-01 03:00:00    0.260576   17.124638  -65.820652  -38.530620\n",
       "2014-08-01 04:00:00  -38.436581    3.537231 -109.805294  -61.014553\n",
       "...                         ...         ...         ...         ...\n",
       "2014-08-05 19:00:00  437.652077  550.408942  430.549178  494.471788\n",
       "2014-08-05 20:00:00  496.539759  510.371745  456.365565  476.505765\n",
       "2014-08-05 21:00:00  476.025498  506.952877  425.472410  498.547578\n",
       "2014-08-05 22:00:00  497.941355  506.599652  411.119919  443.925832\n",
       "2014-08-05 23:00:00  443.017962  489.083657  426.062444  456.191430\n",
       "\n",
       "[120 rows x 4 columns]"
      ]
     },
     "execution_count": 86,
     "metadata": {},
     "output_type": "execute_result"
    }
   ],
   "source": [
    "# демонстрируем передискретизацию ohlc\n",
    "ohlc = walk.resample('h').ohlc()\n",
    "ohlc"
   ]
  },
  {
   "cell_type": "markdown",
   "id": "d04942f2-db52-43fe-abcd-2362d06ff343",
   "metadata": {},
   "source": [
    "#### Применение к временному ряду операций на основе скользящего окна\n",
    "Библиотека pandas предлагает ряд функций, позволяющих вычислять статистики,\n",
    "меняющиеся со временем (также известные как скользящие статистики). В рамках\n",
    "подхода «скользящее окно» библиотека pandas вычисляет статистику по «окну»\n",
    "данных, представляющему определенный период времени. Затем окно смещается на определенный интервал времени, и статистика постоянно вычисляется для каждого нового окна до тех пор, пока окно охватывает даты временного ряда.\n"
   ]
  },
  {
   "cell_type": "code",
   "execution_count": 87,
   "id": "2fdd0642-b078-4908-8a90-927e7523c1bc",
   "metadata": {},
   "outputs": [
    {
     "data": {
      "text/plain": [
       "<Axes: >"
      ]
     },
     "execution_count": 87,
     "metadata": {},
     "output_type": "execute_result"
    },
    {
     "data": {
      "image/png": "[encoded data removed]",
      "text/plain": [
       "<Figure size 640x480 with 1 Axes>"
      ]
     },
     "metadata": {},
     "output_type": "display_data"
    }
   ],
   "source": [
    "# извлекаем данные по одному 1-минутному интервалу\n",
    "first_minute = walk['2014-08-01 00:00']\n",
    "\n",
    "# вычисляем скользящее среднее с шириной окна 5 периодов\n",
    "means = first_minute.rolling(window=5, center=False).mean()\n",
    "\n",
    "# сравним средние с исходными данными\n",
    "means.plot()\n",
    "first_minute.plot()"
   ]
  },
  {
   "cell_type": "code",
   "execution_count": 88,
   "id": "cdc8b9c9-4052-4d94-8b6c-a34624fd894d",
   "metadata": {},
   "outputs": [
    {
     "data": {
      "text/plain": [
       "<Axes: >"
      ]
     },
     "execution_count": 88,
     "metadata": {},
     "output_type": "execute_result"
    },
    {
     "data": {
      "image/png": "[encoded data removed]",
      "text/plain": [
       "<Figure size 640x480 with 1 Axes>"
      ]
     },
     "metadata": {},
     "output_type": "display_data"
    }
   ],
   "source": [
    "# демонстрируем разницу между скользящими окнами шириной 2, 5 и 10\n",
    "h1w = walk['2014-08-01 00:00']\n",
    "means2 = h1w.rolling(window=2, center=False).mean()\n",
    "means5 = h1w.rolling(window=5, center=False).mean()\n",
    "means10 = h1w.rolling(window=10, center=False).mean()\n",
    "h1w.plot()\n",
    "means2.plot()\n",
    "means5.plot()\n",
    "means10.plot()"
   ]
  },
  {
   "cell_type": "markdown",
   "id": "2c11d33e-a631-45a1-ab5e-292d8fc1ac23",
   "metadata": {},
   "source": [
    "С помощью метода <mark>.rolling().apply()</mark> к значениям, попавшим в окно, можно\n",
    "применить любую пользовательскую функцию. Этой функции можно передать\n",
    "массив значений, попавших в окно, и будет возвращено одно значение. Затем\n",
    "библиотека pandas объединяет результаты, полученные по каждому окну, во вре-\n",
    "менной ряд."
   ]
  },
  {
   "cell_type": "code",
   "execution_count": 89,
   "id": "2369d3f6-f85f-47fa-978a-007d57415af9",
   "metadata": {},
   "outputs": [
    {
     "data": {
      "text/plain": [
       "<Axes: >"
      ]
     },
     "execution_count": 89,
     "metadata": {},
     "output_type": "execute_result"
    },
    {
     "data": {
      "image/png": "[encoded data removed]",
      "text/plain": [
       "<Figure size 640x480 with 1 Axes>"
      ]
     },
     "metadata": {},
     "output_type": "display_data"
    }
   ],
   "source": [
    "# вычисляем среднее абсолютное значение\n",
    "# для окна с 5 интервалами\n",
    "mean_abs_dev = lambda x: np.fabs(x - x.mean()).mean()\n",
    "def mean_abs_dev_debugg(x):\n",
    "    return np.fabs(x - x.mean()).mean()\n",
    "\n",
    "means = h1w.rolling(window=5, center=False).apply(mean_abs_dev, raw=True)\n",
    "means2 = h1w.rolling(window=5, center=False).apply(mean_abs_dev_debugg, raw=True)\n",
    "means.plot()"
   ]
  },
  {
   "cell_type": "markdown",
   "id": "71c1375f-c5f9-441a-8a16-63bc1370914a",
   "metadata": {},
   "source": [
    "Среднее значение c расширяющимся окном можно вычислить с помощью небольшой\n",
    "модификации функции pd.rolling_mean, которая многократно вычисляет среднее\n",
    "значение, всегда начиная с первого значения временного ряда и в каждой итерации\n",
    "увеличивая размер окна на единицу. \n",
    "\n",
    "Среднее с расширяющимся окном будет более стабильным (менее чувствительным)\n",
    "показателем, чем обычное скользящее среднее, потому что чем больше размер\n",
    "окна, тем меньше влияние следующего значения"
   ]
  },
  {
   "cell_type": "code",
   "execution_count": 93,
   "id": "d9700fd2-c123-4420-9aab-bb4a270239c8",
   "metadata": {},
   "outputs": [
    {
     "data": {
      "text/plain": [
       "<Axes: >"
      ]
     },
     "execution_count": 93,
     "metadata": {},
     "output_type": "execute_result"
    },
    {
     "data": {
      "image/png": "[encoded data removed]",
      "text/plain": [
       "<Figure size 640x480 with 1 Axes>"
      ]
     },
     "metadata": {},
     "output_type": "display_data"
    }
   ],
   "source": [
    "# вычисляем среднее с расширяющимся окном\n",
    "h1w.plot()\n",
    "expanding = h1w.expanding(min_periods=1).mean()\n",
    "expanding.plot()"
   ]
  },
  {
   "cell_type": "code",
   "execution_count": null,
   "id": "20efd753-ad2f-4610-b12d-c70372aa2ca2",
   "metadata": {},
   "outputs": [],
   "source": []
  }
 ],
 "metadata": {
  "kernelspec": {
   "display_name": "Python 3 (ipykernel)",
   "language": "python",
   "name": "python3"
  },
  "language_info": {
   "codemirror_mode": {
    "name": "ipython",
    "version": 3
   },
   "file_extension": ".py",
   "mimetype": "text/x-python",
   "name": "python",
   "nbconvert_exporter": "python",
   "pygments_lexer": "ipython3",
   "version": "3.10.14"
  }
 },
 "nbformat": 4,
 "nbformat_minor": 5
}
