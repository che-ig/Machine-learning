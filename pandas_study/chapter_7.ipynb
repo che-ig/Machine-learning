{
 "cells": [
  {
   "cell_type": "code",
   "execution_count": 1,
   "metadata": {},
   "outputs": [],
   "source": [
    "import pandas as pd\n",
    "import numpy as np\n",
    "import matplotlib.pyplot as plt\n",
    "from datetime import datetime, date\n",
    "\n",
    "pd.set_option('display.notebook_repr_html', False)\n",
    "pd.set_option('display.max_columns', 8)\n",
    "pd.set_option('display.max_rows', 15)\n",
    "pd.set_option('display.width', 65)\n",
    "%matplotlib inline"
   ]
  },
  {
   "cell_type": "markdown",
   "metadata": {},
   "source": [
    "## Категориальные данные\n",
    "\n",
    "Категориальная переменная – это тип переменной в статистике, который представляет собой ограниченный и часто фиксированный набор значений.\n",
    "\n",
    "К распространенным\n",
    "категориальным переменным относятся пол (когда есть два значения: мужчина\n",
    "и женщина) или группа крови (например, A, B и 0).\n"
   ]
  },
  {
   "cell_type": "markdown",
   "metadata": {},
   "source": [
    "#### Создание категориальной переменной из списка"
   ]
  },
  {
   "cell_type": "code",
   "execution_count": 2,
   "metadata": {},
   "outputs": [
    {
     "data": {
      "text/plain": [
       "['low', 'high', 'medium', 'medium', 'high']\n",
       "Categories (3, object): ['high', 'low', 'medium']"
      ]
     },
     "execution_count": 2,
     "metadata": {},
     "output_type": "execute_result"
    }
   ],
   "source": [
    "lmh_values = [\"low\", \"high\", \"medium\", \"medium\", \"high\"]\n",
    "lmh_cat = pd.Categorical(lmh_values)\n",
    "lmh_cat"
   ]
  },
  {
   "cell_type": "markdown",
   "metadata": {},
   "source": [
    "#### Смотрим категории"
   ]
  },
  {
   "cell_type": "code",
   "execution_count": 3,
   "metadata": {},
   "outputs": [
    {
     "data": {
      "text/plain": [
       "Index(['high', 'low', 'medium'], dtype='object')"
      ]
     },
     "execution_count": 3,
     "metadata": {},
     "output_type": "execute_result"
    }
   ],
   "source": [
    "# Объект categories создает индекс, состоящий из трех различных значений в заданном списке.\n",
    "lmh_cat.categories"
   ]
  },
  {
   "cell_type": "code",
   "execution_count": 4,
   "metadata": {},
   "outputs": [
    {
     "data": {
      "text/plain": [
       "array([1, 0, 2, 2, 0], dtype=int8)"
      ]
     },
     "execution_count": 4,
     "metadata": {},
     "output_type": "execute_result"
    }
   ],
   "source": [
    "# Свойство .codes показывает коды (целочисленные значения)\n",
    "# для каждого значения категориальной переменной\n",
    "lmh_cat.codes\n"
   ]
  },
  {
   "cell_type": "code",
   "execution_count": 5,
   "metadata": {},
   "outputs": [
    {
     "name": "stdout",
     "output_type": "stream",
     "text": [
      "['low', 'high', 'medium', 'medium', 'high']\n",
      "Categories (3, object): ['low', 'medium', 'high']\n",
      "\n",
      "low       1\n",
      "medium    2\n",
      "high      2\n",
      "Name: count, dtype: int64\n"
     ]
    }
   ],
   "source": [
    "# Создадим объект категорий из списка, но при этом ЯВНО УКАЖЕМ КАТЕГОРИИ\n",
    "# будет собдюден порядок указанных категорий\n",
    "lmh_cat = pd.Categorical(lmh_values, categories=[\"low\", \"medium\", \"high\"])\n",
    "print(lmh_cat, end='\\n\\n')\n",
    "print(lmh_cat.value_counts())\n"
   ]
  },
  {
   "cell_type": "markdown",
   "metadata": {},
   "source": [
    "#### Коды выглядят так"
   ]
  },
  {
   "cell_type": "code",
   "execution_count": 6,
   "metadata": {},
   "outputs": [
    {
     "data": {
      "text/plain": [
       "array([0, 2, 1, 1, 2], dtype=int8)"
      ]
     },
     "execution_count": 6,
     "metadata": {},
     "output_type": "execute_result"
    }
   ],
   "source": [
    "lmh_cat.codes"
   ]
  },
  {
   "cell_type": "markdown",
   "metadata": {},
   "source": [
    "#### Сортировка выполняется с помощью кодов, лежащих в основе каждого значения"
   ]
  },
  {
   "cell_type": "code",
   "execution_count": 7,
   "metadata": {},
   "outputs": [
    {
     "data": {
      "text/plain": [
       "['low', 'medium', 'medium', 'high', 'high']\n",
       "Categories (3, object): ['low', 'medium', 'high']"
      ]
     },
     "execution_count": 7,
     "metadata": {},
     "output_type": "execute_result"
    }
   ],
   "source": [
    "lmh_cat.sort_values()"
   ]
  },
  {
   "cell_type": "markdown",
   "metadata": {},
   "source": [
    "#### Кроме того категориальную переменню можно создать В ВИДЕ СЕРИИ у которой задать тип данный (dtype) в виде - category"
   ]
  },
  {
   "cell_type": "code",
   "execution_count": 8,
   "metadata": {},
   "outputs": [
    {
     "name": "stdout",
     "output_type": "stream",
     "text": [
      "new_df_cat \n",
      "            value\n",
      "category        \n",
      "low          low\n",
      "medium       low\n",
      "low          low\n",
      "high      medium \n",
      "\n",
      "new_col \n",
      " category\n",
      "low       0.644365\n",
      "medium    0.368483\n",
      "low       0.381953\n",
      "high      0.960175\n",
      "dtype: float64 \n",
      "\n",
      "new_df \n",
      "              value\n",
      "category          \n",
      "low       0.222054\n",
      "medium    0.176284\n",
      "low       0.214941\n",
      "high      0.568771 \n",
      "\n",
      "           value         0\n",
      "category                  \n",
      "low          low  0.644365\n",
      "medium       low  0.368483\n",
      "low          low  0.381953\n",
      "high      medium  0.960175\n",
      "\n",
      "           value     value\n",
      "category                  \n",
      "low          low  0.222054\n",
      "medium       low  0.176284\n",
      "low          low  0.214941\n",
      "high      medium  0.568771\n"
     ]
    }
   ],
   "source": [
    "cat_series = pd.Series(lmh_values, dtype='category')\n",
    "cat = [\"low\", \"medium\", \"low\", \"high\"]\n",
    "len_cat = len(cat)\n",
    "val = [i for i in np.random.random(len_cat)]\n",
    "lmh_values\n",
    "\n",
    "df_cat = pd.DataFrame({\n",
    "    'category': cat,\n",
    "    'value': [cat[i] for i in np.random.randint(0, len_cat-1, len_cat)]\n",
    "})\n",
    "new_df_cat = df_cat.set_index('category')\n",
    "\n",
    "new_col = pd.Series([i for i in np.random.random(len_cat)], index=new_df_cat.index)\n",
    "new_df = pd.DataFrame({'value': val}, index=new_df_cat.index)\n",
    "\n",
    "new_df_with_series = pd.concat([new_df_cat, new_col], axis=1)\n",
    "new_df_with_dataframe = pd.concat([new_df_cat, new_df], axis=1)\n",
    "\n",
    "# print(new_df_cat.loc['low'], end='\\n\\n')\n",
    "print('new_df_cat', '\\n', new_df_cat, '\\n')\n",
    "print('new_col', '\\n', new_col, '\\n')\n",
    "print('new_df', '\\n', new_df, '\\n')\n",
    "print(new_df_with_series, end='\\n\\n')\n",
    "print(new_df_with_dataframe)"
   ]
  },
  {
   "cell_type": "markdown",
   "metadata": {},
   "source": [
    "#### Переименуем колонки, имеющие одно и тоже название"
   ]
  },
  {
   "cell_type": "code",
   "execution_count": 9,
   "metadata": {},
   "outputs": [
    {
     "name": "stdout",
     "output_type": "stream",
     "text": [
      "           value     value\n",
      "category                  \n",
      "low          low  0.222054\n",
      "medium       low  0.176284\n",
      "low          low  0.214941\n",
      "high      medium  0.568771\n"
     ]
    },
    {
     "data": {
      "text/plain": [
       "           value  randomVal\n",
       "category                   \n",
       "low          low   0.222054\n",
       "medium       low   0.176284\n",
       "low          low   0.214941\n",
       "high      medium   0.568771"
      ]
     },
     "execution_count": 9,
     "metadata": {},
     "output_type": "execute_result"
    }
   ],
   "source": [
    "print(new_df_with_dataframe)\n",
    "new_df_with_dataframe.columns = ['value', 'randomVal']\n",
    "new_df_with_dataframe"
   ]
  },
  {
   "cell_type": "code",
   "execution_count": 10,
   "metadata": {},
   "outputs": [
    {
     "name": "stdout",
     "output_type": "stream",
     "text": [
      "0       low\n",
      "1      high\n",
      "2    medium\n",
      "3    medium\n",
      "4      high\n",
      "dtype: object\n",
      "0       low\n",
      "1      high\n",
      "2    medium\n",
      "3    medium\n",
      "4      high\n",
      "0    middle\n",
      "dtype: object\n"
     ]
    },
    {
     "data": {
      "text/plain": [
       "(0       low\n",
       " 1      high\n",
       " 2    medium\n",
       " 3    medium\n",
       " 4      high\n",
       " dtype: category\n",
       " Categories (3, object): ['high', 'low', 'medium'],\n",
       " Index(['high', 'low', 'medium'], dtype='object'))"
      ]
     },
     "execution_count": 10,
     "metadata": {},
     "output_type": "execute_result"
    }
   ],
   "source": [
    "# Еще один способ создания категориальной переменной состоит в том, чтобы сначала создать\n",
    "# объект Series а потом преобразовать столбец с данными в категориальную переменную,\n",
    "# используя метод .astype('category')\n",
    "\n",
    "s = pd.Series(lmh_values)\n",
    "print(s)\n",
    "as_cat = s.astype('category')\n",
    "# добавим строчку middle к серии s\n",
    "print(pd.concat([as_cat, pd.Series(['middle'])]))\n",
    "as_cat, as_cat.cat.categories"
   ]
  },
  {
   "cell_type": "markdown",
   "metadata": {},
   "source": [
    "#### Получаем индекс категориальной переменной"
   ]
  },
  {
   "cell_type": "code",
   "execution_count": 11,
   "metadata": {
    "scrolled": true
   },
   "outputs": [
    {
     "data": {
      "text/plain": [
       "<pandas.core.arrays.categorical.CategoricalAccessor object at 0x7f2a7245bd00>"
      ]
     },
     "execution_count": 11,
     "metadata": {},
     "output_type": "execute_result"
    }
   ],
   "source": [
    "# Серия, созданная как объект categorical имеет свойство .CAT, которое позволяет получить\n",
    "# доступ к категориальной переменной.\n",
    "as_cat.cat"
   ]
  },
  {
   "cell_type": "markdown",
   "metadata": {},
   "source": [
    "#### Получаем коды категорий"
   ]
  },
  {
   "cell_type": "code",
   "execution_count": 12,
   "metadata": {},
   "outputs": [
    {
     "data": {
      "text/plain": [
       "Index(['high', 'low', 'medium'], dtype='object')"
      ]
     },
     "execution_count": 12,
     "metadata": {},
     "output_type": "execute_result"
    }
   ],
   "source": [
    "as_cat.cat.categories"
   ]
  },
  {
   "cell_type": "code",
   "execution_count": 13,
   "metadata": {},
   "outputs": [
    {
     "data": {
      "text/plain": [
       "   Values\n",
       "0      65\n",
       "1      49\n",
       "2      56\n",
       "3      43\n",
       "4      43"
      ]
     },
     "execution_count": 13,
     "metadata": {},
     "output_type": "execute_result"
    }
   ],
   "source": [
    "# Создание датафрейма из 5 значений\n",
    "np.random.seed(123456)\n",
    "values = np.random.randint(0, 100, 5)\n",
    "bins = pd.DataFrame({\"Values\": values})\n",
    "bins"
   ]
  },
  {
   "cell_type": "markdown",
   "metadata": {},
   "source": [
    "### Несколько пандасовский функций также возвращают объекты Categorical. \n",
    "\n",
    "**Одна из таких - pd.cut()**, которая создает группы наблюдений, расположенных внутри определенных диапазонов значений.\n"
   ]
  },
  {
   "cell_type": "code",
   "execution_count": 14,
   "metadata": {},
   "outputs": [
    {
     "data": {
      "text/plain": [
       "0    (60, 70]\n",
       "1    (40, 50]\n",
       "2    (50, 60]\n",
       "3    (40, 50]\n",
       "4    (40, 50]\n",
       "Name: Group, dtype: category\n",
       "Categories (10, interval[int64, right]): [(0, 10] < (10, 20] < (20, 30] < (30, 40] ... (60, 70] < (70, 80] < (80, 90] < (90, 100]]"
      ]
     },
     "execution_count": 14,
     "metadata": {},
     "output_type": "execute_result"
    }
   ],
   "source": [
    "# Разбираем значения на 10 групп.\n",
    "bins['Group'] = pd.cut(values, range(0, 101, 10))\n",
    "\n",
    "# Столбец group представляет из себя категориальную переменню\n",
    "bins.Group"
   ]
  },
  {
   "cell_type": "code",
   "execution_count": 15,
   "metadata": {},
   "outputs": [
    {
     "data": {
      "text/plain": [
       "0    6\n",
       "1    4\n",
       "2    5\n",
       "3    4\n",
       "4    4\n",
       "dtype: int8"
      ]
     },
     "execution_count": 15,
     "metadata": {},
     "output_type": "execute_result"
    }
   ],
   "source": [
    "bins.Group.cat.codes"
   ]
  },
  {
   "cell_type": "code",
   "execution_count": 16,
   "metadata": {},
   "outputs": [
    {
     "data": {
      "text/plain": [
       "IntervalIndex([  (0, 10],  (10, 20],  (20, 30],  (30, 40],\n",
       "                (40, 50],  (50, 60],  (60, 70],  (70, 80],\n",
       "                (80, 90], (90, 100]],\n",
       "              dtype='interval[int64, right]')"
      ]
     },
     "execution_count": 16,
     "metadata": {},
     "output_type": "execute_result"
    }
   ],
   "source": [
    "bins.Group.cat.categories"
   ]
  },
  {
   "cell_type": "markdown",
   "metadata": {},
   "source": [
    "#### Создадим УПОРЯДОЧЕННУЮ категореальную переменную из названий драгоценных металлов\n",
    "\n",
    "ПОРЯДОК ВАЖЕН для определения относительной ценности металла."
   ]
  },
  {
   "cell_type": "code",
   "execution_count": 17,
   "metadata": {},
   "outputs": [
    {
     "name": "stdout",
     "output_type": "stream",
     "text": [
      "['bronze', 'gold', 'silver', 'bronze']\n",
      "Categories (3, object): ['bronze' < 'silver' < 'gold']\n"
     ]
    }
   ],
   "source": [
    "metal_values = [\"bronze\", \"gold\", \"silver\", \"bronze\"]\n",
    "metal_categories =  [\"bronze\", \"silver\", \"gold\"]\n",
    "metals = pd.Categorical(metal_values, \n",
    "                        categories = metal_categories, \n",
    "                        ordered = True)\n",
    "\n",
    "# Объект сатегории ИМЕЕТ СТРОГО УПОРЯДОЧЕННЫЕ категории\n",
    "print(metals)\n"
   ]
  },
  {
   "cell_type": "markdown",
   "metadata": {},
   "source": [
    "#### Порядок категорий можно использовать для сортировки или сравнения значений одного объекта Categorical со значением др."
   ]
  },
  {
   "cell_type": "code",
   "execution_count": 18,
   "metadata": {},
   "outputs": [
    {
     "data": {
      "text/plain": [
       "['bronze', 'silver', 'gold', 'bronze']\n",
       "Categories (3, object): ['bronze' < 'silver' < 'gold']"
      ]
     },
     "execution_count": 18,
     "metadata": {},
     "output_type": "execute_result"
    }
   ],
   "source": [
    "# Меняем значения\n",
    "metals_reversed_values = pd.Categorical(\n",
    "    metal_values[::-1],\n",
    "    categories = metals.categories,\n",
    "    ordered=True\n",
    ")\n",
    "metals_reversed_values"
   ]
  },
  {
   "cell_type": "markdown",
   "metadata": {},
   "source": [
    "#### Значения этих категориальных переменный metals и metals_reversed_values можно сравнить."
   ]
  },
  {
   "cell_type": "code",
   "execution_count": 19,
   "metadata": {},
   "outputs": [
    {
     "name": "stdout",
     "output_type": "stream",
     "text": [
      "[ True False  True  True]\n",
      "[0 2 1 0]\n",
      "[0 1 2 0]\n"
     ]
    }
   ],
   "source": [
    "# Сравним значения 2 категориальных переменных. Библиотека пандас выполняет сравниение,\n",
    "# сопоставляя коды значения.\n",
    "print(metals <= metals_reversed_values)\n",
    "print(metals.codes)\n",
    "print(metals_reversed_values.codes)"
   ]
  },
  {
   "cell_type": "code",
   "execution_count": 20,
   "metadata": {},
   "outputs": [
    {
     "name": "stdout",
     "output_type": "stream",
     "text": [
      "['bronze', NaN]\n",
      "Categories (3, object): ['bronze', 'silver', 'gold']\n",
      "Index(['bronze', 'silver', 'gold'], dtype='object')\n",
      "[ 0 -1]\n"
     ]
    }
   ],
   "source": [
    "# Создадим категориальную переменную со значением, которое нельзя отнести ни к одной из\n",
    "# категорий, поэтому для него будет получено значене NaN\n",
    "\n",
    "other_met = pd.Categorical([\"bronze\", \"copper\"], categories=metal_categories)\n",
    "print(other_met)\n",
    "print(other_met.categories)\n",
    "print(other_met.codes)"
   ]
  },
  {
   "cell_type": "markdown",
   "metadata": {},
   "source": [
    "### Переименование категория"
   ]
  },
  {
   "cell_type": "code",
   "execution_count": 21,
   "metadata": {},
   "outputs": [
    {
     "data": {
      "text/plain": [
       "0    a\n",
       "1    b\n",
       "2    c\n",
       "3    a\n",
       "dtype: category\n",
       "Categories (3, object): ['a', 'b', 'c']"
      ]
     },
     "execution_count": 21,
     "metadata": {},
     "output_type": "execute_result"
    }
   ],
   "source": [
    "cat = pd.Categorical([\"a\",\"b\",\"c\",\"a\"], categories=[\"a\", \"b\", \"c\"])\n",
    "ser_cat = pd.Series(cat)\n",
    "ser_cat"
   ]
  },
  {
   "cell_type": "code",
   "execution_count": 30,
   "metadata": {},
   "outputs": [
    {
     "name": "stdout",
     "output_type": "stream",
     "text": [
      "0    bronze\n",
      "1    silver\n",
      "2      gold\n",
      "3    bronze\n",
      "dtype: category\n",
      "Categories (3, object): ['bronze', 'silver', 'gold']\n"
     ]
    },
    {
     "data": {
      "text/plain": [
       "['bronze', 'silver', 'gold', 'bronze']\n",
       "Categories (3, object): ['bronze', 'silver', 'gold']"
      ]
     },
     "execution_count": 30,
     "metadata": {},
     "output_type": "execute_result"
    }
   ],
   "source": [
    "# Переименовать можно либо через замену свойства .categories или через метод .rename_categories\n",
    "\n",
    "# Переименование категорий (А ТАКЖЕ ЗНАЧЕНИЙ)\n",
    "# В даном способе возвращается новый объект.\n",
    "new_cat = [\"bronze\", \"silver\", \"gold\"]\n",
    "print(ser_cat.cat.set_categories(new_cat, rename=True))\n",
    "cat = cat.set_categories(new_cat, rename=True)\n",
    "cat"
   ]
  },
  {
   "cell_type": "markdown",
   "metadata": {},
   "source": [
    "#### Чтобы ИЗБЕЖАТЬ переименованя на месте используют метод .rename_categories"
   ]
  },
  {
   "cell_type": "code",
   "execution_count": 31,
   "metadata": {},
   "outputs": [
    {
     "name": "stdout",
     "output_type": "stream",
     "text": [
      "['x', 'y', 'z', 'x']\n",
      "Categories (3, object): ['x', 'y', 'z']\n",
      "0    x\n",
      "1    y\n",
      "2    z\n",
      "3    x\n",
      "dtype: category\n",
      "Categories (3, object): ['x', 'y', 'z']\n"
     ]
    }
   ],
   "source": [
    "print(cat.rename_categories([\"x\", \"y\", \"z\"]))\n",
    "print(ser_cat.cat.rename_categories([\"x\", \"y\", \"z\"]))"
   ]
  },
  {
   "cell_type": "code",
   "execution_count": 32,
   "metadata": {},
   "outputs": [
    {
     "data": {
      "text/plain": [
       "(['bronze', 'silver', 'gold', 'bronze']\n",
       " Categories (3, object): ['bronze', 'silver', 'gold'],\n",
       " 0    a\n",
       " 1    b\n",
       " 2    c\n",
       " 3    a\n",
       " dtype: category\n",
       " Categories (3, object): ['a', 'b', 'c'])"
      ]
     },
     "execution_count": 32,
     "metadata": {},
     "output_type": "execute_result"
    }
   ],
   "source": [
    "# Убедимся, что переименование не затронуло cat\n",
    "cat, ser_cat"
   ]
  },
  {
   "cell_type": "markdown",
   "metadata": {},
   "source": [
    "### Добавлние категорий"
   ]
  },
  {
   "cell_type": "code",
   "execution_count": 33,
   "metadata": {},
   "outputs": [
    {
     "data": {
      "text/plain": [
       "['bronze', 'gold', 'silver', 'bronze']\n",
       "Categories (4, object): ['bronze' < 'silver' < 'gold' < 'platinum']"
      ]
     },
     "execution_count": 33,
     "metadata": {},
     "output_type": "execute_result"
    }
   ],
   "source": [
    "# С помощью метода .add_categories можно добавить категории.\n",
    "with_platinum = metals.add_categories(['platinum'])\n",
    "with_platinum"
   ]
  },
  {
   "cell_type": "markdown",
   "metadata": {},
   "source": [
    "### Удаление категорий"
   ]
  },
  {
   "cell_type": "code",
   "execution_count": 34,
   "metadata": {},
   "outputs": [
    {
     "data": {
      "text/plain": [
       "[NaN, 'silver', 'gold', NaN]\n",
       "Categories (2, object): ['gold', 'silver']"
      ]
     },
     "execution_count": 34,
     "metadata": {},
     "output_type": "execute_result"
    }
   ],
   "source": [
    "# Удаление категории можно сделать при помощи метода remove_categories\n",
    "no_bronze = cat.remove_categories(['bronze'])\n",
    "no_bronze"
   ]
  },
  {
   "cell_type": "markdown",
   "metadata": {},
   "source": [
    "### Удаление неиспользуемых катерогий (.remove_unused_categories)"
   ]
  },
  {
   "cell_type": "code",
   "execution_count": 35,
   "metadata": {},
   "outputs": [
    {
     "data": {
      "text/plain": [
       "['bronze', 'gold', 'silver', 'bronze']\n",
       "Categories (3, object): ['bronze' < 'silver' < 'gold']"
      ]
     },
     "execution_count": 35,
     "metadata": {},
     "output_type": "execute_result"
    }
   ],
   "source": [
    "# В with_platinum есть категория platinum, но нет ни одного значения для этой категории\n",
    "# возвращает новый объект, а старый не трогает.\n",
    "without_platinum = with_platinum.remove_unused_categories()\n",
    "without_platinum"
   ]
  },
  {
   "cell_type": "markdown",
   "metadata": {},
   "source": [
    "### Установка категорий (.set_categories)"
   ]
  },
  {
   "cell_type": "code",
   "execution_count": 36,
   "metadata": {
    "scrolled": true
   },
   "outputs": [
    {
     "name": "stdout",
     "output_type": "stream",
     "text": [
      "0     one\n",
      "1     two\n",
      "2    four\n",
      "3    five\n",
      "dtype: category\n",
      "Categories (4, object): ['five', 'four', 'one', 'two']\n",
      "\n",
      "Index(['five', 'four', 'one', 'two'], dtype='object')\n"
     ]
    }
   ],
   "source": [
    "# С помощью метода set_categories МОЖНО СРАЗУ И ДОБИВЛЯТЬ И УДАЛЯТЬ категории\n",
    "# создаем серию\n",
    "s = pd.Series([\"one\", \"two\", \"four\", \"five\"], dtype=\"category\")\n",
    "print(s, end='\\n\\n') \n",
    "print(s.cat.categories)"
   ]
  },
  {
   "cell_type": "code",
   "execution_count": 38,
   "metadata": {},
   "outputs": [
    {
     "data": {
      "text/plain": [
       "0     one\n",
       "1     NaN\n",
       "2    four\n",
       "3     NaN\n",
       "dtype: category\n",
       "Categories (2, object): ['one', 'four']"
      ]
     },
     "execution_count": 38,
     "metadata": {},
     "output_type": "execute_result"
    }
   ],
   "source": [
    "# Следующий код задает категории one и four, а остальные категории удаляются.\n",
    "# В результате получим NaN для несуществующих категорий.\n",
    "\n",
    "s = s.cat.set_categories([\"one\",\"four\"])\n",
    "s"
   ]
  },
  {
   "cell_type": "markdown",
   "metadata": {},
   "source": [
    "### Вычисление описательных статистик для категориальной переменной"
   ]
  },
  {
   "cell_type": "code",
   "execution_count": 39,
   "metadata": {},
   "outputs": [
    {
     "data": {
      "text/plain": [
       "            counts  freqs\n",
       "categories               \n",
       "bronze           2   0.50\n",
       "silver           1   0.25\n",
       "gold             1   0.25"
      ]
     },
     "execution_count": 39,
     "metadata": {},
     "output_type": "execute_result"
    }
   ],
   "source": [
    "# Получение описательной информации о категориальной переменной - .describe\n",
    "metals.describe()"
   ]
  },
  {
   "cell_type": "code",
   "execution_count": 40,
   "metadata": {},
   "outputs": [
    {
     "data": {
      "text/plain": [
       "bronze    2\n",
       "silver    1\n",
       "gold      1\n",
       "Name: count, dtype: int64"
      ]
     },
     "execution_count": 40,
     "metadata": {},
     "output_type": "execute_result"
    }
   ],
   "source": [
    "# Получить количество для каждой категории можно при помощи метода - .value_counts\n",
    "metals.value_counts()\n"
   ]
  },
  {
   "cell_type": "code",
   "execution_count": 44,
   "metadata": {},
   "outputs": [
    {
     "data": {
      "text/plain": [
       "('bronze', 'gold')"
      ]
     },
     "execution_count": 44,
     "metadata": {},
     "output_type": "execute_result"
    }
   ],
   "source": [
    "# Вычислим минимум, максимум для категориальной переменной\n",
    "metals.min(), metals.max()"
   ]
  },
  {
   "cell_type": "code",
   "execution_count": 45,
   "metadata": {},
   "outputs": [
    {
     "data": {
      "text/plain": [
       "0    bronze\n",
       "dtype: category\n",
       "Categories (3, object): ['bronze' < 'silver' < 'gold']"
      ]
     },
     "execution_count": 45,
     "metadata": {},
     "output_type": "execute_result"
    }
   ],
   "source": [
    "# Вычислим моду для категориальной переменной\n",
    "pd.Series(metals).mode()"
   ]
  },
  {
   "cell_type": "code",
   "execution_count": 48,
   "metadata": {},
   "outputs": [
    {
     "data": {
      "text/plain": [
       "     Name  Grade\n",
       "0  Norris     88\n",
       "1    Ivan     98\n",
       "2    Ruth     81\n",
       "3    Lane     51\n",
       "4    Skye     79\n",
       "5     Sol     69\n",
       "6   Dylan     93\n",
       "7  Katina     75\n",
       "8  Alissa     63\n",
       "9    Marc     89"
      ]
     },
     "execution_count": 48,
     "metadata": {},
     "output_type": "execute_result"
    }
   ],
   "source": [
    "# Обработка школьных ошибок\n",
    "# 10 учеников со случайными оценками\n",
    "np.random.seed(280286)\n",
    "names =  ['Norris', 'Ivan', 'Ruth', 'Lane', 'Skye', 'Sol', 'Dylan', 'Katina', 'Alissa', \"Marc\"]\n",
    "grades = np.random.randint(50, 101, len(names))\n",
    "scores = pd.DataFrame({'Name': names, 'Grade': grades})\n",
    "scores"
   ]
  },
  {
   "cell_type": "code",
   "execution_count": 49,
   "metadata": {},
   "outputs": [],
   "source": [
    "# Задаем группы и соответствующие оценки\n",
    "\n",
    "score_bins =  [0, 59, 62, 66, 69, 72, 76, 79, 82, 86, 89, 92, 99, 100]\n",
    "letter_grades = ['F', 'D-', 'D', 'D+', 'C-', 'C', 'C+', 'B-', 'B', 'B+', 'A-', 'A', 'A+']\n"
   ]
  },
  {
   "cell_type": "code",
   "execution_count": 52,
   "metadata": {},
   "outputs": [
    {
     "data": {
      "text/plain": [
       "     Name  Grade Letter\n",
       "0  Norris     88     B+\n",
       "1    Ivan     98      A\n",
       "2    Ruth     81     B-\n",
       "3    Lane     51      F\n",
       "4    Skye     79     C+\n",
       "5     Sol     69     D+\n",
       "6   Dylan     93      A\n",
       "7  Katina     75      C\n",
       "8  Alissa     63      D\n",
       "9    Marc     89     B+"
      ]
     },
     "execution_count": 52,
     "metadata": {},
     "output_type": "execute_result"
    }
   ],
   "source": [
    "# Разбиваем на основе групп и присваиваем буквенные оценки\n",
    "letter_cats = pd.cut(scores.Grade, bins=score_bins, labels=letter_grades)\n",
    "scores['Letter'] = letter_cats\n",
    "scores"
   ]
  },
  {
   "cell_type": "code",
   "execution_count": 56,
   "metadata": {},
   "outputs": [
    {
     "data": {
      "text/plain": [
       "(0    B+\n",
       " 1     A\n",
       " 2    B-\n",
       " 3     F\n",
       " 4    C+\n",
       " 5    D+\n",
       " 6     A\n",
       " 7     C\n",
       " 8     D\n",
       " 9    B+\n",
       " Name: Grade, dtype: category\n",
       " Categories (13, object): ['F' < 'D-' < 'D' < 'D+' ... 'B+' < 'A-' < 'A' < 'A+'],\n",
       " Index(['F', 'D-', 'D', 'D+', 'C-', 'C', 'C+', 'B-', 'B', 'B+',\n",
       "        'A-', 'A', 'A+'],\n",
       "       dtype='object'),\n",
       " 0     9\n",
       " 1    11\n",
       " 2     7\n",
       " 3     0\n",
       " 4     6\n",
       " 5     3\n",
       " 6    11\n",
       " 7     5\n",
       " 8     2\n",
       " 9     9\n",
       " dtype: int8)"
      ]
     },
     "execution_count": 56,
     "metadata": {},
     "output_type": "execute_result"
    }
   ],
   "source": [
    "# Исследуем интересующую категориальную переменную letter_cats\n",
    "letter_cats, letter_cats.cat.categories, letter_cats.cat.codes"
   ]
  },
  {
   "cell_type": "code",
   "execution_count": 57,
   "metadata": {},
   "outputs": [
    {
     "data": {
      "text/plain": [
       "Letter\n",
       "B+    2\n",
       "A     2\n",
       "F     1\n",
       "D     1\n",
       "D+    1\n",
       "C     1\n",
       "C+    1\n",
       "B-    1\n",
       "D-    0\n",
       "C-    0\n",
       "B     0\n",
       "A-    0\n",
       "A+    0\n",
       "Name: count, dtype: int64"
      ]
     },
     "execution_count": 57,
     "metadata": {},
     "output_type": "execute_result"
    }
   ],
   "source": [
    "# Сколько наблюдений имеет каждая оцинка?\n",
    "scores.Letter.value_counts()"
   ]
  },
  {
   "cell_type": "code",
   "execution_count": 58,
   "metadata": {},
   "outputs": [
    {
     "data": {
      "text/plain": [
       "    Name  Grade Letter\n",
       "1   Ivan     98      A\n",
       "6  Dylan     93      A"
      ]
     },
     "execution_count": 58,
     "metadata": {},
     "output_type": "execute_result"
    }
   ],
   "source": [
    "# Выберем всех учеников имеющих оценку - А\n",
    "scores[scores.Letter == 'A']"
   ]
  },
  {
   "cell_type": "code",
   "execution_count": 59,
   "metadata": {
    "scrolled": true
   },
   "outputs": [
    {
     "data": {
      "text/plain": [
       "     Name  Grade Letter\n",
       "3    Lane     51      F\n",
       "8  Alissa     63      D\n",
       "5     Sol     69     D+\n",
       "7  Katina     75      C\n",
       "4    Skye     79     C+\n",
       "2    Ruth     81     B-\n",
       "0  Norris     88     B+\n",
       "9    Marc     89     B+\n",
       "1    Ivan     98      A\n",
       "6   Dylan     93      A"
      ]
     },
     "execution_count": 59,
     "metadata": {},
     "output_type": "execute_result"
    }
   ],
   "source": [
    "# Отсортируем по буквенной оценке, а не по числовой\n",
    "scores.sort_values(by=['Letter'], ascending=True)\n"
   ]
  },
  {
   "cell_type": "code",
   "execution_count": 60,
   "metadata": {},
   "outputs": [
    {
     "name": "stdout",
     "output_type": "stream",
     "text": [
      "[(-0.015, 3.0], (-0.015, 3.0], (-0.015, 3.0], (3.0, 6.0], (9.0, 12.0], (9.0, 12.0], (12.0, 15.0], (12.0, 15.0]]\n",
      "Categories (5, interval[float64, right]): [(-0.015, 3.0] < (3.0, 6.0] < (6.0, 9.0] < (9.0, 12.0] < (12.0, 15.0]]\n",
      "\n",
      "IntervalIndex([(-0.015, 3.0], (3.0, 6.0], (6.0, 9.0],\n",
      "               (9.0, 12.0], (12.0, 15.0]],\n",
      "              dtype='interval[float64, right]')\n",
      "\n",
      "[0 0 0 1 3 3 4 4]\n",
      "\n"
     ]
    }
   ],
   "source": [
    "cc = pd.cut([0, 1, 1, 6, 11, 12, 13, 15], bins=5)\n",
    "print(cc, end='\\n\\n')\n",
    "print(cc.categories, end='\\n\\n')\n",
    "print(cc.codes, end='\\n\\n')"
   ]
  }
 ],
 "metadata": {
  "kernelspec": {
   "display_name": "Python 3 (ipykernel)",
   "language": "python",
   "name": "python3"
  },
  "language_info": {
   "codemirror_mode": {
    "name": "ipython",
    "version": 3
   },
   "file_extension": ".py",
   "mimetype": "text/x-python",
   "name": "python",
   "nbconvert_exporter": "python",
   "pygments_lexer": "ipython3",
   "version": "3.12.3"
  }
 },
 "nbformat": 4,
 "nbformat_minor": 4
}
