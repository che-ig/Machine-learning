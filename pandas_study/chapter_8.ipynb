{
 "cells": [
  {
   "cell_type": "code",
   "execution_count": 6,
   "metadata": {},
   "outputs": [],
   "source": [
    "import numpy as np\n",
    "import pandas as pd\n",
    "import matplotlib.pyplot as plt\n",
    "from datetime import time, datetime\n",
    "\n",
    "pd.set_option('display.notebook_repr_html', False)\n",
    "pd.set_option('display.max_rows', 20)\n",
    "pd.set_option('display.max_columns', 10)\n",
    "pd.set_option('display.width', 65)\n",
    "\n",
    "%matplotlib inline\n",
    "\n",
    "sp500 = pd.read_csv('Notebooks/Data/sp500.csv', index_col='Symbol', usecols=[0, 2, 3, 7])\n",
    "sp500_original = pd.read_csv('Notebooks/Data/sp500.csv')\n",
    "\n",
    "# Считываем исторические данные о котировках акций\n",
    "omh = pd.read_csv('Notebooks/Data/omh.csv')"
   ]
  },
  {
   "cell_type": "markdown",
   "metadata": {},
   "source": [
    "### Информация о датасете"
   ]
  },
  {
   "cell_type": "markdown",
   "metadata": {},
   "source": [
    "#### Размер датасета"
   ]
  },
  {
   "cell_type": "code",
   "execution_count": 3,
   "metadata": {},
   "outputs": [
    {
     "data": {
      "text/plain": [
       "(500, 15)"
      ]
     },
     "execution_count": 3,
     "metadata": {},
     "output_type": "execute_result"
    }
   ],
   "source": [
    "sp500_original.shape\n"
   ]
  },
  {
   "cell_type": "markdown",
   "metadata": {},
   "source": [
    "#### Инф. о датасета (типы данных колонок и наличие пропусков)"
   ]
  },
  {
   "cell_type": "code",
   "execution_count": 4,
   "metadata": {},
   "outputs": [
    {
     "name": "stdout",
     "output_type": "stream",
     "text": [
      "<class 'pandas.core.frame.DataFrame'>\n",
      "RangeIndex: 500 entries, 0 to 499\n",
      "Data columns (total 15 columns):\n",
      " #   Column          Non-Null Count  Dtype  \n",
      "---  ------          --------------  -----  \n",
      " 0   Symbol          500 non-null    object \n",
      " 1   Name            500 non-null    object \n",
      " 2   Sector          500 non-null    object \n",
      " 3   Price           500 non-null    float64\n",
      " 4   Dividend Yield  424 non-null    float64\n",
      " 5   Price/Earnings  480 non-null    float64\n",
      " 6   Earnings/Share  499 non-null    float64\n",
      " 7   Book Value      499 non-null    float64\n",
      " 8   52 week low     499 non-null    float64\n",
      " 9   52 week high    499 non-null    float64\n",
      " 10  Market Cap      496 non-null    float64\n",
      " 11  EBITDA          499 non-null    float64\n",
      " 12  Price/Sales     496 non-null    float64\n",
      " 13  Price/Book      486 non-null    float64\n",
      " 14  SEC Filings     500 non-null    object \n",
      "dtypes: float64(11), object(4)\n",
      "memory usage: 58.7+ KB\n"
     ]
    }
   ],
   "source": [
    "sp500_original.info()"
   ]
  },
  {
   "cell_type": "markdown",
   "metadata": {},
   "source": [
    "#### Вывод названия колонок"
   ]
  },
  {
   "cell_type": "code",
   "execution_count": 5,
   "metadata": {},
   "outputs": [
    {
     "data": {
      "text/plain": [
       "Index(['Symbol', 'Name', 'Sector', 'Price', 'Dividend Yield',\n",
       "       'Price/Earnings', 'Earnings/Share', 'Book Value',\n",
       "       '52 week low', '52 week high', 'Market Cap', 'EBITDA',\n",
       "       'Price/Sales', 'Price/Book', 'SEC Filings'],\n",
       "      dtype='object')"
      ]
     },
     "execution_count": 5,
     "metadata": {},
     "output_type": "execute_result"
    }
   ],
   "source": [
    "sp500_original.columns"
   ]
  },
  {
   "cell_type": "markdown",
   "metadata": {},
   "source": [
    "#### Основные статистики датасета"
   ]
  },
  {
   "cell_type": "code",
   "execution_count": 6,
   "metadata": {},
   "outputs": [
    {
     "data": {
      "text/plain": [
       "            Price  Dividend Yield  Price/Earnings  \\\n",
       "count   500.00000      424.000000      480.000000   \n",
       "mean     77.36860        2.131439       29.887792   \n",
       "std      87.59694        1.321017       70.163577   \n",
       "min       0.00000        0.040000        2.520000   \n",
       "25%      38.74500        1.260000       15.570000   \n",
       "50%      58.35500        1.890000       20.005000   \n",
       "75%      86.68000        2.820000       26.627500   \n",
       "max    1197.12000       10.640000     1329.620000   \n",
       "\n",
       "       Earnings/Share     Book Value  ...  52 week high  \\\n",
       "count      499.000000     499.000000  ...    499.000000   \n",
       "mean         3.564842     301.611301  ...     84.668283   \n",
       "std          4.049497    6195.727862  ...     98.995689   \n",
       "min        -10.693000     -51.275000  ...      6.100000   \n",
       "25%          1.652000      10.836500  ...     42.500000   \n",
       "50%          2.841000      19.098000  ...     63.560000   \n",
       "75%          4.435000      31.386500  ...     91.295000   \n",
       "max         41.727000  138425.453100  ...   1378.960000   \n",
       "\n",
       "       Market Cap      EBITDA  Price/Sales  Price/Book  \n",
       "count  496.000000  499.000000   496.000000  486.000000  \n",
       "mean    35.348525    3.700364     2.782359    4.620514  \n",
       "std     54.839169    6.669021     2.529481   10.578663  \n",
       "min      0.208500   -0.331300     0.000000    0.000000  \n",
       "25%      9.859250    0.867800     1.220000    1.802500  \n",
       "50%     17.444500    1.636000     2.005000    3.125000  \n",
       "75%     34.653250    3.793500     3.377500    4.730000  \n",
       "max    529.000000   60.657000    17.840000  213.740000  \n",
       "\n",
       "[8 rows x 11 columns]"
      ]
     },
     "execution_count": 6,
     "metadata": {},
     "output_type": "execute_result"
    }
   ],
   "source": [
    "sp500_original.describe()"
   ]
  },
  {
   "cell_type": "markdown",
   "metadata": {},
   "source": [
    "#### Инф. по количеству NaN значений в столбцах - df.isna()"
   ]
  },
  {
   "cell_type": "code",
   "execution_count": 7,
   "metadata": {},
   "outputs": [
    {
     "data": {
      "text/plain": [
       "Symbol             0\n",
       "Name               0\n",
       "Sector             0\n",
       "Price              0\n",
       "Dividend Yield    76\n",
       "Price/Earnings    20\n",
       "Earnings/Share     1\n",
       "Book Value         1\n",
       "52 week low        1\n",
       "52 week high       1\n",
       "Market Cap         4\n",
       "EBITDA             1\n",
       "Price/Sales        4\n",
       "Price/Book        14\n",
       "SEC Filings        0\n",
       "dtype: int64"
      ]
     },
     "execution_count": 7,
     "metadata": {},
     "output_type": "execute_result"
    }
   ],
   "source": [
    "sp500_original.isna().sum()"
   ]
  },
  {
   "cell_type": "markdown",
   "metadata": {},
   "source": [
    "#### Выведем записи в кторых у столбца 'Price/Book' значение равно NaN"
   ]
  },
  {
   "cell_type": "code",
   "execution_count": 8,
   "metadata": {},
   "outputs": [
    {
     "data": {
      "text/plain": [
       "    Symbol   Price  Price/Book\n",
       "18    ALLE   52.46         NaN\n",
       "48     AZO  540.90         NaN\n",
       "58    BEAM    0.00         NaN\n",
       "75     CVC   17.45         NaN\n",
       "137    DTV   83.59         NaN\n",
       "148    DNB  104.83         NaN\n",
       "208    GHC  677.29         NaN\n",
       "263     LB   57.32         NaN\n",
       "276     LO   60.20         NaN\n",
       "278    LSI   11.14         NaN\n",
       "285    MAR   59.26         NaN\n",
       "358     PM   86.57         NaN\n",
       "466   VRSN   49.92         NaN\n",
       "489   WYNN  207.86         NaN"
      ]
     },
     "execution_count": 8,
     "metadata": {},
     "output_type": "execute_result"
    }
   ],
   "source": [
    "sp500_original[sp500_original['Price/Book'].isna()][['Symbol', 'Price', 'Price/Book']]\n"
   ]
  },
  {
   "cell_type": "markdown",
   "metadata": {},
   "source": [
    "#### Процентное выржение незаполненных данных"
   ]
  },
  {
   "cell_type": "code",
   "execution_count": 9,
   "metadata": {},
   "outputs": [
    {
     "data": {
      "text/plain": [
       "Symbol            0.000\n",
       "Name              0.000\n",
       "Sector            0.000\n",
       "Price             0.000\n",
       "Dividend Yield    0.152\n",
       "Price/Earnings    0.040\n",
       "Earnings/Share    0.002\n",
       "Book Value        0.002\n",
       "52 week low       0.002\n",
       "52 week high      0.002\n",
       "Market Cap        0.008\n",
       "EBITDA            0.002\n",
       "Price/Sales       0.008\n",
       "Price/Book        0.028\n",
       "SEC Filings       0.000\n",
       "dtype: float64"
      ]
     },
     "execution_count": 9,
     "metadata": {},
     "output_type": "execute_result"
    }
   ],
   "source": [
    "sp500_original.isna().sum() / sp500_original.shape[0]"
   ]
  },
  {
   "cell_type": "markdown",
   "metadata": {},
   "source": [
    "#### Визуализируем соотношение компаний по Sector"
   ]
  },
  {
   "cell_type": "code",
   "execution_count": 10,
   "metadata": {},
   "outputs": [
    {
     "data": {
      "text/plain": [
       "<AxesSubplot:ylabel='Sector'>"
      ]
     },
     "execution_count": 10,
     "metadata": {},
     "output_type": "execute_result"
    },
    {
     "data": {
      "image/png": "[encoded data removed]",
      "text/plain": [
       "<Figure size 432x288 with 1 Axes>"
      ]
     },
     "metadata": {},
     "output_type": "display_data"
    }
   ],
   "source": [
    "sp500_original['Sector'].value_counts().plot.pie()"
   ]
  },
  {
   "cell_type": "code",
   "execution_count": 11,
   "metadata": {},
   "outputs": [
    {
     "data": {
      "text/plain": [
       "<AxesSubplot:>"
      ]
     },
     "execution_count": 11,
     "metadata": {},
     "output_type": "execute_result"
    },
    {
     "data": {
      "image/png": "[encoded data removed]",
      "text/plain": [
       "<Figure size 432x288 with 1 Axes>"
      ]
     },
     "metadata": {
      "needs_background": "light"
     },
     "output_type": "display_data"
    }
   ],
   "source": [
    "sp500_original['Sector'].value_counts().plot.bar()"
   ]
  },
  {
   "cell_type": "code",
   "execution_count": 12,
   "metadata": {},
   "outputs": [
    {
     "data": {
      "text/plain": [
       "Consumer Staples                1\n",
       "Industries                      1\n",
       "Consumer Discretionary          1\n",
       "Telecommunications Services     6\n",
       "Materials                      29\n",
       "Utilities                      33\n",
       "Consumer Staples               39\n",
       "Energy                         41\n",
       "Health Care                    54\n",
       "Industrials                    64\n",
       "Information Technology         64\n",
       "Financials                     82\n",
       "Consumer Discretionary         85\n",
       "Name: Sector, dtype: int64"
      ]
     },
     "execution_count": 12,
     "metadata": {},
     "output_type": "execute_result"
    }
   ],
   "source": [
    "sp500_original['Sector'].value_counts(ascending=True)"
   ]
  },
  {
   "cell_type": "code",
   "execution_count": 13,
   "metadata": {},
   "outputs": [
    {
     "data": {
      "text/plain": [
       "          A         B         C         D\n",
       "0  0.469112 -0.282863 -1.509059 -1.135632\n",
       "1  1.212112 -0.173215  0.119209 -1.044236\n",
       "2 -0.861849 -2.104569 -0.494929  1.071804\n",
       "3  0.721555 -0.706771 -1.039575  0.271860\n",
       "4 -0.424972  0.567020  0.276232 -1.087401"
      ]
     },
     "execution_count": 13,
     "metadata": {},
     "output_type": "execute_result"
    }
   ],
   "source": [
    "# Создадим датафрейм с 4 столбцами\n",
    "np.random.seed(123456)\n",
    "df = pd.DataFrame(np.random.randn(5, 4), columns=['A', 'B', 'C', 'D'])\n",
    "df"
   ]
  },
  {
   "cell_type": "code",
   "execution_count": 14,
   "metadata": {},
   "outputs": [
    {
     "data": {
      "text/plain": [
       "          A         B         C         D\n",
       "0  0.938225 -0.565727 -3.018117 -2.271265\n",
       "1  2.424224 -0.346429  0.238417 -2.088472\n",
       "2 -1.723698 -4.209138 -0.989859  2.143608\n",
       "3  1.443110 -1.413542 -2.079150  0.543720\n",
       "4 -0.849945  1.134041  0.552464 -2.174801"
      ]
     },
     "execution_count": 14,
     "metadata": {},
     "output_type": "execute_result"
    }
   ],
   "source": [
    "# Умножим ВСЕ на 2 (исходный датафрейм НЕ МЕНЯЕТСЯ)\n",
    "df * 2"
   ]
  },
  {
   "cell_type": "code",
   "execution_count": 15,
   "metadata": {},
   "outputs": [
    {
     "name": "stdout",
     "output_type": "stream",
     "text": [
      "          A         B         C         D\n",
      "0  0.000000  0.000000  0.000000  0.000000\n",
      "1  0.743000  0.109649  1.628267  0.091396\n",
      "2 -1.330961 -1.821706  1.014129  2.207436\n",
      "3  0.252443 -0.423908  0.469484  1.407492\n",
      "4 -0.894085  0.849884  1.785291  0.048232\n",
      "\n",
      "<class 'pandas.core.series.Series'>\n",
      "\n"
     ]
    }
   ],
   "source": [
    "# Извлекаем первую строку\n",
    "s = df.iloc[0]\n",
    "\n",
    "# Вычитаем первую стоку из КАЖДОЙ СТРОКИ объекта датафрейма.\n",
    "diff = df - s\n",
    "print(diff, end='\\n\\n')\n",
    "print(type(s), end='\\n\\n')"
   ]
  },
  {
   "cell_type": "markdown",
   "metadata": {},
   "source": [
    "При выполнении арифметической операции между двумя объектами DataFrame\n",
    "выравнивание происходит как по меткам индекса, так и по меткам столбцов. Следующий программный код извлекает фрагмент df и вычитает его из исходного\n",
    "датафрейма. В результате видим, что выровненные значения, полученные в результате вычитания, равны 0, а остальные получают значения NaN:\n"
   ]
  },
  {
   "cell_type": "code",
   "execution_count": 16,
   "metadata": {},
   "outputs": [
    {
     "data": {
      "text/plain": [
       "(          B         C\n",
       " 1 -0.173215  0.119209\n",
       " 2 -2.104569 -0.494929\n",
       " 3 -0.706771 -1.039575,\n",
       " RangeIndex(start=1, stop=4, step=1))"
      ]
     },
     "execution_count": 16,
     "metadata": {},
     "output_type": "execute_result"
    }
   ],
   "source": [
    "# Извлечем строки с 1 по 3 позицию и только столбцы В и С\n",
    "subFrame  = df.loc[1:3][['B', 'C']]\n",
    "\n",
    "# Мы извлеки небольшой квадрат из середины df\n",
    "subFrame, subFrame.index"
   ]
  },
  {
   "cell_type": "code",
   "execution_count": 17,
   "metadata": {},
   "outputs": [
    {
     "data": {
      "text/plain": [
       "(          A         B         C         D\n",
       " 0  0.469112 -0.282863 -1.509059 -1.135632\n",
       " 1  1.212112 -0.173215  0.119209 -1.044236\n",
       " 2 -0.861849 -2.104569 -0.494929  1.071804\n",
       " 3  0.721555 -0.706771 -1.039575  0.271860\n",
       " 4 -0.424972  0.567020  0.276232 -1.087401,\n",
       "     A    B    C   D\n",
       " 0 NaN  NaN  NaN NaN\n",
       " 1 NaN  0.0  0.0 NaN\n",
       " 2 NaN  0.0  0.0 NaN\n",
       " 3 NaN  0.0  0.0 NaN\n",
       " 4 NaN  NaN  NaN NaN)"
      ]
     },
     "execution_count": 17,
     "metadata": {},
     "output_type": "execute_result"
    }
   ],
   "source": [
    "# Демонстрируем, как происходит выравнивание при выполнении операции вычитания.\n",
    "df, df - subFrame"
   ]
  },
  {
   "cell_type": "code",
   "execution_count": 18,
   "metadata": {},
   "outputs": [
    {
     "name": "stdout",
     "output_type": "stream",
     "text": [
      "          A         B         C         D\n",
      "0  0.469112 -0.282863 -1.509059 -1.135632\n",
      "1  1.212112 -0.173215  0.119209 -1.044236\n",
      "2 -0.861849 -2.104569 -0.494929  1.071804\n",
      "3  0.721555 -0.706771 -1.039575  0.271860\n",
      "4 -0.424972  0.567020  0.276232 -1.087401\n",
      "\n",
      "     A         B         C         D\n",
      "0  0.0 -0.751976 -1.978171 -1.604745\n",
      "1  0.0 -1.385327 -1.092903 -2.256348\n",
      "2  0.0 -1.242720  0.366920  1.933653\n",
      "3  0.0 -1.428326 -1.761130 -0.449695\n",
      "4  0.0  0.991993  0.701204 -0.662428\n",
      "          A         B         C         D\n",
      "0 -0.743000 -0.109649 -1.628267 -0.091396\n",
      "1  0.000000  0.000000  0.000000  0.000000\n",
      "2 -2.073961 -1.931355 -0.614138  2.116040\n",
      "3 -0.490557 -0.533556 -1.158784  1.316096\n",
      "4 -1.637084  0.740235  0.157023 -0.043165\n"
     ]
    }
   ],
   "source": [
    "# Методы арифметических операций позволяют задать ось\n",
    "# Извлекаем столбец A\n",
    "a_col = df['A']\n",
    "a_row = df.loc[1]\n",
    "print(df, end='\\n\\n')\n",
    "\n",
    "# Вычтем столбец А ИЗ КАЖДОГО СТОЛБЦА датафрейма\n",
    "print(df.sub(a_col, axis='index')) # axis = 0\n",
    "print(df.sub(a_row, axis='columns')) # axis = 1\n"
   ]
  },
  {
   "cell_type": "markdown",
   "metadata": {},
   "source": [
    "#### Вычисление количества значений отличных от NaN."
   ]
  },
  {
   "cell_type": "code",
   "execution_count": 19,
   "metadata": {},
   "outputs": [
    {
     "data": {
      "text/plain": [
       "4"
      ]
     },
     "execution_count": 19,
     "metadata": {},
     "output_type": "execute_result"
    }
   ],
   "source": [
    "s = pd.Series(['a', 'a', 'b', 'c', np.NaN])\n",
    "s.count()"
   ]
  },
  {
   "cell_type": "markdown",
   "metadata": {},
   "source": [
    "#### Определение уникальных значений"
   ]
  },
  {
   "cell_type": "code",
   "execution_count": 20,
   "metadata": {},
   "outputs": [
    {
     "data": {
      "text/plain": [
       "array(['a', 'b', 'c', nan], dtype=object)"
      ]
     },
     "execution_count": 20,
     "metadata": {},
     "output_type": "execute_result"
    }
   ],
   "source": [
    "s.unique()"
   ]
  },
  {
   "cell_type": "markdown",
   "metadata": {},
   "source": [
    "#### Количество уникальнхх значений (исключая значение NaN)"
   ]
  },
  {
   "cell_type": "code",
   "execution_count": 21,
   "metadata": {},
   "outputs": [
    {
     "data": {
      "text/plain": [
       "3"
      ]
     },
     "execution_count": 21,
     "metadata": {},
     "output_type": "execute_result"
    }
   ],
   "source": [
    "s.nunique()"
   ]
  },
  {
   "cell_type": "markdown",
   "metadata": {},
   "source": [
    "#### Вычисляем встречаемость каждого уникального значения для нечисловых данных."
   ]
  },
  {
   "cell_type": "code",
   "execution_count": 22,
   "metadata": {},
   "outputs": [
    {
     "data": {
      "text/plain": [
       "a      2\n",
       "b      1\n",
       "c      1\n",
       "NaN    1\n",
       "dtype: int64"
      ]
     },
     "execution_count": 22,
     "metadata": {},
     "output_type": "execute_result"
    }
   ],
   "source": [
    "s.value_counts(dropna=False)"
   ]
  },
  {
   "cell_type": "markdown",
   "metadata": {},
   "source": [
    "#### Вычисление минимума и максимума"
   ]
  },
  {
   "cell_type": "code",
   "execution_count": 23,
   "metadata": {},
   "outputs": [
    {
     "data": {
      "text/plain": [
       "(MSFT     45.16\n",
       " AAPL    106.75\n",
       " dtype: float64,\n",
       " '------',\n",
       " MSFT     48.84\n",
       " AAPL    115.93\n",
       " dtype: float64)"
      ]
     },
     "execution_count": 23,
     "metadata": {},
     "output_type": "execute_result"
    }
   ],
   "source": [
    "# Определим минимальную  и максимальную цену для обеих акций\n",
    "omh[['MSFT', 'AAPL']].min(), '------', omh[['MSFT', 'AAPL']].max()"
   ]
  },
  {
   "cell_type": "markdown",
   "metadata": {},
   "source": [
    "#### Можно получить ИНДЕКСЫ минимального и максимального значения"
   ]
  },
  {
   "cell_type": "code",
   "execution_count": 24,
   "metadata": {},
   "outputs": [
    {
     "data": {
      "text/plain": [
       "(MSFT    11\n",
       " AAPL    11\n",
       " dtype: int64,\n",
       " '------',\n",
       " MSFT    3\n",
       " AAPL    2\n",
       " dtype: int64)"
      ]
     },
     "execution_count": 24,
     "metadata": {},
     "output_type": "execute_result"
    }
   ],
   "source": [
    "omh[['MSFT', 'AAPL']].idxmin(), '------', omh[['MSFT', 'AAPL']].idxmax()"
   ]
  },
  {
   "cell_type": "markdown",
   "metadata": {},
   "source": [
    "#### Вычисление n наименьших значений"
   ]
  },
  {
   "cell_type": "code",
   "execution_count": 25,
   "metadata": {},
   "outputs": [
    {
     "name": "stdout",
     "output_type": "stream",
     "text": [
      "11    45.16\n",
      "12    45.74\n",
      "21    46.45\n",
      "10    46.67\n",
      "7     46.90\n",
      "Name: MSFT, dtype: float64\n",
      "          Date   MSFT    AAPL\n",
      "11  2014-12-16  45.16  106.75\n",
      "10  2014-12-15  46.67  108.23\n",
      "12  2014-12-17  45.74  109.41\n",
      "9   2014-12-12  46.95  109.73\n"
     ]
    }
   ],
   "source": [
    "print(omh.nsmallest(5, ['MSFT'])['MSFT'])\n",
    "print(omh.nsmallest(4, 'AAPL'))"
   ]
  },
  {
   "cell_type": "markdown",
   "metadata": {},
   "source": [
    "#### Получем 5 наибольших значенией MSFT"
   ]
  },
  {
   "cell_type": "code",
   "execution_count": 26,
   "metadata": {},
   "outputs": [
    {
     "data": {
      "text/plain": [
       "3     48.84\n",
       "0     48.62\n",
       "1     48.46\n",
       "16    48.45\n",
       "4     48.42\n",
       "Name: MSFT, dtype: float64"
      ]
     },
     "execution_count": 26,
     "metadata": {},
     "output_type": "execute_result"
    }
   ],
   "source": [
    "omh.nlargest(5, ['MSFT'])['MSFT']"
   ]
  },
  {
   "cell_type": "code",
   "execution_count": 27,
   "metadata": {},
   "outputs": [
    {
     "data": {
      "text/plain": [
       "11    45.16\n",
       "12    45.74\n",
       "21    46.45\n",
       "10    46.67\n",
       "7     46.90\n",
       "Name: MSFT, dtype: float64"
      ]
     },
     "execution_count": 27,
     "metadata": {},
     "output_type": "execute_result"
    }
   ],
   "source": [
    "# Для вычисления n наибольш. и n ниименьш. значений у объекта Series не нужно указывать \n",
    "# столбец у методов nsmallest и nlargest т.к серия это и есть один столбец.\n",
    "omh.MSFT.nsmallest(5)"
   ]
  },
  {
   "cell_type": "markdown",
   "metadata": {},
   "source": [
    "#### Вычисление накопительных значений"
   ]
  },
  {
   "cell_type": "code",
   "execution_count": 28,
   "metadata": {},
   "outputs": [
    {
     "data": {
      "text/plain": [
       "0     1\n",
       "1     2\n",
       "2     6\n",
       "3    24\n",
       "dtype: int64"
      ]
     },
     "execution_count": 28,
     "metadata": {},
     "output_type": "execute_result"
    }
   ],
   "source": [
    "# Вычисление накопительного произведения (результатом будет \n",
    "# еще одна серия - накопительных зн.)\n",
    "pd.Series(np.arange(1, 5)).cumprod()"
   ]
  },
  {
   "cell_type": "code",
   "execution_count": 29,
   "metadata": {},
   "outputs": [
    {
     "data": {
      "text/plain": [
       "0     1\n",
       "1     3\n",
       "2     6\n",
       "3    10\n",
       "dtype: int64"
      ]
     },
     "execution_count": 29,
     "metadata": {},
     "output_type": "execute_result"
    }
   ],
   "source": [
    "# Вычисляем накопительную сумму.\n",
    "pd.Series(np.arange(1, 5)).cumsum()"
   ]
  },
  {
   "cell_type": "markdown",
   "metadata": {},
   "source": [
    "### Выполнение статистических операций"
   ]
  },
  {
   "cell_type": "code",
   "execution_count": 30,
   "metadata": {},
   "outputs": [
    {
     "data": {
      "text/plain": [
       "(            MSFT        AAPL\n",
       " count  22.000000   22.000000\n",
       " mean   47.493182  112.411364\n",
       " std     0.933077    2.388772\n",
       " min    45.160000  106.750000\n",
       " 25%    46.967500  111.660000\n",
       " 50%    47.625000  112.530000\n",
       " 75%    48.125000  114.087500\n",
       " max    48.840000  115.930000,\n",
       " '----------------',\n",
       " 47.493181818181824)"
      ]
     },
     "execution_count": 30,
     "metadata": {},
     "output_type": "execute_result"
    }
   ],
   "source": [
    "omh.describe(), '----------------', omh['MSFT'].describe()['mean'] # вычислим только среднее значение"
   ]
  },
  {
   "cell_type": "code",
   "execution_count": 31,
   "metadata": {},
   "outputs": [
    {
     "data": {
      "text/plain": [
       "count     7\n",
       "unique    3\n",
       "top       b\n",
       "freq      4\n",
       "dtype: object"
      ]
     },
     "execution_count": 31,
     "metadata": {},
     "output_type": "execute_result"
    }
   ],
   "source": [
    "# Для нечисловых данных метод describe вернет др. результат\n",
    "s = pd.Series(['a', 'a', 'b', 'b', 'b', 'b', 'c', np.NaN])\n",
    "s.describe()"
   ]
  },
  {
   "cell_type": "markdown",
   "metadata": {},
   "source": [
    "#### Вычисление среднего значения"
   ]
  },
  {
   "cell_type": "code",
   "execution_count": 32,
   "metadata": {},
   "outputs": [
    {
     "data": {
      "text/plain": [
       "MSFT     47.493182\n",
       "AAPL    112.411364\n",
       "dtype: float64"
      ]
     },
     "execution_count": 32,
     "metadata": {},
     "output_type": "execute_result"
    }
   ],
   "source": [
    "omh[['MSFT', 'AAPL']].mean()"
   ]
  },
  {
   "cell_type": "code",
   "execution_count": 33,
   "metadata": {},
   "outputs": [
    {
     "data": {
      "text/plain": [
       "(         Date   MSFT    AAPL\n",
       " 0  2014-12-01  48.62  115.07\n",
       " 1  2014-12-02  48.46  114.63\n",
       " 2  2014-12-03  48.08  115.93\n",
       " 3  2014-12-04  48.84  115.49\n",
       " 4  2014-12-05  48.42  115.00,\n",
       " '------',\n",
       " 0    81.845\n",
       " 1    81.545\n",
       " 2    82.005\n",
       " 3    82.165\n",
       " 4    81.710\n",
       " dtype: float64)"
      ]
     },
     "execution_count": 33,
     "metadata": {},
     "output_type": "execute_result"
    }
   ],
   "source": [
    "# Вычислить ср. значение по строке \n",
    "# (т.е суммируются значения каждой строки и делится на кол. столбцов.)\n",
    "omh[:5], '------', omh[['MSFT', 'AAPL']].mean(axis=1)[:5]"
   ]
  },
  {
   "cell_type": "markdown",
   "metadata": {},
   "source": [
    "#### Вычисление медианы"
   ]
  },
  {
   "cell_type": "code",
   "execution_count": 34,
   "metadata": {},
   "outputs": [
    {
     "data": {
      "text/plain": [
       "MSFT     47.625\n",
       "AAPL    112.530\n",
       "dtype: float64"
      ]
     },
     "execution_count": 34,
     "metadata": {},
     "output_type": "execute_result"
    }
   ],
   "source": [
    "omh[['MSFT', 'AAPL']].median()"
   ]
  },
  {
   "cell_type": "markdown",
   "metadata": {},
   "source": [
    "\n",
    "#### Вычисление моды"
   ]
  },
  {
   "cell_type": "code",
   "execution_count": 35,
   "metadata": {},
   "outputs": [
    {
     "data": {
      "text/plain": [
       "0    1\n",
       "1    3\n",
       "dtype: int64"
      ]
     },
     "execution_count": 35,
     "metadata": {},
     "output_type": "execute_result"
    }
   ],
   "source": [
    "\"\"\"Обратите внимание, что данная строка возвратила не скалярное значение,\n",
    "представляющее моду, а серию. Данный факт связан с тем, что мод может быть\n",
    "несколько.\"\"\"\n",
    "s = pd.Series([1,2,3,3,5,1])\n",
    "s.mode()"
   ]
  },
  {
   "cell_type": "code",
   "execution_count": 36,
   "metadata": {},
   "outputs": [
    {
     "data": {
      "text/plain": [
       "0    1\n",
       "1    3\n",
       "dtype: int64"
      ]
     },
     "execution_count": 36,
     "metadata": {},
     "output_type": "execute_result"
    }
   ],
   "source": [
    "# Может быть несколько мод\n",
    "s = pd.Series([1, 2, 3, 3, 5, 1])\n",
    "s.mode()"
   ]
  },
  {
   "cell_type": "markdown",
   "metadata": {},
   "source": [
    "#### Вычисление дисперсии и стандартного отклонения"
   ]
  },
  {
   "cell_type": "code",
   "execution_count": 37,
   "metadata": {},
   "outputs": [
    {
     "data": {
      "text/plain": [
       "MSFT    0.870632\n",
       "AAPL    5.706231\n",
       "dtype: float64"
      ]
     },
     "execution_count": 37,
     "metadata": {},
     "output_type": "execute_result"
    }
   ],
   "source": [
    "# Вычисление дисперсии\n",
    "omh[['MSFT', 'AAPL']].var()"
   ]
  },
  {
   "cell_type": "code",
   "execution_count": 38,
   "metadata": {},
   "outputs": [
    {
     "data": {
      "text/plain": [
       "MSFT    0.933077\n",
       "AAPL    2.388772\n",
       "dtype: float64"
      ]
     },
     "execution_count": 38,
     "metadata": {},
     "output_type": "execute_result"
    }
   ],
   "source": [
    "# Вычислене стандартного отклонения\n",
    "omh[['MSFT', 'AAPL']].std()"
   ]
  },
  {
   "cell_type": "markdown",
   "metadata": {},
   "source": [
    "#### Вычисление ковариации"
   ]
  },
  {
   "cell_type": "code",
   "execution_count": 39,
   "metadata": {},
   "outputs": [
    {
     "data": {
      "text/plain": [
       "1.9261240259740264"
      ]
     },
     "execution_count": 39,
     "metadata": {},
     "output_type": "execute_result"
    }
   ],
   "source": [
    "omh.MSFT.cov(omh.AAPL)"
   ]
  },
  {
   "cell_type": "markdown",
   "metadata": {},
   "source": [
    "#### Вычисление корреляции"
   ]
  },
  {
   "cell_type": "code",
   "execution_count": 40,
   "metadata": {},
   "outputs": [
    {
     "data": {
      "text/plain": [
       "0.8641560684381171"
      ]
     },
     "execution_count": 40,
     "metadata": {},
     "output_type": "execute_result"
    }
   ],
   "source": [
    "omh.MSFT.corr(omh.AAPL)"
   ]
  },
  {
   "cell_type": "markdown",
   "metadata": {},
   "source": [
    "#### Дискретизация и квантилизация данных\n",
    "\n",
    "**Дискретизация** – это способ разбить **<u>непрерывные данные</u>** на группы («бины»).\n",
    "Каждое значение затем записывается в соответствующую группу. Получившиеся\n",
    "группы можно использовать для понимания относительного распределения дан-\n",
    "ных по различным бинам.\n"
   ]
  },
  {
   "cell_type": "code",
   "execution_count": 41,
   "metadata": {},
   "outputs": [
    {
     "data": {
      "text/plain": [
       "array([ 0.4691123 , -0.28286334, -1.5090585 , ...,  0.26296448,\n",
       "       -0.83377412, -0.10418135])"
      ]
     },
     "execution_count": 41,
     "metadata": {},
     "output_type": "execute_result"
    }
   ],
   "source": [
    "# Генерируем 10000 случайных чисел\n",
    "np.random.seed(123456)\n",
    "dist = np.random.normal(size = 10000)\n",
    "dist"
   ]
  },
  {
   "cell_type": "code",
   "execution_count": 42,
   "metadata": {},
   "outputs": [
    {
     "data": {
      "text/plain": [
       "(-0.002863324040906651, 1.008716203199891)"
      ]
     },
     "execution_count": 42,
     "metadata": {},
     "output_type": "execute_result"
    }
   ],
   "source": [
    "# Вывод среднего и нормального отклонения\n",
    "# Ожидаем получить среднее равное 0 и станд. отклонение равное 1 т.к мы создвали набор\n",
    "# данных стандартного нормального отклонения.\n",
    "dist.mean(), dist.std()"
   ]
  },
  {
   "cell_type": "code",
   "execution_count": 43,
   "metadata": {},
   "outputs": [
    {
     "data": {
      "text/plain": [
       "[(-0.633, 0.81], (-0.633, 0.81], (-2.077, -0.633], (-2.077, -0.633], (0.81, 2.254], ..., (-2.077, -0.633], (-0.633, 0.81], (-0.633, 0.81], (-2.077, -0.633], (-0.633, 0.81]]\n",
       "Length: 10000\n",
       "Categories (5, interval[float64, right]): [(-3.528, -2.077] < (-2.077, -0.633] < (-0.633, 0.81] < (0.81, 2.254] < (2.254, 3.698]]"
      ]
     },
     "execution_count": 43,
     "metadata": {},
     "output_type": "execute_result"
    }
   ],
   "source": [
    "# С помощью функции pd.cat() мы можем разбить нашу переменную на группы одинакового размера\n",
    "bins = pd.cut(dist, 5)\n",
    "# Получившийся обьект представляет собой категориальную переменную.\n",
    "bins"
   ]
  },
  {
   "cell_type": "code",
   "execution_count": 44,
   "metadata": {},
   "outputs": [
    {
     "data": {
      "text/plain": [
       "IntervalIndex([(-3.528, -2.077], (-2.077, -0.633], (-0.633, 0.81], (0.81, 2.254], (2.254, 3.698]], dtype='interval[float64, right]')"
      ]
     },
     "execution_count": 44,
     "metadata": {},
     "output_type": "execute_result"
    }
   ],
   "source": [
    "# смотрим категории\n",
    "bins.categories"
   ]
  },
  {
   "cell_type": "code",
   "execution_count": 45,
   "metadata": {},
   "outputs": [
    {
     "data": {
      "text/plain": [
       "array([2, 2, 1, ..., 2, 1, 2], dtype=int8)"
      ]
     },
     "execution_count": 45,
     "metadata": {},
     "output_type": "execute_result"
    }
   ],
   "source": [
    "# свойство .codes показывает, в какой группе находится каждый элемент\n",
    "bins.codes"
   ]
  },
  {
   "cell_type": "markdown",
   "metadata": {},
   "source": [
    "Вместо передачи в функцию <mark>pd.cut()</mark> количества групп для дискретизации данных вы можете передать массив значений, которые будут представлять ширину значений каждой группы.\n",
    "\n",
    "Наиболее распространенный пример – разбивка значений воз-\n",
    "раста на возрастные группы. Чтобы продемонстрировать это, следующий про-\n",
    "граммный код генерирует 50 значений возраста в диапазоне от 6 до 45.\n"
   ]
  },
  {
   "cell_type": "code",
   "execution_count": 46,
   "metadata": {},
   "outputs": [
    {
     "data": {
      "text/plain": [
       "array([ 7, 33, 38, 29, 42, 14, 16, 16, 18, 17, 26, 28, 44, 40, 20, 12,  8,\n",
       "       10, 36, 29, 26, 26, 11, 29, 42, 17, 41, 35, 22, 40, 24, 21, 38, 33,\n",
       "       26, 23, 16, 34, 26, 20, 18, 42, 27, 13, 37, 37, 10,  7, 10, 23])"
      ]
     },
     "execution_count": 46,
     "metadata": {},
     "output_type": "execute_result"
    }
   ],
   "source": [
    "# герерируем 50 значений возраста в диапозоне от 6 до 45\n",
    "np.random.seed(123456)\n",
    "ages = np.random.randint(6, 45, 50)\n",
    "ages"
   ]
  },
  {
   "cell_type": "code",
   "execution_count": 47,
   "metadata": {},
   "outputs": [
    {
     "data": {
      "text/plain": [
       "             counts  freqs\n",
       "categories                \n",
       "Youth             8   0.16\n",
       "Young Adult       9   0.18\n",
       "Adult            21   0.42\n",
       "Middle Age       12   0.24"
      ]
     },
     "execution_count": 47,
     "metadata": {},
     "output_type": "execute_result"
    }
   ],
   "source": [
    "# разбиваем на диапозоны и выводим статистику по ним\n",
    "ranges = [6, 12, 18, 35, 50]\n",
    "# зададим метки для каждой группы\n",
    "labels = ['Youth', 'Young Adult', 'Adult', 'Middle Age']\n",
    "agebins = pd.cut(ages, ranges, labels=labels)\n",
    "agebins.describe()"
   ]
  },
  {
   "cell_type": "markdown",
   "metadata": {},
   "source": [
    "Кроме того, данные можно разбить в соответствии с указанными квантилями\n",
    "с помощью функции pd.qcut(). Эта функция разбивает значения на группы таким\n",
    "образом, чтобы каждая группа имела одинаковое количество элементов."
   ]
  },
  {
   "cell_type": "code",
   "execution_count": 48,
   "metadata": {},
   "outputs": [
    {
     "data": {
      "text/plain": [
       "                  counts  freqs\n",
       "categories                     \n",
       "(-3.522, -0.861]    2000    0.2\n",
       "(-0.861, -0.241]    2000    0.2\n",
       "(-0.241, 0.261]     2000    0.2\n",
       "(0.261, 0.866]      2000    0.2\n",
       "(0.866, 3.698]      2000    0.2"
      ]
     },
     "execution_count": 48,
     "metadata": {},
     "output_type": "execute_result"
    }
   ],
   "source": [
    "# разбиваем на квантили\n",
    "# 5 групп с одинаковым количеством элементов\n",
    "qbin = pd.qcut(dist, 5)\n",
    "\n",
    "# эта строка выводит диапозон значений в каждом квантиле\n",
    "qbin.describe()"
   ]
  },
  {
   "cell_type": "markdown",
   "metadata": {},
   "source": [
    "Кроме того, вместо целого числа категорий можно указать диапазоны квантилей. \n",
    "Следующий программный код выделяет группы на основе ± 3, 2 и 1 стандартных отклонений. \n",
    "Поскольку эти данные подчиняются нормальному распределению, \n",
    "мы ожидаем, что по каждую сторону от среднего окажутся 0.1 %, 2.1 %, 13.6 %\n",
    "и 34.1 % значений.\n"
   ]
  },
  {
   "cell_type": "code",
   "execution_count": 49,
   "metadata": {},
   "outputs": [
    {
     "data": {
      "text/plain": [
       "                    counts  freqs\n",
       "categories                       \n",
       "(-3.522, -3.131]        10  0.001\n",
       "(-3.131, -2.056]       200  0.020\n",
       "(-2.056, -1.033]      1380  0.138\n",
       "(-1.033, -0.00363]    3410  0.341\n",
       "(-0.00363, 1.011]     3410  0.341\n",
       "(1.011, 2.043]        1380  0.138\n",
       "(2.043, 3.062]         200  0.020\n",
       "(3.062, 3.698]          10  0.001"
      ]
     },
     "execution_count": 49,
     "metadata": {},
     "output_type": "execute_result"
    }
   ],
   "source": [
    "# создадим квантили на основе +/- 3, 2 и 1 стандартных отклонений.\n",
    "quantiles = [0,\n",
    "            0.001,\n",
    "            0.021,\n",
    "            0.5-0.341,\n",
    "            0.5,\n",
    "            0.5+0.341,\n",
    "            1.0-0.021,\n",
    "            1.0-0.001,\n",
    "            1.0]\n",
    "\n",
    "qbin = pd.qcut(dist, quantiles)\n",
    "\n",
    "# эти данные должны подчиняться идеальному нормальному распределению\n",
    "qbin.describe()"
   ]
  },
  {
   "cell_type": "markdown",
   "metadata": {},
   "source": [
    "#### Вычисление ранга значений.\n",
    "Ранжирование помогает нам определить, **проранжирован** ли один из двух элементов **выше** или **ниже** другого. **Ранжирование сокращает количество значений**, преобразуя их в последовательность чисел, измеренных в порядковой шкале (ранги).\n",
    "\n",
    "Их можно использовать для оценки сложных критериев, основываясь на полученном порядке.\n"
   ]
  },
  {
   "cell_type": "code",
   "execution_count": 50,
   "metadata": {},
   "outputs": [
    {
     "data": {
      "text/plain": [
       "a   -0.204708\n",
       "b    0.478943\n",
       "c   -0.519439\n",
       "d   -0.555730\n",
       "e    1.965781\n",
       "dtype: float64"
      ]
     },
     "execution_count": 50,
     "metadata": {},
     "output_type": "execute_result"
    }
   ],
   "source": [
    "# генерируем случайные данные\n",
    "np.random.seed(12345)\n",
    "s = pd.Series(np.random.randn(5), index=list('abcde'))\n",
    "s"
   ]
  },
  {
   "cell_type": "markdown",
   "metadata": {},
   "source": [
    "Затем эти значения можно проранжировать с помощью метода <mark>.rank()</mark>, который по **умолчанию выполняет ранжирование меток** от наименьшего значения\n",
    "к наибольшему."
   ]
  },
  {
   "cell_type": "code",
   "execution_count": 51,
   "metadata": {},
   "outputs": [
    {
     "data": {
      "text/plain": [
       "a    3.0\n",
       "b    4.0\n",
       "c    2.0\n",
       "d    1.0\n",
       "e    5.0\n",
       "dtype: float64"
      ]
     },
     "execution_count": 51,
     "metadata": {},
     "output_type": "execute_result"
    }
   ],
   "source": [
    "# ранжирование значений\n",
    "s.rank()"
   ]
  },
  {
   "cell_type": "markdown",
   "metadata": {},
   "source": [
    "Результат представляет собой ранги – порядковые номера значений, проставленные в порядке возрастания (**по сути, речь идет о сортировке**). \n",
    "\n",
    "Самый низкий ранг – это ранг 1.0 с меткой индекса d (у которого было самое низкое значение –0.555730), самый высокий ранг – это ранг 5.0 с меткой индекса e (значение\n",
    "1.965781).\n",
    "\n",
    "**Существует множество вариантов ранжирования, например можно задать пользовательскую функцию ранжирования и способ обработки одинаковых (связанных) рангов.**\n",
    "\n"
   ]
  },
  {
   "cell_type": "markdown",
   "metadata": {},
   "source": [
    "#### Вычисление процентного изменения для каждого наблюдения серии\n",
    "\n",
    "**Процентное изменение за определенное количество периодов** можно вычислить\n",
    "с помощью метода <mark>.pct_change()</mark>. Пример использования процентного изменения – вычисление скорости изменения цены на акцию."
   ]
  },
  {
   "cell_type": "code",
   "execution_count": 54,
   "metadata": {},
   "outputs": [
    {
     "data": {
      "text/plain": [
       "       MSFT\n",
       "0       NaN\n",
       "1 -0.003291\n",
       "2 -0.007842\n",
       "3  0.015807\n",
       "4 -0.008600"
      ]
     },
     "execution_count": 54,
     "metadata": {},
     "output_type": "execute_result"
    }
   ],
   "source": [
    "# Вычисление %-ное иземенение для MSFT\n",
    "omh[['MSFT']].pct_change()[:5]"
   ]
  },
  {
   "cell_type": "markdown",
   "metadata": {},
   "source": [
    "#### Выполенение операций со скользыщим окном.\n",
    "Для демонстрации мы создадим серию из 1000 случайных чисел, которые суммируются нарастающим итогом, чтобы получить случайное блуждание, то есть\n",
    "математическую модель процесса случайных изменений — шагов в дискретные\n",
    "моменты времени."
   ]
  },
  {
   "cell_type": "code",
   "execution_count": 92,
   "metadata": {},
   "outputs": [
    {
     "data": {
      "text/plain": [
       "0    0.469112\n",
       "1    0.186249\n",
       "2   -1.322810\n",
       "3   -2.458442\n",
       "4   -1.246330\n",
       "dtype: float64"
      ]
     },
     "execution_count": 92,
     "metadata": {},
     "output_type": "execute_result"
    }
   ],
   "source": [
    "# Создание случайного блуждания\n",
    "np.random.seed(123456)\n",
    "r = np.random.randn(1000)\n",
    "s = pd.Series(r).cumsum()\n",
    "s[:5]"
   ]
  },
  {
   "cell_type": "code",
   "execution_count": 93,
   "metadata": {},
   "outputs": [
    {
     "data": {
      "text/plain": [
       "<AxesSubplot:>"
      ]
     },
     "execution_count": 93,
     "metadata": {},
     "output_type": "execute_result"
    },
    {
     "data": {
      "image/png": "[encoded data removed]",
      "text/plain": [
       "<Figure size 432x288 with 1 Axes>"
      ]
     },
     "metadata": {
      "needs_background": "light"
     },
     "output_type": "display_data"
    }
   ],
   "source": [
    "# Посмотрим на первые 100 значений\n",
    "s[:100].plot()"
   ]
  },
  {
   "cell_type": "markdown",
   "metadata": {},
   "source": [
    "Чтобы создать скользящее окно нам потрнебуется обьект rolling, который мы\n",
    "получаем с помощью метода <mark> .rolling()</mark>, указав ширину окна. \n",
    "\n",
    "Объект Rolling задает ширину окна, но при этом **он не выполняет фактических\n",
    "вычислений**. Чтобы выполнить их, можно выбрать один из многочисленных ме-\n",
    "тодов объекта Rolling, выполняющий определенную статистическую операцию\n"
   ]
  },
  {
   "cell_type": "code",
   "execution_count": 102,
   "metadata": {},
   "outputs": [
    {
     "data": {
      "text/plain": [
       "0         NaN\n",
       "1         NaN\n",
       "2   -0.222483\n",
       "3   -1.198334\n",
       "4   -1.675860\n",
       "5   -1.708105\n",
       "6   -1.322070\n",
       "dtype: float64"
      ]
     },
     "execution_count": 102,
     "metadata": {},
     "output_type": "execute_result"
    }
   ],
   "source": [
    "# вычислим скользящее окно шириной 3 дня\n",
    "rol = s.rolling(window = 3)\n",
    "\n",
    "# вычислим скользящее среденее по трем дням\n",
    "mean = rol.mean()\n",
    "mean[:7]"
   ]
  },
  {
   "cell_type": "markdown",
   "metadata": {},
   "source": [
    "#### Создание случайной величины\n",
    "**Случайная выборка** – это процесс случайного отбора значений из набора данных."
   ]
  },
  {
   "cell_type": "code",
   "execution_count": 8,
   "metadata": {},
   "outputs": [
    {
     "data": {
      "text/plain": [
       "          0         1         2         3\n",
       "0  0.469112 -0.282863 -1.509059 -1.135632\n",
       "1  1.212112 -0.173215  0.119209 -1.044236\n",
       "2 -0.861849 -2.104569 -0.494929  1.071804\n",
       "3  0.721555 -0.706771 -1.039575  0.271860\n",
       "4 -0.424972  0.567020  0.276232 -1.087401"
      ]
     },
     "execution_count": 8,
     "metadata": {},
     "output_type": "execute_result"
    }
   ],
   "source": [
    "# создаем датафрейм, состоящий из 50 строк и 4 столбцов случайных чисел \n",
    "np.random.seed(123456)\n",
    "df = pd.DataFrame(np.random.randn(50, 4))\n",
    "df[:5]"
   ]
  },
  {
   "cell_type": "markdown",
   "metadata": {},
   "source": [
    "Мы можем отобрать данные (т. е. создать выборку данных) с помощью метода\n",
    "<mark>.sample()</mark>, указав количество извлекаемых наблюдений."
   ]
  },
  {
   "cell_type": "code",
   "execution_count": 9,
   "metadata": {},
   "outputs": [
    {
     "data": {
      "text/plain": [
       "           0         1         2         3\n",
       "15 -0.076467 -1.187678  1.130127 -1.436737\n",
       "28 -2.182937  0.380396  0.084844  0.432390\n",
       "48 -0.693921  1.613616  0.464000  0.227371"
      ]
     },
     "execution_count": 9,
     "metadata": {},
     "output_type": "execute_result"
    }
   ],
   "source": [
    "# отбираем 3 случайных строки\n",
    "df.sample(n=3)"
   ]
  },
  {
   "cell_type": "code",
   "execution_count": 10,
   "metadata": {},
   "outputs": [
    {
     "data": {
      "text/plain": [
       "           0         1         2         3\n",
       "37  1.126203 -0.977349  1.474071 -0.064034\n",
       "10 -1.294524  0.413738  0.276662 -0.472035\n",
       "4  -0.424972  0.567020  0.276232 -1.087401\n",
       "14  0.410835  0.813850  0.132003 -0.827317\n",
       "48 -0.693921  1.613616  0.464000  0.227371"
      ]
     },
     "execution_count": 10,
     "metadata": {},
     "output_type": "execute_result"
    }
   ],
   "source": [
    "# можно указать процент случайно отбираемых данных\n",
    "# отбираем 10% строк\n",
    "df.sample(frac=0.1)"
   ]
  },
  {
   "cell_type": "markdown",
   "metadata": {},
   "source": [
    "В библиотеке pandas **можно выполнить случайный отбор с возвращением или\n",
    "без возвращения**, при этом по умолчанию используется отбор без возвращения.\n",
    "\n",
    "Чтобы задать случайный **отбор с возвращением**, просто воспользуемся параметром **replace=True**:\n"
   ]
  },
  {
   "cell_type": "code",
   "execution_count": 11,
   "metadata": {},
   "outputs": [
    {
     "data": {
      "text/plain": [
       "           0         1         2         3\n",
       "27 -1.236269  0.896171 -0.487602 -0.082240\n",
       "9   0.357021 -0.674600 -1.776904 -0.968914\n",
       "27 -1.236269  0.896171 -0.487602 -0.082240\n",
       "15 -0.076467 -1.187678  1.130127 -1.436737\n",
       "9   0.357021 -0.674600 -1.776904 -0.968914"
      ]
     },
     "execution_count": 11,
     "metadata": {},
     "output_type": "execute_result"
    }
   ],
   "source": [
    "# случайный отбор 10 % наблюдений с возвращением\n",
    "df.sample(frac=0.1, replace=True)"
   ]
  }
 ],
 "metadata": {
  "kernelspec": {
   "display_name": "Python 3 (ipykernel)",
   "language": "python",
   "name": "python3"
  },
  "language_info": {
   "codemirror_mode": {
    "name": "ipython",
    "version": 3
   },
   "file_extension": ".py",
   "mimetype": "text/x-python",
   "name": "python",
   "nbconvert_exporter": "python",
   "pygments_lexer": "ipython3",
   "version": "3.12.3"
  }
 },
 "nbformat": 4,
 "nbformat_minor": 4
}
