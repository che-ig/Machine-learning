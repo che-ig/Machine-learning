{
 "cells": [
  {
   "cell_type": "code",
   "execution_count": 1,
   "id": "3c7df256-a026-4b85-b73f-f1271d5e2daa",
   "metadata": {},
   "outputs": [],
   "source": [
    "# импортируем библиотеки numpy и pandas\n",
    "import pandas as pd\n",
    "import numpy as np\n",
    "\n",
    "# импортируем библиотеку datetime для работы с датами\n",
    "from datetime import datetime, date\n",
    "\n",
    "# Задаем некоторые опции библиотеки pandas, которые настраивают вывод\n",
    "pd.set_option('display.notebook_repr_html', False)\n",
    "pd.set_option('display.max_columns', 10) \n",
    "pd.set_option('display.max_rows', 15)\n",
    "pd.set_option('display.width', 90)\n",
    "\n",
    "# импортируем библиотеку matplotlib для построения графиков\n",
    "import matplotlib.pyplot as plt\n",
    "%matplotlib inline"
   ]
  },
  {
   "cell_type": "markdown",
   "id": "59a22e67-f49a-49d8-8c8f-96a8d32e691e",
   "metadata": {},
   "source": [
    "#### Конкатенация данных"
   ]
  },
  {
   "cell_type": "code",
   "execution_count": 2,
   "id": "f96cab98-d175-43c0-b72c-c5b44512aa6f",
   "metadata": {},
   "outputs": [
    {
     "data": {
      "text/plain": [
       "(0    0\n",
       " 1    1\n",
       " 2    2\n",
       " dtype: int64,\n",
       " 0    5\n",
       " 1    6\n",
       " 2    7\n",
       " dtype: int64)"
      ]
     },
     "execution_count": 2,
     "metadata": {},
     "output_type": "execute_result"
    }
   ],
   "source": [
    "# создаем два объекта Series для конкатенации\n",
    "s1 = pd.Series(np.arange(0, 3))\n",
    "s2 = pd.Series(np.arange(5, 8))\n",
    "s1, s2"
   ]
  },
  {
   "cell_type": "code",
   "execution_count": 3,
   "id": "0ebc5cb6-833a-4eb8-bc67-2bb0dc5a17db",
   "metadata": {},
   "outputs": [
    {
     "data": {
      "text/plain": [
       "0    0\n",
       "1    1\n",
       "2    2\n",
       "0    5\n",
       "1    6\n",
       "2    7\n",
       "dtype: int64"
      ]
     },
     "execution_count": 3,
     "metadata": {},
     "output_type": "execute_result"
    }
   ],
   "source": [
    "# конкатенируем их\n",
    "pd.concat([s1, s2])"
   ]
  },
  {
   "cell_type": "markdown",
   "id": "d5018a58-6549-4502-8896-6831e7edb97c",
   "metadata": {},
   "source": [
    "Вышеприведенный программный код присоединяет метки индекса и значения объекта s2 к конечной метке индекса и конечному значению объекта s1. В результате **получаем дублирующиеся индексные метки**, поскольку в ходе этой операции выравнивание не выполняется."
   ]
  },
  {
   "cell_type": "code",
   "execution_count": 4,
   "id": "f3634599-dd8f-4a6c-add0-84c2ddbd60d0",
   "metadata": {},
   "outputs": [
    {
     "data": {
      "text/plain": [
       "(   a  b  c\n",
       " 0  0  1  2\n",
       " 1  3  4  5\n",
       " 2  6  7  8,\n",
       "     a   b   c\n",
       " 0   9  10  11\n",
       " 1  12  13  14\n",
       " 2  15  16  17)"
      ]
     },
     "execution_count": 4,
     "metadata": {},
     "output_type": "execute_result"
    }
   ],
   "source": [
    "# создаем два объекта DataFrame для конкатенации, используя те же самые индексные метки\n",
    "# и имена столбцов, но другие значения\n",
    "df1 = pd.DataFrame(np.arange(9).reshape(3, 3), columns=['a', 'b', 'c'])\n",
    "df2 = pd.DataFrame(np.arange(9, 18).reshape(3, 3), columns=['a', 'b', 'c'])\n",
    "df1, df2"
   ]
  },
  {
   "cell_type": "code",
   "execution_count": 5,
   "id": "cf01a852-a8b2-4eaa-8ae3-b3333842d354",
   "metadata": {},
   "outputs": [
    {
     "data": {
      "text/plain": [
       "    a   b   c\n",
       "0   0   1   2\n",
       "1   3   4   5\n",
       "2   6   7   8\n",
       "0   9  10  11\n",
       "1  12  13  14\n",
       "2  15  16  17"
      ]
     },
     "execution_count": 5,
     "metadata": {},
     "output_type": "execute_result"
    }
   ],
   "source": [
    "# выполняем конкатенацию\n",
    "# в результате мы получим дублирующиеся индексные метки вдоль индекса строк\n",
    "pd.concat([df1, df2])"
   ]
  },
  {
   "cell_type": "markdown",
   "id": "89e4138c-ebf2-4aaf-8e2e-0d3609b4d6bd",
   "metadata": {},
   "source": [
    "Следующий программный код демонстрирует выравнивание двух объектов\n",
    "DataFrame в ходе конкатенации, когда есть общие столбцы (a и c), а также столбцы,\n",
    "присутствующие только в одном датафрейме (столбец b в датафрейме df1 и столбец d в датафрейме df2)."
   ]
  },
  {
   "cell_type": "code",
   "execution_count": 6,
   "id": "0d4afb63-18e2-4ed1-a772-81e4d59a68c3",
   "metadata": {},
   "outputs": [
    {
     "data": {
      "text/plain": [
       "(   a  b  c\n",
       " 0  0  1  2\n",
       " 1  3  4  5\n",
       " 2  6  7  8,\n",
       "     a   c   d\n",
       " 0   9  10  11\n",
       " 1  12  13  14\n",
       " 2  15  16  17)"
      ]
     },
     "execution_count": 6,
     "metadata": {},
     "output_type": "execute_result"
    }
   ],
   "source": [
    "# демонстрируем конкатенацию двух объектов DataFrame с разными столбцами\n",
    "df1 = pd.DataFrame(np.arange(9).reshape(3, 3), columns=['a', 'b', 'c'])\n",
    "df2 = pd.DataFrame(np.arange(9, 18).reshape(3, 3), columns=['a', 'c', 'd'])\n",
    "df1, df2"
   ]
  },
  {
   "cell_type": "code",
   "execution_count": 7,
   "id": "d56e1687-5c5a-4cc4-b3cd-d3d6f061b58b",
   "metadata": {},
   "outputs": [
    {
     "data": {
      "text/plain": [
       "    a    b   c     d\n",
       "0   0  1.0   2   NaN\n",
       "1   3  4.0   5   NaN\n",
       "2   6  7.0   8   NaN\n",
       "0   9  NaN  10  11.0\n",
       "1  12  NaN  13  14.0\n",
       "2  15  NaN  16  17.0"
      ]
     },
     "execution_count": 7,
     "metadata": {},
     "output_type": "execute_result"
    }
   ],
   "source": [
    "# выполняем конкатенацию, пропусками будут заполнены значения столбца d в датафрейме df1\n",
    "# и значения столбца b в датафрейме df2\n",
    "pd.concat([df1, df2])"
   ]
  },
  {
   "cell_type": "markdown",
   "id": "329d10d2-9020-465c-a764-5de8832bbefa",
   "metadata": {},
   "source": [
    "Каждой группе данных в итоговом датафрейме можно дать свое название, воспользовавшись параметром **keys**. *Он создает иерархический индекс объекта DataFrame, который позволяет отдельно обращаться к каждой группе данных с помощью свойства .loc объекта DataFrame*. Это удобно, если позже в итоговом объекте DataFrame вам потребуется определить источник получения данных."
   ]
  },
  {
   "cell_type": "code",
   "execution_count": 8,
   "id": "863dd064-45f6-4a7c-ad23-ec9b7d6555ca",
   "metadata": {},
   "outputs": [
    {
     "data": {
      "text/plain": [
       "        a    b   c     d\n",
       "df1 0   0  1.0   2   NaN\n",
       "    1   3  4.0   5   NaN\n",
       "    2   6  7.0   8   NaN\n",
       "df2 0   9  NaN  10  11.0\n",
       "    1  12  NaN  13  14.0\n",
       "    2  15  NaN  16  17.0"
      ]
     },
     "execution_count": 8,
     "metadata": {},
     "output_type": "execute_result"
    }
   ],
   "source": [
    "# выполняем конкатенацию двух объектов, но при этом создаем индекс с помощью\n",
    "# заданных ключей\n",
    "c = pd.concat([df1, df2], keys=['df1', 'df2'])\n",
    "# обратите внимание на метки строк в выводе\n",
    "c"
   ]
  },
  {
   "cell_type": "code",
   "execution_count": 9,
   "id": "88a6e6a5-ba71-475c-bc00-87afacdf3d4e",
   "metadata": {},
   "outputs": [
    {
     "data": {
      "text/plain": [
       "    a   b   c     d\n",
       "0   9 NaN  10  11.0\n",
       "1  12 NaN  13  14.0\n",
       "2  15 NaN  16  17.0"
      ]
     },
     "execution_count": 9,
     "metadata": {},
     "output_type": "execute_result"
    }
   ],
   "source": [
    "# мы можем извлечь данные, относящиеся к первому или второму исходному датафрейму\n",
    "c.loc['df2']"
   ]
  },
  {
   "cell_type": "markdown",
   "id": "21204773-795c-4b23-b458-24d843d1ac1b",
   "metadata": {},
   "source": [
    "#### Переключение осей выравнивания\n",
    "Функция pd.concat() позволяет задать ось, к которой нужно применить выравнивание во время конкатенации.\n"
   ]
  },
  {
   "cell_type": "code",
   "execution_count": 10,
   "id": "c85e4259-bba3-473d-8205-15c56942874b",
   "metadata": {},
   "outputs": [
    {
     "data": {
      "text/plain": [
       "   a  b  c   a   c   d\n",
       "0  0  1  2   9  10  11\n",
       "1  3  4  5  12  13  14\n",
       "2  6  7  8  15  16  17"
      ]
     },
     "execution_count": 10,
     "metadata": {},
     "output_type": "execute_result"
    }
   ],
   "source": [
    "# конкатенируем датафреймы df1 и df2 по оси столбцов\n",
    "# выравниваем по меткам строк, получаем дублирующиеся столбцы\n",
    "pd.concat([df1, df2], axis='columns')"
   ]
  },
  {
   "cell_type": "markdown",
   "id": "c60d70ad-f9c7-45ac-b331-3168f0cc6ca2",
   "metadata": {},
   "source": [
    "В результате получаем дублирующиеся столбцы. Это связано с тем, что в ходе\n",
    "конкатенации **сначала происходит выравнивание по меткам индекса строк** каждого объекта DataFrame, а затем осуществляется заполнение значений столбцов для первого объекта DataFrame и второго объекта DataFrame независимо от меток индекса строк."
   ]
  },
  {
   "cell_type": "code",
   "execution_count": 11,
   "id": "c7d6dad2-6fb0-47a5-a873-48deb512f46d",
   "metadata": {},
   "outputs": [
    {
     "data": {
      "text/plain": [
       "    a   d\n",
       "2  20  21\n",
       "3  22  23\n",
       "4  24  25"
      ]
     },
     "execution_count": 11,
     "metadata": {},
     "output_type": "execute_result"
    }
   ],
   "source": [
    "# создаем новый датафрейм d3, чтобы конкатенировать его с датафреймом df1\n",
    "# датафрейм df3 имеет общую с датафреймом df1 метку 2 и общий столбец a\n",
    "df3 = pd.DataFrame(np.arange(20, 26).reshape(3, 2),\n",
    "                  columns=['a', 'd'],\n",
    "                  index=[2, 3, 4])\n",
    "df3"
   ]
  },
  {
   "cell_type": "code",
   "execution_count": 12,
   "id": "93a0d86e-7665-4b90-b92b-2e06795b9e85",
   "metadata": {},
   "outputs": [
    {
     "data": {
      "text/plain": [
       "     a    b    c     a     d\n",
       "0  0.0  1.0  2.0   NaN   NaN\n",
       "1  3.0  4.0  5.0   NaN   NaN\n",
       "2  6.0  7.0  8.0  20.0  21.0\n",
       "3  NaN  NaN  NaN  22.0  23.0\n",
       "4  NaN  NaN  NaN  24.0  25.0"
      ]
     },
     "execution_count": 12,
     "metadata": {},
     "output_type": "execute_result"
    }
   ],
   "source": [
    "# конкатерируем их по оси столбцов. Происходит выравнивание по меткам строк, осуществляется\n",
    "# заполнение значений столбцов df1, а затем столбцов df3, получаем дублирующиеся столбцы\n",
    "pd.concat([df1, df3], axis='columns')"
   ]
  },
  {
   "cell_type": "markdown",
   "id": "8b8138b2-61e5-4935-8b50-a0f4c5b74202",
   "metadata": {},
   "source": [
    "Поскольку выравнивание осуществлялось по меткам индекса строк, мы получаем дублирующиеся столбцы. Значения для меток строк 0 и 1 в столбцах a и d, соответствующих датафрейму df3, заполняются пропусками, поскольку эти метки есть только в датафрейме df1. Значения для меток строк 3 и 4 в столбцах a, b и c, соответствующих датафрейму df1, заполняются пропусками, поскольку эти метки\n",
    "есть только в датафрейме df3."
   ]
  },
  {
   "cell_type": "markdown",
   "id": "54e857f3-0b08-4cfe-92fd-9c8fe8f476a7",
   "metadata": {},
   "source": [
    "#### Определение типа соединения"
   ]
  },
  {
   "cell_type": "code",
   "execution_count": 13,
   "id": "285eaf35-2e5d-4bc2-b895-60d9c80f5b29",
   "metadata": {},
   "outputs": [
    {
     "data": {
      "text/plain": [
       "   a  b  c   a   d\n",
       "2  6  7  8  20  21"
      ]
     },
     "execution_count": 13,
     "metadata": {},
     "output_type": "execute_result"
    }
   ],
   "source": [
    "# выполняем внутреннее соединение вместо внешнего\n",
    "# результат представлен в виде одной строки\n",
    "pd.concat([df1, df3], axis='columns', join='inner')"
   ]
  },
  {
   "cell_type": "code",
   "execution_count": 14,
   "id": "baa72c9c-7163-468d-a5ed-a5a869d19b75",
   "metadata": {},
   "outputs": [
    {
     "data": {
      "text/plain": [
       "  df1       df2    \n",
       "    a  b  c   a   d\n",
       "2   6  7  8  20  21"
      ]
     },
     "execution_count": 14,
     "metadata": {},
     "output_type": "execute_result"
    }
   ],
   "source": [
    "# добавляем ключи к столбцам\n",
    "df = pd.concat([df1, df3], keys=['df1', 'df2'], axis='columns', join='inner')\n",
    "df"
   ]
  },
  {
   "cell_type": "code",
   "execution_count": 15,
   "id": "9fb9ae65-7f49-452e-b32e-28e49f659b8e",
   "metadata": {},
   "outputs": [
    {
     "data": {
      "text/plain": [
       "    a   d\n",
       "2  20  21"
      ]
     },
     "execution_count": 15,
     "metadata": {},
     "output_type": "execute_result"
    }
   ],
   "source": [
    "# извлекаем данные из датафрейма с помощью ключа 'df2'\n",
    "df.loc[:, 'df2']"
   ]
  },
  {
   "cell_type": "markdown",
   "id": "3a95a3a1-9f75-418d-96a2-6a0657820430",
   "metadata": {},
   "source": [
    "#### Игнорирование меток индекса\n",
    "Если вы хотите избавиться от дублирования меток в итоговом индексе и при этом\n",
    "сохранить все строки, вы можете воспользоваться параметром **ignore_index=True**.\n",
    "Это, по сути, возвращает тот же результат, за исключением того, что теперь наш\n",
    "индекс имеет тип Int64Index"
   ]
  },
  {
   "cell_type": "code",
   "execution_count": 16,
   "id": "8d0c7a67-63c6-4706-b180-75e201be41ce",
   "metadata": {},
   "outputs": [
    {
     "data": {
      "text/plain": [
       "    a    b   c     d\n",
       "0   0  1.0   2   NaN\n",
       "1   3  4.0   5   NaN\n",
       "2   6  7.0   8   NaN\n",
       "3   9  NaN  10  11.0\n",
       "4  12  NaN  13  14.0\n",
       "5  15  NaN  16  17.0"
      ]
     },
     "execution_count": 16,
     "metadata": {},
     "output_type": "execute_result"
    }
   ],
   "source": [
    "# избавляемся от дублирования меток в итоговом индексе,\n",
    "# игнорируя индексные метки в датафреймах-источниках\n",
    "pd.concat([df1, df2], ignore_index=True)"
   ]
  },
  {
   "cell_type": "markdown",
   "id": "1aa4a019-710d-444c-80b1-a2586e3b19f8",
   "metadata": {},
   "source": [
    "#### Слияние и соединение данных\n",
    "Библиотека pandas позволяет выполнить слияние объектов с помощью операций, аналогичных операциям соединения для баз данных, используя функцию **pd.merge()** и метод **.merge()** объекта DataFrame. \n",
    "\n",
    "Процедура слияния объединяет данные двух объектов путем поиска совпадающих значений в одном или нескольких индексах столбцов или строк. Затем, применив семантику соединения к этим\n",
    "значениям, она возвращает новый объект – комбинацию данных обоих объектов.\n",
    "\n",
    "Слияние полезно, поскольку оно позволяет нам создавать отдельный объект DataFrame для каждого типа данных (одно из правил, позволяющее получить аккуратные данные), а также связывать данные в разных объектах DataFrame с помощью значений, присутствующих в обоих наборах."
   ]
  },
  {
   "cell_type": "markdown",
   "id": "ad8a74c8-1c23-4e39-8a01-c96fdb52f1de",
   "metadata": {},
   "source": [
    "#### Слияние данных, расположенных в нескольких объектах\n",
    "Практический пример использования слияния – это поиск имен и адресов клиентов в заказах."
   ]
  },
  {
   "cell_type": "code",
   "execution_count": 17,
   "id": "29b22712-d00b-47be-94de-ca1216ff251d",
   "metadata": {},
   "outputs": [
    {
     "data": {
      "text/plain": [
       "(   CustomerID    Name             Address\n",
       " 0          10    Mike    Address for Mike\n",
       " 1          11  Marica  Address for Marcia,\n",
       " '-------',\n",
       "    CustomerID   OrderDate\n",
       " 0          10  2014-12-01\n",
       " 1          11  2014-12-01\n",
       " 2          10  2014-12-01)"
      ]
     },
     "execution_count": 17,
     "metadata": {},
     "output_type": "execute_result"
    }
   ],
   "source": [
    "# это наши клиенты\n",
    "customers = {'CustomerID': [10, 11],\n",
    "            'Name': ['Mike', 'Marica'],\n",
    "            'Address': ['Address for Mike', 'Address for Marcia']}\n",
    "orders = {'CustomerID': [10, 11, 10],\n",
    "            'OrderDate': [date(2014, 12, 1), date(2014, 12, 1), date(2014, 12, 1)]\n",
    "         }\n",
    "\n",
    "customers = pd.DataFrame(customers)\n",
    "orders = pd.DataFrame(orders)\n",
    "\n",
    "customers, '-------', orders"
   ]
  },
  {
   "cell_type": "code",
   "execution_count": 18,
   "id": "d44543c0-6b3a-4c62-a46f-40fa66eaf3a0",
   "metadata": {},
   "outputs": [
    {
     "data": {
      "text/plain": [
       "   CustomerID    Name             Address   OrderDate\n",
       "0          10    Mike    Address for Mike  2014-12-01\n",
       "1          10    Mike    Address for Mike  2014-12-01\n",
       "2          11  Marica  Address for Marcia  2014-12-01"
      ]
     },
     "execution_count": 18,
     "metadata": {},
     "output_type": "execute_result"
    }
   ],
   "source": [
    "# выполняем слияние датафреймов customers и orders так, чтобы мы могли отправить товары\n",
    "customers.merge(orders)"
   ]
  },
  {
   "cell_type": "markdown",
   "id": "4cbff2d5-194c-4d91-ba0e-be0d144d7a1c",
   "metadata": {},
   "source": [
    "Библиотека pandas совершила для нас какое-то волшебство, выполнив слияние данных с помощью такого простого кода. Она поняла, что у наших датафреймов customers и orders есть общий столбец CustomerID и с этими знаниями. Затем она воспользовалась общими значениями, найденными в столбце CustomerID обоих датафреймов, чтобы связать данные друг с другом и сформировать итоговые данные на основе семантики внутреннего соединения."
   ]
  },
  {
   "cell_type": "code",
   "execution_count": 19,
   "id": "0e2efda2-ed98-4056-9df7-a99d6ebb642a",
   "metadata": {},
   "outputs": [
    {
     "data": {
      "text/plain": [
       "(  key1 key2  lval1\n",
       " 0    a    x      0\n",
       " 1    b    y      1\n",
       " 2    c    z      2,\n",
       " '-----',\n",
       "   key1 key2  rval1\n",
       " 0    a    x      6\n",
       " 1    b    a      7\n",
       " 2    c    z      8)"
      ]
     },
     "execution_count": 19,
     "metadata": {},
     "output_type": "execute_result"
    }
   ],
   "source": [
    "# создаем данные, которые будем использовать в качестве примеров\n",
    "# в оставшейся части этого раздела\n",
    "left_data = {'key1': ['a', 'b', 'c'],\n",
    "            'key2': ['x', 'y', 'z'],\n",
    "            'lval1': [ 0, 1, 2]}\n",
    "\n",
    "right_data = {'key1': ['a', 'b', 'c'],\n",
    "            'key2': ['x', 'a', 'z'],\n",
    "            'rval1': [ 6, 7, 8 ]}\n",
    "left = pd.DataFrame(left_data)\n",
    "right = pd.DataFrame(right_data)\n",
    "\n",
    "left, '-----', right"
   ]
  },
  {
   "cell_type": "code",
   "execution_count": 20,
   "id": "5444fd1f-34f0-4bcb-b989-a0c9b59c929e",
   "metadata": {},
   "outputs": [
    {
     "data": {
      "text/plain": [
       "  key1 key2  lval1  rval1\n",
       "0    a    x      0      6\n",
       "1    c    z      2      8"
      ]
     },
     "execution_count": 20,
     "metadata": {},
     "output_type": "execute_result"
    }
   ],
   "source": [
    "# демонстрируем слияние, не указывая столбцы, по которым нужно выполнить слияние\n",
    "# этот программный код неявно выполняет слияние по всем общим столбцам\n",
    "left.merge(right)"
   ]
  },
  {
   "cell_type": "markdown",
   "id": "615b4678-4e76-4ec0-a3ce-3f26288f8b17",
   "metadata": {},
   "source": [
    "Процедура слияния определяет, что столбцы **key1 и key2 являются общими для обоих объектов DataFrame**. Соответствующие кортежи значений в обоих объектах DataFrame для этих столбцов выглядят как (a, x) и (c, z), поэтому в результате получаем две строки значений."
   ]
  },
  {
   "cell_type": "markdown",
   "id": "8b9f9335-f8c5-4596-8e7a-a8f887e13372",
   "metadata": {},
   "source": [
    "Чтобы явно задать столбец, используемый для связывания объектов, можно воспользоваться параметром **on**. Следующий программный код выполняет слияние, **используя только значения столбца key1 обоих объектов DataFrame**"
   ]
  },
  {
   "cell_type": "code",
   "execution_count": 21,
   "id": "b49430c2-f73f-46a8-8d3a-4f59097d72ba",
   "metadata": {},
   "outputs": [
    {
     "data": {
      "text/plain": [
       "  key1 key2_l  lval1 key2_r  rval1\n",
       "0    a      x      0      x      6\n",
       "1    b      y      1      a      7\n",
       "2    c      z      2      z      8"
      ]
     },
     "execution_count": 21,
     "metadata": {},
     "output_type": "execute_result"
    }
   ],
   "source": [
    "# демонстрируем слияние, явно задав столбец, по значениям которого нужно связать\n",
    "# объекты DataFrame\n",
    "left.merge(right, on='key1', suffixes=['_l', '_r'])"
   ]
  },
  {
   "cell_type": "code",
   "execution_count": 22,
   "id": "c82f8742-66e9-41ca-ba2f-915174d470c6",
   "metadata": {},
   "outputs": [
    {
     "data": {
      "text/plain": [
       "  key1 key2  lval1  rval1\n",
       "0    a    x      0      6\n",
       "1    c    z      2      8"
      ]
     },
     "execution_count": 22,
     "metadata": {},
     "output_type": "execute_result"
    }
   ],
   "source": [
    "# явно выполняем слияние с помощью двух столбцов\n",
    "left.merge(right, on=['key1', 'key2'])"
   ]
  },
  {
   "cell_type": "markdown",
   "id": "5bee8b7e-72fb-48a2-9217-cbc0b19016d2",
   "metadata": {},
   "source": [
    "Если вы хотите выполнить слияние на основе столбцов с **разными именами в каждом объекте**, то можете использовать параметры **left_on** и **right_on**, передав имя или имена столбцов каждому соответствующему параметру.\n",
    "\n",
    "**Т.е мы сами решаем какой столбец брать из левого и правого датафрейма и результатом будут строки, имеющие одинаковые значения.**"
   ]
  },
  {
   "cell_type": "code",
   "execution_count": 23,
   "id": "6c4b9623-562b-421a-be74-b5a56a3a6bbd",
   "metadata": {},
   "outputs": [
    {
     "data": {
      "text/plain": [
       "  key1_x key2_x  lval1 key1_y key2_y  rval1\n",
       "0      a      x      0      b      a      7"
      ]
     },
     "execution_count": 23,
     "metadata": {},
     "output_type": "execute_result"
    }
   ],
   "source": [
    "left.merge(right, left_on='key1', right_on='key2')"
   ]
  },
  {
   "cell_type": "markdown",
   "id": "2baf1dec-8cfd-4763-b443-c7637667a21e",
   "metadata": {},
   "source": [
    "Чтобы выполнить слияние с помощью индексных меток строк обоих объектов DataFrame, можно воспользоваться параметрами **left_index=True и right_index=True (нужно задать оба параметра)**"
   ]
  },
  {
   "cell_type": "code",
   "execution_count": 24,
   "id": "3f7d8dec-3ec9-419a-bdb6-785eb5aa2eba",
   "metadata": {},
   "outputs": [
    {
     "data": {
      "text/plain": [
       "  key1_l key2_l  lval1 key1_r key2_r  rval1\n",
       "0      a      x      0      a      x      6\n",
       "1      b      y      1      b      a      7\n",
       "2      c      z      2      c      z      8"
      ]
     },
     "execution_count": 24,
     "metadata": {},
     "output_type": "execute_result"
    }
   ],
   "source": [
    "# соединяем индексы строк обеих матриц\n",
    "pd.merge(left, right, left_index=True, right_index=True, suffixes=['_l', '_r'])"
   ]
  },
  {
   "cell_type": "markdown",
   "id": "6cb18661-a39a-4b13-9fa9-0001824c0885",
   "metadata": {},
   "source": [
    "#### Настройка семантики соединения при выполнении слияния\n",
    "Тип соединения, выполняемый функцией pd.merge() по умолчанию, – внутреннее соединение (**inner join**). Чтобы использовать другой тип соединения, укажите его с помощью параметра **how** функции pd.merge() (или метода .merge()). Допустимыми параметрами являются:\n",
    "\n",
    "- inner: выполняет пересечение ключей из обоих объектов DataFrame;\n",
    "- outer: выполняет объединение ключей из обоих объектов DataFrame;\n",
    "- left: использует только ключи из левого объекта DataFrame;\n",
    "- right: использует только ключи из правого объекта DataFrame."
   ]
  },
  {
   "cell_type": "code",
   "execution_count": 25,
   "id": "9374cadf-86db-48fc-af79-c4d4402e791c",
   "metadata": {},
   "outputs": [],
   "source": [
    "# внешнее соединение возращает все строки из внутреннего соединения,\n",
    "# а также строки датафреймов left и right, не попавшие во внутреннее соединение\n",
    "# отсутствующие элементы заполняются значениями NaN"
   ]
  },
  {
   "cell_type": "code",
   "execution_count": 26,
   "id": "e044ca78-a6ab-48fc-8a17-6135131bb4c7",
   "metadata": {},
   "outputs": [
    {
     "data": {
      "text/plain": [
       "  key1 key2  lval1  rval1\n",
       "0    a    x    0.0    6.0\n",
       "1    b    a    NaN    7.0\n",
       "2    b    y    1.0    NaN\n",
       "3    c    z    2.0    8.0"
      ]
     },
     "execution_count": 26,
     "metadata": {},
     "output_type": "execute_result"
    }
   ],
   "source": [
    "left.merge(right, how='outer')"
   ]
  },
  {
   "cell_type": "markdown",
   "id": "e5e9348a-8884-46bb-a0ff-3ea2b6e5fb7e",
   "metadata": {},
   "source": [
    "Левое соединение возвращает все строки, попавшие во внутреннее соединение (соединенные строки датафреймов left и right, у которых совпали значения в **общих столбцах key1 и key2**), плюс все строки из датафрейма left, не попавшие во внутреннее соединение (для которых не нашлось пары в датафрейме right)."
   ]
  },
  {
   "cell_type": "code",
   "execution_count": 27,
   "id": "8a3f26aa-162a-488f-8cdb-b9b60f448b46",
   "metadata": {},
   "outputs": [
    {
     "data": {
      "text/plain": [
       "  key1 key2  lval1  rval1\n",
       "0    a    x      0    6.0\n",
       "1    b    y      1    NaN\n",
       "2    c    z      2    8.0"
      ]
     },
     "execution_count": 27,
     "metadata": {},
     "output_type": "execute_result"
    }
   ],
   "source": [
    "# левое соединение возвращает все строки из внутреннего соединения,\n",
    "# а также строки датафрейма left, не попавшие во внутреннее соединение\n",
    "# отсутствующие элементы заполняются значениями NaN\n",
    "# итоговый датафрейм содержит общие строки датафреймов left и right с метками 0 и 2 (строки\n",
    "# датафреймов left и right, у которых совпали значения в общих столбцах key1 и key2)\n",
    "# а также уникальную строку датафрейма left с меткой 1\n",
    "# уникальная строка датафрейма left в итоговом датафрейме в столбце rval1 заполняется\n",
    "# значением NaN, потому что в датафрейме left этот столбец отсутствовал\n",
    "left.merge(right, how='left')"
   ]
  },
  {
   "cell_type": "code",
   "execution_count": 28,
   "id": "2be28b26-a1c7-461a-8eae-f2a4aa323370",
   "metadata": {
    "editable": true,
    "slideshow": {
     "slide_type": ""
    },
    "tags": []
   },
   "outputs": [
    {
     "data": {
      "text/plain": [
       "(  key1 key2  rval1\n",
       " 0    a    x      6\n",
       " 1    b    a      7\n",
       " 2    c    z      8,\n",
       "   key1 key2  lval1  rval1\n",
       " 0    a    x    0.0      6\n",
       " 1    b    a    NaN      7\n",
       " 2    c    z    2.0      8)"
      ]
     },
     "execution_count": 28,
     "metadata": {},
     "output_type": "execute_result"
    }
   ],
   "source": [
    "# правое соединение возращает все строки из внутреннего соединения,\n",
    "# а также строки датафрейма right, не попавшие во внутреннее соединение\n",
    "# отсутствующие элементы заполняются значениями NaN\n",
    "# итоговый датафрейм содержит общие строки датафреймов left и right с метками 0 и 1 (строки\n",
    "# датафреймов left и right, у которых совпали значения в общих столбцах key1 и key2)\n",
    "# а также уникальную строку датафрейма right с меткой 2\n",
    "# уникальная строка датафрейма right в итоговом датафрейме в столбце lval1 заполняется\n",
    "# значением NaN, потому что в датафрейме right этот столбец отсутствовал\n",
    "\n",
    "right, left.merge(right, how='right')"
   ]
  },
  {
   "cell_type": "markdown",
   "id": "4456b3ea-b976-46fa-af83-ad6bb23de758",
   "metadata": {},
   "source": [
    "**Кроме того, библиотека pandas предлагает метод .join()**, который можно использовать для **выполнения соединения с помощью <u>индексных меток</u>** двух объектов DataFrame (вместо значений столбцов).\n",
    "\n",
    "Обратите внимание, что если столбцы в обоих объектах DataFrame не имеют уникальных имен, вы должны указать суффиксы с помощью параметров lsuffix и rsuffix (в отличие от слияния, автоматический суффикс при выполнении этой операции не присваивается). \n"
   ]
  },
  {
   "cell_type": "code",
   "execution_count": 29,
   "id": "8630e5b1-748c-4228-9378-83b2a04a15ca",
   "metadata": {},
   "outputs": [
    {
     "data": {
      "text/plain": [
       "  key1_left key2_left  lval1 key1_right key2_right  rval1\n",
       "0         a         x      0          a          x      6\n",
       "1         b         y      1          b          a      7\n",
       "2         c         z      2          c          z      8"
      ]
     },
     "execution_count": 29,
     "metadata": {},
     "output_type": "execute_result"
    }
   ],
   "source": [
    "# соединяем left с right (метод по умолчанию – outer), и поскольку эти объекты имеют\n",
    "# дублирующиеся имена столбцов, мы задаем параметы lsuffix и rsuffix\n",
    "left.join(right, lsuffix='_left', rsuffix='_right')"
   ]
  },
  {
   "cell_type": "markdown",
   "id": "b8c24b2f-847a-4032-bb98-2ebd2478a4bb",
   "metadata": {},
   "source": [
    "Тип соединения, используемый по умолчанию, – внешнее соединение. Обратите внимание, что это отличается от стандартного метода **.merge(), в котором по умолчанию применяется внутреннее соединение**."
   ]
  },
  {
   "cell_type": "code",
   "execution_count": 30,
   "id": "4550dc45-d264-4b63-810a-2728bfa868c1",
   "metadata": {},
   "outputs": [
    {
     "data": {
      "text/plain": [
       "  key1_left key2_left  lval1 key1_right key2_right  rval1\n",
       "0         a         x      0          a          x      6\n",
       "1         b         y      1          b          a      7\n",
       "2         c         z      2          c          z      8"
      ]
     },
     "execution_count": 30,
     "metadata": {},
     "output_type": "execute_result"
    }
   ],
   "source": [
    "# соединяем left с right с помощью внутреннего соединения\n",
    "left.join(right, lsuffix='_left', rsuffix='_right', how='inner')"
   ]
  },
  {
   "cell_type": "markdown",
   "id": "09d7d65e-5239-450e-adf2-2f2a3b90d690",
   "metadata": {},
   "source": [
    "#### Поворот данных для преобразования значений в индексы и наоборот\n",
    "Данные часто хранятся в состыкованном формате («в столбик»), который еще называют форматом записи. Он используется в базах данных, CSV-файлах и таблицах Excel. В состыкованном формате данные часто не нормированы и имеют повторяющиеся значения в нескольких столбцах или значения, которые логически должны относиться к другими таблицам (нарушая концепцию аккуратных\n",
    "данных)."
   ]
  },
  {
   "cell_type": "code",
   "execution_count": 31,
   "id": "e036e0dd-ae0a-468e-9c14-0d02317268ee",
   "metadata": {},
   "outputs": [
    {
     "data": {
      "text/plain": [
       "    interval axis  reading\n",
       "0          0    X      0.0\n",
       "1          0    Y      0.5\n",
       "2          0    Z      1.0\n",
       "3          1    X      0.1\n",
       "4          1    Y      0.4\n",
       "5          1    Z      0.9\n",
       "6          2    X      0.2\n",
       "7          2    Y      0.3\n",
       "8          2    Z      0.8\n",
       "9          3    X      0.3\n",
       "10         3    Y      0.2\n",
       "11         3    Z      0.7"
      ]
     },
     "execution_count": 31,
     "metadata": {},
     "output_type": "execute_result"
    }
   ],
   "source": [
    "# считываем данные акселерометра\n",
    "sensor_radings = pd.read_csv('Notebooks/Data/accel.csv')\n",
    "sensor_radings"
   ]
  },
  {
   "cell_type": "markdown",
   "id": "3d4b16f6-fdd3-4613-bf4b-bfb907e973e4",
   "metadata": {},
   "source": [
    "**Проблема** такого представления данных заключается в том, что довольно **трудно выделить показания, относящиеся к конкретной оси**. Это можно сделать с помощью логического отбора."
   ]
  },
  {
   "cell_type": "code",
   "execution_count": 32,
   "id": "097df991-36fc-4860-8274-1557e73ebe2e",
   "metadata": {},
   "outputs": [
    {
     "data": {
      "text/plain": [
       "   interval axis  reading\n",
       "0         0    X      0.0\n",
       "3         1    X      0.1\n",
       "6         2    X      0.2\n",
       "9         3    X      0.3"
      ]
     },
     "execution_count": 32,
     "metadata": {},
     "output_type": "execute_result"
    }
   ],
   "source": [
    "# извлекаем показания по оси X\n",
    "sensor_radings[sensor_radings['axis'] == 'X']"
   ]
  },
  {
   "cell_type": "markdown",
   "id": "e730dee5-6268-47b7-bcd8-2ad986dcaa75",
   "metadata": {},
   "source": [
    "Проблема возникает, когда вам нужно узнать значения по всем осям в данный\n",
    "интервал времени, а не только по оси x. Чтобы получить значения по всем осям,\n",
    "можно выполнить отбор каждого значения оси, но это будет громоздкий код.\n",
    "\n",
    "Более оптимальным станет такое представление данных, в котором столбцы будут представлять уникальные значения переменной axis. Чтобы преобразовать данные в этот формат, используйте метод <mark>.pivot()</mark> объекта DataFrame"
   ]
  },
  {
   "cell_type": "code",
   "execution_count": 33,
   "id": "78a9362f-7557-4538-b057-c51a433caa7f",
   "metadata": {},
   "outputs": [],
   "source": [
    "# поворачиваем данные. Интервалы становятся индексом, столбцы –\n",
    "# это оси, а показания – значения столбцов"
   ]
  },
  {
   "cell_type": "code",
   "execution_count": 53,
   "id": "4d20e329-d319-42db-9178-c5dd7a8b65b3",
   "metadata": {},
   "outputs": [
    {
     "data": {
      "text/plain": [
       "axis        X    Y    Z\n",
       "interval               \n",
       "0         0.0  0.5  1.0\n",
       "1         0.1  0.4  0.9\n",
       "2         0.2  0.3  0.8\n",
       "3         0.3  0.2  0.7"
      ]
     },
     "execution_count": 53,
     "metadata": {},
     "output_type": "execute_result"
    }
   ],
   "source": [
    "sensor_radings['new'] = np.random.randint(1, 100, size=len(sensor_radings))\n",
    "sensor_radings.pivot(index='interval',\n",
    "                    columns='axis',\n",
    "                    values='reading')"
   ]
  },
  {
   "cell_type": "markdown",
   "id": "80ace635-d538-4c08-9d63-11a46de328af",
   "metadata": {},
   "source": [
    "#### Состыковка и расстыковка данных\n",
    "Методы <mark>.stack() и .unstack()</mark> схожи с методом .pivot(). **Процесс состыковки поворачивает уровень меток столбцов, превращая его в индекс строк**. Расстыковка выполняет обратное действие, то есть поворачивает уровень индекса строк, превращая его в индекс столбцов.\n",
    "\n",
    "Одно из различий между состыковкой/расстыковкой и поворотом заключается в том, что, в отличие от поворота, операции состыковки и расстыковки могут повернуть конкретные уровни иерархического индекса. Кроме того, если поворот сохраняет одинаковое количество уровней индекса, состыковка и расстыковка всегда увеличивают количество уровней по индексу одной оси (количество столбцов для расстыковки и количество строк для состыковки) и уменьшают количество уровней по другой оси."
   ]
  },
  {
   "cell_type": "markdown",
   "id": "5a289bd4-2d6f-4c28-83d0-0bf42c261e23",
   "metadata": {},
   "source": [
    "#### Состыковка с помощью неиерархических индексов"
   ]
  },
  {
   "cell_type": "code",
   "execution_count": 35,
   "id": "e9db6135-75c7-4992-9c3e-06886163eb6d",
   "metadata": {},
   "outputs": [
    {
     "data": {
      "text/plain": [
       "     a\n",
       "one  1\n",
       "two  2"
      ]
     },
     "execution_count": 35,
     "metadata": {},
     "output_type": "execute_result"
    }
   ],
   "source": [
    "# создаем простой датафрейм с одним столбцом\n",
    "df = pd.DataFrame({'a': [1, 2]}, index=['one', 'two'])\n",
    "df"
   ]
  },
  {
   "cell_type": "markdown",
   "id": "666d33bb-8033-40d0-91c4-827f7460d0d3",
   "metadata": {},
   "source": [
    "Состыковка помещает **уровень индекса столбцов в <u>новый</u> уровень индекса строк**. Поскольку наш объект DataFrame имеет только один уровень, происходит сворачивание объекта DataFrame в объект Series с иерархическим индексом строк."
   ]
  },
  {
   "cell_type": "code",
   "execution_count": 36,
   "id": "51ba3608-4a04-43ca-8b78-c8a80f461044",
   "metadata": {},
   "outputs": [
    {
     "data": {
      "text/plain": [
       "one  a    1\n",
       "two  a    2\n",
       "dtype: int64"
      ]
     },
     "execution_count": 36,
     "metadata": {},
     "output_type": "execute_result"
    }
   ],
   "source": [
    "# помещаем столбец в еще один уровень индекса строк\n",
    "# результатом становится объект Series, в котором значения можно просмотреть\n",
    "# с помощью мультииндекса\n",
    "stacked1 = df.stack()\n",
    "stacked1"
   ]
  },
  {
   "cell_type": "markdown",
   "id": "c0416f73-d409-4113-94a7-bd6c3f700394",
   "metadata": {},
   "source": [
    "Чтобы посмотреть значения, нам нужно передать кортеж в индексатор объекта\n",
    "Series, который выполняет поиск с помощью индекса"
   ]
  },
  {
   "cell_type": "code",
   "execution_count": 37,
   "id": "9ff22082-9ad0-498a-bc8d-9e9d00b747c6",
   "metadata": {},
   "outputs": [
    {
     "data": {
      "text/plain": [
       "1"
      ]
     },
     "execution_count": 37,
     "metadata": {},
     "output_type": "execute_result"
    }
   ],
   "source": [
    "# ищем значение для 'one'/'a', передав кортеж в индексатор\n",
    "stacked1[('one', 'a')]"
   ]
  },
  {
   "cell_type": "markdown",
   "id": "9f982c9d-3cd2-4db2-93dd-b6223285f8c0",
   "metadata": {},
   "source": [
    "Если объект DataFrame содержит несколько столбцов, то **все столбцы** помещаются\n",
    "**в один и тот же дополнительный уровень** нового объекта Series"
   ]
  },
  {
   "cell_type": "code",
   "execution_count": 38,
   "id": "b1d559b2-2556-4638-b181-13af0483f183",
   "metadata": {},
   "outputs": [
    {
     "data": {
      "text/plain": [
       "     a  b  c\n",
       "one  1  3  5\n",
       "two  2  4  6"
      ]
     },
     "execution_count": 38,
     "metadata": {},
     "output_type": "execute_result"
    }
   ],
   "source": [
    "# создаем датафрейм с двумя столбцами\n",
    "df = pd.DataFrame({'a': [1, 2], 'b': [3, 4], 'c': [5, 6]}, index=['one', 'two'])\n",
    "df"
   ]
  },
  {
   "cell_type": "code",
   "execution_count": 39,
   "id": "daf8c54b-1ae1-478f-8ca7-4f8e067675d6",
   "metadata": {},
   "outputs": [
    {
     "data": {
      "text/plain": [
       "one  a    1\n",
       "     b    3\n",
       "     c    5\n",
       "two  a    2\n",
       "     b    4\n",
       "     c    6\n",
       "dtype: int64"
      ]
     },
     "execution_count": 39,
     "metadata": {},
     "output_type": "execute_result"
    }
   ],
   "source": [
    "# помещаем оба столбца в отдельный уровень индекса\n",
    "stackd2 = df.stack()\n",
    "stackd2"
   ]
  },
  {
   "cell_type": "code",
   "execution_count": 40,
   "id": "57db05b1-b147-40d0-b35a-d4468c68f861",
   "metadata": {},
   "outputs": [
    {
     "data": {
      "text/plain": [
       "3"
      ]
     },
     "execution_count": 40,
     "metadata": {},
     "output_type": "execute_result"
    }
   ],
   "source": [
    "# ищем значение с помощью индекса 'one' / 'b'\n",
    "stackd2[('one', 'b')]"
   ]
  },
  {
   "cell_type": "markdown",
   "id": "b0cd87b2-ad6c-42bb-a968-7ec0d90e3c6f",
   "metadata": {},
   "source": [
    "#### Расстыковка с помощью иерархических индексов\n",
    "**Расстыковка выполняет противоположную операцию, помещая уровень индекса строк в уровень оси столбцов.**\n",
    "\n",
    "Чтобы продемонстрировать расстыковку с помощью иерархических индексов, мы обратимся к данным акселерометра, которые мы уже рассматривали ранее в этой главе. Однако теперь мы создадим две копии этих данных, по одной для каждого пользователя, и в каждую копию добавим дополнительный столбец. Следующий программный код создает эти данные"
   ]
  },
  {
   "cell_type": "code",
   "execution_count": 41,
   "id": "62f8ff22-172d-4f0d-afa2-91caed66a020",
   "metadata": {},
   "outputs": [
    {
     "data": {
      "text/plain": [
       "                      reading  new\n",
       "who    interval axis              \n",
       "Mike   0        X         0.0   33\n",
       "                Y         0.5   22\n",
       "                Z         1.0   83\n",
       "       1        X         0.1   16\n",
       "                Y         0.4   89\n",
       "...                       ...  ...\n",
       "Mikael 2        Y        30.0   61\n",
       "                Z        80.0   55\n",
       "       3        X        30.0    9\n",
       "                Y        20.0   62\n",
       "                Z        70.0   96\n",
       "\n",
       "[24 rows x 2 columns]"
      ]
     },
     "execution_count": 41,
     "metadata": {},
     "output_type": "execute_result"
    }
   ],
   "source": [
    "# создаем две копии данных акселерометра, по одной для каждого пользователя\n",
    "user1 = sensor_radings.copy()\n",
    "user2 = sensor_radings.copy()\n",
    "\n",
    "# добавляем столбец who в каждую копию\n",
    "user1['who'] = 'Mike'\n",
    "user2['who'] = 'Mikael'\n",
    "\n",
    "# давайте отмасштабируем данные user2\n",
    "user2['reading'] *= 100\n",
    "\n",
    "# и организуем данные так, чтобы получить иерархический индекс строк\n",
    "multy_user_sensor_data = pd.concat([user1, user2]).set_index(['who', 'interval', 'axis'])\n",
    "multy_user_sensor_data"
   ]
  },
  {
   "cell_type": "code",
   "execution_count": 42,
   "id": "b5b4ac91-72c4-4906-a1f5-d1c5d4224631",
   "metadata": {},
   "outputs": [
    {
     "data": {
      "text/plain": [
       "             reading  new\n",
       "who    axis              \n",
       "Mike   X         0.1   16\n",
       "       Y         0.4   89\n",
       "       Z         0.9   12\n",
       "Mikael X        10.0   16\n",
       "       Y        40.0   89\n",
       "       Z        90.0   12"
      ]
     },
     "execution_count": 42,
     "metadata": {},
     "output_type": "execute_result"
    }
   ],
   "source": [
    "# извлекаем все показания по всем осям (поле axis) и по всем пользователям по значению интервала === 1\n",
    "# (т.е это многомерный loc т.е мы хотем получть строчки со зн. 1 в индексе interval )\n",
    "multy_user_sensor_data.xs(1, level='interval')"
   ]
  },
  {
   "cell_type": "markdown",
   "id": "7d031053-7bb2-4a73-bce7-bc6af8af614d",
   "metadata": {},
   "source": [
    "**Расстыковка помещает самый внутренний уровень индекса строк в новый уровень индекса столбцов**, в результате получаем столбцы с типом индекса MultiIndex."
   ]
  },
  {
   "cell_type": "code",
   "execution_count": 43,
   "id": "68f2e1cd-ac4f-49b1-9f7f-c54539a37a5e",
   "metadata": {},
   "outputs": [
    {
     "data": {
      "text/plain": [
       "                reading              new        \n",
       "axis                  X     Y      Z   X   Y   Z\n",
       "who    interval                                 \n",
       "Mikael 0            0.0  50.0  100.0  33  22  83\n",
       "       1           10.0  40.0   90.0  16  89  12\n",
       "       2           20.0  30.0   80.0  84  61  55\n",
       "       3           30.0  20.0   70.0   9  62  96\n",
       "Mike   0            0.0   0.5    1.0  33  22  83\n",
       "       1            0.1   0.4    0.9  16  89  12\n",
       "       2            0.2   0.3    0.8  84  61  55\n",
       "       3            0.3   0.2    0.7   9  62  96"
      ]
     },
     "execution_count": 43,
     "metadata": {},
     "output_type": "execute_result"
    }
   ],
   "source": [
    "# выполняем расстыковку, в результате самый внутренний уровень индекса строк (уровень axis)\n",
    "# стал уровнем индекса столбцов\n",
    "multy_user_sensor_data.unstack()"
   ]
  },
  {
   "cell_type": "markdown",
   "id": "1a700e2a-0108-4718-a951-878f20dfb2e0",
   "metadata": {},
   "source": [
    "Чтобы выполнить расстыковку другого уровня, используйте параметр level"
   ]
  },
  {
   "cell_type": "code",
   "execution_count": 44,
   "id": "42095384-f426-4a1b-a08d-8bad8cf16834",
   "metadata": {},
   "outputs": [
    {
     "data": {
      "text/plain": [
       "              reading         new     \n",
       "who            Mikael Mike Mikael Mike\n",
       "interval axis                         \n",
       "0        X        0.0  0.0     33   33\n",
       "         Y       50.0  0.5     22   22\n",
       "         Z      100.0  1.0     83   83\n",
       "1        X       10.0  0.1     16   16\n",
       "         Y       40.0  0.4     89   89\n",
       "         Z       90.0  0.9     12   12\n",
       "2        X       20.0  0.2     84   84\n",
       "         Y       30.0  0.3     61   61\n",
       "         Z       80.0  0.8     55   55\n",
       "3        X       30.0  0.3      9    9\n",
       "         Y       20.0  0.2     62   62\n",
       "         Z       70.0  0.7     96   96"
      ]
     },
     "execution_count": 44,
     "metadata": {},
     "output_type": "execute_result"
    }
   ],
   "source": [
    "# выполняем расстыковку по уровню 0\n",
    "multy_user_sensor_data.unstack(level=0)"
   ]
  },
  {
   "cell_type": "code",
   "execution_count": 45,
   "id": "658e434d-f1cf-4efd-b5d9-f3a5a61d7a2f",
   "metadata": {},
   "outputs": [
    {
     "data": {
      "text/plain": [
       "         reading                         ...  new                   \n",
       "who         Mike           Mikael        ... Mike     Mikael        \n",
       "axis           X    Y    Z      X     Y  ...    Y   Z      X   Y   Z\n",
       "interval                                 ...                        \n",
       "0            0.0  0.5  1.0    0.0  50.0  ...   22  83     33  22  83\n",
       "1            0.1  0.4  0.9   10.0  40.0  ...   89  12     16  89  12\n",
       "2            0.2  0.3  0.8   20.0  30.0  ...   61  55     84  61  55\n",
       "3            0.3  0.2  0.7   30.0  20.0  ...   62  96      9  62  96\n",
       "\n",
       "[4 rows x 12 columns]"
      ]
     },
     "execution_count": 45,
     "metadata": {},
     "output_type": "execute_result"
    }
   ],
   "source": [
    "# выполняем расстыковку уровней who и axis\n",
    "unstacked = multy_user_sensor_data.unstack(['who', 'axis'])\n",
    "unstacked"
   ]
  },
  {
   "cell_type": "code",
   "execution_count": 46,
   "id": "12ed335e-0ec2-43e1-855f-606056924bf9",
   "metadata": {},
   "outputs": [
    {
     "data": {
      "text/plain": [
       "                reading              new        \n",
       "axis                  X     Y      Z   X   Y   Z\n",
       "interval who                                    \n",
       "0        Mike       0.0   0.5    1.0  33  22  83\n",
       "         Mikael     0.0  50.0  100.0  33  22  83\n",
       "1        Mike       0.1   0.4    0.9  16  89  12\n",
       "         Mikael    10.0  40.0   90.0  16  89  12\n",
       "2        Mike       0.2   0.3    0.8  84  61  55\n",
       "         Mikael    20.0  30.0   80.0  84  61  55\n",
       "3        Mike       0.3   0.2    0.7   9  62  96\n",
       "         Mikael    30.0  20.0   70.0   9  62  96"
      ]
     },
     "execution_count": 46,
     "metadata": {},
     "output_type": "execute_result"
    }
   ],
   "source": [
    "# мы можем выполнить состыковку уровней, \n",
    "# которые расстыковали выполняем состыковку уровня who\n",
    "unstacked.stack(level='who', future_stack=True)"
   ]
  },
  {
   "cell_type": "markdown",
   "id": "632b015d-8118-42ad-96ef-f6cc143f04ec",
   "metadata": {},
   "source": [
    "#### Расплавление данных для преобразования «широкого» формата в «длинный» и наоборот"
   ]
  },
  {
   "cell_type": "markdown",
   "id": "3e0264ca-f3d4-4ab7-9689-14bc9ab3d7ef",
   "metadata": {},
   "source": [
    "**Расплавление** - это тип реорганизации данных, который часто называют преобразованием\n",
    "объекта DataFrame из \"широкого\" формата (wide format) в \"длинный\" формат (long format).\n",
    "\n",
    "Этот формат является общепринятым при проведении различных видов статистического анализа, \n",
    "и данные, которые вы считываете, могут быть представлены уже в расплавленном виде.\n",
    "Либо вам, возможно, потребуется преобразовать данные в этот формат.\n",
    "\n",
    "С технической точки зрения расплавление - это процесс изменения формы\n",
    "объекта DataFrame, в результате получаем формат, в котором два или более столбцов,\n",
    "названных variable и value, создаются путем сворачивания меток столбцов\n",
    "исходного датафрейма в столбец variable, а затем происходит перемещение значений\n",
    "из этих столбцов в соответствующую позицию столбца value. Все остальные\n",
    "столбцы превращаются в столбцы-идентификаторы, которые помогают описать\n",
    "данные."
   ]
  },
  {
   "cell_type": "code",
   "execution_count": 47,
   "id": "bd16afdd-4d2e-4129-a6d5-e1a8120675f1",
   "metadata": {},
   "outputs": [
    {
     "data": {
      "text/plain": [
       "     Name  Height  Weight\n",
       "0    Mike     6.1     220\n",
       "1  Mikael     6.0     185"
      ]
     },
     "execution_count": 47,
     "metadata": {},
     "output_type": "execute_result"
    }
   ],
   "source": [
    "# продемонстрируем расплавление с помощью этого датафрейма\n",
    "data = pd.DataFrame({'Name' : ['Mike', 'Mikael'],\n",
    "                    'Height' : [6.1, 6.0],\n",
    "                    'Weight' : [220, 185]})\n",
    "data"
   ]
  },
  {
   "cell_type": "markdown",
   "id": "c86ce094-fb7c-4dec-81c6-0c9f1bf44e67",
   "metadata": {},
   "source": [
    "Следующий программный код расплавляет этот датафрейм, используя столбец Name в качестве \n",
    "столбца-идентификатора, а столбцы Height и Weight в качестве переменных.\n",
    "Столбец Name остается неизменным, при этом столбцы Height и Weight сворачиваются\n",
    "в столбец variable. Затем значения этих двух столбцов становятся значениями\n",
    "столбца value и соответствуют комбинациям значений переменных Name и variable."
   ]
  },
  {
   "cell_type": "code",
   "execution_count": 48,
   "id": "ede4bc89-5be5-40a7-a6a7-5bdf0710d410",
   "metadata": {},
   "outputs": [
    {
     "data": {
      "text/plain": [
       "     Name variable  value\n",
       "0    Mike   Height    6.1\n",
       "1  Mikael   Height    6.0\n",
       "2    Mike   Weight  220.0\n",
       "3  Mikael   Weight  185.0"
      ]
     },
     "execution_count": 48,
     "metadata": {},
     "output_type": "execute_result"
    }
   ],
   "source": [
    "# расплавляем датафрейм, используем Name в качестве идентификатора, а столбцы\n",
    "# Height and Weight в качестве переменных\n",
    "pd.melt(data, id_vars=['Name'], value_vars=['Height', 'Weight'])"
   ]
  },
  {
   "cell_type": "markdown",
   "id": "8c0ff99d-3978-4930-958d-d2f745306eb0",
   "metadata": {},
   "source": [
    "Данные теперь реструктурированы, поэтому легко извлечь значение для любой\n",
    "комбинации переменных variable и Name. Кроме того, в таком формате представления\n",
    "проще добавить новую переменную и наблюдение, поскольку можно просто\n",
    "добавить данные в виде новой строки, и для этого не требуется менять структуру\n",
    "датафрейма, добавляя новый столбец."
   ]
  },
  {
   "cell_type": "markdown",
   "id": "a83b20f7-7902-4a1e-9037-c11fdbc19c26",
   "metadata": {},
   "source": [
    "#### Преимущества использования состыкованных данных\n",
    "\n",
    "Наконец, мы выясним, зачем нужно состыковывать данные. Можно продемонстрировать,\n",
    "что поиск значений в состыкованных данных более эффективен, если сравнивать его с поиском значений по отдельному уровню индекса, а затем по столбцу и даже с поиском на основе свойства .iloc, который определяет строку и столбец по месторасположению."
   ]
  },
  {
   "cell_type": "code",
   "execution_count": 52,
   "id": "f4d988d2-abd0-4b3e-9bd3-1399eb389c02",
   "metadata": {},
   "outputs": [
    {
     "data": {
      "text/plain": [
       "(     a  b  c\n",
       " one  1  3  5\n",
       " two  2  4  6,\n",
       " one  a    1\n",
       " two  a    2\n",
       " dtype: int64)"
      ]
     },
     "execution_count": 52,
     "metadata": {},
     "output_type": "execute_result"
    }
   ],
   "source": [
    "df, stacked1"
   ]
  },
  {
   "cell_type": "code",
   "execution_count": 51,
   "id": "48fdda12-7080-4a67-aa29-8a974ae03a33",
   "metadata": {},
   "outputs": [
    {
     "data": {
      "text/plain": [
       "(0.41131835099986347, 0.2705063749999681, 0.23601937700004783)"
      ]
     },
     "execution_count": 51,
     "metadata": {},
     "output_type": "execute_result"
    }
   ],
   "source": [
    "# поиск значений в состыкованных данных может быть намного быстрее поиска в обычных данных\n",
    "# время выполнения различных методов\n",
    "import timeit\n",
    "t = timeit.Timer(\"stacked1[('one', 'a')]\", \"from __main__ import stacked1, df\")\n",
    "r1 = timeit.timeit(lambda: stacked1.loc[('one', 'a')], number=10000)\n",
    "r2 = timeit.timeit(lambda: df.loc['one']['a'], number=10000)\n",
    "r3 = timeit.timeit(lambda: df.iloc[1, 0], number=10000)\n",
    "\n",
    "# и вот наши результаты... Да, это самый быстрый метод из всех трех\n",
    "r1, r2, r3"
   ]
  },
  {
   "cell_type": "code",
   "execution_count": null,
   "id": "388e1ce5-aab9-417c-85b4-965c8a8dc553",
   "metadata": {},
   "outputs": [],
   "source": []
  }
 ],
 "metadata": {
  "kernelspec": {
   "display_name": "Python 3 (ipykernel)",
   "language": "python",
   "name": "python3"
  },
  "language_info": {
   "codemirror_mode": {
    "name": "ipython",
    "version": 3
   },
   "file_extension": ".py",
   "mimetype": "text/x-python",
   "name": "python",
   "nbconvert_exporter": "python",
   "pygments_lexer": "ipython3",
   "version": "3.12.3"
  }
 },
 "nbformat": 4,
 "nbformat_minor": 5
}
