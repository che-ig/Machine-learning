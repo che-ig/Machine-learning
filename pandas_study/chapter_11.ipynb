{
 "cells": [
  {
   "cell_type": "code",
   "execution_count": 1,
   "id": "3c7df256-a026-4b85-b73f-f1271d5e2daa",
   "metadata": {},
   "outputs": [],
   "source": [
    "# импортируем библиотеки numpy и pandas\n",
    "import pandas as pd\n",
    "import numpy as np\n",
    "\n",
    "# импортируем библиотеку datetime для работы с датами\n",
    "from datetime import datetime, date\n",
    "\n",
    "# Задаем некоторые опции библиотеки pandas, которые настраивают вывод\n",
    "pd.set_option('display.notebook_repr_html', False)\n",
    "pd.set_option('display.max_columns', 10) \n",
    "pd.set_option('display.max_rows', 15)\n",
    "pd.set_option('display.width', 90)\n",
    "\n",
    "# импортируем библиотеку matplotlib для построения графиков\n",
    "import matplotlib.pyplot as plt\n",
    "%matplotlib inline"
   ]
  },
  {
   "cell_type": "markdown",
   "id": "59a22e67-f49a-49d8-8c8f-96a8d32e691e",
   "metadata": {},
   "source": [
    "#### Конкатенация данных"
   ]
  },
  {
   "cell_type": "code",
   "execution_count": 2,
   "id": "f96cab98-d175-43c0-b72c-c5b44512aa6f",
   "metadata": {},
   "outputs": [
    {
     "data": {
      "text/plain": [
       "(0    0\n",
       " 1    1\n",
       " 2    2\n",
       " dtype: int64,\n",
       " 0    5\n",
       " 1    6\n",
       " 2    7\n",
       " dtype: int64)"
      ]
     },
     "execution_count": 2,
     "metadata": {},
     "output_type": "execute_result"
    }
   ],
   "source": [
    "# создаем два объекта Series для конкатенации\n",
    "s1 = pd.Series(np.arange(0, 3))\n",
    "s2 = pd.Series(np.arange(5, 8))\n",
    "s1, s2"
   ]
  },
  {
   "cell_type": "code",
   "execution_count": 3,
   "id": "0ebc5cb6-833a-4eb8-bc67-2bb0dc5a17db",
   "metadata": {},
   "outputs": [
    {
     "data": {
      "text/plain": [
       "0    0\n",
       "1    1\n",
       "2    2\n",
       "0    5\n",
       "1    6\n",
       "2    7\n",
       "dtype: int64"
      ]
     },
     "execution_count": 3,
     "metadata": {},
     "output_type": "execute_result"
    }
   ],
   "source": [
    "# конкатенируем их\n",
    "pd.concat([s1, s2])"
   ]
  },
  {
   "cell_type": "markdown",
   "id": "d5018a58-6549-4502-8896-6831e7edb97c",
   "metadata": {},
   "source": [
    "Вышеприведенный программный код присоединяет метки индекса и значения объекта s2 к конечной метке индекса и конечному значению объекта s1. В результате **получаем дублирующиеся индексные метки**, поскольку в ходе этой операции выравнивание не выполняется."
   ]
  },
  {
   "cell_type": "code",
   "execution_count": 4,
   "id": "f3634599-dd8f-4a6c-add0-84c2ddbd60d0",
   "metadata": {},
   "outputs": [
    {
     "data": {
      "text/plain": [
       "(   a  b  c\n",
       " 0  0  1  2\n",
       " 1  3  4  5\n",
       " 2  6  7  8,\n",
       "     a   b   c\n",
       " 0   9  10  11\n",
       " 1  12  13  14\n",
       " 2  15  16  17)"
      ]
     },
     "execution_count": 4,
     "metadata": {},
     "output_type": "execute_result"
    }
   ],
   "source": [
    "# создаем два объекта DataFrame для конкатенации, используя те же самые индексные метки\n",
    "# и имена столбцов, но другие значения\n",
    "df1 = pd.DataFrame(np.arange(9).reshape(3, 3), columns=['a', 'b', 'c'])\n",
    "df2 = pd.DataFrame(np.arange(9, 18).reshape(3, 3), columns=['a', 'b', 'c'])\n",
    "df1, df2"
   ]
  },
  {
   "cell_type": "code",
   "execution_count": 5,
   "id": "cf01a852-a8b2-4eaa-8ae3-b3333842d354",
   "metadata": {},
   "outputs": [
    {
     "data": {
      "text/plain": [
       "    a   b   c\n",
       "0   0   1   2\n",
       "1   3   4   5\n",
       "2   6   7   8\n",
       "0   9  10  11\n",
       "1  12  13  14\n",
       "2  15  16  17"
      ]
     },
     "execution_count": 5,
     "metadata": {},
     "output_type": "execute_result"
    }
   ],
   "source": [
    "# выполняем конкатенацию\n",
    "# в результате мы получим дублирующиеся индексные метки вдоль индекса строк\n",
    "pd.concat([df1, df2])"
   ]
  },
  {
   "cell_type": "markdown",
   "id": "89e4138c-ebf2-4aaf-8e2e-0d3609b4d6bd",
   "metadata": {},
   "source": [
    "Следующий программный код демонстрирует выравнивание двух объектов\n",
    "DataFrame в ходе конкатенации, когда есть общие столбцы (a и c), а также столбцы,\n",
    "присутствующие только в одном датафрейме (столбец b в датафрейме df1 и столбец d в датафрейме df2)."
   ]
  },
  {
   "cell_type": "code",
   "execution_count": 6,
   "id": "0d4afb63-18e2-4ed1-a772-81e4d59a68c3",
   "metadata": {},
   "outputs": [
    {
     "data": {
      "text/plain": [
       "(   a  b  c\n",
       " 0  0  1  2\n",
       " 1  3  4  5\n",
       " 2  6  7  8,\n",
       "     a   c   d\n",
       " 0   9  10  11\n",
       " 1  12  13  14\n",
       " 2  15  16  17)"
      ]
     },
     "execution_count": 6,
     "metadata": {},
     "output_type": "execute_result"
    }
   ],
   "source": [
    "# демонстрируем конкатенацию двух объектов DataFrame с разными столбцами\n",
    "df1 = pd.DataFrame(np.arange(9).reshape(3, 3), columns=['a', 'b', 'c'])\n",
    "df2 = pd.DataFrame(np.arange(9, 18).reshape(3, 3), columns=['a', 'c', 'd'])\n",
    "df1, df2"
   ]
  },
  {
   "cell_type": "code",
   "execution_count": 7,
   "id": "d56e1687-5c5a-4cc4-b3cd-d3d6f061b58b",
   "metadata": {},
   "outputs": [
    {
     "data": {
      "text/plain": [
       "    a    b   c     d\n",
       "0   0  1.0   2   NaN\n",
       "1   3  4.0   5   NaN\n",
       "2   6  7.0   8   NaN\n",
       "0   9  NaN  10  11.0\n",
       "1  12  NaN  13  14.0\n",
       "2  15  NaN  16  17.0"
      ]
     },
     "execution_count": 7,
     "metadata": {},
     "output_type": "execute_result"
    }
   ],
   "source": [
    "# выполняем конкатенацию, пропусками будут заполнены значения столбца d в датафрейме df1\n",
    "# и значения столбца b в датафрейме df2\n",
    "pd.concat([df1, df2])"
   ]
  },
  {
   "cell_type": "markdown",
   "id": "329d10d2-9020-465c-a764-5de8832bbefa",
   "metadata": {},
   "source": [
    "Каждой группе данных в итоговом датафрейме можно дать свое название, воспользовавшись параметром **keys**. *Он создает иерархический индекс объекта DataFrame, который позволяет отдельно обращаться к каждой группе данных с помощью свойства .loc объекта DataFrame*. Это удобно, если позже в итоговом объекте DataFrame вам потребуется определить источник получения данных."
   ]
  },
  {
   "cell_type": "code",
   "execution_count": 8,
   "id": "863dd064-45f6-4a7c-ad23-ec9b7d6555ca",
   "metadata": {},
   "outputs": [
    {
     "data": {
      "text/plain": [
       "        a    b   c     d\n",
       "df1 0   0  1.0   2   NaN\n",
       "    1   3  4.0   5   NaN\n",
       "    2   6  7.0   8   NaN\n",
       "df2 0   9  NaN  10  11.0\n",
       "    1  12  NaN  13  14.0\n",
       "    2  15  NaN  16  17.0"
      ]
     },
     "execution_count": 8,
     "metadata": {},
     "output_type": "execute_result"
    }
   ],
   "source": [
    "# выполняем конкатенацию двух объектов, но при этом создаем индекс с помощью\n",
    "# заданных ключей\n",
    "c = pd.concat([df1, df2], keys=['df1', 'df2'])\n",
    "# обратите внимание на метки строк в выводе\n",
    "c"
   ]
  },
  {
   "cell_type": "code",
   "execution_count": 9,
   "id": "88a6e6a5-ba71-475c-bc00-87afacdf3d4e",
   "metadata": {},
   "outputs": [
    {
     "data": {
      "text/plain": [
       "    a   b   c     d\n",
       "0   9 NaN  10  11.0\n",
       "1  12 NaN  13  14.0\n",
       "2  15 NaN  16  17.0"
      ]
     },
     "execution_count": 9,
     "metadata": {},
     "output_type": "execute_result"
    }
   ],
   "source": [
    "# мы можем извлечь данные, относящиеся к первому или второму исходному датафрейму\n",
    "c.loc['df2']"
   ]
  },
  {
   "cell_type": "markdown",
   "id": "21204773-795c-4b23-b458-24d843d1ac1b",
   "metadata": {},
   "source": [
    "#### Переключение осей выравнивания\n",
    "Функция pd.concat() позволяет задать ось, к которой нужно применить выравнивание во время конкатенации.\n"
   ]
  },
  {
   "cell_type": "code",
   "execution_count": 10,
   "id": "c85e4259-bba3-473d-8205-15c56942874b",
   "metadata": {},
   "outputs": [
    {
     "data": {
      "text/plain": [
       "   a  b  c   a   c   d\n",
       "0  0  1  2   9  10  11\n",
       "1  3  4  5  12  13  14\n",
       "2  6  7  8  15  16  17"
      ]
     },
     "execution_count": 10,
     "metadata": {},
     "output_type": "execute_result"
    }
   ],
   "source": [
    "# конкатенируем датафреймы df1 и df2 по оси столбцов\n",
    "# выравниваем по меткам строк, получаем дублирующиеся столбцы\n",
    "pd.concat([df1, df2], axis='columns')"
   ]
  },
  {
   "cell_type": "markdown",
   "id": "c60d70ad-f9c7-45ac-b331-3168f0cc6ca2",
   "metadata": {},
   "source": [
    "В результате получаем дублирующиеся столбцы. Это связано с тем, что в ходе\n",
    "конкатенации **сначала происходит выравнивание по меткам индекса строк** каждого объекта DataFrame, а затем осуществляется заполнение значений столбцов для первого объекта DataFrame и второго объекта DataFrame независимо от меток индекса строк."
   ]
  },
  {
   "cell_type": "code",
   "execution_count": 11,
   "id": "c7d6dad2-6fb0-47a5-a873-48deb512f46d",
   "metadata": {},
   "outputs": [
    {
     "data": {
      "text/plain": [
       "    a   d\n",
       "2  20  21\n",
       "3  22  23\n",
       "4  24  25"
      ]
     },
     "execution_count": 11,
     "metadata": {},
     "output_type": "execute_result"
    }
   ],
   "source": [
    "# создаем новый датафрейм d3, чтобы конкатенировать его с датафреймом df1\n",
    "# датафрейм df3 имеет общую с датафреймом df1 метку 2 и общий столбец a\n",
    "df3 = pd.DataFrame(np.arange(20, 26).reshape(3, 2),\n",
    "                  columns=['a', 'd'],\n",
    "                  index=[2, 3, 4])\n",
    "df3"
   ]
  },
  {
   "cell_type": "code",
   "execution_count": 12,
   "id": "93a0d86e-7665-4b90-b92b-2e06795b9e85",
   "metadata": {},
   "outputs": [
    {
     "data": {
      "text/plain": [
       "     a    b    c     a     d\n",
       "0  0.0  1.0  2.0   NaN   NaN\n",
       "1  3.0  4.0  5.0   NaN   NaN\n",
       "2  6.0  7.0  8.0  20.0  21.0\n",
       "3  NaN  NaN  NaN  22.0  23.0\n",
       "4  NaN  NaN  NaN  24.0  25.0"
      ]
     },
     "execution_count": 12,
     "metadata": {},
     "output_type": "execute_result"
    }
   ],
   "source": [
    "# конкатерируем их по оси столбцов. Происходит выравнивание по меткам строк, осуществляется\n",
    "# заполнение значений столбцов df1, а затем столбцов df3, получаем дублирующиеся столбцы\n",
    "pd.concat([df1, df3], axis='columns')"
   ]
  },
  {
   "cell_type": "markdown",
   "id": "8b8138b2-61e5-4935-8b50-a0f4c5b74202",
   "metadata": {},
   "source": [
    "Поскольку выравнивание осуществлялось по меткам индекса строк, мы получаем дублирующиеся столбцы. Значения для меток строк 0 и 1 в столбцах a и d, соответствующих датафрейму df3, заполняются пропусками, поскольку эти метки есть только в датафрейме df1. Значения для меток строк 3 и 4 в столбцах a, b и c, соответствующих датафрейму df1, заполняются пропусками, поскольку эти метки\n",
    "есть только в датафрейме df3."
   ]
  },
  {
   "cell_type": "markdown",
   "id": "54e857f3-0b08-4cfe-92fd-9c8fe8f476a7",
   "metadata": {},
   "source": [
    "#### Определение типа соединения"
   ]
  },
  {
   "cell_type": "code",
   "execution_count": 13,
   "id": "285eaf35-2e5d-4bc2-b895-60d9c80f5b29",
   "metadata": {},
   "outputs": [
    {
     "data": {
      "text/plain": [
       "   a  b  c   a   d\n",
       "2  6  7  8  20  21"
      ]
     },
     "execution_count": 13,
     "metadata": {},
     "output_type": "execute_result"
    }
   ],
   "source": [
    "# выполняем внутреннее соединение вместо внешнего\n",
    "# результат представлен в виде одной строки\n",
    "pd.concat([df1, df3], axis='columns', join='inner')"
   ]
  },
  {
   "cell_type": "code",
   "execution_count": 14,
   "id": "baa72c9c-7163-468d-a5ed-a5a869d19b75",
   "metadata": {},
   "outputs": [
    {
     "data": {
      "text/plain": [
       "  df1       df2    \n",
       "    a  b  c   a   d\n",
       "2   6  7  8  20  21"
      ]
     },
     "execution_count": 14,
     "metadata": {},
     "output_type": "execute_result"
    }
   ],
   "source": [
    "# добавляем ключи к столбцам\n",
    "df = pd.concat([df1, df3], keys=['df1', 'df2'], axis='columns', join='inner')\n",
    "df"
   ]
  },
  {
   "cell_type": "code",
   "execution_count": 15,
   "id": "9fb9ae65-7f49-452e-b32e-28e49f659b8e",
   "metadata": {},
   "outputs": [
    {
     "data": {
      "text/plain": [
       "    a   d\n",
       "2  20  21"
      ]
     },
     "execution_count": 15,
     "metadata": {},
     "output_type": "execute_result"
    }
   ],
   "source": [
    "# извлекаем данные из датафрейма с помощью ключа 'df2'\n",
    "df.loc[:, 'df2']"
   ]
  },
  {
   "cell_type": "markdown",
   "id": "3a95a3a1-9f75-418d-96a2-6a0657820430",
   "metadata": {},
   "source": [
    "#### Игнорирование меток индекса\n",
    "Если вы хотите избавиться от дублирования меток в итоговом индексе и при этом\n",
    "сохранить все строки, вы можете воспользоваться параметром **ignore_index=True**.\n",
    "Это, по сути, возвращает тот же результат, за исключением того, что теперь наш\n",
    "индекс имеет тип Int64Index"
   ]
  },
  {
   "cell_type": "code",
   "execution_count": 16,
   "id": "8d0c7a67-63c6-4706-b180-75e201be41ce",
   "metadata": {},
   "outputs": [
    {
     "data": {
      "text/plain": [
       "    a    b   c     d\n",
       "0   0  1.0   2   NaN\n",
       "1   3  4.0   5   NaN\n",
       "2   6  7.0   8   NaN\n",
       "3   9  NaN  10  11.0\n",
       "4  12  NaN  13  14.0\n",
       "5  15  NaN  16  17.0"
      ]
     },
     "execution_count": 16,
     "metadata": {},
     "output_type": "execute_result"
    }
   ],
   "source": [
    "# избавляемся от дублирования меток в итоговом индексе,\n",
    "# игнорируя индексные метки в датафреймах-источниках\n",
    "pd.concat([df1, df2], ignore_index=True)"
   ]
  },
  {
   "cell_type": "markdown",
   "id": "1aa4a019-710d-444c-80b1-a2586e3b19f8",
   "metadata": {},
   "source": [
    "#### Слияние и соединение данных\n",
    "Библиотека pandas позволяет выполнить слияние объектов с помощью операций, аналогичных операциям соединения для баз данных, используя функцию **pd.merge()** и метод **.merge()** объекта DataFrame. \n",
    "\n",
    "Процедура слияния объединяет данные двух объектов путем поиска совпадающих значений в одном или нескольких индексах столбцов или строк. Затем, применив семантику соединения к этим\n",
    "значениям, она возвращает новый объект – комбинацию данных обоих объектов.\n",
    "\n",
    "Слияние полезно, поскольку оно позволяет нам создавать отдельный объект DataFrame для каждого типа данных (одно из правил, позволяющее получить аккуратные данные), а также связывать данные в разных объектах DataFrame с помощью значений, присутствующих в обоих наборах."
   ]
  },
  {
   "cell_type": "markdown",
   "id": "ad8a74c8-1c23-4e39-8a01-c96fdb52f1de",
   "metadata": {},
   "source": [
    "#### Слияние данных, расположенных в нескольких объектах\n",
    "Практический пример использования слияния – это поиск имен и адресов клиентов в заказах."
   ]
  },
  {
   "cell_type": "code",
   "execution_count": 17,
   "id": "29b22712-d00b-47be-94de-ca1216ff251d",
   "metadata": {},
   "outputs": [
    {
     "data": {
      "text/plain": [
       "(   CustomerID    Name             Address\n",
       " 0          10    Mike    Address for Mike\n",
       " 1          11  Marica  Address for Marcia,\n",
       " '-------',\n",
       "    CustomerID   OrderDate\n",
       " 0          10  2014-12-01\n",
       " 1          11  2014-12-01\n",
       " 2          10  2014-12-01)"
      ]
     },
     "execution_count": 17,
     "metadata": {},
     "output_type": "execute_result"
    }
   ],
   "source": [
    "# это наши клиенты\n",
    "customers = {'CustomerID': [10, 11],\n",
    "            'Name': ['Mike', 'Marica'],\n",
    "            'Address': ['Address for Mike', 'Address for Marcia']}\n",
    "orders = {'CustomerID': [10, 11, 10],\n",
    "            'OrderDate': [date(2014, 12, 1), date(2014, 12, 1), date(2014, 12, 1)]\n",
    "         }\n",
    "\n",
    "customers = pd.DataFrame(customers)\n",
    "orders = pd.DataFrame(orders)\n",
    "\n",
    "customers, '-------', orders"
   ]
  },
  {
   "cell_type": "code",
   "execution_count": 18,
   "id": "d44543c0-6b3a-4c62-a46f-40fa66eaf3a0",
   "metadata": {},
   "outputs": [
    {
     "data": {
      "text/plain": [
       "   CustomerID    Name             Address   OrderDate\n",
       "0          10    Mike    Address for Mike  2014-12-01\n",
       "1          10    Mike    Address for Mike  2014-12-01\n",
       "2          11  Marica  Address for Marcia  2014-12-01"
      ]
     },
     "execution_count": 18,
     "metadata": {},
     "output_type": "execute_result"
    }
   ],
   "source": [
    "# выполняем слияние датафреймов customers и orders так, чтобы мы могли отправить товары\n",
    "customers.merge(orders)"
   ]
  },
  {
   "cell_type": "markdown",
   "id": "4cbff2d5-194c-4d91-ba0e-be0d144d7a1c",
   "metadata": {},
   "source": [
    "Библиотека pandas совершила для нас какое-то волшебство, выполнив слияние данных с помощью такого простого кода. Она поняла, что у наших датафреймов customers и orders есть общий столбец CustomerID и с этими знаниями. Затем она воспользовалась общими значениями, найденными в столбце CustomerID обоих датафреймов, чтобы связать данные друг с другом и сформировать итоговые данные на основе семантики внутреннего соединения."
   ]
  },
  {
   "cell_type": "code",
   "execution_count": 19,
   "id": "0e2efda2-ed98-4056-9df7-a99d6ebb642a",
   "metadata": {},
   "outputs": [
    {
     "data": {
      "text/plain": [
       "(  key1 key2  lval1\n",
       " 0    a    x      0\n",
       " 1    b    y      1\n",
       " 2    c    z      2,\n",
       " '-----',\n",
       "   key1 key2  rval1\n",
       " 0    a    x      6\n",
       " 1    b    a      7\n",
       " 2    c    z      8)"
      ]
     },
     "execution_count": 19,
     "metadata": {},
     "output_type": "execute_result"
    }
   ],
   "source": [
    "# создаем данные, которые будем использовать в качестве примеров\n",
    "# в оставшейся части этого раздела\n",
    "left_data = {'key1': ['a', 'b', 'c'],\n",
    "            'key2': ['x', 'y', 'z'],\n",
    "            'lval1': [ 0, 1, 2]}\n",
    "\n",
    "right_data = {'key1': ['a', 'b', 'c'],\n",
    "            'key2': ['x', 'a', 'z'],\n",
    "            'rval1': [ 6, 7, 8 ]}\n",
    "left = pd.DataFrame(left_data)\n",
    "right = pd.DataFrame(right_data)\n",
    "\n",
    "left, '-----', right"
   ]
  },
  {
   "cell_type": "code",
   "execution_count": 20,
   "id": "5444fd1f-34f0-4bcb-b989-a0c9b59c929e",
   "metadata": {},
   "outputs": [
    {
     "data": {
      "text/plain": [
       "  key1 key2  lval1  rval1\n",
       "0    a    x      0      6\n",
       "1    c    z      2      8"
      ]
     },
     "execution_count": 20,
     "metadata": {},
     "output_type": "execute_result"
    }
   ],
   "source": [
    "# демонстрируем слияние, не указывая столбцы, по которым нужно выполнить слияние\n",
    "# этот программный код неявно выполняет слияние по всем общим столбцам\n",
    "left.merge(right)"
   ]
  },
  {
   "cell_type": "markdown",
   "id": "615b4678-4e76-4ec0-a3ce-3f26288f8b17",
   "metadata": {},
   "source": [
    "Процедура слияния определяет, что столбцы **key1 и key2 являются общими для обоих объектов DataFrame**. Соответствующие кортежи значений в обоих объектах DataFrame для этих столбцов выглядят как (a, x) и (c, z), поэтому в результате получаем две строки значений."
   ]
  },
  {
   "cell_type": "markdown",
   "id": "8b9f9335-f8c5-4596-8e7a-a8f887e13372",
   "metadata": {},
   "source": [
    "Чтобы явно задать столбец, используемый для связывания объектов, можно воспользоваться параметром **on**. Следующий программный код выполняет слияние, **используя только значения столбца key1 обоих объектов DataFrame**"
   ]
  },
  {
   "cell_type": "code",
   "execution_count": 21,
   "id": "b49430c2-f73f-46a8-8d3a-4f59097d72ba",
   "metadata": {},
   "outputs": [
    {
     "data": {
      "text/plain": [
       "  key1 key2_l  lval1 key2_r  rval1\n",
       "0    a      x      0      x      6\n",
       "1    b      y      1      a      7\n",
       "2    c      z      2      z      8"
      ]
     },
     "execution_count": 21,
     "metadata": {},
     "output_type": "execute_result"
    }
   ],
   "source": [
    "# демонстрируем слияние, явно задав столбец, по значениям которого нужно связать\n",
    "# объекты DataFrame\n",
    "left.merge(right, on='key1', suffixes=['_l', '_r'])"
   ]
  },
  {
   "cell_type": "code",
   "execution_count": 22,
   "id": "c82f8742-66e9-41ca-ba2f-915174d470c6",
   "metadata": {},
   "outputs": [
    {
     "data": {
      "text/plain": [
       "  key1 key2  lval1  rval1\n",
       "0    a    x      0      6\n",
       "1    c    z      2      8"
      ]
     },
     "execution_count": 22,
     "metadata": {},
     "output_type": "execute_result"
    }
   ],
   "source": [
    "# явно выполняем слияние с помощью двух столбцов\n",
    "left.merge(right, on=['key1', 'key2'])"
   ]
  },
  {
   "cell_type": "markdown",
   "id": "5bee8b7e-72fb-48a2-9217-cbc0b19016d2",
   "metadata": {},
   "source": [
    "Если вы хотите выполнить слияние на основе столбцов с **разными именами в каждом объекте**, то можете использовать параметры **left_on** и **right_on**, передав имя или имена столбцов каждому соответствующему параметру.\n",
    "\n",
    "**Т.е мы сами решаем какой столбец брать из левого и правого датафрейма и результатом будут строки, имеющие одинаковые значения.**"
   ]
  },
  {
   "cell_type": "code",
   "execution_count": 23,
   "id": "6c4b9623-562b-421a-be74-b5a56a3a6bbd",
   "metadata": {},
   "outputs": [
    {
     "data": {
      "text/plain": [
       "  key1_x key2_x  lval1 key1_y key2_y  rval1\n",
       "0      a      x      0      b      a      7"
      ]
     },
     "execution_count": 23,
     "metadata": {},
     "output_type": "execute_result"
    }
   ],
   "source": [
    "left.merge(right, left_on='key1', right_on='key2')"
   ]
  },
  {
   "cell_type": "markdown",
   "id": "2baf1dec-8cfd-4763-b443-c7637667a21e",
   "metadata": {},
   "source": [
    "Чтобы выполнить слияние с помощью индексных меток строк обоих объектов DataFrame, можно воспользоваться параметрами **left_index=True и right_index=True (нужно задать оба параметра)**"
   ]
  },
  {
   "cell_type": "code",
   "execution_count": 24,
   "id": "3f7d8dec-3ec9-419a-bdb6-785eb5aa2eba",
   "metadata": {},
   "outputs": [
    {
     "data": {
      "text/plain": [
       "  key1_l key2_l  lval1 key1_r key2_r  rval1\n",
       "0      a      x      0      a      x      6\n",
       "1      b      y      1      b      a      7\n",
       "2      c      z      2      c      z      8"
      ]
     },
     "execution_count": 24,
     "metadata": {},
     "output_type": "execute_result"
    }
   ],
   "source": [
    "# соединяем индексы строк обеих матриц\n",
    "pd.merge(left, right, left_index=True, right_index=True, suffixes=['_l', '_r'])"
   ]
  },
  {
   "cell_type": "markdown",
   "id": "6cb18661-a39a-4b13-9fa9-0001824c0885",
   "metadata": {},
   "source": [
    "#### Настройка семантики соединения при выполнении слияния\n",
    "Тип соединения, выполняемый функцией pd.merge() по умолчанию, – внутреннее соединение (**inner join**). Чтобы использовать другой тип соединения, укажите его с помощью параметра **how** функции pd.merge() (или метода .merge()). Допустимыми параметрами являются:\n",
    "\n",
    "- inner: выполняет пересечение ключей из обоих объектов DataFrame;\n",
    "- outer: выполняет объединение ключей из обоих объектов DataFrame;\n",
    "- left: использует только ключи из левого объекта DataFrame;\n",
    "- right: использует только ключи из правого объекта DataFrame."
   ]
  },
  {
   "cell_type": "code",
   "execution_count": 25,
   "id": "9374cadf-86db-48fc-af79-c4d4402e791c",
   "metadata": {},
   "outputs": [],
   "source": [
    "# внешнее соединение возращает все строки из внутреннего соединения,\n",
    "# а также строки датафреймов left и right, не попавшие во внутреннее соединение\n",
    "# отсутствующие элементы заполняются значениями NaN"
   ]
  },
  {
   "cell_type": "code",
   "execution_count": 26,
   "id": "e044ca78-a6ab-48fc-8a17-6135131bb4c7",
   "metadata": {},
   "outputs": [
    {
     "data": {
      "text/plain": [
       "  key1 key2  lval1  rval1\n",
       "0    a    x    0.0    6.0\n",
       "1    b    a    NaN    7.0\n",
       "2    b    y    1.0    NaN\n",
       "3    c    z    2.0    8.0"
      ]
     },
     "execution_count": 26,
     "metadata": {},
     "output_type": "execute_result"
    }
   ],
   "source": [
    "left.merge(right, how='outer')"
   ]
  },
  {
   "cell_type": "markdown",
   "id": "e5e9348a-8884-46bb-a0ff-3ea2b6e5fb7e",
   "metadata": {},
   "source": [
    "Левое соединение возвращает все строки, попавшие во внутреннее соединение (соединенные строки датафреймов left и right, у которых совпали значения в **общих столбцах key1 и key2**), плюс все строки из датафрейма left, не попавшие во внутреннее соединение (для которых не нашлось пары в датафрейме right)."
   ]
  },
  {
   "cell_type": "code",
   "execution_count": 27,
   "id": "8a3f26aa-162a-488f-8cdb-b9b60f448b46",
   "metadata": {},
   "outputs": [
    {
     "data": {
      "text/plain": [
       "  key1 key2  lval1  rval1\n",
       "0    a    x      0    6.0\n",
       "1    b    y      1    NaN\n",
       "2    c    z      2    8.0"
      ]
     },
     "execution_count": 27,
     "metadata": {},
     "output_type": "execute_result"
    }
   ],
   "source": [
    "# левое соединение возвращает все строки из внутреннего соединения,\n",
    "# а также строки датафрейма left, не попавшие во внутреннее соединение\n",
    "# отсутствующие элементы заполняются значениями NaN\n",
    "# итоговый датафрейм содержит общие строки датафреймов left и right с метками 0 и 2 (строки\n",
    "# датафреймов left и right, у которых совпали значения в общих столбцах key1 и key2)\n",
    "# а также уникальную строку датафрейма left с меткой 1\n",
    "# уникальная строка датафрейма left в итоговом датафрейме в столбце rval1 заполняется\n",
    "# значением NaN, потому что в датафрейме left этот столбец отсутствовал\n",
    "left.merge(right, how='left')"
   ]
  },
  {
   "cell_type": "code",
   "execution_count": 28,
   "id": "2be28b26-a1c7-461a-8eae-f2a4aa323370",
   "metadata": {
    "editable": true,
    "slideshow": {
     "slide_type": ""
    },
    "tags": []
   },
   "outputs": [
    {
     "data": {
      "text/plain": [
       "(  key1 key2  rval1\n",
       " 0    a    x      6\n",
       " 1    b    a      7\n",
       " 2    c    z      8,\n",
       "   key1 key2  lval1  rval1\n",
       " 0    a    x    0.0      6\n",
       " 1    b    a    NaN      7\n",
       " 2    c    z    2.0      8)"
      ]
     },
     "execution_count": 28,
     "metadata": {},
     "output_type": "execute_result"
    }
   ],
   "source": [
    "# правое соединение возращает все строки из внутреннего соединения,\n",
    "# а также строки датафрейма right, не попавшие во внутреннее соединение\n",
    "# отсутствующие элементы заполняются значениями NaN\n",
    "# итоговый датафрейм содержит общие строки датафреймов left и right с метками 0 и 1 (строки\n",
    "# датафреймов left и right, у которых совпали значения в общих столбцах key1 и key2)\n",
    "# а также уникальную строку датафрейма right с меткой 2\n",
    "# уникальная строка датафрейма right в итоговом датафрейме в столбце lval1 заполняется\n",
    "# значением NaN, потому что в датафрейме right этот столбец отсутствовал\n",
    "\n",
    "right, left.merge(right, how='right')"
   ]
  },
  {
   "cell_type": "markdown",
   "id": "4456b3ea-b976-46fa-af83-ad6bb23de758",
   "metadata": {},
   "source": [
    "**Кроме того, библиотека pandas предлагает метод .join()**, который можно использовать для **выполнения соединения с помощью <u>индексных меток</u>** двух объектов DataFrame (вместо значений столбцов).\n",
    "\n",
    "Обратите внимание, что если столбцы в обоих объектах DataFrame не имеют уникальных имен, вы должны указать суффиксы с помощью параметров lsuffix и rsuffix (в отличие от слияния, автоматический суффикс при выполнении этой операции не присваивается). \n"
   ]
  }
 ],
 "metadata": {
  "kernelspec": {
   "display_name": "Python 3 (ipykernel)",
   "language": "python",
   "name": "python3"
  },
  "language_info": {
   "codemirror_mode": {
    "name": "ipython",
    "version": 3
   },
   "file_extension": ".py",
   "mimetype": "text/x-python",
   "name": "python",
   "nbconvert_exporter": "python",
   "pygments_lexer": "ipython3",
   "version": "3.12.3"
  }
 },
 "nbformat": 4,
 "nbformat_minor": 5
}
