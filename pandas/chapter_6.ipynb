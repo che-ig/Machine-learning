{
 "cells": [
  {
   "cell_type": "code",
   "execution_count": 1,
   "metadata": {},
   "outputs": [],
   "source": [
    "import numpy as np\n",
    "import pandas as pd\n",
    "import matplotlib.pyplot as plt\n",
    "from datetime import time, datetime\n",
    "\n",
    "pd.set_option('display.notebook_repr_html', False)\n",
    "pd.set_option('display.max_columns', 8)\n",
    "pd.set_option('display.max_rows', 10)\n",
    "pd.set_option('display.width', 80)\n",
    "%matplotlib inline\n",
    "\n",
    "sp500 = pd.read_csv('Notebooks/Data/sp500.csv', index_col='Symbol', usecols=[0, 2, 3, 7])"
   ]
  },
  {
   "cell_type": "code",
   "execution_count": 2,
   "metadata": {},
   "outputs": [
    {
     "data": {
      "text/plain": [
       "                        Sector   Price  Book Value\n",
       "Symbol                                            \n",
       "MMM                Industrials  141.14      26.668\n",
       "ABT                Health Care   39.60      15.573\n",
       "ABBV               Health Care   53.95       2.954\n",
       "ACN     Information Technology   79.79       8.326\n",
       "ACE                 Financials  102.91      86.897\n",
       "...                        ...     ...         ...\n",
       "YHOO    Information Technology   35.02      12.768\n",
       "YUM     Consumer Discretionary   74.77       5.147\n",
       "ZMH                Health Care  101.84      37.181\n",
       "ZION                Financials   28.43      30.191\n",
       "ZTS                Health Care   30.53       2.150\n",
       "\n",
       "[500 rows x 3 columns]"
      ]
     },
     "execution_count": 2,
     "metadata": {},
     "output_type": "execute_result"
    }
   ],
   "source": [
    "sp500"
   ]
  },
  {
   "cell_type": "code",
   "execution_count": 3,
   "metadata": {},
   "outputs": [
    {
     "data": {
      "text/plain": [
       "(        foo  key\n",
       " 0  0.023892  100\n",
       " 1  0.279250  101\n",
       " 2  0.947302  102\n",
       " 3  0.071890  103\n",
       " 4  0.655950  104,\n",
       " RangeIndex(start=0, stop=10000, step=1))"
      ]
     },
     "execution_count": 3,
     "metadata": {},
     "output_type": "execute_result"
    }
   ],
   "source": [
    "# Создадим датафрейм 10000 случайными числами\n",
    "df = pd.DataFrame({'foo': np.random.random(10000), 'key': range(100, 10100)})\n",
    "df[:5], df.index"
   ]
  },
  {
   "cell_type": "code",
   "execution_count": 4,
   "metadata": {},
   "outputs": [
    {
     "data": {
      "text/plain": [
       "           foo    key\n",
       "9999  0.812614  10099"
      ]
     },
     "execution_count": 4,
     "metadata": {},
     "output_type": "execute_result"
    }
   ],
   "source": [
    "# Отбираем конкретную строку\n",
    "df[df.key == 10099]"
   ]
  },
  {
   "cell_type": "code",
   "execution_count": 5,
   "metadata": {},
   "outputs": [
    {
     "name": "stdout",
     "output_type": "stream",
     "text": [
      "220 µs ± 8.18 µs per loop (mean ± std. dev. of 7 runs, 1,000 loops each)\n"
     ]
    }
   ],
   "source": [
    "# %timeit позволяет выполнить операцию 7 цекла по 1000 итераций\n",
    "%timeit df[df.key==10099]\n"
   ]
  },
  {
   "cell_type": "code",
   "execution_count": 6,
   "metadata": {},
   "outputs": [
    {
     "name": "stdout",
     "output_type": "stream",
     "text": [
      "72.5 µs ± 795 ns per loop (mean ± std. dev. of 7 runs, 10,000 loops each)\n"
     ]
    }
   ],
   "source": [
    "# %timeit позволяет выполнить операцию 3 цекла по 1000 итераций\n",
    "%timeit df.loc[9999] "
   ]
  },
  {
   "cell_type": "markdown",
   "metadata": {},
   "source": [
    "### Превращаем столбец key в индекс - df.set_index(['key'])"
   ]
  },
  {
   "cell_type": "code",
   "execution_count": 7,
   "metadata": {},
   "outputs": [
    {
     "data": {
      "text/plain": [
       "(          foo\n",
       " key          \n",
       " 100  0.023892\n",
       " 101  0.279250\n",
       " 102  0.947302\n",
       " 103  0.071890\n",
       " 104  0.655950,\n",
       " Int64Index([  100,   101,   102,   103,   104,   105,   106,   107,   108,\n",
       "               109,\n",
       "             ...\n",
       "             10090, 10091, 10092, 10093, 10094, 10095, 10096, 10097, 10098,\n",
       "             10099],\n",
       "            dtype='int64', name='key', length=10000))"
      ]
     },
     "execution_count": 7,
     "metadata": {},
     "output_type": "execute_result"
    }
   ],
   "source": [
    "df_with_index = df.set_index(['key'])\n",
    "df_with_index[:5], df_with_index.index"
   ]
  },
  {
   "cell_type": "code",
   "execution_count": 8,
   "metadata": {},
   "outputs": [
    {
     "data": {
      "text/plain": [
       "foo    0.812614\n",
       "Name: 10099, dtype: float64"
      ]
     },
     "execution_count": 8,
     "metadata": {},
     "output_type": "execute_result"
    }
   ],
   "source": [
    "# Теперь можно найти это значение при помощи индекса.\n",
    "df_with_index.loc[10099]"
   ]
  },
  {
   "cell_type": "markdown",
   "metadata": {},
   "source": [
    "## Типы индексов в пандас"
   ]
  },
  {
   "cell_type": "code",
   "execution_count": 9,
   "metadata": {},
   "outputs": [
    {
     "data": {
      "text/plain": [
       "           City  Temperature\n",
       "0      Missoula           70\n",
       "1  Philadelphia           80"
      ]
     },
     "execution_count": 9,
     "metadata": {},
     "output_type": "execute_result"
    }
   ],
   "source": [
    "# Покажем что столбцы фактически явл. индексами\n",
    "temps = pd.DataFrame({\n",
    "    \"City\": [\"Missoula\", \"Philadelphia\"],\n",
    "    \"Temperature\": [70, 80]\n",
    "})\n",
    "temps"
   ]
  },
  {
   "cell_type": "code",
   "execution_count": 10,
   "metadata": {},
   "outputs": [
    {
     "data": {
      "text/plain": [
       "(Index(['City', 'Temperature'], dtype='object'),\n",
       " '---',\n",
       " RangeIndex(start=0, stop=2, step=1))"
      ]
     },
     "execution_count": 10,
     "metadata": {},
     "output_type": "execute_result"
    }
   ],
   "source": [
    "# Мы видим, что столбцы это индекс\n",
    "temps.columns, '---', temps.index"
   ]
  },
  {
   "cell_type": "markdown",
   "metadata": {},
   "source": [
    "### Индексы int64index и Rangeindex, в качестве меток использ. целые числа."
   ]
  },
  {
   "cell_type": "code",
   "execution_count": 11,
   "metadata": {},
   "outputs": [
    {
     "data": {
      "text/plain": [
       "(    0\n",
       " 0  10\n",
       " 1  11\n",
       " 2  12\n",
       " 3  13\n",
       " 4  14,\n",
       " Int64Index([0, 1, 2, 3, 4, 5, 6, 7, 8, 9], dtype='int64'))"
      ]
     },
     "execution_count": 11,
     "metadata": {},
     "output_type": "execute_result"
    }
   ],
   "source": [
    "df_i64 = pd.DataFrame(np.arange(10, 20), index=np.arange(0, 10))\n",
    "df_i64[:5], df_i64.index"
   ]
  },
  {
   "cell_type": "markdown",
   "metadata": {},
   "source": [
    "### Индекс Float64index, для числовых меток с плавающей точкой"
   ]
  },
  {
   "cell_type": "code",
   "execution_count": 12,
   "metadata": {},
   "outputs": [
    {
     "data": {
      "text/plain": [
       "(        0\n",
       " 0.0     0\n",
       " 0.5     5\n",
       " 1.0    10\n",
       " 1.5    15\n",
       " 2.0    20\n",
       " ...   ...\n",
       " 97.5  975\n",
       " 98.0  980\n",
       " 98.5  985\n",
       " 99.0  990\n",
       " 99.5  995\n",
       " \n",
       " [200 rows x 1 columns],\n",
       " Float64Index([ 0.0,  0.5,  1.0,  1.5,  2.0,  2.5,  3.0,  3.5,  4.0,  4.5,\n",
       "               ...\n",
       "               95.0, 95.5, 96.0, 96.5, 97.0, 97.5, 98.0, 98.5, 99.0, 99.5],\n",
       "              dtype='float64', length=200))"
      ]
     },
     "execution_count": 12,
     "metadata": {},
     "output_type": "execute_result"
    }
   ],
   "source": [
    "df_f64 = pd.DataFrame(np.arange(0, 1000, 5), np.arange(0.0, 100.0, 0.5))\n",
    "df_f64, df_f64.index"
   ]
  },
  {
   "cell_type": "markdown",
   "metadata": {},
   "source": [
    "### Использование дискретных интервалов с использованием - intervalIndex"
   ]
  },
  {
   "cell_type": "code",
   "execution_count": 13,
   "metadata": {},
   "outputs": [
    {
     "data": {
      "text/plain": [
       "(            A\n",
       " (0.0, 0.5]  1\n",
       " (0.5, 1.0]  2\n",
       " (1.0, 1.5]  3\n",
       " (1.5, 2.0]  4,\n",
       " IntervalIndex([(0.0, 0.5], (0.5, 1.0], (1.0, 1.5], (1.5, 2.0]], dtype='interval[float64, right]'))"
      ]
     },
     "execution_count": 13,
     "metadata": {},
     "output_type": "execute_result"
    }
   ],
   "source": [
    "df_interval = pd.DataFrame({\"A\": [1, 2, 3, 4]},\n",
    "                          index=pd.IntervalIndex.from_breaks([0, 0.5, 1.0, 1.5, 2.0]))\n",
    "df_interval, df_interval.index"
   ]
  },
  {
   "cell_type": "markdown",
   "metadata": {},
   "source": [
    "### Категории в качестве индекса - CategoricalIndex"
   ]
  },
  {
   "cell_type": "code",
   "execution_count": 14,
   "metadata": {},
   "outputs": [
    {
     "data": {
      "text/plain": [
       "CategoricalIndex(['a', 'a', 'b', 'b', 'c', 'a'], categories=['c', 'a', 'b', 'd'], ordered=False, dtype='category', name='B')"
      ]
     },
     "execution_count": 14,
     "metadata": {},
     "output_type": "execute_result"
    }
   ],
   "source": [
    "df_categorical = pd.DataFrame({'A': np.arange(6),\n",
    "                              'B': list('aabbca')})\n",
    "\n",
    "# Импортируем класс CategoricalDtype для работы с категорильными данными\n",
    "from pandas.api.types import CategoricalDtype\n",
    "\n",
    "df_categorical['B'] = df_categorical['B'].astype(CategoricalDtype(categories=list('cabd')))\n",
    "\n",
    "# Превращаем категориальный столбец в индекс\n",
    "df_categorical = df_categorical.set_index('B')\n",
    "\n",
    "df_categorical.index"
   ]
  },
  {
   "cell_type": "code",
   "execution_count": 15,
   "metadata": {},
   "outputs": [
    {
     "data": {
      "text/plain": [
       "   A\n",
       "B   \n",
       "a  0\n",
       "a  1\n",
       "a  5"
      ]
     },
     "execution_count": 15,
     "metadata": {},
     "output_type": "execute_result"
    }
   ],
   "source": [
    "# Ищем значения в категории 'a'\n",
    "df_categorical.loc['a']"
   ]
  },
  {
   "cell_type": "markdown",
   "metadata": {},
   "source": [
    "### Индексация по датам и времени с помощью - DatetimeIndex\n",
    "\n",
    "DatetimeIndex используется для представления набора дат и времени. Он широко\n",
    "применяется в данных, представленных в виде временных рядов, когда измерения для наблюдений берутся через определенные промежутки времени."
   ]
  },
  {
   "cell_type": "code",
   "execution_count": 16,
   "metadata": {},
   "outputs": [
    {
     "data": {
      "text/plain": [
       "2017-05-01 00:00:00    1.191550\n",
       "2017-05-01 01:00:00    0.544118\n",
       "2017-05-01 02:00:00   -0.214543\n",
       "2017-05-01 03:00:00   -1.250935\n",
       "2017-05-01 04:00:00    0.766211\n",
       "Freq: H, dtype: float64"
      ]
     },
     "execution_count": 16,
     "metadata": {},
     "output_type": "execute_result"
    }
   ],
   "source": [
    "# Создаем Datetimeindex на основе диапазона дат\n",
    "rmg = pd.date_range('5/1/2017', periods=5, freq='H')\n",
    "ts = pd.Series(np.random.randn(len(rmg)), index=rmg)\n",
    "ts"
   ]
  },
  {
   "cell_type": "code",
   "execution_count": 17,
   "metadata": {},
   "outputs": [
    {
     "data": {
      "text/plain": [
       "DatetimeIndex(['2017-05-01 00:00:00', '2017-05-01 01:00:00',\n",
       "               '2017-05-01 02:00:00', '2017-05-01 03:00:00',\n",
       "               '2017-05-01 04:00:00'],\n",
       "              dtype='datetime64[ns]', freq='H')"
      ]
     },
     "execution_count": 17,
     "metadata": {},
     "output_type": "execute_result"
    }
   ],
   "source": [
    "ts.index"
   ]
  },
  {
   "cell_type": "markdown",
   "metadata": {},
   "source": [
    "### Индексация периодов времени с помощью - PeriodIndex\n",
    "\n",
    "Кроме того, иногда нужно представить в виде меток индекса периоды времени\n",
    "типа дня, месяца или года. Это очень похоже на работу с интервалами, но теперь\n",
    "речь идет о периоде времени. "
   ]
  },
  {
   "cell_type": "code",
   "execution_count": 18,
   "metadata": {},
   "outputs": [
    {
     "data": {
      "text/plain": [
       "(2017-01    1.288845\n",
       " 2017-02   -2.476043\n",
       " 2017-03    0.401959\n",
       " Freq: M, dtype: float64,\n",
       " PeriodIndex(['2017-01', '2017-02', '2017-03'], dtype='period[M]'))"
      ]
     },
     "execution_count": 18,
     "metadata": {},
     "output_type": "execute_result"
    }
   ],
   "source": [
    "periods = pd.PeriodIndex(['2017-1', '2017-2', '2017-3'], freq='M')\n",
    "period_series = pd.Series(np.random.randn(len(periods)), index=periods)\n",
    "period_series, period_series.index"
   ]
  },
  {
   "cell_type": "markdown",
   "metadata": {},
   "source": [
    "### Создание и использование индекса в объекте Series или объекте DataFrame\n",
    "\n",
    "Индексы можно создать либо явно, либо позволить библиотеке pandas создать их\n",
    "неявно.\n",
    "\n",
    "Явное создание индекса происходит, когда вы задаете индекс, используя\n",
    "параметр index конструктора.\n"
   ]
  },
  {
   "cell_type": "code",
   "execution_count": 19,
   "metadata": {},
   "outputs": [
    {
     "data": {
      "text/plain": [
       "(DatetimeIndex(['2017-05-01 00:00:00', '2017-05-01 01:00:00',\n",
       "                '2017-05-01 02:00:00', '2017-05-01 03:00:00',\n",
       "                '2017-05-01 04:00:00'],\n",
       "               dtype='datetime64[ns]', freq='H'),\n",
       " DatetimeIndex(['2022-05-08', '2022-05-09', '2022-05-10', '2022-05-11',\n",
       "                '2022-05-12', '2022-05-13', '2022-05-14', '2022-05-15',\n",
       "                '2022-05-16', '2022-05-17'],\n",
       "               dtype='datetime64[ns]', freq='D'))"
      ]
     },
     "execution_count": 19,
     "metadata": {},
     "output_type": "execute_result"
    }
   ],
   "source": [
    "# Самостоятельно создадим индекс DatetimeIndex\n",
    "date_times = pd.DatetimeIndex(pd.date_range('5/1/2017', periods=5, freq='H'))\n",
    "date_times_2 = pd.date_range('05/08/22', periods=10, freq='D')\n",
    "\n",
    "date_times, date_times_2"
   ]
  },
  {
   "cell_type": "code",
   "execution_count": 20,
   "metadata": {},
   "outputs": [
    {
     "data": {
      "text/plain": [
       "                     0\n",
       "2017-05-01 00:00:00  0\n",
       "2017-05-01 01:00:00  1\n",
       "2017-05-01 02:00:00  2\n",
       "2017-05-01 03:00:00  3\n",
       "2017-05-01 04:00:00  4"
      ]
     },
     "execution_count": 20,
     "metadata": {},
     "output_type": "execute_result"
    }
   ],
   "source": [
    "# Создаем объект датафрейм, использгя индекс\n",
    "df_date_times = pd.DataFrame(np.arange(0, len(date_times)), index=date_times)\n",
    "\n",
    "df_date_times"
   ]
  },
  {
   "cell_type": "code",
   "execution_count": 21,
   "metadata": {},
   "outputs": [
    {
     "data": {
      "text/plain": [
       "    a   b\n",
       "v  10  11\n",
       "w  12  13"
      ]
     },
     "execution_count": 21,
     "metadata": {},
     "output_type": "execute_result"
    }
   ],
   "source": [
    "# Создаем датафрейм с 2 столбцами\n",
    "df = pd.DataFrame(\n",
    "                [np.arange(10, 12), np.arange(12, 14)],\n",
    "                 columns=list('ab'),\n",
    "                 index=list('vw')\n",
    "             )\n",
    "df"
   ]
  },
  {
   "cell_type": "code",
   "execution_count": 22,
   "metadata": {},
   "outputs": [
    {
     "data": {
      "text/plain": [
       "v    10\n",
       "w    12\n",
       "Name: a, dtype: int64"
      ]
     },
     "execution_count": 22,
     "metadata": {},
     "output_type": "execute_result"
    }
   ],
   "source": [
    "# У датафрейма обращение через [] возвращает столбец а не строку как у объекта серии.\n",
    "df['a']"
   ]
  },
  {
   "cell_type": "code",
   "execution_count": 23,
   "metadata": {},
   "outputs": [
    {
     "data": {
      "text/plain": [
       "a    12\n",
       "b    13\n",
       "Name: w, dtype: int64"
      ]
     },
     "execution_count": 23,
     "metadata": {},
     "output_type": "execute_result"
    }
   ],
   "source": [
    "# Извлекаем СТРОКУ 'w' по метке\n",
    "df.loc['w']"
   ]
  },
  {
   "cell_type": "markdown",
   "metadata": {},
   "source": [
    "#### Поиск значений в серии с помощью оператора [] эквивалентен использованию свойства .loc[].\n"
   ]
  },
  {
   "cell_type": "code",
   "execution_count": 24,
   "metadata": {},
   "outputs": [
    {
     "data": {
      "text/plain": [
       "(b    1\n",
       " c    2\n",
       " d    3\n",
       " dtype: int64,\n",
       " b    1\n",
       " c    2\n",
       " d    3\n",
       " dtype: int64)"
      ]
     },
     "execution_count": 24,
     "metadata": {},
     "output_type": "execute_result"
    }
   ],
   "source": [
    "# Создаем серию\n",
    "s = pd.Series(np.arange(0, 5), index=list('abcde'))\n",
    "\n",
    "# Создаем срез по серии\n",
    "s['b':'d'], s.loc['b':'d']"
   ]
  },
  {
   "cell_type": "code",
   "execution_count": 25,
   "metadata": {},
   "outputs": [
    {
     "data": {
      "text/plain": [
       "(a    0\n",
       " c    2\n",
       " e    4\n",
       " dtype: int64,\n",
       " a    0\n",
       " c    2\n",
       " e    4\n",
       " dtype: int64)"
      ]
     },
     "execution_count": 25,
     "metadata": {},
     "output_type": "execute_result"
    }
   ],
   "source": [
    "# Можно передать список меток\n",
    "s[['a', 'c', 'e']], s.loc[['a', 'c', 'e']]"
   ]
  },
  {
   "cell_type": "markdown",
   "metadata": {},
   "source": [
    "### Преобразование данных в индекс и получение данных из индекса\n",
    "\n",
    "C помощью метода **.reset_index()** можно сбросить индекс датафрейма. Чаще всего\n",
    "этот метод используют, когда нужно поместить содержимое индекса в один или\n",
    "несколько столбцов.\n"
   ]
  },
  {
   "cell_type": "code",
   "execution_count": 26,
   "metadata": {},
   "outputs": [
    {
     "data": {
      "text/plain": [
       "                        Sector   Price  Book Value\n",
       "Symbol                                            \n",
       "MMM                Industrials  141.14      26.668\n",
       "ABT                Health Care   39.60      15.573\n",
       "ABBV               Health Care   53.95       2.954\n",
       "ACN     Information Technology   79.79       8.326\n",
       "ACE                 Financials  102.91      86.897"
      ]
     },
     "execution_count": 26,
     "metadata": {},
     "output_type": "execute_result"
    }
   ],
   "source": [
    "# Исследуем несколько строк датафрейма sp500\n",
    "sp500[:5]"
   ]
  },
  {
   "cell_type": "code",
   "execution_count": 27,
   "metadata": {},
   "outputs": [
    {
     "data": {
      "text/plain": [
       "                       Symbol   Price  Book Value\n",
       "Sector                                           \n",
       "Industrials               MMM  141.14      26.668\n",
       "Health Care               ABT   39.60      15.573\n",
       "Health Care              ABBV   53.95       2.954\n",
       "Information Technology    ACN   79.79       8.326\n",
       "Financials                ACE  102.91      86.897"
      ]
     },
     "execution_count": 27,
     "metadata": {},
     "output_type": "execute_result"
    }
   ],
   "source": [
    "# Сбрасываем индекс и помещаем его в нужный нам столбец\n",
    "index_moved_to_col = sp500.reset_index()\n",
    "\n",
    "# Установим новый индекс - Sector\n",
    "n = index_moved_to_col.set_index('Sector')\n",
    "n[:5]"
   ]
  },
  {
   "cell_type": "code",
   "execution_count": 28,
   "metadata": {},
   "outputs": [
    {
     "data": {
      "text/plain": [
       "                       Symbol   Price  Book Value\n",
       "Sector                                           \n",
       "Industrials               MMM  141.14      26.668\n",
       "Health Care               ABT   39.60      15.573\n",
       "Health Care              ABBV   53.95       2.954\n",
       "Information Technology    ACN   79.79       8.326\n",
       "Financials                ACE  102.91      86.897\n",
       "...                       ...     ...         ...\n",
       "Information Technology   YHOO   35.02      12.768\n",
       "Consumer Discretionary    YUM   74.77       5.147\n",
       "Health Care               ZMH  101.84      37.181\n",
       "Financials               ZION   28.43      30.191\n",
       "Health Care               ZTS   30.53       2.150\n",
       "\n",
       "[500 rows x 3 columns]"
      ]
     },
     "execution_count": 28,
     "metadata": {},
     "output_type": "execute_result"
    }
   ],
   "source": [
    "# Установим столбец в качестве индекса датафрейма (set_index)\n",
    "index_moved_to_col.set_index('Sector')\n",
    "\n",
    "# index_moved_to_col.index, index_moved_to_col[:5].index"
   ]
  },
  {
   "cell_type": "markdown",
   "metadata": {},
   "source": [
    "### Переиндексация объекта "
   ]
  },
  {
   "cell_type": "markdown",
   "metadata": {},
   "source": [
    "#### Переиндексация по строкам"
   ]
  },
  {
   "cell_type": "code",
   "execution_count": 29,
   "metadata": {},
   "outputs": [
    {
     "data": {
      "text/plain": [
       "             Sector   Price  Book Value\n",
       "Symbol                                 \n",
       "MMM     Industrials  141.14      26.668\n",
       "ABBV    Health Care   53.95       2.954\n",
       "FOO             NaN     NaN         NaN"
      ]
     },
     "execution_count": 29,
     "metadata": {},
     "output_type": "execute_result"
    }
   ],
   "source": [
    "reindex = sp500.reindex(index=['MMM', 'ABBV', 'FOO'])\n",
    "\n",
    "# из sp500 удаляются все записи которые не соответствуют новому индексу и\n",
    "# добавляются те, которые отсутствовали в первоначальном.со значениями NaN\n",
    "\n",
    "# Это хороший способ фильтрации на основе меток индексов. Создается НОВЫЙ датафрейм.\n",
    "reindex"
   ]
  },
  {
   "cell_type": "markdown",
   "metadata": {},
   "source": [
    "#### Переиндексация столбцов"
   ]
  },
  {
   "cell_type": "code",
   "execution_count": 30,
   "metadata": {
    "scrolled": true
   },
   "outputs": [
    {
     "data": {
      "text/plain": [
       "         Price  Book Value  NewCol\n",
       "Symbol                            \n",
       "MMM     141.14      26.668     NaN\n",
       "ABT      39.60      15.573     NaN\n",
       "ABBV     53.95       2.954     NaN\n",
       "ACN      79.79       8.326     NaN\n",
       "ACE     102.91      86.897     NaN"
      ]
     },
     "execution_count": 30,
     "metadata": {},
     "output_type": "execute_result"
    }
   ],
   "source": [
    "# Меняем порядок столбцов\n",
    "sp500.reindex(columns=['Price',\n",
    "                        'Book Value',\n",
    "                        'NewCol'])[:5]"
   ]
  },
  {
   "cell_type": "markdown",
   "metadata": {},
   "source": [
    "### Иерархическая индексация - MultiIndex.\n",
    "\n",
    "Иерархическая индексация – это инструмент библиотеки pandas, который позво-\n",
    "ляет комбинировать использование двух или более индексов для каждой строки.\n",
    "\n",
    "**Каждый из индексов в иерархическом индексе называется уровнем.**"
   ]
  },
  {
   "cell_type": "code",
   "execution_count": 31,
   "metadata": {},
   "outputs": [
    {
     "data": {
      "text/plain": [
       "                                Price  Book Value\n",
       "Sector                 Symbol                    \n",
       "Industrials            MMM     141.14      26.668\n",
       "Health Care            ABT      39.60      15.573\n",
       "                       ABBV     53.95       2.954\n",
       "Information Technology ACN      79.79       8.326\n",
       "Financials             ACE     102.91      86.897"
      ]
     },
     "execution_count": 31,
     "metadata": {},
     "output_type": "execute_result"
    }
   ],
   "source": [
    "# Сначала помещаем символы в столбец\n",
    "reindexed = sp500.reset_index()\n",
    "\n",
    "# Теперь индексируем датафрейм по столбцам  Sector и Symbol\n",
    "multi_fi = reindexed.set_index(['Sector', 'Symbol'])\n",
    "multi_fi[:5]\n"
   ]
  },
  {
   "cell_type": "code",
   "execution_count": 32,
   "metadata": {},
   "outputs": [
    {
     "data": {
      "text/plain": [
       "(pandas.core.indexes.multi.MultiIndex, 2)"
      ]
     },
     "execution_count": 32,
     "metadata": {},
     "output_type": "execute_result"
    }
   ],
   "source": [
    "# Наш индекс - это multiIndex\n",
    "type(multi_fi.index), len(multi_fi.index.levels)"
   ]
  },
  {
   "cell_type": "code",
   "execution_count": 33,
   "metadata": {},
   "outputs": [
    {
     "data": {
      "text/plain": [
       "(Index(['Consumer Discretionary', 'Consumer Discretionary ', 'Consumer Staples',\n",
       "        'Consumer Staples ', 'Energy', 'Financials', 'Health Care',\n",
       "        'Industrials', 'Industries', 'Information Technology', 'Materials',\n",
       "        'Telecommunications Services', 'Utilities'],\n",
       "       dtype='object', name='Sector'),\n",
       " Index(['A', 'AA', 'AAPL', 'ABBV', 'ABC', 'ABT', 'ACE', 'ACN', 'ACT', 'ADBE',\n",
       "        ...\n",
       "        'XLNX', 'XOM', 'XRAY', 'XRX', 'XYL', 'YHOO', 'YUM', 'ZION', 'ZMH',\n",
       "        'ZTS'],\n",
       "       dtype='object', name='Symbol', length=500))"
      ]
     },
     "execution_count": 33,
     "metadata": {},
     "output_type": "execute_result"
    }
   ],
   "source": [
    "# Каждый уровень представляем отдельный объект index\n",
    "multi_fi.index.levels[0], multi_fi.index.levels[1]"
   ]
  },
  {
   "cell_type": "code",
   "execution_count": 34,
   "metadata": {},
   "outputs": [
    {
     "data": {
      "text/plain": [
       "13"
      ]
     },
     "execution_count": 34,
     "metadata": {},
     "output_type": "execute_result"
    }
   ],
   "source": [
    "# Количество различных секторов (уникальных)\n",
    "len(multi_fi.index.levels[0])"
   ]
  },
  {
   "cell_type": "markdown",
   "metadata": {},
   "source": [
    "### Значение самого индекса в определенном уровне для каждой строки можно извлечь при помощи - get_level_value"
   ]
  },
  {
   "cell_type": "code",
   "execution_count": 35,
   "metadata": {
    "scrolled": true
   },
   "outputs": [
    {
     "data": {
      "text/plain": [
       "Index(['Industrials', 'Health Care', 'Health Care', 'Information Technology',\n",
       "       'Financials', 'Health Care', 'Information Technology', 'Utilities',\n",
       "       'Health Care', 'Financials',\n",
       "       ...\n",
       "       'Utilities', 'Information Technology', 'Information Technology',\n",
       "       'Financials', 'Industrials', 'Information Technology',\n",
       "       'Consumer Discretionary', 'Health Care', 'Financials', 'Health Care'],\n",
       "      dtype='object', name='Sector', length=500)"
      ]
     },
     "execution_count": 35,
     "metadata": {},
     "output_type": "execute_result"
    }
   ],
   "source": [
    "# Значение в уровне 0\n",
    "multi_fi.index.get_level_values(0)"
   ]
  },
  {
   "cell_type": "markdown",
   "metadata": {},
   "source": [
    "### Чтобы посмотреть значения датафрейма с помощью иерархического индекса необходимо использовать МЕТОД  - xs\n",
    "\n",
    "Индекс полученного датафрейма состоит из уровней, которые НЕ БЫЛИ ЗАДАНЫ,\n",
    "в данном случае это Symbol. Уровни, для которых были указаны значения, удаляются из полученного индекса.\n"
   ]
  },
  {
   "cell_type": "code",
   "execution_count": 51,
   "metadata": {},
   "outputs": [
    {
     "data": {
      "text/plain": [
       "         Price  Book Value\n",
       "Symbol                    \n",
       "MMM     141.14      26.668\n",
       "ALLE     52.46       0.000\n",
       "APH      95.71      18.315\n",
       "AVY      48.20      15.616\n",
       "BA      132.41      19.870"
      ]
     },
     "execution_count": 51,
     "metadata": {},
     "output_type": "execute_result"
    }
   ],
   "source": [
    "# Получаем все акции, которые имеют значение Industrials\n",
    "# Обратить внимание, что индекс уровня 0 не выводится\n",
    "multi_fi.xs('Industrials')[:5]\n"
   ]
  },
  {
   "cell_type": "markdown",
   "metadata": {},
   "source": [
    "#### Можно отбирать КОНКРЕТНУЮ ЗАПИСЬ, указывая метку и уровень индекса"
   ]
  },
  {
   "cell_type": "code",
   "execution_count": 37,
   "metadata": {},
   "outputs": [
    {
     "data": {
      "text/plain": [
       "             Price  Book Value\n",
       "Sector                        \n",
       "Industrials  52.46         0.0"
      ]
     },
     "execution_count": 37,
     "metadata": {},
     "output_type": "execute_result"
    }
   ],
   "source": [
    "multi_fi.xs('ALLE', level=1)"
   ]
  },
  {
   "cell_type": "markdown",
   "metadata": {},
   "source": [
    "#### Чтобы предотвратить удаление уровней из результатов, можно воспольз. drop_levels=False\n",
    "\n",
    "Отбираем строки, в которых индекс уровня 0 (Sector) имеет зн. Industrials, БЕЗ УДАЛЕНИЯ УРОВНЕЙ"
   ]
  },
  {
   "cell_type": "code",
   "execution_count": 38,
   "metadata": {},
   "outputs": [
    {
     "data": {
      "text/plain": [
       "                     Price  Book Value\n",
       "Sector      Symbol                    \n",
       "Industrials MMM     141.14      26.668\n",
       "            ALLE     52.46       0.000\n",
       "            APH      95.71      18.315\n",
       "            AVY      48.20      15.616\n",
       "            BA      132.41      19.870"
      ]
     },
     "execution_count": 38,
     "metadata": {},
     "output_type": "execute_result"
    }
   ],
   "source": [
    "multi_fi.xs('Industrials', drop_level=False)[:5]"
   ]
  },
  {
   "cell_type": "markdown",
   "metadata": {},
   "source": [
    "Чтобы отобрать строку, используя иерархию индексов, можно связать вместе выховы xs для разных уровне.\n",
    "\n",
    "xs - это метод ТОЛЬКО для чтения значений."
   ]
  },
  {
   "cell_type": "code",
   "execution_count": 53,
   "metadata": {},
   "outputs": [
    {
     "data": {
      "text/plain": [
       "(Price         102.73\n",
       " Book Value      6.79\n",
       " Name: UPS, dtype: float64,\n",
       " '-----',\n",
       " Price         102.73\n",
       " Book Value      6.79\n",
       " Name: (Industrials, UPS), dtype: float64)"
      ]
     },
     "execution_count": 53,
     "metadata": {},
     "output_type": "execute_result"
    }
   ],
   "source": [
    "# скомбинируем уровни индексов\n",
    "multi_fi.xs('Industrials').xs('UPS'), '-----', multi_fi.xs(('Industrials', 'UPS'))\n"
   ]
  }
 ],
 "metadata": {
  "kernelspec": {
   "display_name": ".venv",
   "language": "python",
   "name": ".venv"
  },
  "language_info": {
   "codemirror_mode": {
    "name": "ipython",
    "version": 3
   },
   "file_extension": ".py",
   "mimetype": "text/x-python",
   "name": "python",
   "nbconvert_exporter": "python",
   "pygments_lexer": "ipython3",
   "version": "3.8.5"
  }
 },
 "nbformat": 4,
 "nbformat_minor": 4
}
