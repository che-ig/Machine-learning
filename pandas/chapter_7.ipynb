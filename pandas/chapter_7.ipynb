{
 "cells": [
  {
   "cell_type": "code",
   "execution_count": 1,
   "metadata": {},
   "outputs": [],
   "source": [
    "import pandas as pd\n",
    "import numpy as np\n",
    "import matplotlib.pyplot as plt\n",
    "from datetime import datetime, date\n",
    "\n",
    "pd.set_option('display.notebook_repr_html', False)\n",
    "pd.set_option('display.max_columns', 8)\n",
    "pd.set_option('display.max_rows', 15)\n",
    "pd.set_option('display.width', 65)\n",
    "%matplotlib inline"
   ]
  },
  {
   "cell_type": "code",
   "execution_count": 2,
   "metadata": {},
   "outputs": [
    {
     "data": {
      "text/plain": [
       "['low', 'high', 'medium', 'medium', 'high']\n",
       "Categories (3, object): ['high', 'low', 'medium']"
      ]
     },
     "execution_count": 2,
     "metadata": {},
     "output_type": "execute_result"
    }
   ],
   "source": [
    "# Создание категориальной переменной из списка\n",
    "lmh_values = [\"low\", \"high\", \"medium\", \"medium\", \"high\"]\n",
    "lmh_cat = pd.Categorical(lmh_values)\n",
    "lmh_cat"
   ]
  },
  {
   "cell_type": "code",
   "execution_count": 3,
   "metadata": {},
   "outputs": [
    {
     "data": {
      "text/plain": [
       "Index(['high', 'low', 'medium'], dtype='object')"
      ]
     },
     "execution_count": 3,
     "metadata": {},
     "output_type": "execute_result"
    }
   ],
   "source": [
    "# Смотрим категории\n",
    "# Объект categories создает индекс, состоящий из трех различных значений в заданном списке.\n",
    "lmh_cat.categories"
   ]
  },
  {
   "cell_type": "code",
   "execution_count": 4,
   "metadata": {},
   "outputs": [
    {
     "data": {
      "text/plain": [
       "array([1, 0, 2, 2, 0], dtype=int8)"
      ]
     },
     "execution_count": 4,
     "metadata": {},
     "output_type": "execute_result"
    }
   ],
   "source": [
    "# Свойство .codes показывает коды (целочисленные значения)\n",
    "# для каждого значения категориальной переменной\n",
    "lmh_cat.codes\n"
   ]
  },
  {
   "cell_type": "code",
   "execution_count": 5,
   "metadata": {},
   "outputs": [
    {
     "data": {
      "text/plain": [
       "['low', 'high', 'medium', 'medium', 'high']\n",
       "Categories (3, object): ['low', 'medium', 'high']"
      ]
     },
     "execution_count": 5,
     "metadata": {},
     "output_type": "execute_result"
    }
   ],
   "source": [
    "# Создадим объект категорий из списка, но при этом ЯВНО УКАЖЕМ КАТЕГОРИИ\n",
    "# будет собдюден порядок указанных категорий\n",
    "lmh_cat = pd.Categorical(lmh_values, categories=[\"low\", \"medium\", \"high\"])\n",
    "lmh_cat"
   ]
  },
  {
   "cell_type": "code",
   "execution_count": 6,
   "metadata": {},
   "outputs": [
    {
     "data": {
      "text/plain": [
       "array([0, 2, 1, 1, 2], dtype=int8)"
      ]
     },
     "execution_count": 6,
     "metadata": {},
     "output_type": "execute_result"
    }
   ],
   "source": [
    "# Коды выглядят так\n",
    "lmh_cat.codes"
   ]
  },
  {
   "cell_type": "code",
   "execution_count": 7,
   "metadata": {},
   "outputs": [
    {
     "data": {
      "text/plain": [
       "['low', 'medium', 'medium', 'high', 'high']\n",
       "Categories (3, object): ['low', 'medium', 'high']"
      ]
     },
     "execution_count": 7,
     "metadata": {},
     "output_type": "execute_result"
    }
   ],
   "source": [
    "# Сортировка выполняется с помощью кодов, лежащих в основе каждого значения\n",
    "lmh_cat.sort_values()"
   ]
  },
  {
   "cell_type": "code",
   "execution_count": 8,
   "metadata": {},
   "outputs": [
    {
     "data": {
      "text/plain": [
       "0       low\n",
       "1      high\n",
       "2    medium\n",
       "3    medium\n",
       "4      high\n",
       "dtype: category\n",
       "Categories (3, object): ['high', 'low', 'medium']"
      ]
     },
     "execution_count": 8,
     "metadata": {},
     "output_type": "execute_result"
    }
   ],
   "source": [
    "# Кроме того категориальную переменню можно создать В ВИДЕ СЕРИИ у которой задачть\n",
    "# тип данный (dtype) в виде - category\n",
    "\n",
    "cat_series = pd.Series(lmh_values, dtype='category')\n",
    "cat_series"
   ]
  },
  {
   "cell_type": "code",
   "execution_count": 9,
   "metadata": {},
   "outputs": [
    {
     "data": {
      "text/plain": [
       "0       low\n",
       "1      high\n",
       "2    medium\n",
       "3    medium\n",
       "4      high\n",
       "dtype: category\n",
       "Categories (3, object): ['high', 'low', 'medium']"
      ]
     },
     "execution_count": 9,
     "metadata": {},
     "output_type": "execute_result"
    }
   ],
   "source": [
    "# Еще один способ создания категориальной переменной состоит в том, чтобы сначала создать\n",
    "# обхект Series а потом преобразовать столбец с данными в категориальную переменную,\n",
    "# используя метод .astype('category')\n",
    "s = pd.Series(lmh_values)\n",
    "as_cat = s.astype('category')\n",
    "as_cat"
   ]
  },
  {
   "cell_type": "code",
   "execution_count": 10,
   "metadata": {},
   "outputs": [
    {
     "data": {
      "text/plain": [
       "0    1\n",
       "1    0\n",
       "2    2\n",
       "3    2\n",
       "4    0\n",
       "dtype: int8"
      ]
     },
     "execution_count": 10,
     "metadata": {},
     "output_type": "execute_result"
    }
   ],
   "source": [
    "as_cat.cat.codes"
   ]
  },
  {
   "cell_type": "code",
   "execution_count": 11,
   "metadata": {},
   "outputs": [
    {
     "data": {
      "text/plain": [
       "<pandas.core.arrays.categorical.CategoricalAccessor object at 0x7fb6d806c340>"
      ]
     },
     "execution_count": 11,
     "metadata": {},
     "output_type": "execute_result"
    }
   ],
   "source": [
    "# Серия, созданная как объект categorical имеет свойство .CAT, которое позволяет получить\n",
    "# доступ к категориальной переменной.\n",
    "as_cat.cat"
   ]
  },
  {
   "cell_type": "code",
   "execution_count": 12,
   "metadata": {},
   "outputs": [
    {
     "data": {
      "text/plain": [
       "Index(['high', 'low', 'medium'], dtype='object')"
      ]
     },
     "execution_count": 12,
     "metadata": {},
     "output_type": "execute_result"
    }
   ],
   "source": [
    "# Получаем индекс категориальной переменной\n",
    "as_cat.cat.categories"
   ]
  },
  {
   "cell_type": "code",
   "execution_count": 13,
   "metadata": {},
   "outputs": [
    {
     "data": {
      "text/plain": [
       "   Values\n",
       "0      65\n",
       "1      49\n",
       "2      56\n",
       "3      43\n",
       "4      43"
      ]
     },
     "execution_count": 13,
     "metadata": {},
     "output_type": "execute_result"
    }
   ],
   "source": [
    "# Несколько пандасовский функций также возвращают объекты Categorical. Одна из таких - pd.cut(), \n",
    "# которая создает группы наблюдений, расположенных внутри определенных диапазонов значений.\n",
    "\n",
    "# Создание датафрейма из 100 значений\n",
    "np.random.seed(123456)\n",
    "values = np.random.randint(0, 100, 5)\n",
    "bins = pd.DataFrame({\"Values\": values})\n",
    "bins"
   ]
  },
  {
   "cell_type": "code",
   "execution_count": 14,
   "metadata": {
    "scrolled": true
   },
   "outputs": [
    {
     "data": {
      "text/plain": [
       "0    (60, 70]\n",
       "1    (40, 50]\n",
       "2    (50, 60]\n",
       "3    (40, 50]\n",
       "4    (40, 50]\n",
       "Name: Group, dtype: category\n",
       "Categories (9, interval[int64, right]): [(0, 10] < (10, 20] < (20, 30] < (30, 40] ... (50, 60] < (60, 70] < (70, 80] < (80, 90]]"
      ]
     },
     "execution_count": 14,
     "metadata": {},
     "output_type": "execute_result"
    }
   ],
   "source": [
    "# Разбираем значения на 10 групп.\n",
    "bins['Group'] = pd.cut(values, range(0, 100, 10))\n",
    "\n",
    "# Столбец group представляет из себя категориальную переменню\n",
    "bins.Group"
   ]
  },
  {
   "cell_type": "code",
   "execution_count": 15,
   "metadata": {},
   "outputs": [
    {
     "data": {
      "text/plain": [
       "0    6\n",
       "1    4\n",
       "2    5\n",
       "3    4\n",
       "4    4\n",
       "dtype: int8"
      ]
     },
     "execution_count": 15,
     "metadata": {},
     "output_type": "execute_result"
    }
   ],
   "source": [
    "bins.Group.cat.codes"
   ]
  },
  {
   "cell_type": "code",
   "execution_count": 16,
   "metadata": {},
   "outputs": [
    {
     "data": {
      "text/plain": [
       "0    6\n",
       "1    4\n",
       "2    5\n",
       "3    4\n",
       "4    4\n",
       "dtype: int8"
      ]
     },
     "execution_count": 16,
     "metadata": {},
     "output_type": "execute_result"
    }
   ],
   "source": [
    "bins.Group.cat.codes"
   ]
  },
  {
   "cell_type": "code",
   "execution_count": 17,
   "metadata": {},
   "outputs": [
    {
     "data": {
      "text/plain": [
       "IntervalIndex([(0, 10], (10, 20], (20, 30], (30, 40], (40, 50], (50, 60], (60, 70], (70, 80], (80, 90]], dtype='interval[int64, right]')"
      ]
     },
     "execution_count": 17,
     "metadata": {},
     "output_type": "execute_result"
    }
   ],
   "source": [
    "bins.Group.cat.categories"
   ]
  },
  {
   "cell_type": "code",
   "execution_count": 18,
   "metadata": {},
   "outputs": [
    {
     "data": {
      "text/plain": [
       "['bronze', 'gold', 'silver', 'bronze']\n",
       "Categories (3, object): ['bronze' < 'silver' < 'gold']"
      ]
     },
     "execution_count": 18,
     "metadata": {},
     "output_type": "execute_result"
    }
   ],
   "source": [
    "# Создадим УПОРЯДОЧЕННУЮ категореальную переменную из названий драгоценных металлов\n",
    "# ПОРЯДОК ВАЖЕН для определения относительной ценности металла.\n",
    "metal_values = [\"bronze\", \"gold\", \"silver\", \"bronze\"]\n",
    "metal_categories =  [\"bronze\", \"silver\", \"gold\"]\n",
    "metals = pd.Categorical(metal_values, categories = metal_categories, ordered = True )\n",
    "\n",
    "# Объект сатегории ИМЕЕТ СТРОГО УПОРЯДОЧЕННЫЕ категории\n",
    "metals"
   ]
  },
  {
   "cell_type": "code",
   "execution_count": 19,
   "metadata": {},
   "outputs": [
    {
     "data": {
      "text/plain": [
       "['bronze', 'silver', 'gold', 'bronze']\n",
       "Categories (3, object): ['bronze' < 'silver' < 'gold']"
      ]
     },
     "execution_count": 19,
     "metadata": {},
     "output_type": "execute_result"
    }
   ],
   "source": [
    "#  Порядок категорий можно использовать для сортировки или сравнения значений одного объекта\n",
    "# Categorical со значением др.\n",
    "\n",
    "# Меняем значения\n",
    "metals_reversed_values = pd.Categorical(\n",
    "    metal_values[::-1],\n",
    "    categories = metals.categories,\n",
    "    ordered=True\n",
    ")\n",
    "metals_reversed_values"
   ]
  },
  {
   "cell_type": "code",
   "execution_count": 20,
   "metadata": {},
   "outputs": [
    {
     "data": {
      "text/plain": [
       "(array([ True, False,  True,  True]),\n",
       " array([0, 2, 1, 0], dtype=int8),\n",
       " array([0, 1, 2, 0], dtype=int8))"
      ]
     },
     "execution_count": 20,
     "metadata": {},
     "output_type": "execute_result"
    }
   ],
   "source": [
    "# Значения этих категориальных переменный metals и metals_reversed_values можно сравнить.\n",
    "\n",
    "# Сравним значения 2 категориальных переменных. Библиотека пандас выполняет сравниение,\n",
    "# сопоставляя коды значения.\n",
    "metals <= metals_reversed_values, metals.codes, metals_reversed_values.codes"
   ]
  },
  {
   "cell_type": "code",
   "execution_count": 21,
   "metadata": {},
   "outputs": [
    {
     "data": {
      "text/plain": [
       "(['bronze', NaN]\n",
       " Categories (3, object): ['bronze', 'silver', 'gold'],\n",
       " array([ 0, -1], dtype=int8))"
      ]
     },
     "execution_count": 21,
     "metadata": {},
     "output_type": "execute_result"
    }
   ],
   "source": [
    "# Создадим категориальную переменную со значением, которое нельзя отнести ни к одной из\n",
    "# категорий, поэтому для него будет получено значене NaN\n",
    "\n",
    "other_met = pd.Categorical([\"bronze\", \"copper\"], categories=metal_categories)\n",
    "other_met, other_met.codes"
   ]
  },
  {
   "cell_type": "code",
   "execution_count": 22,
   "metadata": {},
   "outputs": [
    {
     "data": {
      "text/plain": [
       "['a', 'b', 'c', 'a']\n",
       "Categories (3, object): ['a', 'b', 'c']"
      ]
     },
     "execution_count": 22,
     "metadata": {},
     "output_type": "execute_result"
    }
   ],
   "source": [
    "# Переименование категория\n",
    "cat = pd.Categorical([\"a\",\"b\",\"c\",\"a\"],\n",
    "categories=[\"a\", \"b\", \"c\"])\n",
    "cat"
   ]
  },
  {
   "cell_type": "code",
   "execution_count": 23,
   "metadata": {},
   "outputs": [
    {
     "data": {
      "text/plain": [
       "['bronze', 'silver', 'gold', 'bronze']\n",
       "Categories (3, object): ['bronze', 'silver', 'gold']"
      ]
     },
     "execution_count": 23,
     "metadata": {},
     "output_type": "execute_result"
    }
   ],
   "source": [
    "# Переименовать можно либо через замену свойства .categorise или через метод .rename_categories\n",
    "\n",
    "# Переименование категорий (А ТАКЖЕ ЗНАЧЕНИЕЙ)\n",
    "# В даном стпособе идет опереция переименования НА МЕСТЕ.\n",
    "cat.categories = [\"bronze\", \"silver\", \"gold\"]\n",
    "cat"
   ]
  },
  {
   "cell_type": "code",
   "execution_count": 24,
   "metadata": {},
   "outputs": [
    {
     "data": {
      "text/plain": [
       "['x', 'y', 'z', 'x']\n",
       "Categories (3, object): ['x', 'y', 'z']"
      ]
     },
     "execution_count": 24,
     "metadata": {},
     "output_type": "execute_result"
    }
   ],
   "source": [
    "# Чтобы ИЗБЕЖАТЬ переименованя на месте используют метод .rename_categories\n",
    "cat.rename_categories([\"x\", \"y\", \"z\"])"
   ]
  },
  {
   "cell_type": "code",
   "execution_count": 25,
   "metadata": {},
   "outputs": [
    {
     "data": {
      "text/plain": [
       "['bronze', 'silver', 'gold', 'bronze']\n",
       "Categories (3, object): ['bronze', 'silver', 'gold']"
      ]
     },
     "execution_count": 25,
     "metadata": {},
     "output_type": "execute_result"
    }
   ],
   "source": [
    "# Убедимся, что переименование не затронуло cat\n",
    "cat"
   ]
  },
  {
   "cell_type": "code",
   "execution_count": 26,
   "metadata": {},
   "outputs": [
    {
     "data": {
      "text/plain": [
       "['bronze', 'gold', 'silver', 'bronze']\n",
       "Categories (4, object): ['bronze' < 'silver' < 'gold' < 'platinum']"
      ]
     },
     "execution_count": 26,
     "metadata": {},
     "output_type": "execute_result"
    }
   ],
   "source": [
    "# Добавлние категорий\n",
    "# С помощью метода .add_categories можно добавить категории.\n",
    "\n",
    "with_platinum = metals.add_categories(['platinum'])\n",
    "with_platinum"
   ]
  },
  {
   "cell_type": "code",
   "execution_count": 27,
   "metadata": {},
   "outputs": [
    {
     "data": {
      "text/plain": [
       "[NaN, 'silver', 'gold', NaN]\n",
       "Categories (2, object): ['silver', 'gold']"
      ]
     },
     "execution_count": 27,
     "metadata": {},
     "output_type": "execute_result"
    }
   ],
   "source": [
    "# Удаление категорий\n",
    "\n",
    "# Удаление категории можно сделать при помощи метода remove_categories\n",
    "no_bronze = cat.remove_categories(['bronze'])\n",
    "no_bronze"
   ]
  },
  {
   "cell_type": "code",
   "execution_count": 28,
   "metadata": {},
   "outputs": [
    {
     "data": {
      "text/plain": [
       "['bronze', 'gold', 'silver', 'bronze']\n",
       "Categories (3, object): ['bronze' < 'silver' < 'gold']"
      ]
     },
     "execution_count": 28,
     "metadata": {},
     "output_type": "execute_result"
    }
   ],
   "source": [
    "# Удаление неиспользуемых катерогий (.remove_unused_categories)\n",
    "# В with_platinum есть категория platinum, но нет ни одного значения для этой категории\n",
    "# возвращает новый объект, а старый не трогает.\n",
    "\n",
    "without_platinum = with_platinum.remove_unused_categories()\n",
    "without_platinum"
   ]
  },
  {
   "cell_type": "code",
   "execution_count": 29,
   "metadata": {},
   "outputs": [
    {
     "data": {
      "text/plain": [
       "(0     one\n",
       " 1     two\n",
       " 2    four\n",
       " 3    five\n",
       " dtype: category\n",
       " Categories (4, object): ['five', 'four', 'one', 'two'],\n",
       " Index(['five', 'four', 'one', 'two'], dtype='object'))"
      ]
     },
     "execution_count": 29,
     "metadata": {},
     "output_type": "execute_result"
    }
   ],
   "source": [
    "# Установка категорий (.set_categories)\n",
    "# С помощью метода set_categories МОЖНО СРАЗУ И ДОБИВЛЯТЬ И УДАЛЯТЬ категории\n",
    "# создаем серию\n",
    "s = pd.Series([\"one\",\"two\",\"four\", \"five\"], dtype=\"category\")\n",
    "s, s.cat.categories"
   ]
  },
  {
   "cell_type": "code",
   "execution_count": 30,
   "metadata": {},
   "outputs": [
    {
     "data": {
      "text/plain": [
       "0     one\n",
       "1     NaN\n",
       "2    four\n",
       "3     NaN\n",
       "dtype: category\n",
       "Categories (2, object): ['one', 'four']"
      ]
     },
     "execution_count": 30,
     "metadata": {},
     "output_type": "execute_result"
    }
   ],
   "source": [
    "# Следующий код задает задает категории one и four, а остальные категории удаляются.\n",
    "# В результате получим NaN для несуществующих категорий.\n",
    "\n",
    "s = s.cat.set_categories([\"one\",\"four\"])\n",
    "s"
   ]
  },
  {
   "cell_type": "code",
   "execution_count": 31,
   "metadata": {},
   "outputs": [
    {
     "data": {
      "text/plain": [
       "            counts  freqs\n",
       "categories               \n",
       "bronze           2   0.50\n",
       "silver           1   0.25\n",
       "gold             1   0.25"
      ]
     },
     "execution_count": 31,
     "metadata": {},
     "output_type": "execute_result"
    }
   ],
   "source": [
    "# Вычисление описательных статистик для категориальной переменной\n",
    "\n",
    "# Получение описательной информации о категориальной переменной - .describe\n",
    "metals.describe()"
   ]
  },
  {
   "cell_type": "code",
   "execution_count": 32,
   "metadata": {},
   "outputs": [
    {
     "data": {
      "text/plain": [
       "bronze    2\n",
       "silver    1\n",
       "gold      1\n",
       "dtype: int64"
      ]
     },
     "execution_count": 32,
     "metadata": {},
     "output_type": "execute_result"
    }
   ],
   "source": [
    "# Получить количество для каждой категории можно при помощи метода - .value_counts\n",
    "metals.value_counts()\n"
   ]
  },
  {
   "cell_type": "code",
   "execution_count": 33,
   "metadata": {},
   "outputs": [
    {
     "data": {
      "text/plain": [
       "('bronze', 'gold')"
      ]
     },
     "execution_count": 33,
     "metadata": {},
     "output_type": "execute_result"
    }
   ],
   "source": [
    "# Вычислим минимум, максимум для категориальной переменной\n",
    "metals.min(), metals.max()"
   ]
  },
  {
   "cell_type": "code",
   "execution_count": 34,
   "metadata": {},
   "outputs": [
    {
     "data": {
      "text/plain": [
       "0    bronze\n",
       "dtype: category\n",
       "Categories (3, object): ['bronze' < 'silver' < 'gold']"
      ]
     },
     "execution_count": 34,
     "metadata": {},
     "output_type": "execute_result"
    }
   ],
   "source": [
    "# Вычислим моду для категориальной переменной\n",
    "pd.Series(metals).mode()"
   ]
  },
  {
   "cell_type": "code",
   "execution_count": 35,
   "metadata": {},
   "outputs": [
    {
     "data": {
      "text/plain": [
       "     Name  Grade\n",
       "0   Ivana     51\n",
       "1  Norris     92\n",
       "2    Ruth    100\n",
       "3    Lane     99\n",
       "4    Skye     93\n",
       "5     Sol     97\n",
       "6   Dylan     93\n",
       "7  Katina     77\n",
       "8  Alissa     82\n",
       "9    Marc     73"
      ]
     },
     "execution_count": 35,
     "metadata": {},
     "output_type": "execute_result"
    }
   ],
   "source": [
    "# Обраобтка школьных ошибок\n",
    "# 10 учеников со случайными оценками\n",
    "np.random.seed(123456)\n",
    "names =  ['Ivana', 'Norris', 'Ruth', 'Lane', 'Skye', 'Sol', 'Dylan', 'Katina', 'Alissa', \"Marc\"]\n",
    "grades = np.random.randint(50, 101, len(names))\n",
    "scores = pd.DataFrame({'Name': names, 'Grade': grades})\n",
    "scores"
   ]
  },
  {
   "cell_type": "code",
   "execution_count": 36,
   "metadata": {},
   "outputs": [],
   "source": [
    "# Задаем группы и соответствующие оценки\n",
    "\n",
    "score_bins =  [0, 59, 62, 66, 69, 72, 76, 79, 82, 86, 89, 92, 99, 100]\n",
    "letter_grades = ['F', 'D-', 'D', 'D+', 'C-', 'C', 'C+', 'B-', 'B', 'B+', 'A-', 'A', 'A+']\n"
   ]
  },
  {
   "cell_type": "code",
   "execution_count": 37,
   "metadata": {},
   "outputs": [
    {
     "data": {
      "text/plain": [
       "     Name  Grade Letter\n",
       "0   Ivana     51      F\n",
       "1  Norris     92     A-\n",
       "2    Ruth    100     A+\n",
       "3    Lane     99      A\n",
       "4    Skye     93      A\n",
       "5     Sol     97      A\n",
       "6   Dylan     93      A\n",
       "7  Katina     77     C+\n",
       "8  Alissa     82     B-\n",
       "9    Marc     73      C"
      ]
     },
     "execution_count": 37,
     "metadata": {},
     "output_type": "execute_result"
    }
   ],
   "source": [
    "# Разбиваем на основе групп и присваиваем буквенные оцинки\n",
    "letter_cats = pd.cut(scores.Grade, bins=score_bins, labels=letter_grades)\n",
    "scores['Letter']=letter_cats\n",
    "scores"
   ]
  },
  {
   "cell_type": "code",
   "execution_count": 38,
   "metadata": {},
   "outputs": [
    {
     "data": {
      "text/plain": [
       "(0     F\n",
       " 1    A-\n",
       " 2    A+\n",
       " 3     A\n",
       " 4     A\n",
       " 5     A\n",
       " 6     A\n",
       " 7    C+\n",
       " 8    B-\n",
       " 9     C\n",
       " Name: Grade, dtype: category\n",
       " Categories (13, object): ['F' < 'D-' < 'D' < 'D+' ... 'B+' < 'A-' < 'A' < 'A+'],\n",
       " Index(['F', 'D-', 'D', 'D+', 'C-', 'C', 'C+', 'B-', 'B', 'B+',\n",
       "        'A-', 'A', 'A+'],\n",
       "       dtype='object'))"
      ]
     },
     "execution_count": 38,
     "metadata": {},
     "output_type": "execute_result"
    }
   ],
   "source": [
    "# Исследуем интересующую категориальную переменнуюletter_cats\n",
    "letter_cats, letter_cats.cat.categories"
   ]
  },
  {
   "cell_type": "code",
   "execution_count": 39,
   "metadata": {},
   "outputs": [
    {
     "data": {
      "text/plain": [
       "A     4\n",
       "F     1\n",
       "C     1\n",
       "C+    1\n",
       "B-    1\n",
       "A-    1\n",
       "A+    1\n",
       "D-    0\n",
       "D     0\n",
       "D+    0\n",
       "C-    0\n",
       "B     0\n",
       "B+    0\n",
       "Name: Letter, dtype: int64"
      ]
     },
     "execution_count": 39,
     "metadata": {},
     "output_type": "execute_result"
    }
   ],
   "source": [
    "# Сколько наблюдений имеет каждая оцинка?\n",
    "scores.Letter.value_counts()"
   ]
  },
  {
   "cell_type": "code",
   "execution_count": 49,
   "metadata": {},
   "outputs": [
    {
     "data": {
      "text/plain": [
       "    Name  Grade Letter\n",
       "3   Lane     99      A\n",
       "4   Skye     93      A\n",
       "5    Sol     97      A\n",
       "6  Dylan     93      A"
      ]
     },
     "execution_count": 49,
     "metadata": {},
     "output_type": "execute_result"
    }
   ],
   "source": [
    "# Выберем всех учеников имеющих оценку - А\n",
    "scores[scores.Letter == 'A']"
   ]
  },
  {
   "cell_type": "code",
   "execution_count": 43,
   "metadata": {
    "scrolled": true
   },
   "outputs": [
    {
     "data": {
      "text/plain": [
       "     Name  Grade Letter\n",
       "0   Ivana     51      F\n",
       "9    Marc     73      C\n",
       "7  Katina     77     C+\n",
       "8  Alissa     82     B-\n",
       "1  Norris     92     A-\n",
       "3    Lane     99      A\n",
       "4    Skye     93      A\n",
       "5     Sol     97      A\n",
       "6   Dylan     93      A\n",
       "2    Ruth    100     A+"
      ]
     },
     "execution_count": 43,
     "metadata": {},
     "output_type": "execute_result"
    }
   ],
   "source": [
    "# Отсортируем по буквенной оценке, а не по числовой\n",
    "scores.sort_values(by=['Letter'], ascending=True)"
   ]
  },
  {
   "cell_type": "code",
   "execution_count": 40,
   "metadata": {},
   "outputs": [
    {
     "data": {
      "text/plain": [
       "([(-0.015, 3.0], (-0.015, 3.0], (-0.015, 3.0], (3.0, 6.0], (9.0, 12.0], (9.0, 12.0], (12.0, 15.0], (12.0, 15.0]]\n",
       " Categories (5, interval[float64, right]): [(-0.015, 3.0] < (3.0, 6.0] < (6.0, 9.0] < (9.0, 12.0] < (12.0, 15.0]],\n",
       " IntervalIndex([(-0.015, 3.0], (3.0, 6.0], (6.0, 9.0], (9.0, 12.0], (12.0, 15.0]], dtype='interval[float64, right]'),\n",
       " array([0, 0, 0, 1, 3, 3, 4, 4], dtype=int8))"
      ]
     },
     "execution_count": 40,
     "metadata": {},
     "output_type": "execute_result"
    }
   ],
   "source": [
    "cc = pd.cut([0, 1, 1, 6, 11, 12, 13, 15], bins=5)\n",
    "cc, cc.categories, cc.codes"
   ]
  }
 ],
 "metadata": {
  "kernelspec": {
   "display_name": ".venv",
   "language": "python",
   "name": ".venv"
  },
  "language_info": {
   "codemirror_mode": {
    "name": "ipython",
    "version": 3
   },
   "file_extension": ".py",
   "mimetype": "text/x-python",
   "name": "python",
   "nbconvert_exporter": "python",
   "pygments_lexer": "ipython3",
   "version": "3.8.5"
  }
 },
 "nbformat": 4,
 "nbformat_minor": 4
}
