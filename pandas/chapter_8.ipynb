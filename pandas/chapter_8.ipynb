{
 "cells": [
  {
   "cell_type": "code",
   "execution_count": 1,
   "metadata": {},
   "outputs": [],
   "source": [
    "import numpy as np\n",
    "import pandas as pd\n",
    "import matplotlib.pyplot as plt\n",
    "from datetime import time, datetime\n",
    "\n",
    "pd.set_option('display.notebook_repr_html', False)\n",
    "pd.set_option('display.max_rows', 12)\n",
    "pd.set_option('display.max_columns', 10)\n",
    "pd.set_option('display.width', 65)\n",
    "\n",
    "%matplotlib inline\n",
    "\n",
    "sp500 = pd.read_csv('Notebooks/Data/sp500.csv', index_col='Symbol', usecols=[0, 2, 3, 7])\n",
    "sp500_original = pd.read_csv('Notebooks/Data/sp500.csv')\n",
    "\n",
    "# Считываем исторические данные о котировках акций\n",
    "omh = pd.read_csv('Notebooks/Data/omh.csv')"
   ]
  },
  {
   "cell_type": "markdown",
   "metadata": {},
   "source": [
    "### Информация о датасете"
   ]
  },
  {
   "cell_type": "markdown",
   "metadata": {},
   "source": [
    "#### Размер датасета"
   ]
  },
  {
   "cell_type": "code",
   "execution_count": 2,
   "metadata": {},
   "outputs": [
    {
     "data": {
      "text/plain": [
       "(500, 15)"
      ]
     },
     "execution_count": 2,
     "metadata": {},
     "output_type": "execute_result"
    }
   ],
   "source": [
    "sp500_original.shape"
   ]
  },
  {
   "cell_type": "markdown",
   "metadata": {},
   "source": [
    "#### Инф. о датасета (типы данных колонок и наличие пропусков)"
   ]
  },
  {
   "cell_type": "code",
   "execution_count": 3,
   "metadata": {},
   "outputs": [
    {
     "name": "stdout",
     "output_type": "stream",
     "text": [
      "<class 'pandas.core.frame.DataFrame'>\n",
      "RangeIndex: 500 entries, 0 to 499\n",
      "Data columns (total 15 columns):\n",
      " #   Column          Non-Null Count  Dtype  \n",
      "---  ------          --------------  -----  \n",
      " 0   Symbol          500 non-null    object \n",
      " 1   Name            500 non-null    object \n",
      " 2   Sector          500 non-null    object \n",
      " 3   Price           500 non-null    float64\n",
      " 4   Dividend Yield  424 non-null    float64\n",
      " 5   Price/Earnings  480 non-null    float64\n",
      " 6   Earnings/Share  499 non-null    float64\n",
      " 7   Book Value      499 non-null    float64\n",
      " 8   52 week low     499 non-null    float64\n",
      " 9   52 week high    499 non-null    float64\n",
      " 10  Market Cap      496 non-null    float64\n",
      " 11  EBITDA          499 non-null    float64\n",
      " 12  Price/Sales     496 non-null    float64\n",
      " 13  Price/Book      486 non-null    float64\n",
      " 14  SEC Filings     500 non-null    object \n",
      "dtypes: float64(11), object(4)\n",
      "memory usage: 58.7+ KB\n"
     ]
    }
   ],
   "source": [
    "sp500_original.info()"
   ]
  },
  {
   "cell_type": "markdown",
   "metadata": {},
   "source": [
    "#### Вывод названия колонок"
   ]
  },
  {
   "cell_type": "code",
   "execution_count": 4,
   "metadata": {},
   "outputs": [
    {
     "data": {
      "text/plain": [
       "Index(['Symbol', 'Name', 'Sector', 'Price', 'Dividend Yield',\n",
       "       'Price/Earnings', 'Earnings/Share', 'Book Value',\n",
       "       '52 week low', '52 week high', 'Market Cap', 'EBITDA',\n",
       "       'Price/Sales', 'Price/Book', 'SEC Filings'],\n",
       "      dtype='object')"
      ]
     },
     "execution_count": 4,
     "metadata": {},
     "output_type": "execute_result"
    }
   ],
   "source": [
    "sp500_original.columns"
   ]
  },
  {
   "cell_type": "markdown",
   "metadata": {},
   "source": [
    "#### Основные статистики датасета"
   ]
  },
  {
   "cell_type": "code",
   "execution_count": 5,
   "metadata": {},
   "outputs": [
    {
     "data": {
      "text/plain": [
       "            Price  Dividend Yield  Price/Earnings  \\\n",
       "count   500.00000      424.000000      480.000000   \n",
       "mean     77.36860        2.131439       29.887792   \n",
       "std      87.59694        1.321017       70.163577   \n",
       "min       0.00000        0.040000        2.520000   \n",
       "25%      38.74500        1.260000       15.570000   \n",
       "50%      58.35500        1.890000       20.005000   \n",
       "75%      86.68000        2.820000       26.627500   \n",
       "max    1197.12000       10.640000     1329.620000   \n",
       "\n",
       "       Earnings/Share     Book Value  ...  52 week high  \\\n",
       "count      499.000000     499.000000  ...    499.000000   \n",
       "mean         3.564842     301.611301  ...     84.668283   \n",
       "std          4.049497    6195.727862  ...     98.995689   \n",
       "min        -10.693000     -51.275000  ...      6.100000   \n",
       "25%          1.652000      10.836500  ...     42.500000   \n",
       "50%          2.841000      19.098000  ...     63.560000   \n",
       "75%          4.435000      31.386500  ...     91.295000   \n",
       "max         41.727000  138425.453100  ...   1378.960000   \n",
       "\n",
       "       Market Cap      EBITDA  Price/Sales  Price/Book  \n",
       "count  496.000000  499.000000   496.000000  486.000000  \n",
       "mean    35.348525    3.700364     2.782359    4.620514  \n",
       "std     54.839169    6.669021     2.529481   10.578663  \n",
       "min      0.208500   -0.331300     0.000000    0.000000  \n",
       "25%      9.859250    0.867800     1.220000    1.802500  \n",
       "50%     17.444500    1.636000     2.005000    3.125000  \n",
       "75%     34.653250    3.793500     3.377500    4.730000  \n",
       "max    529.000000   60.657000    17.840000  213.740000  \n",
       "\n",
       "[8 rows x 11 columns]"
      ]
     },
     "execution_count": 5,
     "metadata": {},
     "output_type": "execute_result"
    }
   ],
   "source": [
    "sp500_original.describe()"
   ]
  },
  {
   "cell_type": "markdown",
   "metadata": {},
   "source": [
    "#### Инф. по количеству NaN значений в столбцах - df.isna()"
   ]
  },
  {
   "cell_type": "code",
   "execution_count": 6,
   "metadata": {},
   "outputs": [
    {
     "data": {
      "text/plain": [
       "Symbol             0\n",
       "Name               0\n",
       "Sector             0\n",
       "Price              0\n",
       "Dividend Yield    76\n",
       "                  ..\n",
       "Market Cap         4\n",
       "EBITDA             1\n",
       "Price/Sales        4\n",
       "Price/Book        14\n",
       "SEC Filings        0\n",
       "Length: 15, dtype: int64"
      ]
     },
     "execution_count": 6,
     "metadata": {},
     "output_type": "execute_result"
    }
   ],
   "source": [
    "sp500_original.isna().sum()"
   ]
  },
  {
   "cell_type": "markdown",
   "metadata": {},
   "source": [
    "#### Выведем записи в кторых у столбца 'Price/Book' значение равно NaN"
   ]
  },
  {
   "cell_type": "code",
   "execution_count": 7,
   "metadata": {},
   "outputs": [
    {
     "data": {
      "text/plain": [
       "    Symbol   Price  Price/Book\n",
       "18    ALLE   52.46         NaN\n",
       "48     AZO  540.90         NaN\n",
       "58    BEAM    0.00         NaN\n",
       "75     CVC   17.45         NaN\n",
       "137    DTV   83.59         NaN\n",
       "..     ...     ...         ...\n",
       "278    LSI   11.14         NaN\n",
       "285    MAR   59.26         NaN\n",
       "358     PM   86.57         NaN\n",
       "466   VRSN   49.92         NaN\n",
       "489   WYNN  207.86         NaN\n",
       "\n",
       "[14 rows x 3 columns]"
      ]
     },
     "execution_count": 7,
     "metadata": {},
     "output_type": "execute_result"
    }
   ],
   "source": [
    "sp500_original[sp500_original['Price/Book'].isna()][['Symbol', 'Price', 'Price/Book']]\n"
   ]
  },
  {
   "cell_type": "markdown",
   "metadata": {},
   "source": [
    "#### Процентное выржене незаполненных данных"
   ]
  },
  {
   "cell_type": "code",
   "execution_count": 8,
   "metadata": {},
   "outputs": [
    {
     "data": {
      "text/plain": [
       "Symbol            0.000\n",
       "Name              0.000\n",
       "Sector            0.000\n",
       "Price             0.000\n",
       "Dividend Yield    0.152\n",
       "                  ...  \n",
       "Market Cap        0.008\n",
       "EBITDA            0.002\n",
       "Price/Sales       0.008\n",
       "Price/Book        0.028\n",
       "SEC Filings       0.000\n",
       "Length: 15, dtype: float64"
      ]
     },
     "execution_count": 8,
     "metadata": {},
     "output_type": "execute_result"
    }
   ],
   "source": [
    "sp500_original.isna().sum() / sp500_original.shape[0]"
   ]
  },
  {
   "cell_type": "markdown",
   "metadata": {},
   "source": [
    "#### Визуализируем соотношение компаний по Sector"
   ]
  },
  {
   "cell_type": "code",
   "execution_count": 9,
   "metadata": {},
   "outputs": [
    {
     "data": {
      "text/plain": [
       "<AxesSubplot:ylabel='Sector'>"
      ]
     },
     "execution_count": 9,
     "metadata": {},
     "output_type": "execute_result"
    },
    {
     "data": {
      "image/png": "[encoded data removed]",
      "text/plain": [
       "<Figure size 432x288 with 1 Axes>"
      ]
     },
     "metadata": {},
     "output_type": "display_data"
    }
   ],
   "source": [
    "sp500_original['Sector'].value_counts().plot.pie()"
   ]
  },
  {
   "cell_type": "code",
   "execution_count": 10,
   "metadata": {},
   "outputs": [
    {
     "data": {
      "text/plain": [
       "<AxesSubplot:>"
      ]
     },
     "execution_count": 10,
     "metadata": {},
     "output_type": "execute_result"
    },
    {
     "data": {
      "image/png": "[encoded data removed]",
      "text/plain": [
       "<Figure size 432x288 with 1 Axes>"
      ]
     },
     "metadata": {
      "needs_background": "light"
     },
     "output_type": "display_data"
    }
   ],
   "source": [
    "sp500_original['Sector'].value_counts().plot.bar()"
   ]
  },
  {
   "cell_type": "code",
   "execution_count": 11,
   "metadata": {},
   "outputs": [
    {
     "data": {
      "text/plain": [
       "Consumer Staples                1\n",
       "Industries                      1\n",
       "Consumer Discretionary          1\n",
       "Telecommunications Services     6\n",
       "Materials                      29\n",
       "                               ..\n",
       "Health Care                    54\n",
       "Industrials                    64\n",
       "Information Technology         64\n",
       "Financials                     82\n",
       "Consumer Discretionary         85\n",
       "Name: Sector, Length: 13, dtype: int64"
      ]
     },
     "execution_count": 11,
     "metadata": {},
     "output_type": "execute_result"
    }
   ],
   "source": [
    "sp500_original['Sector'].value_counts(ascending=True)"
   ]
  },
  {
   "cell_type": "code",
   "execution_count": 12,
   "metadata": {},
   "outputs": [
    {
     "data": {
      "text/plain": [
       "          A         B         C         D\n",
       "0  0.469112 -0.282863 -1.509059 -1.135632\n",
       "1  1.212112 -0.173215  0.119209 -1.044236\n",
       "2 -0.861849 -2.104569 -0.494929  1.071804\n",
       "3  0.721555 -0.706771 -1.039575  0.271860\n",
       "4 -0.424972  0.567020  0.276232 -1.087401"
      ]
     },
     "execution_count": 12,
     "metadata": {},
     "output_type": "execute_result"
    }
   ],
   "source": [
    "# Создадим датафрейм с 4 столбцами\n",
    "np.random.seed(123456)\n",
    "df = pd.DataFrame(np.random.randn(5, 4), columns=['A', 'B', 'C', 'D'])\n",
    "df"
   ]
  },
  {
   "cell_type": "code",
   "execution_count": 13,
   "metadata": {},
   "outputs": [
    {
     "data": {
      "text/plain": [
       "          A         B         C         D\n",
       "0  0.938225 -0.565727 -3.018117 -2.271265\n",
       "1  2.424224 -0.346429  0.238417 -2.088472\n",
       "2 -1.723698 -4.209138 -0.989859  2.143608\n",
       "3  1.443110 -1.413542 -2.079150  0.543720\n",
       "4 -0.849945  1.134041  0.552464 -2.174801"
      ]
     },
     "execution_count": 13,
     "metadata": {},
     "output_type": "execute_result"
    }
   ],
   "source": [
    "# Умножим ВСЕ на 2 (исходный датафрейм НЕ МЕНЯЕТСЯ)\n",
    "df * 2"
   ]
  },
  {
   "cell_type": "code",
   "execution_count": 14,
   "metadata": {},
   "outputs": [
    {
     "data": {
      "text/plain": [
       "          A         B         C         D\n",
       "0  0.000000  0.000000  0.000000  0.000000\n",
       "1  0.743000  0.109649  1.628267  0.091396\n",
       "2 -1.330961 -1.821706  1.014129  2.207436\n",
       "3  0.252443 -0.423908  0.469484  1.407492\n",
       "4 -0.894085  0.849884  1.785291  0.048232"
      ]
     },
     "execution_count": 14,
     "metadata": {},
     "output_type": "execute_result"
    }
   ],
   "source": [
    "# Извлекаем первую строку\n",
    "s = df.iloc[0]\n",
    "\n",
    "# Вычитаем первую стоку из КАЖДОЙ СТРОКИ объекта датафрейма.\n",
    "diff = df - s\n",
    "diff"
   ]
  },
  {
   "cell_type": "code",
   "execution_count": 15,
   "metadata": {},
   "outputs": [
    {
     "data": {
      "text/plain": [
       "(B   -0.282863\n",
       " C   -1.509059\n",
       " E    0.000000\n",
       " Name: 0, dtype: float64,\n",
       " '-----',\n",
       "     A         B         C   D   E\n",
       " 0 NaN -0.565727 -3.018117 NaN NaN\n",
       " 1 NaN -0.456078 -1.389850 NaN NaN\n",
       " 2 NaN -2.387433 -2.003988 NaN NaN\n",
       " 3 NaN -0.989634 -2.548633 NaN NaN\n",
       " 4 NaN  0.284157 -1.232826 NaN NaN)"
      ]
     },
     "execution_count": 15,
     "metadata": {},
     "output_type": "execute_result"
    }
   ],
   "source": [
    "# B, C\n",
    "s2 = s[1:3]\n",
    "\n",
    "# Добавляем E\n",
    "s2['E'] = 0\n",
    "\n",
    "# Смотрим, как применяется выравнивание в операции сложения\n",
    "s2, '-----', df + s2"
   ]
  },
  {
   "cell_type": "markdown",
   "metadata": {},
   "source": [
    "При выполнении арифметической операции между двумя объектами DataFrame\n",
    "выравнивание происходит как по меткам индекса, так и по меткам столбцов. Следующий программный код извлекает фрагмент df и вычитает его из исходного\n",
    "датафрейма. В результате видим, что выровненные значения, полученные в ре-\n",
    "зультате вычитания, равны 0, а остальные получают значения NaN:\n"
   ]
  },
  {
   "cell_type": "code",
   "execution_count": 16,
   "metadata": {},
   "outputs": [
    {
     "data": {
      "text/plain": [
       "(          B         C\n",
       " 1 -0.173215  0.119209\n",
       " 2 -2.104569 -0.494929\n",
       " 3 -0.706771 -1.039575,\n",
       " RangeIndex(start=1, stop=4, step=1))"
      ]
     },
     "execution_count": 16,
     "metadata": {},
     "output_type": "execute_result"
    }
   ],
   "source": [
    "# Извлечем строки с 1 по 3 позицию и только столбцы В и С\n",
    "subFrare  = df.loc[1:3][['B', 'C']]\n",
    "\n",
    "# Мы извлеки небольшой квадрат из середины df\n",
    "subFrare, subFrare.index"
   ]
  },
  {
   "cell_type": "code",
   "execution_count": 17,
   "metadata": {},
   "outputs": [
    {
     "data": {
      "text/plain": [
       "(          A         B         C         D\n",
       " 0  0.469112 -0.282863 -1.509059 -1.135632\n",
       " 1  1.212112 -0.173215  0.119209 -1.044236\n",
       " 2 -0.861849 -2.104569 -0.494929  1.071804\n",
       " 3  0.721555 -0.706771 -1.039575  0.271860\n",
       " 4 -0.424972  0.567020  0.276232 -1.087401,\n",
       "     A    B    C   D\n",
       " 0 NaN  NaN  NaN NaN\n",
       " 1 NaN  0.0  0.0 NaN\n",
       " 2 NaN  0.0  0.0 NaN\n",
       " 3 NaN  0.0  0.0 NaN\n",
       " 4 NaN  NaN  NaN NaN)"
      ]
     },
     "execution_count": 17,
     "metadata": {},
     "output_type": "execute_result"
    }
   ],
   "source": [
    "# Демонстрируем, как происходит выравнивание при выполнении операции вычитания.\n",
    "df, df - subFrare"
   ]
  },
  {
   "cell_type": "code",
   "execution_count": 18,
   "metadata": {},
   "outputs": [
    {
     "name": "stdout",
     "output_type": "stream",
     "text": [
      "          A         B         C         D\n",
      "0  0.469112 -0.282863 -1.509059 -1.135632\n",
      "1  1.212112 -0.173215  0.119209 -1.044236\n",
      "2 -0.861849 -2.104569 -0.494929  1.071804\n",
      "3  0.721555 -0.706771 -1.039575  0.271860\n",
      "4 -0.424972  0.567020  0.276232 -1.087401\n",
      "     A         B         C         D\n",
      "0  0.0 -0.751976 -1.978171 -1.604745\n",
      "1  0.0 -1.385327 -1.092903 -2.256348\n",
      "2  0.0 -1.242720  0.366920  1.933653\n",
      "3  0.0 -1.428326 -1.761130 -0.449695\n",
      "4  0.0  0.991993  0.701204 -0.662428\n",
      "          A         B         C         D\n",
      "0 -0.743000 -0.109649 -1.628267 -0.091396\n",
      "1  0.000000  0.000000  0.000000  0.000000\n",
      "2 -2.073961 -1.931355 -0.614138  2.116040\n",
      "3 -0.490557 -0.533556 -1.158784  1.316096\n",
      "4 -1.637084  0.740235  0.157023 -0.043165\n"
     ]
    }
   ],
   "source": [
    "# Методы арифметических операций позволяют задать ось\n",
    "# Извлекаем столбец A\n",
    "a_col = df['A']\n",
    "a_row = df.loc[1]\n",
    "print(df)\n",
    "\n",
    "# Вычтем столбец А ИЗ КАЖДОГО СТОЛБЦА датафрейма\n",
    "print(df.sub(a_col, axis=0))\n",
    "print(df.sub(a_row, axis=1))"
   ]
  },
  {
   "cell_type": "markdown",
   "metadata": {},
   "source": [
    "#### Вычисление количества значений отличных от NaN."
   ]
  },
  {
   "cell_type": "code",
   "execution_count": 19,
   "metadata": {},
   "outputs": [
    {
     "data": {
      "text/plain": [
       "4"
      ]
     },
     "execution_count": 19,
     "metadata": {},
     "output_type": "execute_result"
    }
   ],
   "source": [
    "s = pd.Series(['a', 'a', 'b', 'c', np.NaN])\n",
    "s.count()"
   ]
  },
  {
   "cell_type": "markdown",
   "metadata": {},
   "source": [
    "#### Определение уникальных значений"
   ]
  },
  {
   "cell_type": "code",
   "execution_count": 20,
   "metadata": {},
   "outputs": [
    {
     "data": {
      "text/plain": [
       "array(['a', 'b', 'c', nan], dtype=object)"
      ]
     },
     "execution_count": 20,
     "metadata": {},
     "output_type": "execute_result"
    }
   ],
   "source": [
    "s.unique()"
   ]
  },
  {
   "cell_type": "markdown",
   "metadata": {},
   "source": [
    "#### Количество уникальнхх значений (исключая значение NaN)"
   ]
  },
  {
   "cell_type": "code",
   "execution_count": 21,
   "metadata": {},
   "outputs": [
    {
     "data": {
      "text/plain": [
       "3"
      ]
     },
     "execution_count": 21,
     "metadata": {},
     "output_type": "execute_result"
    }
   ],
   "source": [
    "s.nunique()"
   ]
  },
  {
   "cell_type": "markdown",
   "metadata": {},
   "source": [
    "#### Вычисляем встречаемость каждого уникального значения для нечисловых данных."
   ]
  },
  {
   "cell_type": "code",
   "execution_count": 22,
   "metadata": {},
   "outputs": [
    {
     "data": {
      "text/plain": [
       "a      2\n",
       "b      1\n",
       "c      1\n",
       "NaN    1\n",
       "dtype: int64"
      ]
     },
     "execution_count": 22,
     "metadata": {},
     "output_type": "execute_result"
    }
   ],
   "source": [
    "s.value_counts(dropna=False)"
   ]
  },
  {
   "cell_type": "markdown",
   "metadata": {},
   "source": [
    "#### Вычисление минимума и максимума"
   ]
  },
  {
   "cell_type": "code",
   "execution_count": 23,
   "metadata": {},
   "outputs": [
    {
     "data": {
      "text/plain": [
       "(MSFT     45.16\n",
       " AAPL    106.75\n",
       " dtype: float64,\n",
       " '------',\n",
       " MSFT     48.84\n",
       " AAPL    115.93\n",
       " dtype: float64)"
      ]
     },
     "execution_count": 23,
     "metadata": {},
     "output_type": "execute_result"
    }
   ],
   "source": [
    "# Определим минимальную  и максимальную цену для обеих акций\n",
    "\n",
    "omh[['MSFT', 'AAPL']].min(), '------', omh[['MSFT', 'AAPL']].max()"
   ]
  },
  {
   "cell_type": "markdown",
   "metadata": {},
   "source": [
    "#### Можно получить ИНДЕКСЫ минимального и максимального значения"
   ]
  },
  {
   "cell_type": "code",
   "execution_count": 24,
   "metadata": {},
   "outputs": [
    {
     "data": {
      "text/plain": [
       "(MSFT    11\n",
       " AAPL    11\n",
       " dtype: int64,\n",
       " '------',\n",
       " MSFT    3\n",
       " AAPL    2\n",
       " dtype: int64)"
      ]
     },
     "execution_count": 24,
     "metadata": {},
     "output_type": "execute_result"
    }
   ],
   "source": [
    "omh[['MSFT', 'AAPL']].idxmin(), '------', omh[['MSFT', 'AAPL']].idxmax()"
   ]
  },
  {
   "cell_type": "markdown",
   "metadata": {},
   "source": [
    "#### Вычисление n наименьших значений"
   ]
  },
  {
   "cell_type": "code",
   "execution_count": 25,
   "metadata": {},
   "outputs": [
    {
     "name": "stdout",
     "output_type": "stream",
     "text": [
      "11    45.16\n",
      "12    45.74\n",
      "21    46.45\n",
      "10    46.67\n",
      "7     46.90\n",
      "Name: MSFT, dtype: float64\n",
      "          Date   MSFT    AAPL\n",
      "11  2014-12-16  45.16  106.75\n",
      "10  2014-12-15  46.67  108.23\n",
      "12  2014-12-17  45.74  109.41\n",
      "9   2014-12-12  46.95  109.73\n"
     ]
    }
   ],
   "source": [
    "print(omh.nsmallest(5, ['MSFT'])['MSFT'])\n",
    "print(omh.nsmallest(4, 'AAPL'))"
   ]
  },
  {
   "cell_type": "markdown",
   "metadata": {},
   "source": [
    "#### Получем 5 наибольших значенией MSFT"
   ]
  },
  {
   "cell_type": "code",
   "execution_count": 26,
   "metadata": {},
   "outputs": [
    {
     "data": {
      "text/plain": [
       "3     48.84\n",
       "0     48.62\n",
       "1     48.46\n",
       "16    48.45\n",
       "4     48.42\n",
       "Name: MSFT, dtype: float64"
      ]
     },
     "execution_count": 26,
     "metadata": {},
     "output_type": "execute_result"
    }
   ],
   "source": [
    "omh.nlargest(5, ['MSFT'])['MSFT']"
   ]
  },
  {
   "cell_type": "code",
   "execution_count": 27,
   "metadata": {},
   "outputs": [
    {
     "data": {
      "text/plain": [
       "11    45.16\n",
       "12    45.74\n",
       "21    46.45\n",
       "10    46.67\n",
       "7     46.90\n",
       "Name: MSFT, dtype: float64"
      ]
     },
     "execution_count": 27,
     "metadata": {},
     "output_type": "execute_result"
    }
   ],
   "source": [
    "# Для вычисления n наибольш. и n ниименьш. значений у объекта Series не нужно указывать \n",
    "# столбец у методов nsmallest и nlargest т.к серия это и есть один столбец.\n",
    "omh.MSFT.nsmallest(5)"
   ]
  },
  {
   "cell_type": "markdown",
   "metadata": {},
   "source": [
    "#### Вычисление накопительных значений"
   ]
  },
  {
   "cell_type": "code",
   "execution_count": 28,
   "metadata": {},
   "outputs": [
    {
     "data": {
      "text/plain": [
       "0     1\n",
       "1     2\n",
       "2     6\n",
       "3    24\n",
       "dtype: int64"
      ]
     },
     "execution_count": 28,
     "metadata": {},
     "output_type": "execute_result"
    }
   ],
   "source": [
    "# Вычисление накопительного произведения (результатом будет \n",
    "# еще одна серия - накопительных зн.)\n",
    "pd.Series(np.arange(1, 5)).cumprod()"
   ]
  },
  {
   "cell_type": "code",
   "execution_count": 29,
   "metadata": {},
   "outputs": [
    {
     "data": {
      "text/plain": [
       "0     1\n",
       "1     3\n",
       "2     6\n",
       "3    10\n",
       "dtype: int64"
      ]
     },
     "execution_count": 29,
     "metadata": {},
     "output_type": "execute_result"
    }
   ],
   "source": [
    "# Вычисляем накопительную сумму.\n",
    "pd.Series(np.arange(1, 5)).cumsum()"
   ]
  },
  {
   "cell_type": "markdown",
   "metadata": {},
   "source": [
    "### Выполнение статистических операций"
   ]
  },
  {
   "cell_type": "code",
   "execution_count": 30,
   "metadata": {},
   "outputs": [
    {
     "data": {
      "text/plain": [
       "            MSFT        AAPL\n",
       "count  22.000000   22.000000\n",
       "mean   47.493182  112.411364\n",
       "std     0.933077    2.388772\n",
       "min    45.160000  106.750000\n",
       "25%    46.967500  111.660000\n",
       "50%    47.625000  112.530000\n",
       "75%    48.125000  114.087500\n",
       "max    48.840000  115.930000"
      ]
     },
     "execution_count": 30,
     "metadata": {},
     "output_type": "execute_result"
    }
   ],
   "source": [
    "omh.describe()"
   ]
  },
  {
   "cell_type": "code",
   "execution_count": 31,
   "metadata": {},
   "outputs": [
    {
     "data": {
      "text/plain": [
       "count     6\n",
       "unique    3\n",
       "top       b\n",
       "freq      3\n",
       "dtype: object"
      ]
     },
     "execution_count": 31,
     "metadata": {},
     "output_type": "execute_result"
    }
   ],
   "source": [
    "# Для нечисловых данных метод describe вернет др. результат\n",
    "s = pd.Series(['a', 'a', 'b', 'b', 'b', 'c', np.NaN])\n",
    "s.describe()"
   ]
  },
  {
   "cell_type": "markdown",
   "metadata": {},
   "source": [
    "#### Вычисление среднего значения"
   ]
  },
  {
   "cell_type": "code",
   "execution_count": 32,
   "metadata": {},
   "outputs": [
    {
     "data": {
      "text/plain": [
       "MSFT     47.493182\n",
       "AAPL    112.411364\n",
       "dtype: float64"
      ]
     },
     "execution_count": 32,
     "metadata": {},
     "output_type": "execute_result"
    }
   ],
   "source": [
    "omh[['MSFT', 'AAPL']].mean()"
   ]
  },
  {
   "cell_type": "code",
   "execution_count": 33,
   "metadata": {},
   "outputs": [
    {
     "data": {
      "text/plain": [
       "(         Date   MSFT    AAPL\n",
       " 0  2014-12-01  48.62  115.07\n",
       " 1  2014-12-02  48.46  114.63\n",
       " 2  2014-12-03  48.08  115.93\n",
       " 3  2014-12-04  48.84  115.49\n",
       " 4  2014-12-05  48.42  115.00,\n",
       " '------',\n",
       " 0    81.845\n",
       " 1    81.545\n",
       " 2    82.005\n",
       " 3    82.165\n",
       " 4    81.710\n",
       " dtype: float64)"
      ]
     },
     "execution_count": 33,
     "metadata": {},
     "output_type": "execute_result"
    }
   ],
   "source": [
    "# Вычислить ср. значение по строке \n",
    "# (т.е суммируются значения каждого столбца и делится на кол. столбцов.)\n",
    "omh[:5], '------', omh[['MSFT', 'AAPL']].mean(axis=1)[:5]"
   ]
  },
  {
   "cell_type": "markdown",
   "metadata": {},
   "source": [
    "#### Вычисление медианы"
   ]
  },
  {
   "cell_type": "code",
   "execution_count": 34,
   "metadata": {},
   "outputs": [
    {
     "data": {
      "text/plain": [
       "MSFT     47.625\n",
       "AAPL    112.530\n",
       "dtype: float64"
      ]
     },
     "execution_count": 34,
     "metadata": {},
     "output_type": "execute_result"
    }
   ],
   "source": [
    "omh[['MSFT', 'AAPL']].median()"
   ]
  },
  {
   "cell_type": "markdown",
   "metadata": {},
   "source": [
    "\n",
    "#### Вычисление моды"
   ]
  },
  {
   "cell_type": "code",
   "execution_count": 35,
   "metadata": {},
   "outputs": [
    {
     "data": {
      "text/plain": [
       "0    3\n",
       "dtype: int64"
      ]
     },
     "execution_count": 35,
     "metadata": {},
     "output_type": "execute_result"
    }
   ],
   "source": [
    "\"\"\"Обратите внимание, что данная строка возвратила не скалярное значение,\n",
    "представляющее моду, а серию. Данный факт связан с тем, что мод может быть\n",
    "несколько.\"\"\"\n",
    "s = pd.Series([1,2,3,3,5])\n",
    "s.mode()"
   ]
  },
  {
   "cell_type": "code",
   "execution_count": 36,
   "metadata": {},
   "outputs": [
    {
     "data": {
      "text/plain": [
       "0    1\n",
       "1    3\n",
       "dtype: int64"
      ]
     },
     "execution_count": 36,
     "metadata": {},
     "output_type": "execute_result"
    }
   ],
   "source": [
    "# Может быть несколько мод\n",
    "s = pd.Series([1, 2, 3, 3, 5, 1])\n",
    "s.mode()"
   ]
  },
  {
   "cell_type": "markdown",
   "metadata": {},
   "source": [
    "#### Вычисление дисперсии и стандартного отклонения"
   ]
  },
  {
   "cell_type": "code",
   "execution_count": 37,
   "metadata": {},
   "outputs": [
    {
     "data": {
      "text/plain": [
       "MSFT    0.870632\n",
       "AAPL    5.706231\n",
       "dtype: float64"
      ]
     },
     "execution_count": 37,
     "metadata": {},
     "output_type": "execute_result"
    }
   ],
   "source": [
    "# Вычисление дисперсии\n",
    "omh[['MSFT', 'AAPL']].var()"
   ]
  },
  {
   "cell_type": "code",
   "execution_count": 38,
   "metadata": {},
   "outputs": [
    {
     "data": {
      "text/plain": [
       "MSFT    0.933077\n",
       "AAPL    2.388772\n",
       "dtype: float64"
      ]
     },
     "execution_count": 38,
     "metadata": {},
     "output_type": "execute_result"
    }
   ],
   "source": [
    "# Вычислене стандартного отклонения\n",
    "omh[['MSFT', 'AAPL']].std()"
   ]
  },
  {
   "cell_type": "markdown",
   "metadata": {},
   "source": [
    "#### Вычисление ковариации"
   ]
  },
  {
   "cell_type": "code",
   "execution_count": 39,
   "metadata": {},
   "outputs": [
    {
     "data": {
      "text/plain": [
       "1.9261240259740264"
      ]
     },
     "execution_count": 39,
     "metadata": {},
     "output_type": "execute_result"
    }
   ],
   "source": [
    "omh.MSFT.cov(omh.AAPL)"
   ]
  },
  {
   "cell_type": "markdown",
   "metadata": {},
   "source": [
    "#### Вычисление корреляции"
   ]
  }
 ],
 "metadata": {
  "kernelspec": {
   "display_name": ".venv",
   "language": "python",
   "name": ".venv"
  },
  "language_info": {
   "codemirror_mode": {
    "name": "ipython",
    "version": 3
   },
   "file_extension": ".py",
   "mimetype": "text/x-python",
   "name": "python",
   "nbconvert_exporter": "python",
   "pygments_lexer": "ipython3",
   "version": "3.8.5"
  }
 },
 "nbformat": 4,
 "nbformat_minor": 4
}
