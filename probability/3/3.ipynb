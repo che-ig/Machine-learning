{
 "cells": [
  {
   "cell_type": "code",
   "execution_count": 1,
   "metadata": {},
   "outputs": [],
   "source": [
    "import json\n",
    "import numpy as np\n",
    "import pandas as pd\n",
    "import matplotlib.pyplot as plt\n",
    "import seaborn as sns\n",
    "\n",
    "%matplotlib inline"
   ]
  },
  {
   "cell_type": "code",
   "execution_count": 2,
   "metadata": {
    "scrolled": true
   },
   "outputs": [
    {
     "data": {
      "text/plain": [
       "{1: 'Film & Animation',\n",
       " 2: 'Autos & Vehicles',\n",
       " 10: 'Music',\n",
       " 15: 'Pets & Animals',\n",
       " 17: 'Sports',\n",
       " 18: 'Short Movies',\n",
       " 19: 'Travel & Events',\n",
       " 20: 'Gaming',\n",
       " 21: 'Videoblogging',\n",
       " 22: 'People & Blogs',\n",
       " 23: 'Comedy',\n",
       " 24: 'Entertainment',\n",
       " 25: 'News & Politics',\n",
       " 26: 'Howto & Style',\n",
       " 27: 'Education',\n",
       " 28: 'Science & Technology',\n",
       " 30: 'Movies',\n",
       " 31: 'Anime/Animation',\n",
       " 32: 'Action/Adventure',\n",
       " 33: 'Classics',\n",
       " 34: 'Comedy',\n",
       " 35: 'Documentary',\n",
       " 36: 'Drama',\n",
       " 37: 'Family',\n",
       " 38: 'Foreign',\n",
       " 39: 'Horror',\n",
       " 40: 'Sci-Fi/Fantasy',\n",
       " 41: 'Thriller',\n",
       " 42: 'Shorts',\n",
       " 43: 'Shows',\n",
       " 44: 'Trailers'}"
      ]
     },
     "execution_count": 2,
     "metadata": {},
     "output_type": "execute_result"
    }
   ],
   "source": [
    "with open('RU_category_id.json', 'r') as f:\n",
    "    categories = json.load(f)\n",
    "\n",
    "categories = {int(item.get('id')): item.get('snippet').get('title') for item in categories.get('items') }\n",
    "categories"
   ]
  },
  {
   "cell_type": "code",
   "execution_count": 18,
   "metadata": {},
   "outputs": [
    {
     "name": "stdout",
     "output_type": "stream",
     "text": [
      "<class 'pandas.core.frame.DataFrame'>\n",
      "Int64Index: 39198 entries, 0 to 40737\n",
      "Data columns (total 7 columns):\n",
      " #   Column         Non-Null Count  Dtype \n",
      "---  ------         --------------  ----- \n",
      " 0   trending_date  39198 non-null  object\n",
      " 1   category_id    39198 non-null  int64 \n",
      " 2   publish_time   39198 non-null  object\n",
      " 3   views          39198 non-null  int64 \n",
      " 4   likes          39198 non-null  int64 \n",
      " 5   dislikes       39198 non-null  int64 \n",
      " 6   comment_count  39198 non-null  int64 \n",
      "dtypes: int64(5), object(2)\n",
      "memory usage: 2.4+ MB\n",
      "None\n",
      "\n",
      "\n",
      "<class 'str'>\n"
     ]
    }
   ],
   "source": [
    "videos = pd.read_csv('RUvideos.csv') # , engine='python', encoding='utf-8'\n",
    "videos = videos.drop(columns=['video_id', 'title', 'channel_title', 'tags', \n",
    "                              'thumbnail_link', 'comments_disabled', 'ratings_disabled',\n",
    "                              'video_error_or_removed', 'description'])\n",
    "\n",
    "videos_filtred = videos[videos['category_id'].map(lambda c: c in categories)]\n",
    "# print(videos_filtred)\n",
    "print(videos_filtred.info(), end='\\n\\n\\n')\n",
    "print(type(videos_filtred['publish_time'].iloc[0]))"
   ]
  },
  {
   "cell_type": "code",
   "execution_count": 39,
   "metadata": {},
   "outputs": [
    {
     "data": {
      "text/plain": [
       "22    0.264044\n",
       "24    0.151615\n",
       "25    0.137813\n",
       "23    0.078193\n",
       "1     0.077580\n",
       "26    0.051023\n",
       "17    0.050207\n",
       "10    0.048344\n",
       "2     0.040385\n",
       "28    0.028905\n",
       "20    0.026609\n",
       "27    0.018215\n",
       "15    0.015409\n",
       "19    0.006684\n",
       "43    0.004949\n",
       "30    0.000026\n",
       "Name: category_id, dtype: float64"
      ]
     },
     "execution_count": 39,
     "metadata": {},
     "output_type": "execute_result"
    },
    {
     "data": {
      "image/png": "[encoded data removed]",
      "text/plain": [
       "<Figure size 432x288 with 1 Axes>"
      ]
     },
     "metadata": {
      "needs_background": "light"
     },
     "output_type": "display_data"
    }
   ],
   "source": [
    "cnt = videos_filtred.category_id.count()\n",
    "(videos_filtred.category_id.value_counts() / cnt).plot(kind='bar')\n",
    "\n",
    "# Или более простой способ\n",
    "cs_probs = videos_filtred['category_id'].value_counts(normalize=True)\n",
    "cs_probs"
   ]
  },
  {
   "cell_type": "code",
   "execution_count": 6,
   "metadata": {},
   "outputs": [
    {
     "name": "stderr",
     "output_type": "stream",
     "text": [
      "/tmp/ipykernel_14366/3746291193.py:4: UserWarning: FixedFormatter should only be used together with FixedLocator\n",
      "  g.set_xticklabels(g.get_xticklabels(), rotation=45, horizontalalignment='right')\n"
     ]
    },
    {
     "data": {
      "text/plain": [
       "[Text(0, 0, 'People & Blogs'),\n",
       " Text(1, 0, 'Entertainment'),\n",
       " Text(2, 0, 'Science & Technology'),\n",
       " Text(3, 0, 'Comedy'),\n",
       " Text(4, 0, 'Education'),\n",
       " Text(5, 0, 'Sports'),\n",
       " Text(6, 0, 'Autos & Vehicles'),\n",
       " Text(7, 0, 'News & Politics'),\n",
       " Text(8, 0, 'Pets & Animals'),\n",
       " Text(9, 0, 'Gaming'),\n",
       " Text(10, 0, 'Film & Animation'),\n",
       " Text(11, 0, 'Shows'),\n",
       " Text(12, 0, 'Howto & Style'),\n",
       " Text(13, 0, 'Music'),\n",
       " Text(14, 0, 'Travel & Events'),\n",
       " Text(15, 0, 'Movies')]"
      ]
     },
     "execution_count": 6,
     "metadata": {},
     "output_type": "execute_result"
    },
    {
     "data": {
      "image/png": "[encoded data removed]",
      "text/plain": [
       "<Figure size 1152x432 with 1 Axes>"
      ]
     },
     "metadata": {
      "needs_background": "light"
     },
     "output_type": "display_data"
    }
   ],
   "source": [
    "plt.figure(figsize=(16, 6))\n",
    "g = sns.histplot(videos_filtred['category_id'].transform(lambda c: categories[c]), stat='probability')\n",
    "plt.draw()\n",
    "g.set_xticklabels(g.get_xticklabels(), rotation=45, horizontalalignment='right')"
   ]
  },
  {
   "cell_type": "code",
   "execution_count": 13,
   "metadata": {},
   "outputs": [
    {
     "data": {
      "text/plain": [
       "Int64Index([1, 2, 3, 4, 5], dtype='int64')"
      ]
     },
     "execution_count": 13,
     "metadata": {},
     "output_type": "execute_result"
    }
   ],
   "source": [
    "# Эксперимент с датой\n",
    "d_range = pd.date_range('2022-01-01', periods=5, freq='M')\n",
    "d_range.month"
   ]
  },
  {
   "cell_type": "code",
   "execution_count": 10,
   "metadata": {},
   "outputs": [
    {
     "data": {
      "text/plain": [
       "0       2017-11-13 09:09:31+00:00\n",
       "1       2017-11-13 17:32:11+00:00\n",
       "2       2017-11-13 16:11:31+00:00\n",
       "3       2017-11-13 06:51:10+00:00\n",
       "4       2017-11-13 16:52:36+00:00\n",
       "                   ...           \n",
       "40733   2018-06-13 15:01:13+00:00\n",
       "40734   2018-06-13 13:47:01+00:00\n",
       "40735   2018-06-12 09:38:38+00:00\n",
       "40736   2018-06-13 12:51:23+00:00\n",
       "40737   2018-06-13 00:23:33+00:00\n",
       "Name: publish_time, Length: 39198, dtype: datetime64[ns, UTC]"
      ]
     },
     "execution_count": 10,
     "metadata": {},
     "output_type": "execute_result"
    }
   ],
   "source": [
    "# Преобразуем publish_time из строки в datetime\n",
    "publish_time = pd.to_datetime(videos_filtred['publish_time'])\n",
    "publish_time"
   ]
  },
  {
   "cell_type": "code",
   "execution_count": 23,
   "metadata": {},
   "outputs": [
    {
     "name": "stdout",
     "output_type": "stream",
     "text": [
      "0        11\n",
      "1        11\n",
      "2        11\n",
      "3        11\n",
      "4        11\n",
      "         ..\n",
      "40733     6\n",
      "40734     6\n",
      "40735     6\n",
      "40736     6\n",
      "40737     6\n",
      "Name: publish_time, Length: 39198, dtype: int64\n"
     ]
    },
    {
     "data": {
      "text/plain": [
       "0        11\n",
       "1        11\n",
       "2        11\n",
       "3        11\n",
       "4        11\n",
       "         ..\n",
       "40733     6\n",
       "40734     6\n",
       "40735     6\n",
       "40736     6\n",
       "40737     6\n",
       "Name: publish_time, Length: 39198, dtype: int64"
      ]
     },
     "execution_count": 23,
     "metadata": {},
     "output_type": "execute_result"
    }
   ],
   "source": [
    "# Извлечем из publish_time месяц\n",
    "videos_month = publish_time.dt.month\n",
    "print(videos_month)\n",
    "\n",
    "# Альтернативный вариант\n",
    "videos_month_alt = (pd.to_datetime(videos_filtred['publish_time'])).transform(lambda dt: dt.month)\n",
    "videos_month_alt"
   ]
  },
  {
   "cell_type": "code",
   "execution_count": 34,
   "metadata": {},
   "outputs": [
    {
     "data": {
      "text/plain": [
       "(3     0.153375\n",
       " 12    0.152661\n",
       " 5     0.150645\n",
       " 1     0.139012\n",
       " 2     0.133476\n",
       " 4     0.118450\n",
       " 11    0.089520\n",
       " 6     0.061381\n",
       " 10    0.000485\n",
       " 8     0.000485\n",
       " 9     0.000255\n",
       " 7     0.000255\n",
       " Name: publish_time, dtype: float64,\n",
       " Int64Index([3, 12, 5, 1, 2, 4, 11, 6, 10, 8, 9, 7], dtype='int64'))"
      ]
     },
     "execution_count": 34,
     "metadata": {},
     "output_type": "execute_result"
    }
   ],
   "source": [
    "# Вероятность по месяцам\n",
    "prob_month = videos_month.value_counts(normalize=True)\n",
    "prob_month, prob_month.index"
   ]
  },
  {
   "cell_type": "code",
   "execution_count": 32,
   "metadata": {},
   "outputs": [
    {
     "data": {
      "text/plain": [
       "2018    0.755192\n",
       "2017    0.244043\n",
       "2016    0.000383\n",
       "2015    0.000230\n",
       "2014    0.000077\n",
       "2013    0.000026\n",
       "2012    0.000026\n",
       "2011    0.000026\n",
       "Name: publish_time, dtype: float64"
      ]
     },
     "execution_count": 32,
     "metadata": {},
     "output_type": "execute_result"
    }
   ],
   "source": [
    "# Извлечем из publish_time год\n",
    "videos_year = publish_time.dt.year\n",
    "prob_year = videos_year.value_counts(normalize=True) #.plot(kind='bar')\n",
    "prob_year"
   ]
  },
  {
   "cell_type": "markdown",
   "metadata": {},
   "source": [
    "#### Вероятность по Бенферрони"
   ]
  },
  {
   "cell_type": "code",
   "execution_count": 44,
   "metadata": {},
   "outputs": [
    {
     "data": {
      "text/plain": [
       "0.37535078320322457"
      ]
     },
     "execution_count": 44,
     "metadata": {},
     "output_type": "execute_result"
    }
   ],
   "source": [
    "# Вероятность p_a - видео не попало в образовательную категорию (27, 28)\n",
    "p_a = 1 - cs_probs.loc[[27, 28]].sum()\n",
    "\n",
    "           \n",
    "# Вероятность p_b попадания в весенний месяц (3, 4, 5)\n",
    "p_b = prob_month[prob_month.index.isin([3, 4, 5])].sum()\n",
    "\n",
    "# Пересечение p_a и p_b\n",
    "p_ab_intersect_lower_bound = p_a + p_b - 1\n",
    "p_ab_intersect_lower_bound"
   ]
  },
  {
   "cell_type": "markdown",
   "metadata": {},
   "source": [
    "#### Реальная вероятность"
   ]
  },
  {
   "cell_type": "code",
   "execution_count": 54,
   "metadata": {},
   "outputs": [
    {
     "data": {
      "text/plain": [
       "0.40405122710342367"
      ]
     },
     "execution_count": 54,
     "metadata": {},
     "output_type": "execute_result"
    }
   ],
   "source": [
    "n = len(videos_filtred)\n",
    "# Используем прим отрицание (~) чтобы взять все категории отличные от [27, 28]\n",
    "# + нам нужно еще взять отобрать данные только за весенние месяцы [3, 4, 5]\n",
    "n_a = len(videos_filtred[~videos_filtred['category_id'].isin([27, 28]) & videos_month.isin([3, 4, 5])])\n",
    "\n",
    "p_a = n_a / n\n",
    "p_a"
   ]
  },
  {
   "cell_type": "markdown",
   "metadata": {},
   "source": [
    "##### В данном примере разность между подходом Бонферрони и частотным способом не очень выраженна, но это потому, что в нашем случае вероятности p_a и p_b имели БОЛЬШИЕ значения"
   ]
  },
  {
   "cell_type": "code",
   "execution_count": 58,
   "metadata": {},
   "outputs": [
    {
     "data": {
      "text/plain": [
       "-0.8427725904382877"
      ]
     },
     "execution_count": 58,
     "metadata": {},
     "output_type": "execute_result"
    }
   ],
   "source": [
    "# Вероятность попадиния образовательного видео в тренд да еще и в январе по методу Бонферрони\n",
    "p_c_lower = cs_probs.loc[27] + prob_month.loc[1] - 1\n",
    "p_c_lower"
   ]
  }
 ],
 "metadata": {
  "kernelspec": {
   "display_name": ".venv",
   "language": "python",
   "name": ".venv"
  },
  "language_info": {
   "codemirror_mode": {
    "name": "ipython",
    "version": 3
   },
   "file_extension": ".py",
   "mimetype": "text/x-python",
   "name": "python",
   "nbconvert_exporter": "python",
   "pygments_lexer": "ipython3",
   "version": "3.8.5"
  }
 },
 "nbformat": 4,
 "nbformat_minor": 4
}
