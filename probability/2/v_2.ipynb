{
 "cells": [
  {
   "cell_type": "code",
   "execution_count": 43,
   "metadata": {},
   "outputs": [],
   "source": [
    "import math\n",
    "import random\n",
    "\n",
    "import pandas as pd\n",
    "import seaborn as sns\n",
    "\n",
    "%matplotlib inline\n",
    "random.seed(42)"
   ]
  },
  {
   "cell_type": "code",
   "execution_count": 8,
   "metadata": {},
   "outputs": [
    {
     "name": "stdout",
     "output_type": "stream",
     "text": [
      "Index(['state', 'location', 'address', 'latitude', 'longitude'], dtype='object')\n",
      "\n",
      "<class 'pandas.core.frame.DataFrame'>\n",
      "RangeIndex: 2629 entries, 0 to 2628\n",
      "Data columns (total 5 columns):\n",
      " #   Column     Non-Null Count  Dtype  \n",
      "---  ------     --------------  -----  \n",
      " 0   state      2629 non-null   object \n",
      " 1   location   2629 non-null   object \n",
      " 2   address    2629 non-null   object \n",
      " 3   latitude   2629 non-null   float64\n",
      " 4   longitude  2629 non-null   float64\n",
      "dtypes: float64(2), object(3)\n",
      "memory usage: 102.8+ KB\n",
      "None\n"
     ]
    }
   ],
   "source": [
    "df = pd.read_csv('./chipotle_stores.csv')\n",
    "print(df.columns, end='\\n\\n')\n",
    "print(df.info())"
   ]
  },
  {
   "cell_type": "code",
   "execution_count": 21,
   "metadata": {},
   "outputs": [
    {
     "data": {
      "text/plain": [
       "(52, 5)"
      ]
     },
     "execution_count": 21,
     "metadata": {},
     "output_type": "execute_result"
    }
   ],
   "source": [
    "ny_df = df[df.location.eq('New York')]\n",
    "ny_df.shape"
   ]
  },
  {
   "cell_type": "code",
   "execution_count": 24,
   "metadata": {},
   "outputs": [
    {
     "data": {
      "text/plain": [
       "<seaborn.axisgrid.FacetGrid at 0x7f3974edd490>"
      ]
     },
     "execution_count": 24,
     "metadata": {},
     "output_type": "execute_result"
    },
    {
     "data": {
      "image/png": "[encoded data removed]",
      "text/plain": [
       "<Figure size 360x360 with 1 Axes>"
      ]
     },
     "metadata": {
      "needs_background": "light"
     },
     "output_type": "display_data"
    }
   ],
   "source": [
    "sns.relplot(x='longitude', y='latitude', data=ny_df)"
   ]
  },
  {
   "cell_type": "code",
   "execution_count": 32,
   "metadata": {},
   "outputs": [],
   "source": [
    "central_latitude = (ny_df['latitude'].min() + ny_df['latitude'].max()) / 2\n",
    "central_longitude = (ny_df['longitude'].min() + ny_df['longitude'].max()) / 2\n",
    "earth_radius = 6371 * 10**3"
   ]
  },
  {
   "cell_type": "markdown",
   "metadata": {},
   "source": [
    "#### Преобразуем колонки latitude и longitude соглачно наших функций"
   ]
  },
  {
   "cell_type": "code",
   "execution_count": 42,
   "metadata": {},
   "outputs": [
    {
     "data": {
      "text/html": [
       "<div>\n",
       "<style scoped>\n",
       "    .dataframe tbody tr th:only-of-type {\n",
       "        vertical-align: middle;\n",
       "    }\n",
       "\n",
       "    .dataframe tbody tr th {\n",
       "        vertical-align: top;\n",
       "    }\n",
       "\n",
       "    .dataframe thead th {\n",
       "        text-align: right;\n",
       "    }\n",
       "</style>\n",
       "<table border=\"1\" class=\"dataframe\">\n",
       "  <thead>\n",
       "    <tr style=\"text-align: right;\">\n",
       "      <th></th>\n",
       "      <th>y</th>\n",
       "      <th>x</th>\n",
       "    </tr>\n",
       "  </thead>\n",
       "  <tbody>\n",
       "    <tr>\n",
       "      <th>1646</th>\n",
       "      <td>-7754.434623</td>\n",
       "      <td>-3752.379535</td>\n",
       "    </tr>\n",
       "    <tr>\n",
       "      <th>1647</th>\n",
       "      <td>-7224.034428</td>\n",
       "      <td>-3215.102768</td>\n",
       "    </tr>\n",
       "    <tr>\n",
       "      <th>1648</th>\n",
       "      <td>-1015.588459</td>\n",
       "      <td>1332.147658</td>\n",
       "    </tr>\n",
       "    <tr>\n",
       "      <th>1649</th>\n",
       "      <td>-6875.939378</td>\n",
       "      <td>-3162.151237</td>\n",
       "    </tr>\n",
       "    <tr>\n",
       "      <th>1650</th>\n",
       "      <td>-569.890201</td>\n",
       "      <td>1733.448436</td>\n",
       "    </tr>\n",
       "  </tbody>\n",
       "</table>\n",
       "</div>"
      ],
      "text/plain": [
       "                y            x\n",
       "1646 -7754.434623 -3752.379535\n",
       "1647 -7224.034428 -3215.102768\n",
       "1648 -1015.588459  1332.147658\n",
       "1649 -6875.939378 -3162.151237\n",
       "1650  -569.890201  1733.448436"
      ]
     },
     "execution_count": 42,
     "metadata": {},
     "output_type": "execute_result"
    }
   ],
   "source": [
    "\n",
    "def to_x(long):\n",
    "    return earth_radius * (long - central_longitude) * math.pi / 180\n",
    "\n",
    "def to_y(lat):\n",
    "    return earth_radius * (lat - central_latitude) * math.pi / 180\n",
    "\n",
    "ny_df_xy = ny_df.transform({'latitude': to_y, 'longitude': to_x})\n",
    "ny_df_xy = ny_df_xy.rename(columns={'latitude': 'y', 'longitude': 'x'})\n",
    "ny_df_xy.head()"
   ]
  },
  {
   "cell_type": "code",
   "execution_count": 52,
   "metadata": {},
   "outputs": [],
   "source": [
    "def smallest_distance(xy_point, df):\n",
    "    min_d = math.inf\n",
    "    for i, row in df.iterrows():\n",
    "        d = math.sqrt((xy_point[0] - row['x'])**2 + (xy_point[1] - row['y'])**2)\n",
    "        if d < min_d:\n",
    "            min_d  = d\n",
    "    return min_d\n",
    "\n",
    "def random_point():\n",
    "    random_x = random.uniform(ny_df_xy['x'].min(), ny_df_xy['x'].max())\n",
    "    random_y = random.uniform(ny_df_xy['y'].min(), ny_df_xy['y'].max())\n",
    "    return random_x, random_y"
   ]
  },
  {
   "cell_type": "markdown",
   "metadata": {},
   "source": [
    "#### Ставим серию экспериментов согласно лекции A <= 100, 100 < B < 1000, C >= 1000"
   ]
  },
  {
   "cell_type": "code",
   "execution_count": 53,
   "metadata": {},
   "outputs": [],
   "source": [
    "# Используем частотный подход\n",
    "\n",
    "n = 1000\n",
    "n_a = 0\n",
    "n_b = 0\n",
    "n_c = 0\n",
    "\n",
    "for i in range(n):\n",
    "    rand_xy = random_point()\n",
    "    d = smallest_distance(rand_xy, ny_df_xy)\n",
    "    if d <= 100:\n",
    "        n_a += 1\n",
    "    elif d < 1000:\n",
    "        n_b += 1\n",
    "    else:\n",
    "        n_c += 1"
   ]
  },
  {
   "cell_type": "markdown",
   "metadata": {},
   "source": [
    "#### Вычислим вероятноси событий"
   ]
  },
  {
   "cell_type": "code",
   "execution_count": 57,
   "metadata": {},
   "outputs": [
    {
     "name": "stdout",
     "output_type": "stream",
     "text": [
      "0.019 0.333 0.648 total =  1.0\n"
     ]
    }
   ],
   "source": [
    "p_a = n_a / n\n",
    "p_b = n_b / n\n",
    "p_c = n_c / n\n",
    "p = p_a + p_b + p_c\n",
    "print(p_a, p_b, p_c, 'total = ', p)"
   ]
  }
 ],
 "metadata": {
  "kernelspec": {
   "display_name": ".venv",
   "language": "python",
   "name": ".venv"
  },
  "language_info": {
   "codemirror_mode": {
    "name": "ipython",
    "version": 3
   },
   "file_extension": ".py",
   "mimetype": "text/x-python",
   "name": "python",
   "nbconvert_exporter": "python",
   "pygments_lexer": "ipython3",
   "version": "3.8.5"
  }
 },
 "nbformat": 4,
 "nbformat_minor": 4
}
